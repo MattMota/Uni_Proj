{
 "cells": [
  {
   "cell_type": "markdown",
   "metadata": {},
   "source": [
    "# Importação de bibliotecas necessárias"
   ]
  },
  {
   "cell_type": "code",
   "execution_count": 105,
   "metadata": {
    "collapsed": true
   },
   "outputs": [
    {
     "name": "stdout",
     "output_type": "stream",
     "text": [
      "\u001b[?25l"
     ]
    },
    {
     "name": "stderr",
     "output_type": "stream",
     "text": [
      "\u001b[32m\u001b[1m   Updating\u001b[22m\u001b[39m git-repo `https://github.com/JuliaImages/Images.jl.git`\n"
     ]
    },
    {
     "name": "stdout",
     "output_type": "stream",
     "text": [
      "\u001b[2K\u001b[?25h"
     ]
    },
    {
     "name": "stderr",
     "output_type": "stream",
     "text": [
      "\u001b[32m\u001b[1m  Resolving\u001b[22m\u001b[39m package versions...\n",
      "\u001b[32m\u001b[1m Installing\u001b[22m\u001b[39m known registries into `C:\\Users\\mathe\\.julia`\n",
      "\u001b[32m\u001b[1m      Added\u001b[22m\u001b[39m registry `General` to `C:\\Users\\mathe\\.julia\\registries\\General`\n",
      "\u001b[32m\u001b[1m  Installed\u001b[22m\u001b[39m AxisAlgorithms ──────────── v1.0.0\n",
      "\u001b[32m\u001b[1m  Installed\u001b[22m\u001b[39m MosaicViews ─────────────── v0.3.3\n",
      "\u001b[32m\u001b[1m  Installed\u001b[22m\u001b[39m IdentityRanges ──────────── v0.3.1\n",
      "\u001b[32m\u001b[1m  Installed\u001b[22m\u001b[39m Qt_jll ──────────────────── v5.15.2+3\n",
      "\u001b[32m\u001b[1m  Installed\u001b[22m\u001b[39m IfElse ──────────────────── v0.1.0\n",
      "\u001b[32m\u001b[1m  Installed\u001b[22m\u001b[39m UnPack ──────────────────── v1.0.2\n",
      "\u001b[32m\u001b[1m  Installed\u001b[22m\u001b[39m Distances ───────────────── v0.10.3\n",
      "\u001b[32m\u001b[1m  Installed\u001b[22m\u001b[39m ChainRulesCore ──────────── v0.10.3\n",
      "\u001b[32m\u001b[1m  Installed\u001b[22m\u001b[39m FFTViews ────────────────── v0.3.1\n",
      "\u001b[32m\u001b[1m  Installed\u001b[22m\u001b[39m ImageIO ─────────────────── v0.5.5\n",
      "\u001b[32m\u001b[1m  Installed\u001b[22m\u001b[39m EllipsisNotation ────────── v1.1.0\n",
      "\u001b[32m\u001b[1m  Installed\u001b[22m\u001b[39m ImageMagick_jll ─────────── v6.9.10-12+3\n",
      "\u001b[32m\u001b[1m  Installed\u001b[22m\u001b[39m ArrayInterface ──────────── v3.1.17\n",
      "\u001b[32m\u001b[1m  Installed\u001b[22m\u001b[39m TiledIteration ──────────── v0.3.0\n",
      "\u001b[32m\u001b[1m  Installed\u001b[22m\u001b[39m FFTW_jll ────────────────── v3.3.9+7\n",
      "\u001b[32m\u001b[1m  Installed\u001b[22m\u001b[39m StatsAPI ────────────────── v1.0.0\n",
      "\u001b[32m\u001b[1m  Installed\u001b[22m\u001b[39m ImageMagick ─────────────── v1.2.1\n",
      "\u001b[32m\u001b[1m  Installed\u001b[22m\u001b[39m Ratios ──────────────────── v0.4.0\n",
      "\u001b[32m\u001b[1m  Installed\u001b[22m\u001b[39m OffsetArrays ────────────── v1.9.2\n",
      "\u001b[32m\u001b[1m  Installed\u001b[22m\u001b[39m ImageTransformations ────── v0.8.12\n",
      "\u001b[32m\u001b[1m  Installed\u001b[22m\u001b[39m ImageShow ───────────────── v0.3.2\n",
      "\u001b[32m\u001b[1m  Installed\u001b[22m\u001b[39m Graphics ────────────────── v1.1.0\n",
      "\u001b[32m\u001b[1m  Installed\u001b[22m\u001b[39m ImageContrastAdjustment ─── v0.3.8\n",
      "\u001b[32m\u001b[1m  Installed\u001b[22m\u001b[39m IntelOpenMP_jll ─────────── v2018.0.3+2\n",
      "\u001b[32m\u001b[1m  Installed\u001b[22m\u001b[39m SimpleTraits ────────────── v0.9.3\n",
      "\u001b[32m\u001b[1m  Installed\u001b[22m\u001b[39m SpecialFunctions ────────── v1.5.1\n",
      "\u001b[32m\u001b[1m  Installed\u001b[22m\u001b[39m ImageDistances ──────────── v0.2.14\n",
      "\u001b[32m\u001b[1m  Installed\u001b[22m\u001b[39m PaddedViews ─────────────── v0.5.8\n",
      "\u001b[32m\u001b[1m  Installed\u001b[22m\u001b[39m OpenSpecFun_jll ─────────── v0.5.3+4\n",
      "\u001b[32m\u001b[1m  Installed\u001b[22m\u001b[39m MappedArrays ────────────── v0.4.0\n",
      "\u001b[32m\u001b[1m  Installed\u001b[22m\u001b[39m CEnum ───────────────────── v0.4.1\n",
      "\u001b[32m\u001b[1m  Installed\u001b[22m\u001b[39m IntervalSets ────────────── v0.5.3\n",
      "\u001b[32m\u001b[1m  Installed\u001b[22m\u001b[39m ImageFiltering ──────────── v0.6.22\n",
      "\u001b[32m\u001b[1m  Installed\u001b[22m\u001b[39m LogExpFunctions ─────────── v0.2.4\n",
      "┌ Info: Replacing symlinks in tarball by their source files ...\n",
      "│ \"docs\\\\src\\\\LICENSE.md\" => \"docs\\\\src\\\\../../LICENSE.md\"\n",
      "└ @ Pkg.PlatformEngines C:\\buildbot\\worker\\package_win64\\build\\usr\\share\\julia\\stdlib\\v1.5\\Pkg\\src\\PlatformEngines.jl:996\n",
      "\u001b[32m\u001b[1m  Installed\u001b[22m\u001b[39m ImageCore ───────────────── v0.9.0\n",
      "\u001b[32m\u001b[1m  Installed\u001b[22m\u001b[39m CatIndices ──────────────── v0.2.2\n",
      "\u001b[32m\u001b[1m  Installed\u001b[22m\u001b[39m DocStringExtensions ─────── v0.8.5\n",
      "\u001b[32m\u001b[1m  Installed\u001b[22m\u001b[39m LazyArtifacts ───────────── v1.3.0\n",
      "\u001b[32m\u001b[1m  Installed\u001b[22m\u001b[39m TensorCore ──────────────── v0.1.1\n",
      "\u001b[32m\u001b[1m  Installed\u001b[22m\u001b[39m ImageAxes ───────────────── v0.6.9\n",
      "\u001b[32m\u001b[1m  Installed\u001b[22m\u001b[39m MKL_jll ─────────────────── v2021.1.1+1\n",
      "\u001b[32m\u001b[1m  Installed\u001b[22m\u001b[39m FFTW ────────────────────── v1.3.2\n",
      "\u001b[32m\u001b[1m  Installed\u001b[22m\u001b[39m PNGFiles ────────────────── v0.3.7\n",
      "\u001b[32m\u001b[1m  Installed\u001b[22m\u001b[39m CustomUnitRanges ────────── v1.0.1\n",
      "\u001b[32m\u001b[1m  Installed\u001b[22m\u001b[39m TiffImages ──────────────── v0.3.2\n",
      "\u001b[32m\u001b[1m  Installed\u001b[22m\u001b[39m AxisArrays ──────────────── v0.4.3\n",
      "\u001b[32m\u001b[1m  Installed\u001b[22m\u001b[39m RangeArrays ─────────────── v0.3.2\n",
      "\u001b[32m\u001b[1m  Installed\u001b[22m\u001b[39m IndirectArrays ──────────── v0.5.1\n",
      "\u001b[32m\u001b[1m  Installed\u001b[22m\u001b[39m ColorVectorSpace ────────── v0.9.5\n",
      "\u001b[32m\u001b[1m  Installed\u001b[22m\u001b[39m ImageQualityIndexes ─────── v0.2.3\n",
      "\u001b[32m\u001b[1m  Installed\u001b[22m\u001b[39m PkgVersion ──────────────── v0.1.1\n",
      "┌ Info: Replacing symlinks in tarball by their source files ...\n",
      "│ \"docs\\\\src\\\\NEWS.md\" => \"docs\\\\src\\\\../../NEWS.md\"\n",
      "└ @ Pkg.PlatformEngines C:\\buildbot\\worker\\package_win64\\build\\usr\\share\\julia\\stdlib\\v1.5\\Pkg\\src\\PlatformEngines.jl:996\n",
      "\u001b[32m\u001b[1m  Installed\u001b[22m\u001b[39m Interpolations ──────────── v0.13.2\n",
      "\u001b[32m\u001b[1m  Installed\u001b[22m\u001b[39m AbstractFFTs ────────────── v1.0.1\n",
      "\u001b[32m\u001b[1m  Installed\u001b[22m\u001b[39m StackViews ──────────────── v0.1.1\n",
      "\u001b[32m\u001b[1m  Installed\u001b[22m\u001b[39m ProgressMeter ───────────── v1.7.1\n",
      "\u001b[32m\u001b[1m  Installed\u001b[22m\u001b[39m ImageMorphology ─────────── v0.2.12\n",
      "\u001b[32m\u001b[1m  Installed\u001b[22m\u001b[39m ImageBase ───────────────── v0.1.1\n",
      "\u001b[32m\u001b[1m  Installed\u001b[22m\u001b[39m ComputationalResources ──── v0.3.2\n",
      "\u001b[32m\u001b[1m  Installed\u001b[22m\u001b[39m Static ──────────────────── v0.2.5\n",
      "\u001b[32m\u001b[1m  Installed\u001b[22m\u001b[39m FileIO ──────────────────── v1.9.1\n",
      "\u001b[32m\u001b[1m  Installed\u001b[22m\u001b[39m WoodburyMatrices ────────── v0.5.3\n",
      "\u001b[32m\u001b[1m  Installed\u001b[22m\u001b[39m CoordinateTransformations ─ v0.6.1\n",
      "\u001b[32m\u001b[1m  Installed\u001b[22m\u001b[39m Netpbm ──────────────────── v1.0.2\n",
      "\u001b[32m\u001b[1m  Installed\u001b[22m\u001b[39m Rotations ───────────────── v1.0.2\n",
      "\u001b[32m\u001b[1m  Installed\u001b[22m\u001b[39m Parameters ──────────────── v0.12.2\n",
      "\u001b[32m\u001b[1m  Installed\u001b[22m\u001b[39m ImageMetadata ───────────── v0.9.6\n",
      "\u001b[32m\u001b[1mUpdating\u001b[22m\u001b[39m `C:\\Users\\mathe\\.julia\\environments\\v1.5\\Project.toml`\n",
      " \u001b[90m [916415d5] \u001b[39m\u001b[92m+ Images v0.24.1 `https://github.com/JuliaImages/Images.jl.git#master`\u001b[39m\n",
      "\u001b[32m\u001b[1mUpdating\u001b[22m\u001b[39m `C:\\Users\\mathe\\.julia\\environments\\v1.5\\Manifest.toml`\n",
      " \u001b[90m [621f4979] \u001b[39m\u001b[92m+ AbstractFFTs v1.0.1\u001b[39m\n",
      " \u001b[90m [4fba245c] \u001b[39m\u001b[92m+ ArrayInterface v3.1.17\u001b[39m\n",
      " \u001b[90m [13072b0f] \u001b[39m\u001b[92m+ AxisAlgorithms v1.0.0\u001b[39m\n",
      " \u001b[90m [39de3d68] \u001b[39m\u001b[92m+ AxisArrays v0.4.3\u001b[39m\n",
      " \u001b[90m [fa961155] \u001b[39m\u001b[92m+ CEnum v0.4.1\u001b[39m\n",
      " \u001b[90m [aafaddc9] \u001b[39m\u001b[92m+ CatIndices v0.2.2\u001b[39m\n",
      " \u001b[90m [d360d2e6] \u001b[39m\u001b[92m+ ChainRulesCore v0.10.3\u001b[39m\n",
      " \u001b[90m [c3611d14] \u001b[39m\u001b[92m+ ColorVectorSpace v0.9.5\u001b[39m\n",
      " \u001b[90m [ed09eef8] \u001b[39m\u001b[92m+ ComputationalResources v0.3.2\u001b[39m\n",
      " \u001b[90m [150eb455] \u001b[39m\u001b[92m+ CoordinateTransformations v0.6.1\u001b[39m\n",
      " \u001b[90m [dc8bdbbb] \u001b[39m\u001b[92m+ CustomUnitRanges v1.0.1\u001b[39m\n",
      " \u001b[90m [b4f34e82] \u001b[39m\u001b[92m+ Distances v0.10.3\u001b[39m\n",
      " \u001b[90m [ffbed154] \u001b[39m\u001b[92m+ DocStringExtensions v0.8.5\u001b[39m\n",
      " \u001b[90m [da5c29d0] \u001b[39m\u001b[92m+ EllipsisNotation v1.1.0\u001b[39m\n",
      " \u001b[90m [4f61f5a4] \u001b[39m\u001b[92m+ FFTViews v0.3.1\u001b[39m\n",
      " \u001b[90m [7a1cc6ca] \u001b[39m\u001b[92m+ FFTW v1.3.2\u001b[39m\n",
      " \u001b[90m [f5851436] \u001b[39m\u001b[92m+ FFTW_jll v3.3.9+7\u001b[39m\n",
      " \u001b[90m [5789e2e9] \u001b[39m\u001b[92m+ FileIO v1.9.1\u001b[39m\n",
      " \u001b[90m [a2bd30eb] \u001b[39m\u001b[92m+ Graphics v1.1.0\u001b[39m\n",
      " \u001b[90m [bbac6d45] \u001b[39m\u001b[92m+ IdentityRanges v0.3.1\u001b[39m\n",
      " \u001b[90m [615f187c] \u001b[39m\u001b[92m+ IfElse v0.1.0\u001b[39m\n",
      " \u001b[90m [2803e5a7] \u001b[39m\u001b[92m+ ImageAxes v0.6.9\u001b[39m\n",
      " \u001b[90m [c817782e] \u001b[39m\u001b[92m+ ImageBase v0.1.1\u001b[39m\n",
      " \u001b[90m [f332f351] \u001b[39m\u001b[92m+ ImageContrastAdjustment v0.3.8\u001b[39m\n",
      " \u001b[90m [a09fc81d] \u001b[39m\u001b[92m+ ImageCore v0.9.0\u001b[39m\n",
      " \u001b[90m [51556ac3] \u001b[39m\u001b[92m+ ImageDistances v0.2.14\u001b[39m\n",
      " \u001b[90m [6a3955dd] \u001b[39m\u001b[92m+ ImageFiltering v0.6.22\u001b[39m\n",
      " \u001b[90m [82e4d734] \u001b[39m\u001b[92m+ ImageIO v0.5.5\u001b[39m\n",
      " \u001b[90m [6218d12a] \u001b[39m\u001b[92m+ ImageMagick v1.2.1\u001b[39m\n",
      " \u001b[90m [c73af94c] \u001b[39m\u001b[92m+ ImageMagick_jll v6.9.10-12+3\u001b[39m\n",
      " \u001b[90m [bc367c6b] \u001b[39m\u001b[92m+ ImageMetadata v0.9.6\u001b[39m\n",
      " \u001b[90m [787d08f9] \u001b[39m\u001b[92m+ ImageMorphology v0.2.12\u001b[39m\n",
      " \u001b[90m [2996bd0c] \u001b[39m\u001b[92m+ ImageQualityIndexes v0.2.3\u001b[39m\n",
      " \u001b[90m [4e3cecfd] \u001b[39m\u001b[92m+ ImageShow v0.3.2\u001b[39m\n",
      " \u001b[90m [02fcd773] \u001b[39m\u001b[92m+ ImageTransformations v0.8.12\u001b[39m\n",
      " \u001b[90m [916415d5] \u001b[39m\u001b[92m+ Images v0.24.1 `https://github.com/JuliaImages/Images.jl.git#master`\u001b[39m\n",
      " \u001b[90m [9b13fd28] \u001b[39m\u001b[92m+ IndirectArrays v0.5.1\u001b[39m\n",
      " \u001b[90m [1d5cc7b8] \u001b[39m\u001b[92m+ IntelOpenMP_jll v2018.0.3+2\u001b[39m\n",
      " \u001b[90m [a98d9a8b] \u001b[39m\u001b[92m+ Interpolations v0.13.2\u001b[39m\n",
      " \u001b[90m [8197267c] \u001b[39m\u001b[92m+ IntervalSets v0.5.3\u001b[39m\n",
      " \u001b[90m [4af54fe1] \u001b[39m\u001b[92m+ LazyArtifacts v1.3.0\u001b[39m\n",
      " \u001b[90m [2ab3a3ac] \u001b[39m\u001b[92m+ LogExpFunctions v0.2.4\u001b[39m\n",
      " \u001b[90m [856f044c] \u001b[39m\u001b[92m+ MKL_jll v2021.1.1+1\u001b[39m\n",
      " \u001b[90m [dbb5928d] \u001b[39m\u001b[92m+ MappedArrays v0.4.0\u001b[39m\n",
      " \u001b[90m [e94cdb99] \u001b[39m\u001b[92m+ MosaicViews v0.3.3\u001b[39m\n",
      " \u001b[90m [f09324ee] \u001b[39m\u001b[92m+ Netpbm v1.0.2\u001b[39m\n",
      " \u001b[90m [6fe1bfb0] \u001b[39m\u001b[92m+ OffsetArrays v1.9.2\u001b[39m\n",
      " \u001b[90m [efe28fd5] \u001b[39m\u001b[92m+ OpenSpecFun_jll v0.5.3+4\u001b[39m\n",
      " \u001b[90m [f57f5aa1] \u001b[39m\u001b[92m+ PNGFiles v0.3.7\u001b[39m\n",
      " \u001b[90m [5432bcbf] \u001b[39m\u001b[92m+ PaddedViews v0.5.8\u001b[39m\n",
      " \u001b[90m [d96e819e] \u001b[39m\u001b[92m+ Parameters v0.12.2\u001b[39m\n",
      " \u001b[90m [eebad327] \u001b[39m\u001b[92m+ PkgVersion v0.1.1\u001b[39m\n",
      " \u001b[90m [92933f4c] \u001b[39m\u001b[92m+ ProgressMeter v1.7.1\u001b[39m\n"
     ]
    },
    {
     "name": "stderr",
     "output_type": "stream",
     "text": [
      " \u001b[90m [ede63266] \u001b[39m\u001b[93m↑ Qt_jll v5.15.2+2 ⇒ v5.15.2+3\u001b[39m\n",
      " \u001b[90m [b3c3ace0] \u001b[39m\u001b[92m+ RangeArrays v0.3.2\u001b[39m\n",
      " \u001b[90m [c84ed2f1] \u001b[39m\u001b[92m+ Ratios v0.4.0\u001b[39m\n",
      " \u001b[90m [6038ab10] \u001b[39m\u001b[92m+ Rotations v1.0.2\u001b[39m\n",
      " \u001b[90m [699a6c99] \u001b[39m\u001b[92m+ SimpleTraits v0.9.3\u001b[39m\n",
      " \u001b[90m [276daf66] \u001b[39m\u001b[92m+ SpecialFunctions v1.5.1\u001b[39m\n",
      " \u001b[90m [cae243ae] \u001b[39m\u001b[92m+ StackViews v0.1.1\u001b[39m\n",
      " \u001b[90m [aedffcd0] \u001b[39m\u001b[92m+ Static v0.2.5\u001b[39m\n",
      " \u001b[90m [82ae8749] \u001b[39m\u001b[92m+ StatsAPI v1.0.0\u001b[39m\n",
      " \u001b[90m [62fd8b95] \u001b[39m\u001b[92m+ TensorCore v0.1.1\u001b[39m\n",
      " \u001b[90m [731e570b] \u001b[39m\u001b[92m+ TiffImages v0.3.2\u001b[39m\n",
      " \u001b[90m [06e1c1a7] \u001b[39m\u001b[92m+ TiledIteration v0.3.0\u001b[39m\n",
      " \u001b[90m [3a884ed6] \u001b[39m\u001b[92m+ UnPack v1.0.2\u001b[39m\n",
      " \u001b[90m [efce3f68] \u001b[39m\u001b[92m+ WoodburyMatrices v0.5.3\u001b[39m\n",
      "\u001b[32m\u001b[1m   Building\u001b[22m\u001b[39m FFTW → `C:\\Users\\mathe\\.julia\\packages\\FFTW\\G3lSO\\deps\\build.log`\n"
     ]
    },
    {
     "name": "stdout",
     "output_type": "stream",
     "text": [
      "\u001b[?25l"
     ]
    },
    {
     "name": "stderr",
     "output_type": "stream",
     "text": [
      "\u001b[32m\u001b[1m    Cloning\u001b[22m\u001b[39m git-repo `https://github.com/JuliaIO/JLD.jl.git`\n"
     ]
    },
    {
     "name": "stdout",
     "output_type": "stream",
     "text": [
      "\u001b[2K\u001b[?25h[1mFetching:\u001b[22m\u001b[39m [========================================>]  99.9 %[==>                                      ]  3.9 %===>                                     ]  6.3 %]  6.7 % [=====>                                   ]  10.1 %]  12.5 % [=======>                                 ]  16.9 %19.0 %=========>                               ]  20.2 %                               ]  21.3 %>                               ]  22.2 %24.2 %]  25.3 %.6 %]  29.2 %.7 % [=============>                           ]  31.3 %>                         ]  36.0 % %]  39.9 %42.9 %7 %\u001b[36m\u001b[1mFetching:\u001b[22m\u001b[39m [==================>                      ]  44.6 %                     ]  45.6 %                     ]  46.2 %>                     ]  47.1 %47.6 %7 %>                   ]  52.1 %======================>                  ]  54.3 %                ]  57.6 %                ]  58.2 % [========================>                ]  59.3 % % [==========================>              ]  62.8 %===========================>             ]  65.1 %             ]  66.0 %.6 %.3 % [============================>            ]  69.4 %=============================>           ]  70.2 %           ]  71.7 %]  73.3 %.9 %.7 %        ]  77.7 % [================================>        ]  80.0 %4 %\u001b[36m\u001b[1mFetching:\u001b[22m\u001b[39m [==================================>      ]  83.0 %      ]  84.1 %>     ]  85.4 %7 %    ]  89.7 %\u001b[36m\u001b[1mFetching:\u001b[22m\u001b[39m [=====================================>   ]  91.2 %======================================>  ]  93.4 %94.3 % [=======================================> ]  95.1 %1 %]  98.5 %]  99.7 %"
     ]
    },
    {
     "name": "stderr",
     "output_type": "stream",
     "text": [
      "\u001b[32m\u001b[1m   Updating\u001b[22m\u001b[39m"
     ]
    },
    {
     "name": "stdout",
     "output_type": "stream",
     "text": [
      "\u001b[?25l"
     ]
    },
    {
     "name": "stderr",
     "output_type": "stream",
     "text": [
      " git-repo `https://github.com/JuliaIO/JLD.jl.git`\n"
     ]
    },
    {
     "name": "stdout",
     "output_type": "stream",
     "text": [
      "\u001b[2K\u001b[36m\u001b[1mFetching:\u001b[22m\u001b[39m [========================================>]  100.0 %\u001b[36m\u001b[1mFetching:\u001b[22m\u001b[39m [==>                                      ]  4.4 %\u001b[36m\u001b[1mFetching:\u001b[22m\u001b[39m [===>                                     ]  5.5 %                                     ]  6.5 % % %\u001b[36m\u001b[1mFetching:\u001b[22m\u001b[39m [======>                                  ]  12.7 %.8 % % % [==========>                              ]  22.8 % [==========>                              ]  23.9 %===========>                             ]  26.0 % [============>                            ]  28.0 % %6 %>                          ]  34.1 %================>                        ]  38.4 %.9 %                       ]  41.3 %==================>                      ]  44.2 %===================>                     ]  46.2 %>                    ]  48.1 %.5 % [=====================>                   ]  51.0 %                   ]  52.4 % %]  57.6 %\u001b[36m\u001b[1mFetching:\u001b[22m\u001b[39m [========================>                ]  59.7 %=========================>               ]  62.5 % [===========================>             ]  66.2 %            ]  69.6 %\u001b[36m\u001b[1mFetching:\u001b[22m\u001b[39m [=============================>           ]  71.4 %==============================>          ]  74.3 %=================================>       ]  81.6 % [==================================>      ]  83.5 % [===================================>     ]  85.6 %87.1 %  ]  93.1 %94.8 %\u001b[36m\u001b[1mFetching:\u001b[22m\u001b[39m [=======================================> ]  96.0 % % [========================================>]  99.0 %\u001b[?25h"
     ]
    },
    {
     "name": "stderr",
     "output_type": "stream",
     "text": [
      "\u001b[32m\u001b[1m  Resolving\u001b[22m\u001b[39m package versions...\n",
      "\u001b[32m\u001b[1m  Installed\u001b[22m\u001b[39m nghttp2_jll ─ v1.40.0+2\n",
      "\u001b[32m\u001b[1m  Installed\u001b[22m\u001b[39m LibSSH2_jll ─ v1.9.0+3\n",
      "\u001b[32m\u001b[1m  Installed\u001b[22m\u001b[39m Blosc_jll ─── v1.21.0+0\n",
      "\u001b[32m\u001b[1m  Installed\u001b[22m\u001b[39m Lz4_jll ───── v1.9.2+2\n",
      "\u001b[32m\u001b[1m  Installed\u001b[22m\u001b[39m Blosc ─────── v0.7.0\n",
      "\u001b[32m\u001b[1m  Installed\u001b[22m\u001b[39m HDF5_jll ──── v1.12.0+1\n",
      "\u001b[32m\u001b[1m  Installed\u001b[22m\u001b[39m LibCURL_jll ─ v7.70.0+2\n",
      "\u001b[32m\u001b[1m  Installed\u001b[22m\u001b[39m HDF5 ──────── v0.15.5\n",
      "\u001b[32m\u001b[1mUpdating\u001b[22m\u001b[39m `C:\\Users\\mathe\\.julia\\environments\\v1.5\\Project.toml`\n",
      " \u001b[90m [4138dd39] \u001b[39m\u001b[92m+ JLD v0.12.3 `https://github.com/JuliaIO/JLD.jl.git#master`\u001b[39m\n",
      "\u001b[32m\u001b[1mUpdating\u001b[22m\u001b[39m `C:\\Users\\mathe\\.julia\\environments\\v1.5\\Manifest.toml`\n",
      " \u001b[90m [a74b3585] \u001b[39m\u001b[92m+ Blosc v0.7.0\u001b[39m\n",
      " \u001b[90m [0b7ba130] \u001b[39m\u001b[92m+ Blosc_jll v1.21.0+0\u001b[39m\n",
      " \u001b[90m [f67ccb44] \u001b[39m\u001b[92m+ HDF5 v0.15.5\u001b[39m\n",
      " \u001b[90m [0234f1f7] \u001b[39m\u001b[92m+ HDF5_jll v1.12.0+1\u001b[39m\n",
      " \u001b[90m [4138dd39] \u001b[39m\u001b[92m+ JLD v0.12.3 `https://github.com/JuliaIO/JLD.jl.git#master`\u001b[39m\n",
      " \u001b[90m [deac9b47] \u001b[39m\u001b[92m+ LibCURL_jll v7.70.0+2\u001b[39m\n",
      " \u001b[90m [29816b5a] \u001b[39m\u001b[92m+ LibSSH2_jll v1.9.0+3\u001b[39m\n",
      " \u001b[90m [5ced341a] \u001b[39m\u001b[92m+ Lz4_jll v1.9.2+2\u001b[39m\n",
      " \u001b[90m [8e850ede] \u001b[39m\u001b[92m+ nghttp2_jll v1.40.0+2\u001b[39m\n",
      "\u001b[32m\u001b[1m   Building\u001b[22m\u001b[39m HDF5 → `C:\\Users\\mathe\\.julia\\packages\\HDF5\\VJkAi\\deps\\build.log`\n",
      "┌ Info: Precompiling Images [916415d5-f1e6-5110-898d-aaa5f9f070e0]\n",
      "└ @ Base loading.jl:1278\n",
      "┌ Info: Precompiling JLD [4138dd39-2aa7-5051-a626-17a0bb65d9c8]\n",
      "└ @ Base loading.jl:1278\n"
     ]
    }
   ],
   "source": [
    "import Pkg; Pkg.add(url = \"https://github.com/JuliaImages/Images.jl.git\")\n",
    "import Pkg; Pkg.add(url = \"https://github.com/JuliaIO/JLD.jl.git\")"
   ]
  },
  {
   "cell_type": "code",
   "execution_count": 126,
   "metadata": {},
   "outputs": [],
   "source": [
    "using Images # read and show images, more info here: https://github.com/JuliaImages/Images.jl\n",
    "using JLD # used for File I/O, more info here: https://github.com/JuliaIO/JLD.jl\n",
    "\n",
    "using LinearAlgebra\n",
    "using Plots"
   ]
  },
  {
   "cell_type": "markdown",
   "metadata": {},
   "source": [
    "---\n",
    "# Funções Auxiliares"
   ]
  },
  {
   "cell_type": "markdown",
   "metadata": {},
   "source": [
    "## Matriz de Vandermonde\n",
    "A matriz de Vandermonde é uma matriz que equivale à parte das variáveis dos sistemas lineares. Ela é escrita como\n",
    "\n",
    "\\begin{equation}\n",
    "    \\begin{bmatrix}\n",
    "        1      & x_1    & x_1^2  & \\cdots & x_1^{n-1}  \\\\\n",
    "        1      & x_2    & x_2^2  & \\cdots & x_2^{n-1}  \\\\\n",
    "        1      & x_3    & x_3^2  & \\cdots & x_3^{n-1}  \\\\\n",
    "        \\vdots & \\vdots & \\vdots & \\ddots & \\vdots     \\\\\n",
    "        1      & x_n    & x_n^2  & \\cdots & x_n^{n-1}  \\\\\n",
    "    \\end{bmatrix}\n",
    "    ,\n",
    "\\end{equation}\n",
    "\n",
    "de forma que a equação de um sistema linear correspondente fosse\n",
    "\n",
    "\\begin{equation}\n",
    "    \\begin{bmatrix}\n",
    "        1      & x_1    & x_1^2  & \\cdots & x_1^{n-1}  \\\\\n",
    "        1      & x_2    & x_2^2  & \\cdots & x_2^{n-1}  \\\\\n",
    "        1      & x_3    & x_3^2  & \\cdots & x_3^{n-1}  \\\\\n",
    "        \\vdots & \\vdots & \\vdots & \\ddots & \\vdots     \\\\\n",
    "        1      & x_n    & x_n^2  & \\cdots & x_n^{n-1}  \\\\\n",
    "    \\end{bmatrix}\n",
    "    \\cdot\n",
    "    \\begin{bmatrix}\n",
    "        c_0    \\\\\n",
    "        c_1    \\\\\n",
    "        c_2    \\\\\n",
    "        \\vdots \\\\\n",
    "        c_{n-1}    \\\\\n",
    "    \\end{bmatrix}\n",
    "    =\n",
    "    \\begin{bmatrix}\n",
    "        y_0    \\\\\n",
    "        y_1    \\\\\n",
    "        y_2    \\\\\n",
    "        \\vdots \\\\\n",
    "        y_{n-1}    \\\\\n",
    "    \\end{bmatrix}\n",
    "    .\n",
    "\\end{equation}\n",
    "\n",
    "A função que monta a matriz de Vandermonde com pontos $x_0, \\ldots, x_n$ recebe como parâmetro uma lista de coordenadas $x$ na forma\n",
    "\n",
    "\\begin{equation}\n",
    "    [x_0, \\ldots, x_n]\n",
    "\\end{equation}\n",
    "\n",
    "e retorna a matriz de Vandermonde correspondente."
   ]
  },
  {
   "cell_type": "code",
   "execution_count": 272,
   "metadata": {},
   "outputs": [
    {
     "data": {
      "text/plain": [
       "vandermonde_matrix (generic function with 2 methods)"
      ]
     },
     "execution_count": 272,
     "metadata": {},
     "output_type": "execute_result"
    }
   ],
   "source": [
    "function vandermonde_matrix(x_coords, degree = length(x_coords) - 1)\n",
    "    lines = length(x_coords)\n",
    "    cols = degree + 1\n",
    "    V = ones(lines, cols)\n",
    "    \n",
    "    for l = 1:lines\n",
    "        for c = 2:cols\n",
    "            V[l, c] = x_coords[l]^(c-1)\n",
    "        end\n",
    "    end\n",
    "    return V\n",
    "end"
   ]
  },
  {
   "cell_type": "markdown",
   "metadata": {},
   "source": [
    "## Matriz Coluna\n",
    "Uma matriz coluna é simplesmente a transposição de um vetor. Ela é escrita como\n",
    "\n",
    "\\begin{equation}\n",
    "    \\begin{bmatrix}\n",
    "        y_0    \\\\\n",
    "        y_1    \\\\\n",
    "        y_2    \\\\\n",
    "        \\vdots \\\\\n",
    "        y_{n-1}    \\\\\n",
    "    \\end{bmatrix}\n",
    "    .\n",
    "\\end{equation}\n",
    "\n",
    "A função que monta a matriz coluna com pontos $y_0, \\ldots, y_n$ recebe como parâmetro uma lista de coordenadas $x$ na forma\n",
    "\n",
    "\\begin{equation}\n",
    "    [y_0, \\ldots, y_n]\n",
    "\\end{equation}\n",
    "\n",
    "e retorna a matriz coluna correspondente."
   ]
  },
  {
   "cell_type": "code",
   "execution_count": 273,
   "metadata": {},
   "outputs": [
    {
     "data": {
      "text/plain": [
       "column_matrix (generic function with 2 methods)"
      ]
     },
     "execution_count": 273,
     "metadata": {},
     "output_type": "execute_result"
    }
   ],
   "source": [
    "function column_matrix(y_coords, degree = length(y_coords) - 1)\n",
    "    lines = degree + 1\n",
    "    y = ones(lines, 1)\n",
    "    \n",
    "    for l = 1 : lines\n",
    "        y[l, 1] = y_coords[l]\n",
    "    end\n",
    "    return y\n",
    "end"
   ]
  },
  {
   "cell_type": "markdown",
   "metadata": {},
   "source": [
    "## aplica(coefs, x)\n",
    "A função recebe como parâmetros um vetor ou matriz-coluna preenchidos com os coeficientes de um polinômio $P$ e o valor de $x$, e retorna o valor de $P(x)$."
   ]
  },
  {
   "cell_type": "code",
   "execution_count": 274,
   "metadata": {},
   "outputs": [
    {
     "data": {
      "text/plain": [
       "aplica (generic function with 2 methods)"
      ]
     },
     "execution_count": 274,
     "metadata": {},
     "output_type": "execute_result"
    }
   ],
   "source": [
    "function aplica(coefs, x, grau = length(coefs)-1)\n",
    "    len = grau + 1\n",
    "    accx = 1\n",
    "    acc = 0\n",
    "    for i = 1:len\n",
    "        acc += coefs[i] * accx\n",
    "        accx *= x\n",
    "    end\n",
    "    return acc\n",
    "end"
   ]
  },
  {
   "cell_type": "markdown",
   "metadata": {},
   "source": [
    "---\n",
    "# Funções para Resolução de Sistemas Lineares\n",
    "As funções a seguir recebem como parâmetros duas matrizes: $A$, que é uma matriz de coeficientes do sistema linear, e $b$, que é uma matriz-coluna de constantes do sistema linear. Elas resolvem sistemas lineares com condições iniciais diferentes, e retornam uma matriz-coluna com os valores das variáveis, nomeada de $X$."
   ]
  },
  {
   "cell_type": "markdown",
   "metadata": {},
   "source": [
    "## Eliminação Gaussiana\n",
    "A eliminação gaussiana consiste em aplicar sucessivas operações a cada uma das linhas da matriz $A$ e $b$ que representam uma equação do sistema linear, para transformar $A$ em uma matriz triangular superior e ajustar $b$ de acordo com as mudanças de $A$.\n",
    "\n",
    "A função recebe como parâmetros as matrizes $A$ e $b$, e retorna seus respectivos escalonados $X$ e $y$."
   ]
  },
  {
   "cell_type": "code",
   "execution_count": 275,
   "metadata": {},
   "outputs": [
    {
     "data": {
      "text/plain": [
       "eliminacao_gaussiana (generic function with 1 method)"
      ]
     },
     "execution_count": 275,
     "metadata": {},
     "output_type": "execute_result"
    }
   ],
   "source": [
    "function eliminacao_gaussiana(A,b)\n",
    "    tam = size(A)[1]\n",
    "    # Converte para matrizes de Float\n",
    "    X = 1.0 * A\n",
    "    y = 1.0 * b\n",
    "    \n",
    "    for k = 1 : tam - 1\n",
    "        for l = (k + 1) : tam\n",
    "            \n",
    "            y[l,1] = y[l,1] + (y[k,1] * (-X[l,k]/X[k,k]))\n",
    "            X[l,:] = X[l,:] + (X[k,:] * (-X[l,k]/X[k,k]))\n",
    "            \n",
    "        end\n",
    "    end\n",
    "    return X,y\n",
    "end"
   ]
  },
  {
   "cell_type": "markdown",
   "metadata": {},
   "source": [
    "## Decomposição LU\n",
    "Decompõe uma matriz $A$ em duas matrizes: uma triangular inferior, $L$, e outra superior, $U$.\n",
    "\n",
    "A função recebe como parâmetro a matriz $A$ e retorna suas matrizes equivalentes $L$ e $U$."
   ]
  },
  {
   "cell_type": "code",
   "execution_count": 276,
   "metadata": {},
   "outputs": [
    {
     "data": {
      "text/plain": [
       "decomposicao_LU (generic function with 1 method)"
      ]
     },
     "execution_count": 276,
     "metadata": {},
     "output_type": "execute_result"
    }
   ],
   "source": [
    "function decomposicao_LU(A)\n",
    "    tam = size(A)[1]\n",
    "    L = zeros(tam,tam)\n",
    "    U = 1.0*A\n",
    "    \n",
    "    # Preenche a diagonal da matriz L com 1's\n",
    "    for k = 1 : tam\n",
    "        for l = 1 : tam\n",
    "            if k == l\n",
    "                L[k,l] = 1\n",
    "            end\n",
    "        end\n",
    "    end\n",
    "    \n",
    "    # Criação das matrizes L e U\n",
    "    for k = 1 : tam\n",
    "        for l = (k + 1) : tam\n",
    "            L[l,k] = U[l,k]/U[k,k]\n",
    "            U[l,:] = U[l,:] - (L[l,k] * U[k,:])\n",
    "        end\n",
    "    end\n",
    "    \n",
    "    return L, U\n",
    "end"
   ]
  },
  {
   "cell_type": "markdown",
   "metadata": {},
   "source": [
    "## Sistemas Lineares com Matriz de Coeficientes Diagonal\n",
    "Esta função resolve um sistema linear em que $A$ é uma matriz diagonal.\n",
    "\n",
    "A função recebe como parâmetros as matrizes $A$ e $b$, e retorna uma matriz coluna com os valores de cada variável $x_i$."
   ]
  },
  {
   "cell_type": "code",
   "execution_count": 277,
   "metadata": {},
   "outputs": [
    {
     "data": {
      "text/plain": [
       "resolve_diagonal (generic function with 1 method)"
      ]
     },
     "execution_count": 277,
     "metadata": {},
     "output_type": "execute_result"
    }
   ],
   "source": [
    "function resolve_diagonal(A, b)\n",
    "    # Guarda o número de linhas de A\n",
    "    tam = size(A)[1]\n",
    "    # Inicializa a matriz-coluna das variáveis com zeros\n",
    "    X = zeros(tam, 1)\n",
    "\n",
    "    # Para cada linha de A...\n",
    "    for k = 1 : tam\n",
    "        # Divide cada elemento da matriz b pelo elemento\n",
    "        # relacionado na diagonal de A e adiciona na\n",
    "        # matriz-coluna das variáveis\n",
    "        X[k,1] =  b[k,1]/A[k,k]\n",
    "    end\n",
    "    \n",
    "    return X\n",
    "end"
   ]
  },
  {
   "cell_type": "markdown",
   "metadata": {},
   "source": [
    "## Sistemas Lineares com Matriz de Coeficientes Triangular Superior\n",
    "Esta função resolve um sistema linear em que $A$ é uma matriz triangular superior.\n",
    "\n",
    "A função recebe como parâmetros as matrizes $A$ e $b$, e retorna uma matriz coluna com os valores de cada variável $x_i$."
   ]
  },
  {
   "cell_type": "code",
   "execution_count": 278,
   "metadata": {},
   "outputs": [
    {
     "data": {
      "text/plain": [
       "resolve_triangular_superior (generic function with 1 method)"
      ]
     },
     "execution_count": 278,
     "metadata": {},
     "output_type": "execute_result"
    }
   ],
   "source": [
    "function resolve_triangular_superior(A,b)\n",
    "    # Guarda o número de linhas de A\n",
    "    tam = size(A)[1]\n",
    "    # Inicializa a matriz-coluna das variáveis com zeros\n",
    "    X = zeros(tam, 1)\n",
    "    \n",
    "    # Para cada linha de A...\n",
    "    for k = 1 : tam\n",
    "        # Variável auxiliar\n",
    "        m = tam + 1 - k\n",
    "        \n",
    "        # Resolve o sistema linear de cada linha\n",
    "        X[m,1] = b[m,1] / A[m,m] \n",
    "        for l = (m + 1) : tam\n",
    "            X[m, 1] -= (A[m,l] * X[l,1]) / A[m,m]     \n",
    "        end     \n",
    "    end\n",
    "    \n",
    "    return X\n",
    "end"
   ]
  },
  {
   "cell_type": "markdown",
   "metadata": {},
   "source": [
    "## Sistemas Lineares com Matriz de Coeficientes Triangular Inferior\n",
    "Esta função resolve um sistema linear em que $A$ é uma matriz triangular inferior.\n",
    "\n",
    "A função recebe como parâmetros as matrizes $A$ e $b$, e retorna uma matriz coluna com os valores de cada variável $x_i$."
   ]
  },
  {
   "cell_type": "code",
   "execution_count": 279,
   "metadata": {},
   "outputs": [
    {
     "data": {
      "text/plain": [
       "resolve_triangular_inferior (generic function with 1 method)"
      ]
     },
     "execution_count": 279,
     "metadata": {},
     "output_type": "execute_result"
    }
   ],
   "source": [
    "function resolve_triangular_inferior(A,b)\n",
    "    # Guarda o número de linhas de A\n",
    "    tam = size(A)[1]\n",
    "    # Inicializa a matriz-coluna das variáveis com zeros\n",
    "    X = zeros(tam, 1)\n",
    "    \n",
    "    # Para cada linha de A...\n",
    "    for k = 1 : tam\n",
    "        \n",
    "        # Resolve o sistema linear de cada linha\n",
    "        X[k,1] = b[k,1] / A[k,k]\n",
    "        for l = 1 : (k - 1)\n",
    "            X[k,1] -= (A[k,l] * X[l,1]) / A[k,k]\n",
    "        end\n",
    "    end\n",
    "    \n",
    "    return X\n",
    "end"
   ]
  },
  {
   "cell_type": "markdown",
   "metadata": {},
   "source": [
    "## Sistemas Lineares com Matrizes de Decomposição LU\n",
    "Resolve um sistema linear que tenha sido fatorado pelo método de decomposição LU.\n",
    "\n",
    "A função recebe como parâmetros as matrizes $L$, $U$ (referentes à matriz $A$) e $b$, e retorna uma matriz coluna com os valores de cada variável $x_i$."
   ]
  },
  {
   "cell_type": "code",
   "execution_count": 280,
   "metadata": {},
   "outputs": [
    {
     "data": {
      "text/plain": [
       "resolver_LU (generic function with 1 method)"
      ]
     },
     "execution_count": 280,
     "metadata": {},
     "output_type": "execute_result"
    }
   ],
   "source": [
    "function resolver_LU(L,U,b)    \n",
    "    y=resolve_triangular_inferior(L,b)\n",
    "    x=resolve_triangular_superior(U,y)\n",
    "    return x\n",
    "end"
   ]
  },
  {
   "cell_type": "markdown",
   "metadata": {},
   "source": [
    "## Sistemas Lineares com Matriz Cheia\n",
    "Resolve a equação matricial entre $A$ e $b$ que representa um sistema linear, onde estas matrizes não passaram por nenhum tipo de simplificação.\n",
    "\n",
    "A função recebe como parâmetros as matrizes $A$ e $b$, e retorna uma matriz coluna com os valores de cada variável $x_i$."
   ]
  },
  {
   "cell_type": "code",
   "execution_count": 281,
   "metadata": {},
   "outputs": [
    {
     "data": {
      "text/plain": [
       "resolve_cheia (generic function with 1 method)"
      ]
     },
     "execution_count": 281,
     "metadata": {},
     "output_type": "execute_result"
    }
   ],
   "source": [
    "function resolve_cheia(A,b)\n",
    "    T, c= eliminacao_gaussiana(A, b)  # Simplifica as matrizes\n",
    "    X = resolve_triangular_superior(T, c)  # Resolve o sistema simplificado\n",
    "    return X\n",
    "end"
   ]
  },
  {
   "cell_type": "markdown",
   "metadata": {},
   "source": [
    "## Método de Gauss-Seidel\n",
    "\n",
    "Tenhamos um sistema linear cujas soluções $x_1, \\ldots, x_n$ queremos aproximar, e opcionalmente uma margem de erro $\\epsilon_{\\max}$. O método de Gauss-Seidel consiste em, dadas uma matriz quadrada $A$, representando os coeficientes do sistema linear, e uma matriz-coluna $b$, representando as constantes,  primeiramente decompor $A$ em uma matriz triangular superior $M$ e seu resto $K$:\n",
    "\n",
    "\n",
    "\\begin{equation}\n",
    "    A=M-K\n",
    "    ,\n",
    "\\end{equation}\n",
    "\n",
    "ou seja,\n",
    "\n",
    "\\begin{equation}\n",
    "    \\begin{bmatrix}\n",
    "        a_{1,\\,1}   & a_{1,\\,2}   & \\cdots & a_{1,\\,n-1}   & a_{1,\\,n}   \\\\\n",
    "        a_{2,\\,1}   & a_{2,\\,2}   & \\cdots & a_{1,\\,n-1}   & a_{2,\\,n}   \\\\\n",
    "        \\vdots      & \\vdots      & \\ddots & \\vdots        & \\vdots      \\\\\n",
    "        a_{n-1,\\,1} & a_{n-1,\\,2} & \\cdots & a_{n-1,\\,n-1} & a_{n-1,\\,n} \\\\\n",
    "        a_{n,\\,1}   & a_{n,\\,2}   & \\cdots & a_{n,\\,n-1}   & a_{n,\\,n}   \\\\\n",
    "    \\end{bmatrix}\n",
    "    =\n",
    "    \\begin{bmatrix}\n",
    "        a_{1,\\,1} & a_{1,\\,2} & \\cdots & a_{1,\\,n-1}   & a_{1,\\,n}   \\\\\n",
    "        0         & a_{2,\\,2} & \\cdots & a_{1,\\,n-1}   & a_{2,\\,n}   \\\\\n",
    "        \\vdots    & \\vdots    & \\ddots & \\vdots        &  \\vdots     \\\\\n",
    "        0         & 0         & \\cdots & a_{n-1,\\,n-1} & a_{n-1,\\,n} \\\\\n",
    "        0         & 0         & \\cdots & 0             & a_{n,\\,n}   \\\\\n",
    "    \\end{bmatrix}\n",
    "    -\n",
    "    \\begin{bmatrix}\n",
    "        0           & 0           & \\cdots & 0           & 0      \\\\\n",
    "        a_{2,\\,1}   & 0           & \\cdots & 0           & 0      \\\\\n",
    "        \\vdots      & \\vdots      & \\ddots & \\vdots      & \\vdots \\\\\n",
    "        a_{n-1,\\,1} & a_{n-1,\\,2} & \\cdots & 0           & 0      \\\\\n",
    "        a_{n,\\,1}   & a_{n,\\,2}   & \\cdots & a_{n,\\,n-1} & 0      \\\\\n",
    "    \\end{bmatrix}\n",
    "    .\n",
    "\\end{equation}\n",
    "\n",
    "Com isto, o sistema linear pode ser reescrito como\n",
    "\n",
    "\\begin{equation}\n",
    "    (M-K)\\,x = b\n",
    "\\end{equation}\n",
    "\n",
    "\\begin{equation}\n",
    "    Mx - Kx = b\n",
    "\\end{equation}\n",
    "\n",
    "\\begin{equation}\n",
    "    Mx = b + Kx\n",
    "\\end{equation}\n",
    "\n",
    "\\begin{equation}\n",
    "    x = M^{-1}(b + Kx)\n",
    "\\end{equation}\n",
    "\n",
    "Após esta manipulação, fazemos duas simples atribuições para aliviar a notação\n",
    "\n",
    "\\begin{equation}\n",
    "    R=M^{-1}K\n",
    "    \\,\n",
    "    ,\n",
    "    \\qquad\n",
    "    \\qquad\n",
    "    \\qquad\n",
    "    c=M^{-1}b\n",
    "    \\,\n",
    "    ,\n",
    "\\end{equation}\n",
    "\n",
    "e então fazemos a seguinte recursão:\n",
    "\n",
    "\\begin{equation}\n",
    "    x_{i+1} = Rx_i + c\n",
    "    \\,\n",
    "    .\n",
    "\\end{equation}\n",
    "\n",
    "O método de Gauss-Seidel funciona de forma semelhante ao método do ponto fixo para funções $f(x)$, pois a ideia é que, com cada iteração $i$, os valores da matriz-coluna $x_i$ convergem da solução exata que é a matriz-coluna $x$, tal que $x$ é da forma\n",
    "\n",
    "\\begin{equation}\n",
    "    x\n",
    "    =\n",
    "    \\begin{bmatrix}\n",
    "        x_0    \\\\\n",
    "        x_1    \\\\\n",
    "        \\vdots \\\\\n",
    "        x_{n}    \\\\\n",
    "    \\end{bmatrix}\n",
    "    .\n",
    "\\end{equation}\n",
    "\n",
    "No entanto, só podemos garantir que $x_i$ converge para $x$ se a matriz $A$ é estritamente diagonal dominante, ou seja: se, para cada linha $m$ de $A$,\n",
    "\n",
    "\\begin{equation}\n",
    "    |a_{m,\\,m}| > \\sum_{n \\ne m} |a_{m,\\,n}|\n",
    "    \\,\n",
    "    .\n",
    "\\end{equation}\n",
    "\n",
    "Por último, a margem de erro $\\epsilon$ da iteração atual do método pode ser calculada pela norma da diferença entre a iteração atual e a última, ou seja,\n",
    "\n",
    "\\begin{equation}\n",
    "    \\epsilon\n",
    "    =\n",
    "    \\left|\\left|\n",
    "    x^{(n)} - x^{(n-1)}\n",
    "    \\right|\\right|\n",
    "    \\,\n",
    "    .\n",
    "\\end{equation}\n",
    "\n",
    "Assim, a função pode ter duas formas: uma que trabalha com o número de iterações e outra com uma margem de erro $\\epsilon_{\\max}$.\n",
    "\n",
    "A primeira recebe as matrizes $A$ e $b$ e o número de iterações $i$ a serem feitas, e retorna uma matriz-coluna contendo os valores aproximados de $x_1, \\ldots, x_n$, nesta ordem, e uma lista com a progressão da margem de erro $\\epsilon$ conforme as iterações.\n",
    "\n",
    "A segunda recebe as matrizes $A$ e $b$ e margem de erro $\\epsilon_{\\max}$ a serem feitas, e retorna uma matriz-coluna contendo os valores aproximados de $x_1, \\ldots, x_n$, nesta ordem, e uma lista com a progressão da margem de erro $\\epsilon$ conforme as iterações."
   ]
  },
  {
   "cell_type": "code",
   "execution_count": 282,
   "metadata": {},
   "outputs": [
    {
     "data": {
      "text/plain": [
       "gauss_seidel_tol (generic function with 1 method)"
      ]
     },
     "execution_count": 282,
     "metadata": {},
     "output_type": "execute_result"
    }
   ],
   "source": [
    "function gauss_seidel_iter(A, b, iter)\n",
    "    n,m = size(A)\n",
    "    M = UpperTriangular(A)\n",
    "    K = M - A\n",
    "    R = inv(M)*K\n",
    "    c = inv(M)*b\n",
    "    x = zeros(n,1)\n",
    "    tol_list = []\n",
    "    \n",
    "    for i = 1 : iter\n",
    "        last_x = x\n",
    "        x = c + R*x\n",
    "        push!(tol_list, norm(x - last_x))\n",
    "    end\n",
    "    \n",
    "    return x, tol_list\n",
    "end\n",
    "\n",
    "function gauss_seidel_tol(A, b, ϵ)\n",
    "    n,m = size(A)\n",
    "    M = UpperTriangular(A)\n",
    "    K = M - A\n",
    "    R = inv(M)*K\n",
    "    c = inv(M)*b\n",
    "    x = zeros(n,1)\n",
    "    tol_list = []\n",
    "    \n",
    "    while true\n",
    "        last_x = x\n",
    "        x = c + R*x\n",
    "        err = norm(x - last_x)\n",
    "        push!(tol_list, err)\n",
    "        \n",
    "        if err < ϵ\n",
    "            break\n",
    "        end\n",
    "    end\n",
    "    \n",
    "    return x, tol_list\n",
    "end"
   ]
  },
  {
   "cell_type": "markdown",
   "metadata": {},
   "source": [
    "## Método de Gauss-Jacobi\n",
    "\n",
    "Tenhamos um sistema linear cujas soluções $x_1, \\ldots, x_n$ queremos aproximar, e opcionalmente uma margem de erro $\\epsilon_{\\max}$. O método de Gauss-Jacobi é análogo ao étodo de Gauss-Seidel: ele consiste em, dadas uma matriz quadrada $A$, representando os coeficientes do sistema linear, e uma matriz-coluna $b$, representando as constantes, primeiramente decompor $A$ em uma matriz diagonal $M$ e seu resto $K$:\n",
    "\n",
    "\n",
    "\\begin{equation}\n",
    "    A=M-K\n",
    "    ,\n",
    "\\end{equation}\n",
    "\n",
    "ou seja,\n",
    "\n",
    "\\begin{equation}\n",
    "    \\begin{bmatrix}\n",
    "        a_{1,\\,1}   & a_{1,\\,2}   & \\cdots & a_{1,\\,n-1}   & a_{1,\\,n}   \\\\\n",
    "        a_{2,\\,1}   & a_{2,\\,2}   & \\cdots & a_{1,\\,n-1}   & a_{2,\\,n}   \\\\\n",
    "        \\vdots      & \\vdots      & \\ddots & \\vdots        & \\vdots      \\\\\n",
    "        a_{n-1,\\,1} & a_{n-1,\\,2} & \\cdots & a_{n-1,\\,n-1} & a_{n-1,\\,n} \\\\\n",
    "        a_{n,\\,1}   & a_{n,\\,2}   & \\cdots & a_{n,\\,n-1}   & a_{n,\\,n}   \\\\\n",
    "    \\end{bmatrix}\n",
    "    =\n",
    "    \\begin{bmatrix}\n",
    "        a_{1,\\,1} & 0         & \\cdots & 0             & 0         \\\\\n",
    "        0         & a_{2,\\,2} & \\cdots & 0             & 0         \\\\\n",
    "        \\vdots    & \\vdots    & \\ddots & \\vdots        &  \\vdots   \\\\\n",
    "        0         & 0         & \\cdots & a_{n-1,\\,n-1} & 0         \\\\\n",
    "        0         & 0         & \\cdots & 0             & a_{n,\\,n} \\\\\n",
    "    \\end{bmatrix}\n",
    "    -\n",
    "    \\begin{bmatrix}\n",
    "        0           & a_{1,\\,2}   & \\cdots & a_{1,\\,n-1}   & a_{1,\\,n}   \\\\\n",
    "        a_{2,\\,1}   & 0           & \\cdots & a_{1,\\,n-1}   & a_{2,\\,n}   \\\\\n",
    "        \\vdots      & \\vdots      & \\ddots & \\vdots        & \\vdots      \\\\\n",
    "        a_{n-1,\\,1} & a_{n-1,\\,2} & \\cdots & 0             & a_{n-1,\\,n} \\\\\n",
    "        a_{n,\\,1}   & a_{n,\\,2}   & \\cdots & a_{n,\\,n-1}   & 0           \\\\\n",
    "    \\end{bmatrix}\n",
    "    .\n",
    "\\end{equation}\n",
    "\n",
    "Com isto, o sistema linear pode ser reescrito como\n",
    "\n",
    "\\begin{equation}\n",
    "    (M-K)\\,x = b\n",
    "\\end{equation}\n",
    "\n",
    "\\begin{equation}\n",
    "    Mx - Kx = b\n",
    "\\end{equation}\n",
    "\n",
    "\\begin{equation}\n",
    "    Mx = b + Kx\n",
    "\\end{equation}\n",
    "\n",
    "\\begin{equation}\n",
    "    x = M^{-1}(b + Kx)\n",
    "\\end{equation}\n",
    "\n",
    "Após esta manipulação, fazemos duas simples atribuições para aliviar a notação\n",
    "\n",
    "\\begin{equation}\n",
    "    R=M^{-1}K\n",
    "    \\,\n",
    "    ,\n",
    "    \\qquad\n",
    "    \\qquad\n",
    "    \\qquad\n",
    "    c=M^{-1}b\n",
    "    \\,\n",
    "    ,\n",
    "\\end{equation}\n",
    "\n",
    "e então fazemos a seguinte recursão:\n",
    "\n",
    "\\begin{equation}\n",
    "    x_{i+1} = Rx_i + c\n",
    "    \\,\n",
    "    .\n",
    "\\end{equation}\n",
    "\n",
    "O método de Gauss-Jacobi funciona de forma semelhante ao método do ponto fixo para funções $f(x)$, pois a ideia é que, com cada iteração $i$, os valores da matriz-coluna $x_i$ convergem da solução exata que é a matriz-coluna $x$, tal que $x$ é da forma\n",
    "\n",
    "\\begin{equation}\n",
    "    x\n",
    "    =\n",
    "    \\begin{bmatrix}\n",
    "        x_0    \\\\\n",
    "        x_1    \\\\\n",
    "        \\vdots \\\\\n",
    "        x_{n}    \\\\\n",
    "    \\end{bmatrix}\n",
    "    .\n",
    "\\end{equation}\n",
    "\n",
    "No entanto, só podemos garantir que $x_i$ converge para $x$ se a matriz $A$ é estritamente diagonal dominante, ou seja: se, para cada linha $m$ de $A$,\n",
    "\n",
    "\\begin{equation}\n",
    "    |a_{m,\\,m}| > \\sum_{n \\ne m} |a_{m,\\,n}|\n",
    "    \\,\n",
    "    .\n",
    "\\end{equation}\n",
    "\n",
    "Por último, a margem de erro $\\epsilon$ da iteração atual do método pode ser calculada pela norma da diferença entre a iteração atual e a última, ou seja,\n",
    "\n",
    "\\begin{equation}\n",
    "    \\epsilon\n",
    "    =\n",
    "    \\left|\\left|\n",
    "    x^{(n)} - x^{(n-1)}\n",
    "    \\right|\\right|\n",
    "    \\,\n",
    "    .\n",
    "\\end{equation}\n",
    "\n",
    "Assim, a função pode ter duas formas: uma que trabalha com o número de iterações e outra com uma margem de erro $\\epsilon_{\\max}$.\n",
    "\n",
    "A primeira recebe as matrizes $A$ e $b$ e o número de iterações $i$ a serem feitas, e retorna uma matriz-coluna contendo os valores aproximados de $x_1, \\ldots, x_n$, nesta ordem, e uma lista com a progressão da margem de erro $\\epsilon$ conforme as iterações.\n",
    "\n",
    "A segunda recebe as matrizes $A$ e $b$ e margem de erro $\\epsilon_{\\max}$ a serem feitas, e retorna uma matriz-coluna contendo os valores aproximados de $x_1, \\ldots, x_n$, nesta ordem, e uma lista com a progressão da margem de erro $\\epsilon$ conforme as iterações."
   ]
  },
  {
   "cell_type": "code",
   "execution_count": 283,
   "metadata": {},
   "outputs": [
    {
     "data": {
      "text/plain": [
       "gauss_jacobi_tol (generic function with 1 method)"
      ]
     },
     "execution_count": 283,
     "metadata": {},
     "output_type": "execute_result"
    }
   ],
   "source": [
    "function gauss_jacobi_iter(A, b, iter)\n",
    "    n,m = size(A)\n",
    "    M = Diagonal(A)\n",
    "    K = M - A\n",
    "    R = inv(M)*K\n",
    "    c = inv(M)*b\n",
    "    x = zeros(n,1)\n",
    "    tol_list = []\n",
    "    \n",
    "    for i = 1 : iter\n",
    "        last_x = x\n",
    "        x = c + R*x\n",
    "        push!(tol_list, norm(x - last_x))\n",
    "    end\n",
    "    \n",
    "    return x, tol_list\n",
    "end\n",
    "\n",
    "function gauss_jacobi_tol(A, b, ϵ)\n",
    "    n,m = size(A)\n",
    "    M = Diagonal(A)\n",
    "    K = M - A\n",
    "    R = inv(M)*K\n",
    "    c = inv(M)*b\n",
    "    x = zeros(n,1)\n",
    "    tol_list = []\n",
    "    \n",
    "    while true\n",
    "        last_x = x\n",
    "        x = c + R*x\n",
    "        err = norm(x - last_x)\n",
    "        push!(tol_list, err)\n",
    "        \n",
    "        if err < ϵ\n",
    "            break\n",
    "        end\n",
    "    end\n",
    "    \n",
    "    return x, tol_list\n",
    "end"
   ]
  },
  {
   "cell_type": "markdown",
   "metadata": {},
   "source": [
    "---\n",
    "# Funções de Cálculo Numérico"
   ]
  },
  {
   "cell_type": "markdown",
   "metadata": {},
   "source": [
    "## Método dos Polinômios de Taylor\n",
    "O método dos polinômios de Taylor consiste em, dados uma função $f$ e um $x$ para o qual queremos conhecer o valor de $f$, aproximarmos este valor usando uma função polinomial $T$, uma lista de $n$ derivadas de $f$, e um $a$ em cujo ponto o valor de $f$ é conhecido. A forma geral deste polinômio $T$ é dada por\n",
    "\n",
    "\\begin{equation}\n",
    "T_n(x) = \\sum_{i=0}^{n} \\frac{f^{\\left(n\\right)}\\left(a\\right) \\cdot \\left(x-a\\right)^n}{n!},\n",
    "\\end{equation}\n",
    "\n",
    "de forma que o grau do polinômio $T$ dependerá da quantidade de derivadas conhecidas.\n",
    "\n",
    "Em resumo, a função que aproxima $f$ pelo método dos polinômios de Taylor terá como parâmetros a própria função $f$, uma lista de suas derivadas até a $n$-ésima, o valor $x$ (para o qual queremos conhecer $f$) e um valor $a$, para o qual se conhece o valor de $f$, e terá como saída o valor do polinômio em $x$."
   ]
  },
  {
   "cell_type": "code",
   "execution_count": 284,
   "metadata": {},
   "outputs": [
    {
     "data": {
      "text/plain": [
       "taylor (generic function with 1 method)"
      ]
     },
     "execution_count": 284,
     "metadata": {},
     "output_type": "execute_result"
    }
   ],
   "source": [
    "function taylor(f, df_list, x, a)\n",
    "    # No algoritmo, fat = n!, para facilitar a computação.\n",
    "    # Assim, como antes de iniciar o loop, n = 0, então fat = 1.\n",
    "    fat = 1\n",
    "    \n",
    "    # Calcula o Taylor de grau 0\n",
    "    s = f(a)\n",
    "    \n",
    "    # Calcula o polinômio de Taylor de grau n e adiciona-o\n",
    "    # ao somatório.\n",
    "    for n = 1 : length(df_list)\n",
    "        fat *= n\n",
    "        s += (df_list[n](a) * ((x-a)^n))/(fat)\n",
    "    end\n",
    "    \n",
    "    return s\n",
    "end"
   ]
  },
  {
   "cell_type": "code",
   "execution_count": 285,
   "metadata": {},
   "outputs": [
    {
     "data": {
      "text/plain": [
       "-1.8925413619243388e-6"
      ]
     },
     "execution_count": 285,
     "metadata": {},
     "output_type": "execute_result"
    }
   ],
   "source": [
    "f(x) = sin(x)\n",
    "df(x) = cos(x)\n",
    "d2f(x) = -sin(x)\n",
    "d3f(x) = -cos(x)\n",
    "\n",
    "taylor(f, [df, d2f, d3f], π, 3)"
   ]
  },
  {
   "cell_type": "code",
   "execution_count": 286,
   "metadata": {},
   "outputs": [
    {
     "data": {
      "text/plain": [
       "140.0"
      ]
     },
     "execution_count": 286,
     "metadata": {},
     "output_type": "execute_result"
    }
   ],
   "source": [
    "f(x) = x^2 + 5x - 10\n",
    "df(x) = 2x + 5\n",
    "d2f(x) = 2\n",
    "\n",
    "taylor(f, [df, d2f], 10, 4)"
   ]
  },
  {
   "cell_type": "code",
   "execution_count": 287,
   "metadata": {},
   "outputs": [
    {
     "data": {
      "text/plain": [
       "0.16045537266131923"
      ]
     },
     "execution_count": 287,
     "metadata": {},
     "output_type": "execute_result"
    }
   ],
   "source": [
    "f(x) = 1/(10+sin(3x))\n",
    "df(x) = -(3*cos(3x))/((10 + sin(3x))^2)\n",
    "\n",
    "taylor(f, [df], π, 1)"
   ]
  },
  {
   "cell_type": "markdown",
   "metadata": {},
   "source": [
    "## Método da Bisseção\n",
    "A função do método da bisseção recebe como parâmetros uma função $f(x)$, um intervalo $[a,b]$ onde se supõe que uma das raízes de $f$ esteja e uma margem de erro $\\epsilon$. Repetidamente divide-se o intervalo no meio, testa-se em qual metade do intervalo a raiz está, comparando os sinais de $f\\left(\\frac{a+b}{2}\\right)$ com $f(a)$, e depois de $f\\left(\\frac{a+b}{2}\\right)$ com $f(b)$. O par de coordenadas do eixo $x$ cuja função tiver o mesmo sinal se tornará o novo intervalo; ou seja, se $f\\left(\\frac{a+b}{2}\\right) \\cdot f(a) > 0$, por exemplo, o novo intervalo será $\\left[a,\\frac{a+b}{2}\\right]$.\n",
    "\n",
    "Este processo de divisão, comparação e atualização do intervalo se repete até que a distância da raiz seja menor que $\\epsilon$. Este teste é feito comparando-se a distância entre a metade e os limites do intervalo; se isto está dentro da margem de erro $\\epsilon$, certamente a raiz também estará.\n",
    "\n",
    "Em resumo, a função do método da bisseção recebe como parâmetros uma função $f(x)$, um intervalo $[a,b]$ onde se supõe que uma das raízes de $f$ esteja e uma margem de erro $\\epsilon$, e retorna uma aproximação do ponto $x$ onde ocorre a raiz, dentro da margem de erro $\\epsilon$."
   ]
  },
  {
   "cell_type": "code",
   "execution_count": 288,
   "metadata": {},
   "outputs": [
    {
     "data": {
      "text/plain": [
       "bisseção (generic function with 1 method)"
      ]
     },
     "execution_count": 288,
     "metadata": {},
     "output_type": "execute_result"
    }
   ],
   "source": [
    " function bisseção(f, a, b, ϵ)\n",
    "    # Checa se a raiz está no intervalo inicial\n",
    "    if (f(a) * f(b) == 0)\n",
    "        println(\"Não tem solução no intervalo.\")\n",
    "    else\n",
    "        # Tomamos como 1a tentativa o ponto médio do intervalo\n",
    "        m = (a + b)/2\n",
    "        \n",
    "        # Enquanto a distância entre a metade e os limites do\n",
    "        # intervalo é maior que a margem de erro...\n",
    "        while (b - a)/2 > ϵ\n",
    "            # Atualizamos o ponto médio\n",
    "            m = (a + b)/2\n",
    "            # Checamos se o ponto médio é raiz\n",
    "            if (f(m) == 0)\n",
    "                return m\n",
    "            # Caso contrário, checamos em qual metade do intervalo\n",
    "            # a raiz se encontra e o atualizamos\n",
    "            elseif ((f(a) * f(m)) < 0)\n",
    "                b = m\n",
    "            else\n",
    "                a = m\n",
    "            end\n",
    "        end\n",
    "        \n",
    "        # Após garantirmos que a raiz está dentro da margem de erro,\n",
    "        # retornamos o ponto médio como resultado\n",
    "        return m\n",
    "    end\n",
    "end"
   ]
  },
  {
   "cell_type": "code",
   "execution_count": 289,
   "metadata": {},
   "outputs": [
    {
     "data": {
      "text/plain": [
       "1.5390625"
      ]
     },
     "execution_count": 289,
     "metadata": {},
     "output_type": "execute_result"
    }
   ],
   "source": [
    "f(x) = x^3 - x - 2\n",
    "a = -2\n",
    "b = 4\n",
    "ϵ = 0.02\n",
    "\n",
    "bisseção(f,a,b,ϵ)"
   ]
  },
  {
   "cell_type": "code",
   "execution_count": 290,
   "metadata": {},
   "outputs": [
    {
     "data": {
      "text/plain": [
       "3.1415977478027344"
      ]
     },
     "execution_count": 290,
     "metadata": {},
     "output_type": "execute_result"
    }
   ],
   "source": [
    "f(x) = sin(x)\n",
    "a = 3\n",
    "b = 6\n",
    "ϵ = 0.00001\n",
    "\n",
    "bisseção(f,a,b,ϵ)"
   ]
  },
  {
   "cell_type": "code",
   "execution_count": 291,
   "metadata": {},
   "outputs": [
    {
     "data": {
      "text/plain": [
       "1.000244140625"
      ]
     },
     "execution_count": 291,
     "metadata": {},
     "output_type": "execute_result"
    }
   ],
   "source": [
    "f(x) = log(x)\n",
    "a = 0.5\n",
    "b = 2\n",
    "ϵ = 0.0005\n",
    "\n",
    "bisseção(f,a,b,ϵ)"
   ]
  },
  {
   "cell_type": "markdown",
   "metadata": {},
   "source": [
    "## Método do Ponto Fixo\n",
    "O método do ponto fixo consiste em, dada uma função $f$ e um chute inicial $x_0$, aplicar repetidamente $f$ no resultado obtido na interação anterior, gerando a seguinte recursão:\n",
    "\n",
    "\\begin{equation}\n",
    "    x_{i+1} = f(x_i)\n",
    "\\end{equation}\n",
    "\n",
    "No entanto, nem sempre a função vai convergir; isto depende de se a função $f$ tiver em si uma região chamada bacia de atração (em cujos detalhes não vamos entrar aqui), e se algum chute $x_i$ acabar entrando na bacia de atração da função.\n",
    "\n",
    "Em resumo, a função do método do ponto fixo recebe como entrada uma função $f$, um chute inicial $x_0$ e uma margem de erro $\\epsilon$, e retorna uma aproximação do ponto $x$ em que ocorre a raiz de $f$, dentro da margem de erro $\\epsilon$. No entanto, também fizemos uma sobrecarga de método que limita o número de iterações da função, pois pode ocorrer que a função não convirja."
   ]
  },
  {
   "cell_type": "code",
   "execution_count": 297,
   "metadata": {},
   "outputs": [
    {
     "data": {
      "text/plain": [
       "ponto_fixo (generic function with 2 methods)"
      ]
     },
     "execution_count": 297,
     "metadata": {},
     "output_type": "execute_result"
    }
   ],
   "source": [
    "function ponto_fixo(f, x, ϵ, iter = :no_iter)\n",
    "    prev_x = 0\n",
    "    \n",
    "    if iter == :no_iter\n",
    "        while abs(x - prev_x)/x > ϵ\n",
    "            prev_x = x\n",
    "            x = f(x)\n",
    "        end\n",
    "    else\n",
    "        for i = 1 : iter\n",
    "            prev_x = x\n",
    "            x = f(x)\n",
    "            if abs(x - prev_x)/x < ϵ\n",
    "                break\n",
    "            end\n",
    "        end\n",
    "    end\n",
    "    \n",
    "    return x\n",
    "end"
   ]
  },
  {
   "cell_type": "code",
   "execution_count": 298,
   "metadata": {},
   "outputs": [
    {
     "data": {
      "text/plain": [
       "2.5e-323"
      ]
     },
     "execution_count": 298,
     "metadata": {},
     "output_type": "execute_result"
    }
   ],
   "source": [
    "f(x) = 0.9x\n",
    "x = 3\n",
    "ϵ = 0.0005\n",
    "iter = 100000000\n",
    "\n",
    "ponto_fixo(f, x, ϵ, iter)"
   ]
  },
  {
   "cell_type": "code",
   "execution_count": 299,
   "metadata": {},
   "outputs": [
    {
     "data": {
      "text/plain": [
       "0.007745802037400492"
      ]
     },
     "execution_count": 299,
     "metadata": {},
     "output_type": "execute_result"
    }
   ],
   "source": [
    "f(x) = sin(x)\n",
    "x = 3\n",
    "ϵ = 0.00001\n",
    "\n",
    "ponto_fixo(f, x, ϵ)"
   ]
  },
  {
   "cell_type": "code",
   "execution_count": 300,
   "metadata": {},
   "outputs": [
    {
     "data": {
      "text/plain": [
       "1.3975455011197713"
      ]
     },
     "execution_count": 300,
     "metadata": {},
     "output_type": "execute_result"
    }
   ],
   "source": [
    "f(x) = 1.982 / exp(x/4)\n",
    "x = 1.3\n",
    "ϵ = 10^(-5)\n",
    "\n",
    "ponto_fixo(f, x, ϵ)"
   ]
  },
  {
   "cell_type": "markdown",
   "metadata": {},
   "source": [
    "## Método de Newton-Raphson\n",
    "O método de Newton-Raphson consiste em, dados uma função $f$ e sua derivada $f'$, um chute inicial $x_0$, e uma margem de erro $\\epsilon$, calcular a interseção da derivada de $f'(x_i)$ com o erro das abscissas e tomar este ponto x_{i+1} como próximo chute, se aproximando iterativamente da raiz da função e gerando a seguinte recursão:\n",
    "\n",
    "\\begin{equation}\n",
    "    x_{i+1} = x_{i}-\\frac{f(x_i)}{f'(x_i)}\n",
    "\\end{equation}\n",
    "\n",
    "Esta recursão ocorre até que a diferença entre as raízes da atual e da última derivadas seja menor que a margem de erro, pois se a diferença entre estas duas raízes é menor que $\\epsilon$, então a diferença entre a raiz da derivada atual e da função é, no máximo, $\\epsilon$.\n",
    "\n",
    "Em resumo, a função do método de Newton-Raphson recebe como parâmetros uma função $f(x)$, sua derivada $f'(x)$, um chbute inicial $x_0$ e uma margem de erro $\\epsilon$, e retorna uma aproximação do ponto $x$ onde ocorre a raiz de $f$, dentro da margem de erro $\\epsilon$."
   ]
  },
  {
   "cell_type": "code",
   "execution_count": 301,
   "metadata": {},
   "outputs": [
    {
     "data": {
      "text/plain": [
       "newton (generic function with 1 method)"
      ]
     },
     "execution_count": 301,
     "metadata": {},
     "output_type": "execute_result"
    }
   ],
   "source": [
    "function newton(f, df, x, ϵ)\n",
    "    prev_x = 0\n",
    "    #=\n",
    "    Até a diferença entre a aproximação anterior\n",
    "    e a atual ser menor que o erro, a iteração do\n",
    "    método de Newton será repetida\n",
    "    =#\n",
    "    while abs(x - prev_x) > ϵ\n",
    "        # O x atual é guardado\n",
    "        prev_x = x \n",
    "        # Calculamos a próxima aprox. de x\n",
    "        x = x - (f(x)/df(x))\n",
    "    end\n",
    "    \n",
    "    return x\n",
    "end"
   ]
  },
  {
   "cell_type": "code",
   "execution_count": 302,
   "metadata": {},
   "outputs": [
    {
     "data": {
      "text/plain": [
       "1.5213799142831144"
      ]
     },
     "execution_count": 302,
     "metadata": {},
     "output_type": "execute_result"
    }
   ],
   "source": [
    "f(x) = x^3 - x - 2\n",
    "df(x) = 3x^2 - 1\n",
    "x = 10\n",
    "ϵ = 0.005\n",
    "\n",
    "newton(f, df, x, ϵ)"
   ]
  },
  {
   "cell_type": "code",
   "execution_count": 303,
   "metadata": {},
   "outputs": [
    {
     "data": {
      "text/plain": [
       "3.141592653300477"
      ]
     },
     "execution_count": 303,
     "metadata": {},
     "output_type": "execute_result"
    }
   ],
   "source": [
    "f(x) = sin(x)\n",
    "df(x) = cos(x)\n",
    "x = 3\n",
    "ϵ = 0.02\n",
    "\n",
    "newton(f, df, x, ϵ)"
   ]
  },
  {
   "cell_type": "code",
   "execution_count": 304,
   "metadata": {},
   "outputs": [
    {
     "data": {
      "text/plain": [
       "0.999999999261682"
      ]
     },
     "execution_count": 304,
     "metadata": {},
     "output_type": "execute_result"
    }
   ],
   "source": [
    "f(x) = log(x)\n",
    "df(x) = 1/x\n",
    "x = 2.5\n",
    "ϵ = 0.0001\n",
    "\n",
    "newton(f, df, x, ϵ)"
   ]
  },
  {
   "cell_type": "markdown",
   "metadata": {},
   "source": [
    "## Método de Euler\n",
    "O método de Euler consiste em, dado um problema de valor inicial\n",
    "\n",
    "\\begin{equation}\n",
    "    y'(x) = f\\left(x,y(x)\\right),\\quad y(x_0) = y_0,\n",
    "\\end{equation}\n",
    "\n",
    "aproximar a solução da EDO em uma quantidade de intervalos $n$ através de um método iterativo, que é\n",
    "\n",
    "\\begin{equation}\n",
    "    y_{i+1} = x_i + h \\cdot f(x_i,y_i); \\qquad x_{i+1} = x_i + h,\n",
    "\\end{equation}\n",
    "\n",
    "onde $h$ é o comprimento dos intervalos de integração, dado resumidamente por\n",
    "\n",
    "\\begin{equation}\n",
    "    h = \\frac{x_0 - x_f}{n}.\n",
    "\\end{equation}\n",
    "\n",
    "Então, a função do método de Euler recebe como parâmetros a derivada $y'(x)$, o início e final do intervalo de integração $x_0$ e $x_f$, o valor de $y(x_0)$, que é $y_0$, e o número de intervalos $n$."
   ]
  },
  {
   "cell_type": "code",
   "execution_count": 305,
   "metadata": {},
   "outputs": [
    {
     "data": {
      "text/plain": [
       "euler (generic function with 1 method)"
      ]
     },
     "execution_count": 305,
     "metadata": {},
     "output_type": "execute_result"
    }
   ],
   "source": [
    "function euler(df, x₀, xf, y₀, n)\n",
    "    x = x₀\n",
    "    y = y₀\n",
    "    h = (xf - x₀)/n\n",
    "    \n",
    "    for i = 1 : n\n",
    "        y += h * df(x,y)\n",
    "        x += h\n",
    "    end\n",
    "    \n",
    "    return y\n",
    "end"
   ]
  },
  {
   "cell_type": "code",
   "execution_count": 306,
   "metadata": {},
   "outputs": [
    {
     "data": {
      "text/plain": [
       "5.37824"
      ]
     },
     "execution_count": 306,
     "metadata": {},
     "output_type": "execute_result"
    }
   ],
   "source": [
    "df(x,y) = 2y\n",
    "x₀ = 0\n",
    "xf = 1\n",
    "y₀ = 1\n",
    "n = 5\n",
    "\n",
    "euler(df, x₀, xf, y₀, n)"
   ]
  },
  {
   "cell_type": "code",
   "execution_count": 307,
   "metadata": {},
   "outputs": [
    {
     "data": {
      "text/plain": [
       "0.7322353265272303"
      ]
     },
     "execution_count": 307,
     "metadata": {},
     "output_type": "execute_result"
    }
   ],
   "source": [
    "df(x,y) = y*(1 - y)\n",
    "x₀ = 0\n",
    "xf = 1\n",
    "y₀ = 1/2\n",
    "n = 20\n",
    "\n",
    "euler(df, x₀, xf, y₀, n)"
   ]
  },
  {
   "cell_type": "code",
   "execution_count": 308,
   "metadata": {},
   "outputs": [
    {
     "data": {
      "text/plain": [
       "6.846163491925827"
      ]
     },
     "execution_count": 308,
     "metadata": {},
     "output_type": "execute_result"
    }
   ],
   "source": [
    "df(x,y) = -0.5y + 2 + x\n",
    "x₀ = 0\n",
    "xf = 1\n",
    "y₀ = 8\n",
    "n = 100\n",
    "\n",
    "euler(df, x₀, xf, y₀, n)"
   ]
  },
  {
   "cell_type": "markdown",
   "metadata": {},
   "source": [
    "## Coeficientes da interpolação polinomial por Matriz de Vandermonde\n",
    "Para acharmos os coeficientes do polinômio da interpolação, vamos utilizar o método da matriz de Vandermonde. Este método consiste em construir um sistema linear que represente as aproximações a serem feitas nos pontos dados, e depois transformá-la em uma equação matricial a ser resolvida, da forma\n",
    "\n",
    "\\begin{equation}\n",
    "    \\begin{bmatrix}\n",
    "        1      & x_1    & x_1^2  & \\cdots & x_1^{n-1}  \\\\\n",
    "        1      & x_2    & x_2^2  & \\cdots & x_2^{n-1}  \\\\\n",
    "        1      & x_3    & x_3^2  & \\cdots & x_3^{n-1}  \\\\\n",
    "        \\vdots & \\vdots & \\vdots & \\ddots & \\vdots     \\\\\n",
    "        1      & x_n    & x_n^2  & \\cdots & x_n^{n-1}  \\\\\n",
    "    \\end{bmatrix}\n",
    "    \\cdot\n",
    "    \\begin{bmatrix}\n",
    "        c_0    \\\\\n",
    "        c_1    \\\\\n",
    "        c_2    \\\\\n",
    "        \\vdots \\\\\n",
    "        c_{n-1}    \\\\\n",
    "    \\end{bmatrix}\n",
    "    =\n",
    "    \\begin{bmatrix}\n",
    "        y_0    \\\\\n",
    "        y_1    \\\\\n",
    "        y_2    \\\\\n",
    "        \\vdots \\\\\n",
    "        y_{n-1}    \\\\\n",
    "    \\end{bmatrix}\n",
    "    ,\n",
    "\\end{equation}\n",
    "\n",
    "onde $(x_i,y_i)$ são coordenadas de pontos, e cada coeficiente $c_i$ é o coeficiente respectivo ao grau $i$ do polinômio desejado. Ademais, está implícito na forma desta interpolação que o grau do polinômio interpolado é igual à quantidade de pontos passados.\n",
    "\n",
    "A função recebe como parâmetro duas listas de coordenadas $x_i$ e $y_i$ respectivamente, no formato\n",
    "\n",
    "\\begin{equation}\n",
    "    [x_0, \\ldots, x_n], \\quad [y_0, \\ldots, y_n]\n",
    "\\end{equation}\n",
    "\n",
    "e retorna a matriz de coeficientes $c$."
   ]
  },
  {
   "cell_type": "code",
   "execution_count": 309,
   "metadata": {},
   "outputs": [
    {
     "data": {
      "text/plain": [
       "vandermonde_interpol_coefs (generic function with 1 method)"
      ]
     },
     "execution_count": 309,
     "metadata": {},
     "output_type": "execute_result"
    }
   ],
   "source": [
    "function vandermonde_interpol_coefs(x_coords, y_coords)\n",
    "    # Montando a matriz de Vandermonde\n",
    "    V = vandermonde_matrix(x_coords)\n",
    "\n",
    "    # Montando a matriz de resultados\n",
    "    y = column_matrix(y_coords)\n",
    "\n",
    "    #=\n",
    "    Resolvendo o sistema linear e extraindo\n",
    "    os coeficientes lineares do polinômio\n",
    "    =#\n",
    "    c = resolve_cheia(V,y)\n",
    "    \n",
    "    return c\n",
    "end"
   ]
  },
  {
   "cell_type": "code",
   "execution_count": 310,
   "metadata": {},
   "outputs": [
    {
     "data": {
      "text/plain": [
       "5×1 Array{Float64,2}:\n",
       " 0.0\n",
       " 0.0\n",
       " 1.0\n",
       " 0.0\n",
       " 0.0"
      ]
     },
     "execution_count": 310,
     "metadata": {},
     "output_type": "execute_result"
    }
   ],
   "source": [
    "# x^2\n",
    "x_coords = [-2,-1,0,1,2]\n",
    "y_coords = [4,1,0,1,4]\n",
    "\n",
    "vandermonde_interpol_coefs(x_coords, y_coords)"
   ]
  },
  {
   "cell_type": "code",
   "execution_count": 311,
   "metadata": {},
   "outputs": [
    {
     "data": {
      "text/plain": [
       "5×1 Array{Float64,2}:\n",
       "  2.9605947323337955e-16\n",
       "  0.848826363156775\n",
       " -1.4240359143516626e-16\n",
       " -0.08600409182186525\n",
       "  2.4314730388360118e-17"
      ]
     },
     "execution_count": 311,
     "metadata": {},
     "output_type": "execute_result"
    }
   ],
   "source": [
    "# sin(x)\n",
    "x_coords = [-π, -π/2, 0, π/2, π]\n",
    "y_coords = [0, -1, 0, 1, 0]\n",
    "\n",
    "vandermonde_interpol_coefs(x_coords, y_coords)"
   ]
  },
  {
   "cell_type": "code",
   "execution_count": 312,
   "metadata": {},
   "outputs": [
    {
     "data": {
      "text/plain": [
       "5×1 Array{Float64,2}:\n",
       "      0.0\n",
       " -62999.0\n",
       "  16200.0\n",
       "   7311.0\n",
       "    180.0"
      ]
     },
     "execution_count": 312,
     "metadata": {},
     "output_type": "execute_result"
    }
   ],
   "source": [
    "# x^7 + x^5 + x^3 + x\n",
    "x_coords = [-7, -5, 0, 2, 10]\n",
    "y_coords = [-840700, -81380, 0, 170, 10101010]\n",
    "\n",
    "vandermonde_interpol_coefs(x_coords, y_coords)"
   ]
  },
  {
   "cell_type": "markdown",
   "metadata": {},
   "source": [
    "## Interpolação Polinomial por Polinômios de Lagrange\n",
    "O método de interpolação por polinômios de Lagrange consiste em, dados $n$ pontos $\\left(x_i, y_i\\right)$, fazermos uma aproximação polinomial de ordem $n-1$, da forma\n",
    "\n",
    "\\begin{equation}\n",
    "    f\\left(x\\right)\\approx L_n\\left(x\\right)=\n",
    "\\end{equation}\n",
    "\n",
    "\\begin{equation}\\frac{\n",
    "        f\\left(x_0\\right)\\left(x-x_1\\right)\\left(x-x_2\\right)\n",
    "        \\ldots\\left(x-x_n\\right)\n",
    "    }\n",
    "    {\n",
    "        \\left(x_0-x_1\\right)\n",
    "        \\left(x_0-x_2\\right)\\ldots\\left(x_0-x_n\\right)\n",
    "    }+\n",
    "\\end{equation}\n",
    "\n",
    "\\begin{equation}\n",
    "\\frac{\n",
    "        f\\left(x_1\\right)\\left(x-x_0\\right)\\left(x-x_2\\right)\n",
    "        \\ldots\\left(x-x_n\\right)\n",
    "    }\n",
    "    {\n",
    "        \\left(x_1-x_0\\right)\n",
    "        \\left(x_1-x_2\\right)\\ldots\\left(x_1-x_n\\right)\n",
    "    }+\n",
    "\\end{equation}\n",
    "\n",
    "\\begin{equation}\n",
    "    \\ldots+\n",
    "\\frac{\n",
    "        f\\left(x_n\\right)\\left(x-x_0\\right)\\left(x-x_1\\right)\n",
    "        \\ldots\\left(x-x_{n-1}\\right)\n",
    "    }\n",
    "    {\n",
    "        \\left(x_n-x_0\\right)\n",
    "        \\left(x_n-x_1\\right)\\ldots\\left(x_n-x_{n-1}\\right)\n",
    "    }\n",
    "\\end{equation}\n",
    "\n",
    "ou, de forma compacta,\n",
    "\n",
    "\\begin{equation}\n",
    "    P(x) = \\sum_{j=0}^n f(x_i) \\cdot L_i(x),\n",
    "    \\qquad\n",
    "    \\qquad\n",
    "    L_i(x) = \\prod_{j \\ne k}^n \\frac{(x - x_k)}{x_j - x_k}\n",
    "    .\n",
    "\\end{equation}\n",
    "\n",
    "A função recebe como parâmetro duas listas de coordenadas $x_i$ e $y_i$ respectivamente, no formato\n",
    "\n",
    "\\begin{equation}\n",
    "    [x_0, \\ldots, x_n], \\quad [y_0, \\ldots, y_n],\n",
    "\\end{equation}\n",
    "\n",
    "o ponto $x$ cujo valor da função é desejado, e opcionalmente o grau do polinômio, e retorna uma função polinomial no grau dado; o grau padrão é igual ao menor valor entre os tamanhos de $[x_0, \\ldots, x_n]-1$ e $[y_0, \\ldots, y_n]-1$."
   ]
  },
  {
   "cell_type": "code",
   "execution_count": 313,
   "metadata": {},
   "outputs": [
    {
     "data": {
      "text/plain": [
       "lagrange (generic function with 2 methods)"
      ]
     },
     "execution_count": 313,
     "metadata": {},
     "output_type": "execute_result"
    }
   ],
   "source": [
    "function lagrange_help(pontos_x, pontos_y, x, grau = min(length(pontos_x)-1, length(pontos_y)-1))\n",
    "    acc = 0.0\n",
    "    for j = 1 : grau + 1\n",
    "        xj = pontos_x[j]\n",
    "        Lx = 1\n",
    "        for i = 1 : grau + 1\n",
    "            if i == j\n",
    "                continue\n",
    "            end\n",
    "            xi = pontos_x[i]\n",
    "            Lx *= (x - xi) / (xj - xi)\n",
    "        end\n",
    "        acc += pontos_y[j] * Lx\n",
    "    end\n",
    "    return acc\n",
    "end\n",
    "\n",
    "function lagrange(pontos_x, pontos_y, grau = min(length(pontos_x)-1, length(pontos_y)-1))\n",
    "    funcao(x) = lagrange_help(pontos_x, pontos_y, x, grau)\n",
    "    return funcao\n",
    "end"
   ]
  },
  {
   "cell_type": "code",
   "execution_count": 314,
   "metadata": {},
   "outputs": [
    {
     "name": "stdout",
     "output_type": "stream",
     "text": [
      "4.0\n",
      "100.0\n",
      "36.0\n"
     ]
    }
   ],
   "source": [
    "# x^2\n",
    "x_coords = [0,1,2,3]\n",
    "y_coords = [0,1,4,9]\n",
    "\n",
    "l = lagrange(x_coords,y_coords)\n",
    "println(l(2));\n",
    "println(l(10));\n",
    "println(l(-6));"
   ]
  },
  {
   "cell_type": "code",
   "execution_count": 315,
   "metadata": {},
   "outputs": [
    {
     "name": "stdout",
     "output_type": "stream",
     "text": [
      "-1.0\n",
      "0.0\n",
      "0.875\n"
     ]
    }
   ],
   "source": [
    "# sin(x)\n",
    "x_coords = [-π, -π/2, 0, π/2, π]\n",
    "y_coords = [0, -1, 0, 1, 0]\n",
    "\n",
    "l = lagrange(x_coords,y_coords)\n",
    "println(l(-π/2));\n",
    "println(l(0));\n",
    "println(l(3π/4));"
   ]
  },
  {
   "cell_type": "code",
   "execution_count": 316,
   "metadata": {},
   "outputs": [
    {
     "name": "stdout",
     "output_type": "stream",
     "text": [
      "-39308.00000000001\n"
     ]
    }
   ],
   "source": [
    "# x^7 + x^5 + x^3 + x\n",
    "x_coords = [-7, -5, 0, 2, 10]\n",
    "y_coords = [-840700, -81380, 0, 170, 10101010]\n",
    "\n",
    "l = lagrange(x_coords,y_coords)\n",
    "println(l(1));"
   ]
  },
  {
   "cell_type": "markdown",
   "metadata": {},
   "source": [
    "## Integração pela Regra dos Retângulos\n",
    "A integração pela regra dos retâgulos consiste em, dada uma função $f$, um intervalo de integração $[a,b]$, e um número de intervalos $n$, aproximar a integral de $f$ calculando a soma de $n$ retângulos (com bases de tamanho uniforme ou não) da seguinte forma:\n",
    "\n",
    "\\begin{equation}\n",
    "    \\int_b^a f\\left(x\\right) \\,dx\n",
    "    \\approx\n",
    "    \\sum_{i=0}^{n} f\\left(x_i\\right)\n",
    "    \\cdot\n",
    "    \\left(x_{i+1} - x_i\\right)\n",
    "\\end{equation}\n",
    "\n",
    "Quando o tamanho dos intervalos $\\left(x_{i+1} - x_i\\right)$ é uniforme, a função da integração pela regra dos retângulos recebe como parâmetros a função a ser aproximada $f$, o intervalo de integração $[a,b]$, e o número de intervalos $n$.\n",
    "\n",
    "Quando o tamanho dos intervalos $\\left(x_{i+1} - x_i\\right)$ não é uniforme, a função da integração pela regra dos retângulos recebe como parâmetro uma lista de coordenadas $(x_i,y_i)$, no formato\n",
    "\n",
    "\\begin{equation}\n",
    "\\left[(x_0,y_0),(x_1,y_1),\\ldots,(x_n,y_n)\\right].\n",
    "\\end{equation}\n",
    "\n",
    "Qualquer que seja a forma do intervalo, ela retorna uma aproximação da integral, baseada na soma da área dos retângulos."
   ]
  },
  {
   "cell_type": "code",
   "execution_count": 317,
   "metadata": {},
   "outputs": [
    {
     "data": {
      "text/plain": [
       "rectangle_integ (generic function with 2 methods)"
      ]
     },
     "execution_count": 317,
     "metadata": {},
     "output_type": "execute_result"
    }
   ],
   "source": [
    "function rectangle_integ(f, a, b, n)\n",
    "    h = (b-a)/n\n",
    "    x = a\n",
    "    sum = 0.0\n",
    "    \n",
    "    for i = 1:n\n",
    "        sum += f(x) * h\n",
    "        x += h\n",
    "    end\n",
    "    return sum\n",
    "end\n",
    "\n",
    "function rectangle_integ(points_list)\n",
    "    sum = 0.0\n",
    "    \n",
    "    for i = 1 : (length(points_list)-1)\n",
    "      sum += points_list[i][2] * (points_list[i+1][1] - points_list[i][1])\n",
    "             \n",
    "    end\n",
    "    \n",
    "    return sum\n",
    "end"
   ]
  },
  {
   "cell_type": "code",
   "execution_count": 318,
   "metadata": {},
   "outputs": [
    {
     "data": {
      "text/plain": [
       "-16.25"
      ]
     },
     "execution_count": 318,
     "metadata": {},
     "output_type": "execute_result"
    }
   ],
   "source": [
    "f(x) = x^2 - 10\n",
    "a = -5\n",
    "b = 5\n",
    "n = 20\n",
    "\n",
    "rectangle_integ(f, a, b, n)"
   ]
  },
  {
   "cell_type": "code",
   "execution_count": 319,
   "metadata": {},
   "outputs": [
    {
     "data": {
      "text/plain": [
       "0.0"
      ]
     },
     "execution_count": 319,
     "metadata": {},
     "output_type": "execute_result"
    }
   ],
   "source": [
    "f(x) = cos(x)\n",
    "a = -π\n",
    "b = π\n",
    "n = 8\n",
    "\n",
    "rectangle_integ(f, a, b, n)"
   ]
  },
  {
   "cell_type": "code",
   "execution_count": 320,
   "metadata": {},
   "outputs": [
    {
     "data": {
      "text/plain": [
       "2.5259000146351775"
      ]
     },
     "execution_count": 320,
     "metadata": {},
     "output_type": "execute_result"
    }
   ],
   "source": [
    "f(x) = 1/sin(x)\n",
    "a = π/2 - 1\n",
    "b = π/2 + 1\n",
    "n = 5\n",
    "\n",
    "rectangle_integ(f, a, b, n)"
   ]
  },
  {
   "cell_type": "markdown",
   "metadata": {},
   "source": [
    "## Integração pela Regra dos Trapézios\n",
    "A integração pela regra dos trapézios compostos consiste em, dada uma função $f$, um intervalo de integração $[a,b]$, e um número de intervalos $n$, aproximar a integral de $f$ calculando a soma de $n$ trapézios (com bases de tamanho uniforme ou não) da seguinte forma:\n",
    "\n",
    "\\begin{equation}\n",
    "    \\int_b^a f\\left(x\\right) \\,dx\n",
    "    \\approx\n",
    "    \\sum_{i=0}^{n} \\frac{f\\left(x_i\\right) + f\\left(x_{i+1}\\right)}{2}\n",
    "    \\cdot\n",
    "    \\left(x_{i+1} - x_i\\right)\n",
    "\\end{equation}\n",
    "\n",
    "Quando o tamanho dos intervalos $\\left(x_{i+1} - x_i\\right)$ é uniforme, a função da integração pela regra dos trapézios recebe como parâmetros a função a ser aproximada $f$, o intervalo de integração $[a,b]$, e o número de intervalos $n$.\n",
    "\n",
    "Quando o tamanho dos intervalos $\\left(x_{i+1} - x_i\\right)$ não é uniforme, a função da integração pela regra dos trapézios recebe como parâmetro uma lista de coordenadas $(x_i,y_i)$, no formato\n",
    "\n",
    "\\begin{equation}\n",
    "\\left[(x_0,y_0),(x_1,y_1),\\ldots,(x_n,y_n)\\right].\n",
    "\\end{equation}\n",
    "\n",
    "Qualquer que seja a forma do intervalo, ela retorna uma aproximação da integral, baseada na soma da área dos trapézios."
   ]
  },
  {
   "cell_type": "code",
   "execution_count": 321,
   "metadata": {},
   "outputs": [
    {
     "data": {
      "text/plain": [
       "comp_trap_integ (generic function with 2 methods)"
      ]
     },
     "execution_count": 321,
     "metadata": {},
     "output_type": "execute_result"
    }
   ],
   "source": [
    "function comp_trap_integ(f, a, b, n)\n",
    "    h = (b-a)/n\n",
    "    xᵢ = a\n",
    "    xⱼ = xᵢ + h\n",
    "    sum = 0.0\n",
    "    \n",
    "    for i = 1 : n\n",
    "        sum += ((f(xᵢ)+f(xⱼ))/2)*h\n",
    "        xᵢ += h\n",
    "        xⱼ += h\n",
    "    end\n",
    "    return sum\n",
    "end\n",
    "\n",
    "function comp_trap_integ(points_list)\n",
    "    sum = 0.0\n",
    "    \n",
    "    for i = 1 : (length(points_list)-1)\n",
    "      sum += (\n",
    "                (points_list[i][2] + points_list[i+1][2])/2\n",
    "             )*(\n",
    "                (points_list[i+1][1] - points_list[i][1])\n",
    "             )\n",
    "    end\n",
    "    \n",
    "    return sum\n",
    "end"
   ]
  },
  {
   "cell_type": "code",
   "execution_count": 322,
   "metadata": {},
   "outputs": [
    {
     "data": {
      "text/plain": [
       "-16.25"
      ]
     },
     "execution_count": 322,
     "metadata": {},
     "output_type": "execute_result"
    }
   ],
   "source": [
    "f(x) = x^2 - 10\n",
    "a = -5\n",
    "b = 5\n",
    "n = 20\n",
    "\n",
    "comp_trap_integ(f, a, b, n)"
   ]
  },
  {
   "cell_type": "code",
   "execution_count": 323,
   "metadata": {},
   "outputs": [
    {
     "data": {
      "text/plain": [
       "0.0"
      ]
     },
     "execution_count": 323,
     "metadata": {},
     "output_type": "execute_result"
    }
   ],
   "source": [
    "f(x) = cos(x)\n",
    "a = -π\n",
    "b = π\n",
    "n = 8\n",
    "\n",
    "comp_trap_integ(f, a, b, n)"
   ]
  },
  {
   "cell_type": "code",
   "execution_count": 324,
   "metadata": {},
   "outputs": [
    {
     "data": {
      "text/plain": [
       "2.5259000146351775"
      ]
     },
     "execution_count": 324,
     "metadata": {},
     "output_type": "execute_result"
    }
   ],
   "source": [
    "f(x) = 1/sin(x)\n",
    "a = π/2 - 1\n",
    "b = π/2 + 1\n",
    "n = 5\n",
    "\n",
    "comp_trap_integ(f, a, b, n)"
   ]
  },
  {
   "cell_type": "markdown",
   "metadata": {},
   "source": [
    "## Integração pela Regra de Simpson\n",
    "A integração pela regra de Simpson consiste em, dada uma função $f$, um intervalo de integração $[a,b]$, e um número de intervalos $n$, aproximar a integral de $f$ calculando a soma de $n$ parábolas da seguinte forma:\n",
    "\n",
    "\\begin{equation}\n",
    "    \\int_a^b f\\left(x\\right) \\,dx\n",
    "    \\approx\n",
    "    {\\frac {h}{3}}{\\bigg [}f(x_{0})+4f(x_{1})+2f(x_{2})+4f(x_{3})+...+4f(x_{n-2})+2f(x_{n-1})+f(x_{n}){\\bigg ]}\n",
    "    .\n",
    "\\end{equation}\n",
    "\n",
    "A função a seguir implementa o método da regra de Simpson simples, recebendo como parâmetros a função $f$ cuja integral queremos aproximar e o intervalo de integração $[a,b]$."
   ]
  },
  {
   "cell_type": "code",
   "execution_count": 325,
   "metadata": {},
   "outputs": [
    {
     "data": {
      "text/plain": [
       "integral_simpson (generic function with 1 method)"
      ]
     },
     "execution_count": 325,
     "metadata": {},
     "output_type": "execute_result"
    }
   ],
   "source": [
    "function integral_simpson(funcao, inicio_intervalo,fim_intervalo,n_intervalo)\n",
    "        h = (fim_intervalo - inicio_intervalo)/(2*n_intervalo)\n",
    "        xᵢ = inicio_intervalo\n",
    "        soma =0.0\n",
    "        for k = 1:n_intervalo\n",
    "            yᵢ = funcao(xᵢ)\n",
    "            xₚ = xᵢ + 2*h\n",
    "            xₘ = (xᵢ +xₚ)/2\n",
    "            yₚ = funcao(xₚ)\n",
    "            yₘ = funcao(xₘ)\n",
    "            soma += (h/3)*(yᵢ + 4*yₘ + yₚ)\n",
    "            xᵢ = xₚ\n",
    "        end\n",
    "        return soma\n",
    "end"
   ]
  },
  {
   "cell_type": "code",
   "execution_count": 326,
   "metadata": {},
   "outputs": [
    {
     "data": {
      "text/plain": [
       "2.5648942582957195e-16"
      ]
     },
     "execution_count": 326,
     "metadata": {},
     "output_type": "execute_result"
    }
   ],
   "source": [
    "f(x) = sin(x)\n",
    "integral_simpson(f,0,2*π,1)"
   ]
  },
  {
   "cell_type": "code",
   "execution_count": 327,
   "metadata": {},
   "outputs": [
    {
     "data": {
      "text/plain": [
       "156.25"
      ]
     },
     "execution_count": 327,
     "metadata": {},
     "output_type": "execute_result"
    }
   ],
   "source": [
    "f(x) = x^3\n",
    "integral_simpson(f,0,5,10)"
   ]
  },
  {
   "cell_type": "code",
   "execution_count": 328,
   "metadata": {},
   "outputs": [
    {
     "data": {
      "text/plain": [
       "1.718281828465013"
      ]
     },
     "execution_count": 328,
     "metadata": {},
     "output_type": "execute_result"
    }
   ],
   "source": [
    "f(x) = exp(x)\n",
    "integral_simpson(f,0,1,100)"
   ]
  },
  {
   "cell_type": "markdown",
   "metadata": {},
   "source": [
    "## Método dos Mínimos Quadrados\n",
    "O método dos mínimos quadrados consiste em, dada uma lista de pontos $[(x_0,y_0), \\ldots, (x_n,y_n)]$, achar o polinômio para o qual o somatório das distâncias verticais entre os pontos e a curva é minimizada. Ou seja, em termos matemáticos:\n",
    "\n",
    "\\begin{equation}\n",
    "    \\min \\sum_{i=0}^{n} \\left(y_i-P(x_i)\\right)^2,\n",
    "    \\qquad\n",
    "    P(x_i) = ax_i + b\n",
    "    .\n",
    "\\end{equation}\n",
    "\n",
    "Esta função, no entanto, resolve um sistema linear correspondente: recebe como parâmetros uma matriz de coeficientes $A$ e de constantes $b$ referentes às linhas do sistema linear, e retorna uma matriz-coluna dos coeficientes do polinômio minimizado."
   ]
  },
  {
   "cell_type": "code",
   "execution_count": 329,
   "metadata": {},
   "outputs": [
    {
     "data": {
      "text/plain": [
       "minimos_quadrados (generic function with 1 method)"
      ]
     },
     "execution_count": 329,
     "metadata": {},
     "output_type": "execute_result"
    }
   ],
   "source": [
    "function minimos_quadrados(A,b)\n",
    "    At = transpose(A)\n",
    "    x = resolve_cheia(At*A, At*b)\n",
    "    return x\n",
    "end"
   ]
  },
  {
   "cell_type": "markdown",
   "metadata": {},
   "source": [
    "Os exemplos deste método serão os de regressão linear, pois o método da regressão é fortemente dependente deste."
   ]
  },
  {
   "cell_type": "markdown",
   "metadata": {},
   "source": [
    "## Regressão Polinomial\n",
    "O método da regressão polinomial consiste em, dada uma lista de pontos $[(x_0,y_0), \\ldots, (x_n,y_n)]$, achar o polinômio para o qual o somatório das distâncias verticais entre os pontos e a curva é minimizada, através do método dos mínimos quadrados. O método da regressão linear é um caso da regressão polinomial onde o grau é $1$.\n",
    "\n",
    "A função de regressão polinomial recebe como parâmetro duas listas de coordenadas $x_i$ e $y_i$ respectivamente, no formato\n",
    "\n",
    "\\begin{equation}\n",
    "    [x_0, \\ldots, x_n], \\quad [y_0, \\ldots, y_n]\n",
    "\\end{equation}\n",
    "\n",
    "e o grau da função, e retorna uma matriz-coluna dos coeficientes do polinômio minimizado. Caso o grau não seja determinado, a função calculará os oceficientes da regressão linear."
   ]
  },
  {
   "cell_type": "code",
   "execution_count": 330,
   "metadata": {},
   "outputs": [
    {
     "data": {
      "text/plain": [
       "regressão_polinomial (generic function with 2 methods)"
      ]
     },
     "execution_count": 330,
     "metadata": {},
     "output_type": "execute_result"
    }
   ],
   "source": [
    "function regressão_polinomial(pontos_x, pontos_y, grau = 1)\n",
    "    V = vandermonde_matrix(pontos_x, grau)\n",
    "    coeficientes = minimos_quadrados(V,pontos_y)\n",
    "    return coeficientes\n",
    "end"
   ]
  },
  {
   "cell_type": "code",
   "execution_count": 331,
   "metadata": {},
   "outputs": [
    {
     "data": {
      "text/plain": [
       "4×1 Array{Float64,2}:\n",
       " 0.0\n",
       " 2.0\n",
       " 0.0\n",
       " 1.0"
      ]
     },
     "execution_count": 331,
     "metadata": {},
     "output_type": "execute_result"
    }
   ],
   "source": [
    "# x^3 + 2x\n",
    "\n",
    "pontos_x = [2, 10, -7, -17]\n",
    "pontos_y = [12, 1020, -357, -4947]\n",
    "regressão_polinomial(pontos_x, pontos_y, 3)"
   ]
  },
  {
   "cell_type": "code",
   "execution_count": 332,
   "metadata": {},
   "outputs": [
    {
     "data": {
      "text/plain": [
       "2×1 Array{Float64,2}:\n",
       " -447.2660098522167\n",
       "  206.9113300492611"
      ]
     },
     "execution_count": 332,
     "metadata": {},
     "output_type": "execute_result"
    }
   ],
   "source": [
    "# Aproximação linear de x^3 + 2x\n",
    "\n",
    "pontos_x = [2, 10, -7, -17]\n",
    "pontos_y = [12, 1020, -357, -4947]\n",
    "regressão_polinomial(pontos_x, pontos_y)"
   ]
  },
  {
   "cell_type": "code",
   "execution_count": 333,
   "metadata": {},
   "outputs": [
    {
     "data": {
      "text/plain": [
       "6×1 Array{Float64,2}:\n",
       "  5.773159728050814e-15\n",
       "  0.5691735420612634\n",
       "  0.014069420459307702\n",
       "  0.01157030938029166\n",
       "  0.011778790172333489\n",
       " -0.0047395348160223566"
      ]
     },
     "execution_count": 333,
     "metadata": {},
     "output_type": "execute_result"
    }
   ],
   "source": [
    "# Aproximação de grau 5 para sin(x)\n",
    "\n",
    "pontos_x = [π/2, 0, 3*π/2, -3*π/4]\n",
    "pontos_y = [1, 0, -1, -1/sqrt(2)]\n",
    "regressão_polinomial(pontos_x, pontos_y, 5)"
   ]
  },
  {
   "cell_type": "markdown",
   "metadata": {},
   "source": [
    "## Regressão em Escala Exponencial\n",
    "O cálculo da regressão para uma função exponencial consiste em, dados pontos $(x_i,y_i)$, transformar estes pontos de forma que eles se adequem uma escala linear (através do uso da função $\\mathrm{log(n)}$), calcular sua regressão linear, e retorná-los à escala exponencial (através do uso da função $e^n$).\n",
    "\n",
    "A função recebe como parâmetro duas listas de coordenadas $x_i$ e $y_i$ respectivamente, no formato\n",
    "\n",
    "\\begin{equation}\n",
    "    [x_0, \\ldots, x_n], \\quad [y_0, \\ldots, y_n],\n",
    "\\end{equation}\n",
    "\n",
    "e retorna a matriz de coeficientes do polinômio resultante."
   ]
  },
  {
   "cell_type": "code",
   "execution_count": 337,
   "metadata": {},
   "outputs": [
    {
     "data": {
      "text/plain": [
       "regressão_exponencial (generic function with 1 method)"
      ]
     },
     "execution_count": 337,
     "metadata": {},
     "output_type": "execute_result"
    }
   ],
   "source": [
    "function regressão_exponencial(pontos_x, pontos_y)\n",
    "    pontos_y_barra = []\n",
    "    pontos_x_barra = []\n",
    "    \n",
    "    for i=1:length(pontos_y)\n",
    "        push!(pontos_y_barra, log(pontos_y[i]))\n",
    "    end\n",
    "    for i=1:length(pontos_x)\n",
    "        push!(pontos_x_barra, pontos_x[i])\n",
    "    end\n",
    "    \n",
    "    # resolver regresssão com coeficientes lineares no \"mundo barra\"\n",
    "    coeficientes_barra = regressão_polinomial(pontos_x_barra, pontos_y_barra)\n",
    "    \n",
    "    # voltar para o mundo original\n",
    "    coeficientes = [0.0, 0.0]\n",
    "    coeficientes[1] = exp(coeficientes_barra[1])\n",
    "    coeficientes[2] = coeficientes_barra[2]\n",
    "    \n",
    "    return coeficientes\n",
    "end"
   ]
  },
  {
   "cell_type": "code",
   "execution_count": 339,
   "metadata": {},
   "outputs": [
    {
     "data": {
      "text/plain": [
       "2-element Array{Float64,1}:\n",
       " 0.9999000451904756\n",
       " 1.0000259479829106"
      ]
     },
     "execution_count": 339,
     "metadata": {},
     "output_type": "execute_result"
    }
   ],
   "source": [
    "# 5e^x\n",
    "\n",
    "pontos_x = [0, -1, 3, 5]\n",
    "pontos_y = [1, 0.3678, 20.0855, 148.4131]\n",
    "regressão_exponencial(pontos_x, pontos_y)"
   ]
  },
  {
   "cell_type": "code",
   "execution_count": 340,
   "metadata": {},
   "outputs": [
    {
     "data": {
      "text/plain": [
       "2-element Array{Float64,1}:\n",
       "  4.4356314950413235e15\n",
       " -2.857768052516411"
      ]
     },
     "execution_count": 340,
     "metadata": {},
     "output_type": "execute_result"
    }
   ],
   "source": [
    "# e^x^2\n",
    "\n",
    "pontos_x = [0, -3, 5, -10, 7]\n",
    "pontos_y = [1, ℯ^9, ℯ^25, ℯ^100, ℯ^49]\n",
    "regressão_exponencial(pontos_x, pontos_y)"
   ]
  },
  {
   "cell_type": "code",
   "execution_count": 341,
   "metadata": {},
   "outputs": [
    {
     "data": {
      "text/plain": [
       "2-element Array{Float64,1}:\n",
       "  0.0014900102683525968\n",
       " -1.7879282218597063"
      ]
     },
     "execution_count": 341,
     "metadata": {},
     "output_type": "execute_result"
    }
   ],
   "source": [
    "# 1/e^x\n",
    "\n",
    "pontos_x = [0, 5, 10, -10, 7]\n",
    "pontos_y = [1, 1/ℯ^5, 1/ℯ^10, ℯ^10, 1/ℯ^49]\n",
    "regressão_exponencial(pontos_x, pontos_y)"
   ]
  },
  {
   "cell_type": "markdown",
   "metadata": {},
   "source": [
    "---\n",
    "# Funções de Compressão de Dados"
   ]
  },
  {
   "cell_type": "markdown",
   "metadata": {},
   "source": [
    "## Compressão de dados matriciais\n",
    "\n",
    "Tenhamos uma matriz $A$ de dimensões $m,n$ cujos dados queremos guardar de forma menos custosa e com certa margem de erro $\\epsilon_{max}$. Este método de compressão de dados funciona, dado um nível de compressão $k$, encontrando duas matrizes $B$ e $C$ — de dimensões $m,k$ e $n,k$, respectivamente, tais que $ k \\leq \\min(m,n)$ — cuja multiplicação $B.C^T$ aproxima os valores da matriz $A$ dentro desta margem de erro. Ou seja, se tivermos uma matriz $A$ cujas dimensões sejam $3,4$, e um nível de compressão 2:\n",
    "\n",
    "\\begin{equation}\n",
    "    \\begin{bmatrix}\n",
    "        a_{1,\\,1} & a_{1,\\,2} & a_{1,\\,3} & a_{1,\\,4} \\\\\n",
    "        a_{2,\\,1} & a_{2,\\,2} & a_{2,\\,3} & a_{2,\\,4} \\\\\n",
    "        a_{3,\\,1} & a_{3,\\,2} & a_{3,\\,3} & a_{3,\\,4} \\\\\n",
    "    \\end{bmatrix}\n",
    "    \\approx\n",
    "    \\begin{bmatrix}\n",
    "        b_{1,\\,1} & b_{1,\\,2} \\\\\n",
    "        b_{2,\\,1} & b_{2,\\,2} \\\\\n",
    "        b_{3,\\,1} & b_{3,\\,2} \\\\\n",
    "    \\end{bmatrix}\n",
    "    \\cdot\n",
    "    \\begin{bmatrix}\n",
    "        c_{1,\\,1} & c_{2,\\,1} & c_{3,\\,1} & c_{4,\\,1} \\\\\n",
    "        c_{1,\\,2} & c_{2,\\,2} & c_{3,\\,2} & c_{4,\\,2} \\\\\n",
    "    \\end{bmatrix}\n",
    "    .\n",
    "\\end{equation}\n",
    "\n",
    "Antes de prosseguirmos, vale mencionar que o que estamos fazendo é essencialmente minimizando o erro $\\epsilon$, que é dado por\n",
    "\n",
    "\\begin{equation}\n",
    "    \\epsilon = ||A - B.C^T||;\n",
    "\\end{equation}\n",
    "\n",
    "Adicionalmente, também vale ressaltar que este método realiza alguns cálculos coluna a coluna, pois, considerando que $A$ pode ser decomposta em várias matrizes-coluna $a_1,\\ldots,a_n$, e o mesmo vale para $B$ e $C$, podemos tratar o problema de minimizar $\\epsilon = ||A - B.C^T||$ como um problema da forma\n",
    "\n",
    "\\begin{equation}\n",
    "    \\epsilon\n",
    "    =\n",
    "    \\left|\\left|\n",
    "    \\begin{bmatrix}\n",
    "        \\left(a_1 - c_1.B\\right) . \\left(a_2 - c_2.B\\right) \\ldots \\left(a_n - c_n.B\\right)\n",
    "    \\end{bmatrix}\n",
    "    \\right|\\right|\n",
    "    .\n",
    "\\end{equation}\n",
    "\n",
    "Prosseguindo, esta aproximação funciona de forma semelhante ao método dos mínimos quadrados lineares. Primeiramente, chutamos uma matriz $B$ aleatória e vamos calcular o melhor $C$ correspondente, procurando os menores $c_{i,\\,j}$ tais que a projeção dos pontos $a_{i,\\,j}$ em $b$ seja minimizado, e portanto, $\\epsilon$ também. Fazemos isto nos aproveitando do seguinte fato sobre as colunas:\n",
    "\n",
    "\\begin{equation}\n",
    "    c_i = \\frac {\\left(a_i\\right)^T.B}{B^T.B}\n",
    "    \\quad\n",
    "    \\longrightarrow\n",
    "    \\quad\n",
    "    C = \\frac {A^T.B}{B^T.B}\n",
    "\\end{equation}\n",
    "\n",
    "Porém, como não queremos apenas um $B$ qualquer e o melhor $C$ correspondente, mas sim os melhores $B$ e $C$ possíveis, podemos lançar mão de mais um fato algébrico sobre o problema que queremos minimizar. Se, para qualquer matriz $M$, sua norma tem a propriedade\n",
    "\n",
    "\\begin{equation}\n",
    "    ||M|| = ||M^T||\\, ,\n",
    "\\end{equation}\n",
    "\n",
    "então segue disso que\n",
    "\n",
    "\\begin{equation}\n",
    "    ||A - B.C^T|| = ||(A - B.C^T)^T||\n",
    "\\end{equation}\n",
    "\n",
    "\\begin{equation}\n",
    "    ||A - B.C^T|| = ||A^T - C.B^T||\\,.\n",
    "\\end{equation}\n",
    "\n",
    "Isto significa que podemos aplicar a mesma lógica que usamos para calcular $C$ em $B$, porém lançando mão de um truque final. Ao invés de calcularmos $B$ e $C$ separadamente, vamos utilizar as suas aproximações como um feedback loop, usando a saída de um para a entrada do outro:\n",
    "\n",
    "\\begin{equation}\n",
    "    C_i = \\frac { A^T.B_{i-1} }{ \\left( B_{i-1} \\right) ^T . B_{i-1} }\n",
    "\\end{equation}\n",
    "\n",
    "\\begin{equation}\n",
    "    B_i = \\frac { \\left(A^T\\right)^T.C_i }{ \\left( C_i \\right) ^T . C_i } = \\frac { A.C_i }{ \\left( C_i \\right) ^T . C_i }\n",
    "\\end{equation}\n",
    "\n",
    "\\begin{equation}\n",
    "    C_{i+1} = \\frac { A^T.B_i }{ \\left(B_i\\right)^T.B_i }\n",
    "\\end{equation}\n",
    "\n",
    "\\begin{equation}\n",
    "    B_{i+1} = \\frac { A.C_{i+1} }{ \\left(C_{i+1}\\right)^T.C_{i+1} }\n",
    "\\end{equation}\n",
    "\n",
    "\\begin{equation}\n",
    "    \\vdots\n",
    "\\end{equation}\n",
    "\n",
    "Assim, garantimos que os $B$ e $C$ finais não são independentemente as melhores matrizes para quaisquer chutes, mas sim a melhor combinação de matrizes possível para aproximar $A$.\n",
    "\n",
    "A função da compressão matricial recebe como parâmetros a matriz $A$ que se quer comprimir, o nível de compressão $k$, e opcionalmente uma margem de erro $\\epsilon$, e retorna duas matrizes $B$ e $C$ tais que $||A-B.C^T||<\\epsilon$, e a função  que calcula o erro da compressão matricial recebe os mesmos parâmetros e retorna o erro da compressão."
   ]
  },
  {
   "cell_type": "code",
   "execution_count": 342,
   "metadata": {},
   "outputs": [
    {
     "data": {
      "text/plain": [
       "erro (generic function with 1 method)"
      ]
     },
     "execution_count": 342,
     "metadata": {},
     "output_type": "execute_result"
    }
   ],
   "source": [
    "function otimiza_coords(A, B)\n",
    "    m,n = size(A)\n",
    "    A = 1.0*A\n",
    "    C = zeros(n, 1)\n",
    "    \n",
    "    C = A' * ( B / (B' * B) )\n",
    "    \n",
    "    return C\n",
    "end\n",
    "\n",
    "function otimiza_BC(A)\n",
    "    n,m = size(A)\n",
    "\n",
    "    B = randn(n, 1)\n",
    "    C = randn(m, 1)\n",
    "    \n",
    "    for i = 1 : 20\n",
    "        C = otimiza_coords(A, B)\n",
    "        B = otimiza_coords(A', C)\n",
    "    end\n",
    "    \n",
    "    return B, C\n",
    "end\n",
    "\n",
    "function compressão(A, k, ϵ = 0)\n",
    "    m,n = size(A)\n",
    "    A = 1.0 * A\n",
    "    B = zeros(m, k)\n",
    "    C = zeros(n, k)\n",
    "    \n",
    "    if ϵ == 0\n",
    "        for i = 1 : k\n",
    "            B[:,i], C[:,i] = otimiza_BC(A)\n",
    "            A = A - B[:,i]*C[:,i]'\n",
    "        end\n",
    "    else\n",
    "        while norm(A - B*C') >= ϵ\n",
    "            B[:,i], C[:,i] = otimiza_BC(A)\n",
    "            A = A - B[:,i]*C[:,i]'\n",
    "        end\n",
    "    end\n",
    "    \n",
    "    return B,C\n",
    "end\n",
    "\n",
    "function erro(A, k)\n",
    "    B, C = compressão(A, k)\n",
    "    return norm(A - B*C')\n",
    "end"
   ]
  },
  {
   "cell_type": "markdown",
   "metadata": {},
   "source": [
    "---\n",
    "# Questões"
   ]
  },
  {
   "cell_type": "markdown",
   "metadata": {},
   "source": [
    "## 2) Resolva o sistema abaixo pelo método de Gauss-Jacobi e Gauss-Seidel com $n$ passos, tal que a tolerância, dada por $||x^{(n)} - x^{(n-1)}||$, seja menor que $10^{-3}$. E faça um gráfico mostrando os passos das iterações.\n",
    "\n",
    "\\begin{equation}\n",
    "    \\begin{cases}\n",
    "        2x_1 + x_2 = 2 \\\\\n",
    "        -x_1 + 2x_2 = 2 \\\\\n",
    "    \\end{cases}\n",
    "\\end{equation}"
   ]
  },
  {
   "cell_type": "code",
   "execution_count": 343,
   "metadata": {},
   "outputs": [
    {
     "data": {
      "image/svg+xml": [
       "<?xml version=\"1.0\" encoding=\"utf-8\"?>\n",
       "<svg xmlns=\"http://www.w3.org/2000/svg\" xmlns:xlink=\"http://www.w3.org/1999/xlink\" width=\"600\" height=\"400\" viewBox=\"0 0 2400 1600\">\n",
       "<defs>\n",
       "  <clipPath id=\"clip640\">\n",
       "    <rect x=\"0\" y=\"0\" width=\"2400\" height=\"1600\"/>\n",
       "  </clipPath>\n",
       "</defs>\n",
       "<path clip-path=\"url(#clip640)\" d=\"\n",
       "M0 1600 L2400 1600 L2400 0 L0 0  Z\n",
       "  \" fill=\"#ffffff\" fill-rule=\"evenodd\" fill-opacity=\"1\"/>\n",
       "<defs>\n",
       "  <clipPath id=\"clip641\">\n",
       "    <rect x=\"480\" y=\"0\" width=\"1681\" height=\"1600\"/>\n",
       "  </clipPath>\n",
       "</defs>\n",
       "<path clip-path=\"url(#clip640)\" d=\"\n",
       "M180.118 686.448 L2352.76 686.448 L2352.76 123.472 L180.118 123.472  Z\n",
       "  \" fill=\"#ffffff\" fill-rule=\"evenodd\" fill-opacity=\"1\"/>\n",
       "<defs>\n",
       "  <clipPath id=\"clip642\">\n",
       "    <rect x=\"180\" y=\"123\" width=\"2174\" height=\"564\"/>\n",
       "  </clipPath>\n",
       "</defs>\n",
       "<polyline clip-path=\"url(#clip642)\" style=\"stroke:#000000; stroke-width:2; stroke-opacity:0.1; fill:none\" points=\"\n",
       "  241.608,686.448 241.608,123.472 \n",
       "  \"/>\n",
       "<polyline clip-path=\"url(#clip642)\" style=\"stroke:#000000; stroke-width:2; stroke-opacity:0.1; fill:none\" points=\"\n",
       "  583.218,686.448 583.218,123.472 \n",
       "  \"/>\n",
       "<polyline clip-path=\"url(#clip642)\" style=\"stroke:#000000; stroke-width:2; stroke-opacity:0.1; fill:none\" points=\"\n",
       "  924.827,686.448 924.827,123.472 \n",
       "  \"/>\n",
       "<polyline clip-path=\"url(#clip642)\" style=\"stroke:#000000; stroke-width:2; stroke-opacity:0.1; fill:none\" points=\"\n",
       "  1266.44,686.448 1266.44,123.472 \n",
       "  \"/>\n",
       "<polyline clip-path=\"url(#clip642)\" style=\"stroke:#000000; stroke-width:2; stroke-opacity:0.1; fill:none\" points=\"\n",
       "  1608.05,686.448 1608.05,123.472 \n",
       "  \"/>\n",
       "<polyline clip-path=\"url(#clip642)\" style=\"stroke:#000000; stroke-width:2; stroke-opacity:0.1; fill:none\" points=\"\n",
       "  1949.66,686.448 1949.66,123.472 \n",
       "  \"/>\n",
       "<polyline clip-path=\"url(#clip642)\" style=\"stroke:#000000; stroke-width:2; stroke-opacity:0.1; fill:none\" points=\"\n",
       "  2291.27,686.448 2291.27,123.472 \n",
       "  \"/>\n",
       "<polyline clip-path=\"url(#clip640)\" style=\"stroke:#000000; stroke-width:4; stroke-opacity:1; fill:none\" points=\"\n",
       "  180.118,686.448 2352.76,686.448 \n",
       "  \"/>\n",
       "<polyline clip-path=\"url(#clip640)\" style=\"stroke:#000000; stroke-width:4; stroke-opacity:1; fill:none\" points=\"\n",
       "  241.608,686.448 241.608,679.692 \n",
       "  \"/>\n",
       "<polyline clip-path=\"url(#clip640)\" style=\"stroke:#000000; stroke-width:4; stroke-opacity:1; fill:none\" points=\"\n",
       "  583.218,686.448 583.218,679.692 \n",
       "  \"/>\n",
       "<polyline clip-path=\"url(#clip640)\" style=\"stroke:#000000; stroke-width:4; stroke-opacity:1; fill:none\" points=\"\n",
       "  924.827,686.448 924.827,679.692 \n",
       "  \"/>\n",
       "<polyline clip-path=\"url(#clip640)\" style=\"stroke:#000000; stroke-width:4; stroke-opacity:1; fill:none\" points=\"\n",
       "  1266.44,686.448 1266.44,679.692 \n",
       "  \"/>\n",
       "<polyline clip-path=\"url(#clip640)\" style=\"stroke:#000000; stroke-width:4; stroke-opacity:1; fill:none\" points=\"\n",
       "  1608.05,686.448 1608.05,679.692 \n",
       "  \"/>\n",
       "<polyline clip-path=\"url(#clip640)\" style=\"stroke:#000000; stroke-width:4; stroke-opacity:1; fill:none\" points=\"\n",
       "  1949.66,686.448 1949.66,679.692 \n",
       "  \"/>\n",
       "<polyline clip-path=\"url(#clip640)\" style=\"stroke:#000000; stroke-width:4; stroke-opacity:1; fill:none\" points=\"\n",
       "  2291.27,686.448 2291.27,679.692 \n",
       "  \"/>\n",
       "<path clip-path=\"url(#clip640)\" d=\"M 0 0 M231.99 743.185 L239.629 743.185 L239.629 716.819 L231.319 718.486 L231.319 714.227 L239.582 712.56 L244.258 712.56 L244.258 743.185 L251.897 743.185 L251.897 747.12 L231.99 747.12 L231.99 743.185 Z\" fill=\"#000000\" fill-rule=\"evenodd\" fill-opacity=\"1\" /><path clip-path=\"url(#clip640)\" d=\"M 0 0 M577.87 743.185 L594.19 743.185 L594.19 747.12 L572.245 747.12 L572.245 743.185 Q574.907 740.43 579.491 735.8 Q584.097 731.148 585.278 729.805 Q587.523 727.282 588.403 725.546 Q589.305 723.787 589.305 722.097 Q589.305 719.342 587.361 717.606 Q585.44 715.87 582.338 715.87 Q580.139 715.87 577.685 716.634 Q575.255 717.398 572.477 718.949 L572.477 714.227 Q575.301 713.092 577.755 712.514 Q580.208 711.935 582.245 711.935 Q587.616 711.935 590.81 714.62 Q594.005 717.305 594.005 721.796 Q594.005 723.926 593.194 725.847 Q592.407 727.745 590.301 730.338 Q589.722 731.009 586.62 734.226 Q583.518 737.421 577.87 743.185 Z\" fill=\"#000000\" fill-rule=\"evenodd\" fill-opacity=\"1\" /><path clip-path=\"url(#clip640)\" d=\"M 0 0 M929.075 728.486 Q932.431 729.203 934.306 731.472 Q936.205 733.74 936.205 737.074 Q936.205 742.189 932.686 744.99 Q929.168 747.791 922.686 747.791 Q920.51 747.791 918.195 747.351 Q915.904 746.935 913.45 746.078 L913.45 741.564 Q915.394 742.699 917.709 743.277 Q920.024 743.856 922.547 743.856 Q926.945 743.856 929.237 742.12 Q931.552 740.384 931.552 737.074 Q931.552 734.018 929.399 732.305 Q927.269 730.569 923.45 730.569 L919.422 730.569 L919.422 726.726 L923.635 726.726 Q927.084 726.726 928.913 725.361 Q930.742 723.972 930.742 721.379 Q930.742 718.717 928.843 717.305 Q926.968 715.87 923.45 715.87 Q921.529 715.87 919.33 716.287 Q917.131 716.703 914.492 717.583 L914.492 713.416 Q917.154 712.676 919.469 712.305 Q921.806 711.935 923.867 711.935 Q929.191 711.935 932.293 714.365 Q935.394 716.773 935.394 720.893 Q935.394 723.764 933.751 725.754 Q932.107 727.722 929.075 728.486 Z\" fill=\"#000000\" fill-rule=\"evenodd\" fill-opacity=\"1\" /><path clip-path=\"url(#clip640)\" d=\"M 0 0 M1269.45 716.634 L1257.64 735.083 L1269.45 735.083 L1269.45 716.634 M1268.22 712.56 L1274.1 712.56 L1274.1 735.083 L1279.03 735.083 L1279.03 738.972 L1274.1 738.972 L1274.1 747.12 L1269.45 747.12 L1269.45 738.972 L1253.84 738.972 L1253.84 734.458 L1268.22 712.56 Z\" fill=\"#000000\" fill-rule=\"evenodd\" fill-opacity=\"1\" /><path clip-path=\"url(#clip640)\" d=\"M 0 0 M1598.32 712.56 L1616.68 712.56 L1616.68 716.495 L1602.61 716.495 L1602.61 724.967 Q1603.63 724.62 1604.64 724.458 Q1605.66 724.273 1606.68 724.273 Q1612.47 724.273 1615.85 727.444 Q1619.23 730.615 1619.23 736.032 Q1619.23 741.611 1615.76 744.712 Q1612.28 747.791 1605.96 747.791 Q1603.79 747.791 1601.52 747.421 Q1599.27 747.05 1596.87 746.31 L1596.87 741.611 Q1598.95 742.745 1601.17 743.3 Q1603.39 743.856 1605.87 743.856 Q1609.88 743.856 1612.21 741.75 Q1614.55 739.643 1614.55 736.032 Q1614.55 732.421 1612.21 730.314 Q1609.88 728.208 1605.87 728.208 Q1604 728.208 1602.12 728.625 Q1600.27 729.041 1598.32 729.921 L1598.32 712.56 Z\" fill=\"#000000\" fill-rule=\"evenodd\" fill-opacity=\"1\" /><path clip-path=\"url(#clip640)\" d=\"M 0 0 M1950.06 727.976 Q1946.91 727.976 1945.06 730.129 Q1943.23 732.282 1943.23 736.032 Q1943.23 739.759 1945.06 741.935 Q1946.91 744.087 1950.06 744.087 Q1953.21 744.087 1955.04 741.935 Q1956.89 739.759 1956.89 736.032 Q1956.89 732.282 1955.04 730.129 Q1953.21 727.976 1950.06 727.976 M1959.34 713.324 L1959.34 717.583 Q1957.58 716.75 1955.78 716.31 Q1954 715.87 1952.24 715.87 Q1947.61 715.87 1945.15 718.995 Q1942.72 722.12 1942.38 728.439 Q1943.74 726.426 1945.8 725.361 Q1947.86 724.273 1950.34 724.273 Q1955.55 724.273 1958.56 727.444 Q1961.59 730.592 1961.59 736.032 Q1961.59 741.356 1958.44 744.574 Q1955.29 747.791 1950.06 747.791 Q1944.07 747.791 1940.89 743.208 Q1937.72 738.601 1937.72 729.875 Q1937.72 721.68 1941.61 716.819 Q1945.5 711.935 1952.05 711.935 Q1953.81 711.935 1955.59 712.282 Q1957.4 712.629 1959.34 713.324 Z\" fill=\"#000000\" fill-rule=\"evenodd\" fill-opacity=\"1\" /><path clip-path=\"url(#clip640)\" d=\"M 0 0 M2280.16 712.56 L2302.38 712.56 L2302.38 714.551 L2289.83 747.12 L2284.95 747.12 L2296.75 716.495 L2280.16 716.495 L2280.16 712.56 Z\" fill=\"#000000\" fill-rule=\"evenodd\" fill-opacity=\"1\" /><polyline clip-path=\"url(#clip642)\" style=\"stroke:#000000; stroke-width:2; stroke-opacity:0.1; fill:none\" points=\"\n",
       "  180.118,670.644 2352.76,670.644 \n",
       "  \"/>\n",
       "<polyline clip-path=\"url(#clip642)\" style=\"stroke:#000000; stroke-width:2; stroke-opacity:0.1; fill:none\" points=\"\n",
       "  180.118,551.856 2352.76,551.856 \n",
       "  \"/>\n",
       "<polyline clip-path=\"url(#clip642)\" style=\"stroke:#000000; stroke-width:2; stroke-opacity:0.1; fill:none\" points=\"\n",
       "  180.118,433.067 2352.76,433.067 \n",
       "  \"/>\n",
       "<polyline clip-path=\"url(#clip642)\" style=\"stroke:#000000; stroke-width:2; stroke-opacity:0.1; fill:none\" points=\"\n",
       "  180.118,314.278 2352.76,314.278 \n",
       "  \"/>\n",
       "<polyline clip-path=\"url(#clip642)\" style=\"stroke:#000000; stroke-width:2; stroke-opacity:0.1; fill:none\" points=\"\n",
       "  180.118,195.49 2352.76,195.49 \n",
       "  \"/>\n",
       "<polyline clip-path=\"url(#clip640)\" style=\"stroke:#000000; stroke-width:4; stroke-opacity:1; fill:none\" points=\"\n",
       "  180.118,686.448 180.118,123.472 \n",
       "  \"/>\n",
       "<polyline clip-path=\"url(#clip640)\" style=\"stroke:#000000; stroke-width:4; stroke-opacity:1; fill:none\" points=\"\n",
       "  180.118,670.644 206.19,670.644 \n",
       "  \"/>\n",
       "<polyline clip-path=\"url(#clip640)\" style=\"stroke:#000000; stroke-width:4; stroke-opacity:1; fill:none\" points=\"\n",
       "  180.118,551.856 206.19,551.856 \n",
       "  \"/>\n",
       "<polyline clip-path=\"url(#clip640)\" style=\"stroke:#000000; stroke-width:4; stroke-opacity:1; fill:none\" points=\"\n",
       "  180.118,433.067 206.19,433.067 \n",
       "  \"/>\n",
       "<polyline clip-path=\"url(#clip640)\" style=\"stroke:#000000; stroke-width:4; stroke-opacity:1; fill:none\" points=\"\n",
       "  180.118,314.278 206.19,314.278 \n",
       "  \"/>\n",
       "<polyline clip-path=\"url(#clip640)\" style=\"stroke:#000000; stroke-width:4; stroke-opacity:1; fill:none\" points=\"\n",
       "  180.118,195.49 206.19,195.49 \n",
       "  \"/>\n",
       "<path clip-path=\"url(#clip640)\" d=\"M 0 0 M68.1926 656.443 Q64.5815 656.443 62.7528 660.008 Q60.9472 663.549 60.9472 670.679 Q60.9472 677.785 62.7528 681.35 Q64.5815 684.892 68.1926 684.892 Q71.8268 684.892 73.6323 681.35 Q75.461 677.785 75.461 670.679 Q75.461 663.549 73.6323 660.008 Q71.8268 656.443 68.1926 656.443 M68.1926 652.739 Q74.0027 652.739 77.0582 657.346 Q80.1369 661.929 80.1369 670.679 Q80.1369 679.406 77.0582 684.012 Q74.0027 688.596 68.1926 688.596 Q62.3824 688.596 59.3037 684.012 Q56.2482 679.406 56.2482 670.679 Q56.2482 661.929 59.3037 657.346 Q62.3824 652.739 68.1926 652.739 Z\" fill=\"#000000\" fill-rule=\"evenodd\" fill-opacity=\"1\" /><path clip-path=\"url(#clip640)\" d=\"M 0 0 M85.2064 682.045 L90.0906 682.045 L90.0906 687.924 L85.2064 687.924 L85.2064 682.045 Z\" fill=\"#000000\" fill-rule=\"evenodd\" fill-opacity=\"1\" /><path clip-path=\"url(#clip640)\" d=\"M 0 0 M105.16 656.443 Q101.549 656.443 99.7202 660.008 Q97.9146 663.549 97.9146 670.679 Q97.9146 677.785 99.7202 681.35 Q101.549 684.892 105.16 684.892 Q108.794 684.892 110.6 681.35 Q112.428 677.785 112.428 670.679 Q112.428 663.549 110.6 660.008 Q108.794 656.443 105.16 656.443 M105.16 652.739 Q110.97 652.739 114.026 657.346 Q117.104 661.929 117.104 670.679 Q117.104 679.406 114.026 684.012 Q110.97 688.596 105.16 688.596 Q99.3498 688.596 96.2711 684.012 Q93.2156 679.406 93.2156 670.679 Q93.2156 661.929 96.2711 657.346 Q99.3498 652.739 105.16 652.739 Z\" fill=\"#000000\" fill-rule=\"evenodd\" fill-opacity=\"1\" /><path clip-path=\"url(#clip640)\" d=\"M 0 0 M132.174 656.443 Q128.563 656.443 126.734 660.008 Q124.928 663.549 124.928 670.679 Q124.928 677.785 126.734 681.35 Q128.563 684.892 132.174 684.892 Q135.808 684.892 137.613 681.35 Q139.442 677.785 139.442 670.679 Q139.442 663.549 137.613 660.008 Q135.808 656.443 132.174 656.443 M132.174 652.739 Q137.984 652.739 141.039 657.346 Q144.118 661.929 144.118 670.679 Q144.118 679.406 141.039 684.012 Q137.984 688.596 132.174 688.596 Q126.364 688.596 123.285 684.012 Q120.229 679.406 120.229 670.679 Q120.229 661.929 123.285 657.346 Q126.364 652.739 132.174 652.739 Z\" fill=\"#000000\" fill-rule=\"evenodd\" fill-opacity=\"1\" /><path clip-path=\"url(#clip640)\" d=\"M 0 0 M70.7851 537.654 Q67.174 537.654 65.3453 541.219 Q63.5398 544.761 63.5398 551.89 Q63.5398 558.997 65.3453 562.562 Q67.174 566.103 70.7851 566.103 Q74.4194 566.103 76.2249 562.562 Q78.0536 558.997 78.0536 551.89 Q78.0536 544.761 76.2249 541.219 Q74.4194 537.654 70.7851 537.654 M70.7851 533.951 Q76.5953 533.951 79.6508 538.557 Q82.7295 543.14 82.7295 551.89 Q82.7295 560.617 79.6508 565.224 Q76.5953 569.807 70.7851 569.807 Q64.975 569.807 61.8963 565.224 Q58.8408 560.617 58.8408 551.89 Q58.8408 543.14 61.8963 538.557 Q64.975 533.951 70.7851 533.951 Z\" fill=\"#000000\" fill-rule=\"evenodd\" fill-opacity=\"1\" /><path clip-path=\"url(#clip640)\" d=\"M 0 0 M87.7989 563.256 L92.6832 563.256 L92.6832 569.136 L87.7989 569.136 L87.7989 563.256 Z\" fill=\"#000000\" fill-rule=\"evenodd\" fill-opacity=\"1\" /><path clip-path=\"url(#clip640)\" d=\"M 0 0 M101.78 565.201 L118.1 565.201 L118.1 569.136 L96.1554 569.136 L96.1554 565.201 Q98.8174 562.446 103.401 557.816 Q108.007 553.164 109.188 551.821 Q111.433 549.298 112.313 547.562 Q113.215 545.802 113.215 544.113 Q113.215 541.358 111.271 539.622 Q109.35 537.886 106.248 537.886 Q104.049 537.886 101.595 538.65 Q99.1646 539.414 96.3868 540.965 L96.3868 536.242 Q99.2109 535.108 101.665 534.529 Q104.118 533.951 106.155 533.951 Q111.526 533.951 114.72 536.636 Q117.915 539.321 117.915 543.812 Q117.915 545.941 117.104 547.863 Q116.317 549.761 114.211 552.353 Q113.632 553.025 110.53 556.242 Q107.428 559.437 101.78 565.201 Z\" fill=\"#000000\" fill-rule=\"evenodd\" fill-opacity=\"1\" /><path clip-path=\"url(#clip640)\" d=\"M 0 0 M123.215 534.576 L141.572 534.576 L141.572 538.511 L127.498 538.511 L127.498 546.983 Q128.516 546.636 129.535 546.474 Q130.553 546.289 131.572 546.289 Q137.359 546.289 140.738 549.46 Q144.118 552.631 144.118 558.048 Q144.118 563.626 140.646 566.728 Q137.174 569.807 130.854 569.807 Q128.678 569.807 126.41 569.437 Q124.164 569.066 121.757 568.325 L121.757 563.626 Q123.84 564.761 126.063 565.316 Q128.285 565.872 130.762 565.872 Q134.766 565.872 137.104 563.765 Q139.442 561.659 139.442 558.048 Q139.442 554.437 137.104 552.33 Q134.766 550.224 130.762 550.224 Q128.887 550.224 127.012 550.64 Q125.16 551.057 123.215 551.937 L123.215 534.576 Z\" fill=\"#000000\" fill-rule=\"evenodd\" fill-opacity=\"1\" /><path clip-path=\"url(#clip640)\" d=\"M 0 0 M69.1879 418.866 Q65.5768 418.866 63.7481 422.431 Q61.9426 425.972 61.9426 433.102 Q61.9426 440.208 63.7481 443.773 Q65.5768 447.315 69.1879 447.315 Q72.8222 447.315 74.6277 443.773 Q76.4564 440.208 76.4564 433.102 Q76.4564 425.972 74.6277 422.431 Q72.8222 418.866 69.1879 418.866 M69.1879 415.162 Q74.9981 415.162 78.0536 419.768 Q81.1323 424.352 81.1323 433.102 Q81.1323 441.829 78.0536 446.435 Q74.9981 451.018 69.1879 451.018 Q63.3778 451.018 60.2991 446.435 Q57.2435 441.829 57.2435 433.102 Q57.2435 424.352 60.2991 419.768 Q63.3778 415.162 69.1879 415.162 Z\" fill=\"#000000\" fill-rule=\"evenodd\" fill-opacity=\"1\" /><path clip-path=\"url(#clip640)\" d=\"M 0 0 M86.2017 444.467 L91.086 444.467 L91.086 450.347 L86.2017 450.347 L86.2017 444.467 Z\" fill=\"#000000\" fill-rule=\"evenodd\" fill-opacity=\"1\" /><path clip-path=\"url(#clip640)\" d=\"M 0 0 M96.2017 415.787 L114.558 415.787 L114.558 419.722 L100.484 419.722 L100.484 428.194 Q101.503 427.847 102.521 427.685 Q103.54 427.5 104.558 427.5 Q110.345 427.5 113.725 430.671 Q117.104 433.842 117.104 439.259 Q117.104 444.838 113.632 447.94 Q110.16 451.018 103.841 451.018 Q101.665 451.018 99.3961 450.648 Q97.1507 450.278 94.7433 449.537 L94.7433 444.838 Q96.8267 445.972 99.0489 446.528 Q101.271 447.083 103.748 447.083 Q107.753 447.083 110.09 444.977 Q112.428 442.87 112.428 439.259 Q112.428 435.648 110.09 433.542 Q107.753 431.435 103.748 431.435 Q101.873 431.435 99.9979 431.852 Q98.1461 432.268 96.2017 433.148 L96.2017 415.787 Z\" fill=\"#000000\" fill-rule=\"evenodd\" fill-opacity=\"1\" /><path clip-path=\"url(#clip640)\" d=\"M 0 0 M132.174 418.866 Q128.563 418.866 126.734 422.431 Q124.928 425.972 124.928 433.102 Q124.928 440.208 126.734 443.773 Q128.563 447.315 132.174 447.315 Q135.808 447.315 137.613 443.773 Q139.442 440.208 139.442 433.102 Q139.442 425.972 137.613 422.431 Q135.808 418.866 132.174 418.866 M132.174 415.162 Q137.984 415.162 141.039 419.768 Q144.118 424.352 144.118 433.102 Q144.118 441.829 141.039 446.435 Q137.984 451.018 132.174 451.018 Q126.364 451.018 123.285 446.435 Q120.229 441.829 120.229 433.102 Q120.229 424.352 123.285 419.768 Q126.364 415.162 132.174 415.162 Z\" fill=\"#000000\" fill-rule=\"evenodd\" fill-opacity=\"1\" /><path clip-path=\"url(#clip640)\" d=\"M 0 0 M70.0907 300.077 Q66.4796 300.077 64.6509 303.642 Q62.8454 307.184 62.8454 314.313 Q62.8454 321.42 64.6509 324.984 Q66.4796 328.526 70.0907 328.526 Q73.7249 328.526 75.5305 324.984 Q77.3592 321.42 77.3592 314.313 Q77.3592 307.184 75.5305 303.642 Q73.7249 300.077 70.0907 300.077 M70.0907 296.373 Q75.9008 296.373 78.9564 300.98 Q82.0351 305.563 82.0351 314.313 Q82.0351 323.04 78.9564 327.646 Q75.9008 332.23 70.0907 332.23 Q64.2805 332.23 61.2019 327.646 Q58.1463 323.04 58.1463 314.313 Q58.1463 305.563 61.2019 300.98 Q64.2805 296.373 70.0907 296.373 Z\" fill=\"#000000\" fill-rule=\"evenodd\" fill-opacity=\"1\" /><path clip-path=\"url(#clip640)\" d=\"M 0 0 M87.1045 325.679 L91.9887 325.679 L91.9887 331.558 L87.1045 331.558 L87.1045 325.679 Z\" fill=\"#000000\" fill-rule=\"evenodd\" fill-opacity=\"1\" /><path clip-path=\"url(#clip640)\" d=\"M 0 0 M95.8776 296.998 L118.1 296.998 L118.1 298.989 L105.553 331.558 L100.669 331.558 L112.475 300.934 L95.8776 300.934 L95.8776 296.998 Z\" fill=\"#000000\" fill-rule=\"evenodd\" fill-opacity=\"1\" /><path clip-path=\"url(#clip640)\" d=\"M 0 0 M123.215 296.998 L141.572 296.998 L141.572 300.934 L127.498 300.934 L127.498 309.406 Q128.516 309.059 129.535 308.896 Q130.553 308.711 131.572 308.711 Q137.359 308.711 140.738 311.883 Q144.118 315.054 144.118 320.471 Q144.118 326.049 140.646 329.151 Q137.174 332.23 130.854 332.23 Q128.678 332.23 126.41 331.859 Q124.164 331.489 121.757 330.748 L121.757 326.049 Q123.84 327.183 126.063 327.739 Q128.285 328.295 130.762 328.295 Q134.766 328.295 137.104 326.188 Q139.442 324.082 139.442 320.471 Q139.442 316.859 137.104 314.753 Q134.766 312.646 130.762 312.646 Q128.887 312.646 127.012 313.063 Q125.16 313.48 123.215 314.359 L123.215 296.998 Z\" fill=\"#000000\" fill-rule=\"evenodd\" fill-opacity=\"1\" /><path clip-path=\"url(#clip640)\" d=\"M 0 0 M60.2296 208.835 L67.8685 208.835 L67.8685 182.469 L59.5583 184.136 L59.5583 179.876 L67.8222 178.21 L72.4981 178.21 L72.4981 208.835 L80.1369 208.835 L80.1369 212.77 L60.2296 212.77 L60.2296 208.835 Z\" fill=\"#000000\" fill-rule=\"evenodd\" fill-opacity=\"1\" /><path clip-path=\"url(#clip640)\" d=\"M 0 0 M85.2064 206.89 L90.0906 206.89 L90.0906 212.77 L85.2064 212.77 L85.2064 206.89 Z\" fill=\"#000000\" fill-rule=\"evenodd\" fill-opacity=\"1\" /><path clip-path=\"url(#clip640)\" d=\"M 0 0 M105.16 181.288 Q101.549 181.288 99.7202 184.853 Q97.9146 188.395 97.9146 195.525 Q97.9146 202.631 99.7202 206.196 Q101.549 209.737 105.16 209.737 Q108.794 209.737 110.6 206.196 Q112.428 202.631 112.428 195.525 Q112.428 188.395 110.6 184.853 Q108.794 181.288 105.16 181.288 M105.16 177.585 Q110.97 177.585 114.026 182.191 Q117.104 186.775 117.104 195.525 Q117.104 204.251 114.026 208.858 Q110.97 213.441 105.16 213.441 Q99.3498 213.441 96.2711 208.858 Q93.2156 204.251 93.2156 195.525 Q93.2156 186.775 96.2711 182.191 Q99.3498 177.585 105.16 177.585 Z\" fill=\"#000000\" fill-rule=\"evenodd\" fill-opacity=\"1\" /><path clip-path=\"url(#clip640)\" d=\"M 0 0 M132.174 181.288 Q128.563 181.288 126.734 184.853 Q124.928 188.395 124.928 195.525 Q124.928 202.631 126.734 206.196 Q128.563 209.737 132.174 209.737 Q135.808 209.737 137.613 206.196 Q139.442 202.631 139.442 195.525 Q139.442 188.395 137.613 184.853 Q135.808 181.288 132.174 181.288 M132.174 177.585 Q137.984 177.585 141.039 182.191 Q144.118 186.775 144.118 195.525 Q144.118 204.251 141.039 208.858 Q137.984 213.441 132.174 213.441 Q126.364 213.441 123.285 208.858 Q120.229 204.251 120.229 195.525 Q120.229 186.775 123.285 182.191 Q126.364 177.585 132.174 177.585 Z\" fill=\"#000000\" fill-rule=\"evenodd\" fill-opacity=\"1\" /><path clip-path=\"url(#clip640)\" d=\"M 0 0 M1027.7 12.096 L1065.94 12.096 L1065.94 18.9825 L1035.88 18.9825 L1035.88 36.8875 L1064.68 36.8875 L1064.68 43.7741 L1035.88 43.7741 L1035.88 65.6895 L1066.67 65.6895 L1066.67 72.576 L1027.7 72.576 L1027.7 12.096 Z\" fill=\"#000000\" fill-rule=\"evenodd\" fill-opacity=\"1\" /><path clip-path=\"url(#clip640)\" d=\"M 0 0 M1103.41 28.5427 L1103.41 35.5912 Q1100.25 33.9709 1096.85 33.1607 Q1093.44 32.3505 1089.8 32.3505 Q1084.25 32.3505 1081.45 34.0519 Q1078.7 35.7533 1078.7 39.156 Q1078.7 41.7486 1080.68 43.2475 Q1082.67 44.7058 1088.66 46.0426 L1091.22 46.6097 Q1099.15 48.3111 1102.48 51.4303 Q1105.84 54.509 1105.84 60.0587 Q1105.84 66.3781 1100.82 70.0644 Q1095.83 73.7508 1087.08 73.7508 Q1083.44 73.7508 1079.47 73.0216 Q1075.54 72.3329 1071.16 70.9151 L1071.16 63.2184 Q1075.3 65.3654 1079.31 66.4591 Q1083.32 67.5124 1087.25 67.5124 Q1092.51 67.5124 1095.35 65.73 Q1098.18 63.9071 1098.18 60.6258 Q1098.18 57.5877 1096.12 55.9673 Q1094.09 54.3469 1087.16 52.8481 L1084.57 52.2405 Q1077.64 50.7821 1074.57 47.7845 Q1071.49 44.7463 1071.49 39.4801 Q1071.49 33.0797 1076.02 29.5959 Q1080.56 26.1121 1088.91 26.1121 Q1093.04 26.1121 1096.68 26.7198 Q1100.33 27.3274 1103.41 28.5427 Z\" fill=\"#000000\" fill-rule=\"evenodd\" fill-opacity=\"1\" /><path clip-path=\"url(#clip640)\" d=\"M 0 0 M1146.31 28.9478 L1146.31 35.9153 Q1143.15 34.1734 1139.95 33.3227 Q1136.79 32.4315 1133.55 32.4315 Q1126.3 32.4315 1122.29 37.0496 Q1118.28 41.6271 1118.28 49.9314 Q1118.28 58.2358 1122.29 62.8538 Q1126.3 67.4314 1133.55 67.4314 Q1136.79 67.4314 1139.95 66.5807 Q1143.15 65.6895 1146.31 63.9476 L1146.31 70.8341 Q1143.19 72.2924 1139.83 73.0216 Q1136.5 73.7508 1132.74 73.7508 Q1122.49 73.7508 1116.45 67.3098 Q1110.42 60.8689 1110.42 49.9314 Q1110.42 38.832 1116.49 32.472 Q1122.61 26.1121 1133.22 26.1121 Q1136.67 26.1121 1139.95 26.8413 Q1143.23 27.5299 1146.31 28.9478 Z\" fill=\"#000000\" fill-rule=\"evenodd\" fill-opacity=\"1\" /><path clip-path=\"url(#clip640)\" d=\"M 0 0 M1174.74 49.7694 Q1165.71 49.7694 1162.23 51.8354 Q1158.74 53.9013 1158.74 58.8839 Q1158.74 62.8538 1161.34 65.2034 Q1163.97 67.5124 1168.47 67.5124 Q1174.66 67.5124 1178.39 63.1374 Q1182.16 58.7219 1182.16 51.4303 L1182.16 49.7694 L1174.74 49.7694 M1189.61 46.6907 L1189.61 72.576 L1182.16 72.576 L1182.16 65.6895 Q1179.61 69.8214 1175.8 71.8063 Q1171.99 73.7508 1166.48 73.7508 Q1159.51 73.7508 1155.38 69.8619 Q1151.29 65.9325 1151.29 59.3701 Q1151.29 51.7138 1156.39 47.825 Q1161.54 43.9361 1171.71 43.9361 L1182.16 43.9361 L1182.16 43.2069 Q1182.16 38.0623 1178.76 35.2672 Q1175.39 32.4315 1169.28 32.4315 Q1165.39 32.4315 1161.7 33.3632 Q1158.01 34.295 1154.61 36.1584 L1154.61 29.2718 Q1158.7 27.692 1162.55 26.9223 Q1166.4 26.1121 1170.05 26.1121 Q1179.89 26.1121 1184.75 31.2163 Q1189.61 36.3204 1189.61 46.6907 Z\" fill=\"#000000\" fill-rule=\"evenodd\" fill-opacity=\"1\" /><path clip-path=\"url(#clip640)\" d=\"M 0 0 M1197.43 9.54393 L1204.88 9.54393 L1204.88 72.576 L1197.43 72.576 L1197.43 9.54393 Z\" fill=\"#000000\" fill-rule=\"evenodd\" fill-opacity=\"1\" /><path clip-path=\"url(#clip640)\" d=\"M 0 0 M1233.32 49.7694 Q1224.29 49.7694 1220.8 51.8354 Q1217.32 53.9013 1217.32 58.8839 Q1217.32 62.8538 1219.91 65.2034 Q1222.55 67.5124 1227.04 67.5124 Q1233.24 67.5124 1236.97 63.1374 Q1240.73 58.7219 1240.73 51.4303 L1240.73 49.7694 L1233.32 49.7694 M1248.19 46.6907 L1248.19 72.576 L1240.73 72.576 L1240.73 65.6895 Q1238.18 69.8214 1234.37 71.8063 Q1230.57 73.7508 1225.06 73.7508 Q1218.09 73.7508 1213.96 69.8619 Q1209.87 65.9325 1209.87 59.3701 Q1209.87 51.7138 1214.97 47.825 Q1220.11 43.9361 1230.28 43.9361 L1240.73 43.9361 L1240.73 43.2069 Q1240.73 38.0623 1237.33 35.2672 Q1233.97 32.4315 1227.85 32.4315 Q1223.96 32.4315 1220.28 33.3632 Q1216.59 34.295 1213.19 36.1584 L1213.19 29.2718 Q1217.28 27.692 1221.13 26.9223 Q1224.98 26.1121 1228.62 26.1121 Q1238.47 26.1121 1243.33 31.2163 Q1248.19 36.3204 1248.19 46.6907 Z\" fill=\"#000000\" fill-rule=\"evenodd\" fill-opacity=\"1\" /><path clip-path=\"url(#clip640)\" d=\"M 0 0 M1282.7 12.096 L1290.88 12.096 L1290.88 65.6895 L1320.33 65.6895 L1320.33 72.576 L1282.7 72.576 L1282.7 12.096 Z\" fill=\"#000000\" fill-rule=\"evenodd\" fill-opacity=\"1\" /><path clip-path=\"url(#clip640)\" d=\"M 0 0 M1328.15 27.2059 L1335.61 27.2059 L1335.61 72.576 L1328.15 72.576 L1328.15 27.2059 M1328.15 9.54393 L1335.61 9.54393 L1335.61 18.9825 L1328.15 18.9825 L1328.15 9.54393 Z\" fill=\"#000000\" fill-rule=\"evenodd\" fill-opacity=\"1\" /><path clip-path=\"url(#clip640)\" d=\"M 0 0 M1381.14 45.1919 L1381.14 72.576 L1373.68 72.576 L1373.68 45.4349 Q1373.68 38.994 1371.17 35.7938 Q1368.66 32.5936 1363.64 32.5936 Q1357.6 32.5936 1354.12 36.4419 Q1350.64 40.2903 1350.64 46.9338 L1350.64 72.576 L1343.14 72.576 L1343.14 27.2059 L1350.64 27.2059 L1350.64 34.2544 Q1353.31 30.163 1356.91 28.1376 Q1360.56 26.1121 1365.3 26.1121 Q1373.12 26.1121 1377.13 30.9732 Q1381.14 35.7938 1381.14 45.1919 Z\" fill=\"#000000\" fill-rule=\"evenodd\" fill-opacity=\"1\" /><path clip-path=\"url(#clip640)\" d=\"M 0 0 M1427.76 48.0275 L1427.76 51.6733 L1393.49 51.6733 Q1393.98 59.3701 1398.11 63.421 Q1402.28 67.4314 1409.7 67.4314 Q1413.99 67.4314 1418 66.3781 Q1422.05 65.3249 1426.02 63.2184 L1426.02 70.267 Q1422.01 71.9684 1417.8 72.8596 Q1413.59 73.7508 1409.25 73.7508 Q1398.4 73.7508 1392.04 67.4314 Q1385.72 61.1119 1385.72 50.3365 Q1385.72 39.1965 1391.71 32.6746 Q1397.75 26.1121 1407.96 26.1121 Q1417.11 26.1121 1422.42 32.0264 Q1427.76 37.9003 1427.76 48.0275 M1420.31 45.84 Q1420.23 39.7232 1416.87 36.0774 Q1413.55 32.4315 1408.04 32.4315 Q1401.8 32.4315 1398.03 35.9558 Q1394.3 39.4801 1393.74 45.8805 L1420.31 45.84 Z\" fill=\"#000000\" fill-rule=\"evenodd\" fill-opacity=\"1\" /><path clip-path=\"url(#clip640)\" d=\"M 0 0 M1456.2 49.7694 Q1447.17 49.7694 1443.68 51.8354 Q1440.2 53.9013 1440.2 58.8839 Q1440.2 62.8538 1442.79 65.2034 Q1445.43 67.5124 1449.92 67.5124 Q1456.12 67.5124 1459.85 63.1374 Q1463.61 58.7219 1463.61 51.4303 L1463.61 49.7694 L1456.2 49.7694 M1471.07 46.6907 L1471.07 72.576 L1463.61 72.576 L1463.61 65.6895 Q1461.06 69.8214 1457.25 71.8063 Q1453.45 73.7508 1447.94 73.7508 Q1440.97 73.7508 1436.84 69.8619 Q1432.75 65.9325 1432.75 59.3701 Q1432.75 51.7138 1437.85 47.825 Q1443 43.9361 1453.16 43.9361 L1463.61 43.9361 L1463.61 43.2069 Q1463.61 38.0623 1460.21 35.2672 Q1456.85 32.4315 1450.73 32.4315 Q1446.84 32.4315 1443.16 33.3632 Q1439.47 34.295 1436.07 36.1584 L1436.07 29.2718 Q1440.16 27.692 1444.01 26.9223 Q1447.86 26.1121 1451.5 26.1121 Q1461.35 26.1121 1466.21 31.2163 Q1471.07 36.3204 1471.07 46.6907 Z\" fill=\"#000000\" fill-rule=\"evenodd\" fill-opacity=\"1\" /><path clip-path=\"url(#clip640)\" d=\"M 0 0 M1505.18 34.1734 Q1503.92 33.4443 1502.42 33.1202 Q1500.96 32.7556 1499.18 32.7556 Q1492.86 32.7556 1489.46 36.8875 Q1486.1 40.9789 1486.1 48.6757 L1486.1 72.576 L1478.6 72.576 L1478.6 27.2059 L1486.1 27.2059 L1486.1 34.2544 Q1488.45 30.1225 1492.21 28.1376 Q1495.98 26.1121 1501.37 26.1121 Q1502.14 26.1121 1503.07 26.2337 Q1504 26.3147 1505.14 26.5172 L1505.18 34.1734 Z\" fill=\"#000000\" fill-rule=\"evenodd\" fill-opacity=\"1\" /><polyline clip-path=\"url(#clip642)\" style=\"stroke:#009af9; stroke-width:4; stroke-opacity:1; fill:none\" points=\"\n",
       "  241.608,139.405 583.218,537.835 924.827,637.442 1266.44,662.344 1608.05,668.569 1949.66,670.126 2291.27,670.515 \n",
       "  \"/>\n",
       "<path clip-path=\"url(#clip640)\" d=\"\n",
       "M2018.77 263.198 L2280.33 263.198 L2280.33 142.238 L2018.77 142.238  Z\n",
       "  \" fill=\"#ffffff\" fill-rule=\"evenodd\" fill-opacity=\"1\"/>\n",
       "<polyline clip-path=\"url(#clip640)\" style=\"stroke:#000000; stroke-width:4; stroke-opacity:1; fill:none\" points=\"\n",
       "  2018.77,263.198 2280.33,263.198 2280.33,142.238 2018.77,142.238 2018.77,263.198 \n",
       "  \"/>\n",
       "<polyline clip-path=\"url(#clip640)\" style=\"stroke:#009af9; stroke-width:4; stroke-opacity:1; fill:none\" points=\"\n",
       "  2042.91,202.718 2187.75,202.718 \n",
       "  \"/>\n",
       "<path clip-path=\"url(#clip640)\" d=\"M 0 0 M2232.05 198.193 Q2231.2 197.892 2230.34 197.66 Q2228.05 197.058 2225.6 197.058 Q2221.36 197.058 2219 199.35 Q2216.8 201.48 2216.38 205.392 L2232.05 205.392 L2232.05 208.725 L2216.38 208.725 Q2216.8 212.637 2219 214.767 Q2221.36 217.058 2225.6 217.058 Q2228.56 217.058 2230.34 216.456 L2232.05 215.878 L2232.05 219.743 L2230.23 220.16 Q2227.82 220.669 2225.34 220.669 Q2219.14 220.669 2215.53 217.058 Q2211.89 213.447 2211.89 207.058 Q2211.89 200.669 2215.53 197.058 Q2219.14 193.447 2225.34 193.447 Q2227.68 193.447 2230.23 193.956 Q2231.15 194.142 2232.05 194.419 L2232.05 198.193 Z\" fill=\"#000000\" fill-rule=\"evenodd\" fill-opacity=\"1\" /><path clip-path=\"url(#clip640)\" d=\"\n",
       "M180.118 1486.45 L2352.76 1486.45 L2352.76 923.472 L180.118 923.472  Z\n",
       "  \" fill=\"#ffffff\" fill-rule=\"evenodd\" fill-opacity=\"1\"/>\n",
       "<defs>\n",
       "  <clipPath id=\"clip643\">\n",
       "    <rect x=\"180\" y=\"923\" width=\"2174\" height=\"564\"/>\n",
       "  </clipPath>\n",
       "</defs>\n",
       "<polyline clip-path=\"url(#clip643)\" style=\"stroke:#000000; stroke-width:2; stroke-opacity:0.1; fill:none\" points=\"\n",
       "  241.608,1486.45 241.608,923.472 \n",
       "  \"/>\n",
       "<polyline clip-path=\"url(#clip643)\" style=\"stroke:#000000; stroke-width:2; stroke-opacity:0.1; fill:none\" points=\"\n",
       "  583.218,1486.45 583.218,923.472 \n",
       "  \"/>\n",
       "<polyline clip-path=\"url(#clip643)\" style=\"stroke:#000000; stroke-width:2; stroke-opacity:0.1; fill:none\" points=\"\n",
       "  924.827,1486.45 924.827,923.472 \n",
       "  \"/>\n",
       "<polyline clip-path=\"url(#clip643)\" style=\"stroke:#000000; stroke-width:2; stroke-opacity:0.1; fill:none\" points=\"\n",
       "  1266.44,1486.45 1266.44,923.472 \n",
       "  \"/>\n",
       "<polyline clip-path=\"url(#clip643)\" style=\"stroke:#000000; stroke-width:2; stroke-opacity:0.1; fill:none\" points=\"\n",
       "  1608.05,1486.45 1608.05,923.472 \n",
       "  \"/>\n",
       "<polyline clip-path=\"url(#clip643)\" style=\"stroke:#000000; stroke-width:2; stroke-opacity:0.1; fill:none\" points=\"\n",
       "  1949.66,1486.45 1949.66,923.472 \n",
       "  \"/>\n",
       "<polyline clip-path=\"url(#clip643)\" style=\"stroke:#000000; stroke-width:2; stroke-opacity:0.1; fill:none\" points=\"\n",
       "  2291.27,1486.45 2291.27,923.472 \n",
       "  \"/>\n",
       "<polyline clip-path=\"url(#clip640)\" style=\"stroke:#000000; stroke-width:4; stroke-opacity:1; fill:none\" points=\"\n",
       "  180.118,1486.45 2352.76,1486.45 \n",
       "  \"/>\n",
       "<polyline clip-path=\"url(#clip640)\" style=\"stroke:#000000; stroke-width:4; stroke-opacity:1; fill:none\" points=\"\n",
       "  241.608,1486.45 241.608,1479.69 \n",
       "  \"/>\n",
       "<polyline clip-path=\"url(#clip640)\" style=\"stroke:#000000; stroke-width:4; stroke-opacity:1; fill:none\" points=\"\n",
       "  583.218,1486.45 583.218,1479.69 \n",
       "  \"/>\n",
       "<polyline clip-path=\"url(#clip640)\" style=\"stroke:#000000; stroke-width:4; stroke-opacity:1; fill:none\" points=\"\n",
       "  924.827,1486.45 924.827,1479.69 \n",
       "  \"/>\n",
       "<polyline clip-path=\"url(#clip640)\" style=\"stroke:#000000; stroke-width:4; stroke-opacity:1; fill:none\" points=\"\n",
       "  1266.44,1486.45 1266.44,1479.69 \n",
       "  \"/>\n",
       "<polyline clip-path=\"url(#clip640)\" style=\"stroke:#000000; stroke-width:4; stroke-opacity:1; fill:none\" points=\"\n",
       "  1608.05,1486.45 1608.05,1479.69 \n",
       "  \"/>\n",
       "<polyline clip-path=\"url(#clip640)\" style=\"stroke:#000000; stroke-width:4; stroke-opacity:1; fill:none\" points=\"\n",
       "  1949.66,1486.45 1949.66,1479.69 \n",
       "  \"/>\n",
       "<polyline clip-path=\"url(#clip640)\" style=\"stroke:#000000; stroke-width:4; stroke-opacity:1; fill:none\" points=\"\n",
       "  2291.27,1486.45 2291.27,1479.69 \n",
       "  \"/>\n",
       "<path clip-path=\"url(#clip640)\" d=\"M 0 0 M231.99 1543.18 L239.629 1543.18 L239.629 1516.82 L231.319 1518.49 L231.319 1514.23 L239.582 1512.56 L244.258 1512.56 L244.258 1543.18 L251.897 1543.18 L251.897 1547.12 L231.99 1547.12 L231.99 1543.18 Z\" fill=\"#000000\" fill-rule=\"evenodd\" fill-opacity=\"1\" /><path clip-path=\"url(#clip640)\" d=\"M 0 0 M577.87 1543.18 L594.19 1543.18 L594.19 1547.12 L572.245 1547.12 L572.245 1543.18 Q574.907 1540.43 579.491 1535.8 Q584.097 1531.15 585.278 1529.81 Q587.523 1527.28 588.403 1525.55 Q589.305 1523.79 589.305 1522.1 Q589.305 1519.34 587.361 1517.61 Q585.44 1515.87 582.338 1515.87 Q580.139 1515.87 577.685 1516.63 Q575.255 1517.4 572.477 1518.95 L572.477 1514.23 Q575.301 1513.09 577.755 1512.51 Q580.208 1511.93 582.245 1511.93 Q587.616 1511.93 590.81 1514.62 Q594.005 1517.31 594.005 1521.8 Q594.005 1523.93 593.194 1525.85 Q592.407 1527.74 590.301 1530.34 Q589.722 1531.01 586.62 1534.23 Q583.518 1537.42 577.87 1543.18 Z\" fill=\"#000000\" fill-rule=\"evenodd\" fill-opacity=\"1\" /><path clip-path=\"url(#clip640)\" d=\"M 0 0 M929.075 1528.49 Q932.431 1529.2 934.306 1531.47 Q936.205 1533.74 936.205 1537.07 Q936.205 1542.19 932.686 1544.99 Q929.168 1547.79 922.686 1547.79 Q920.51 1547.79 918.195 1547.35 Q915.904 1546.93 913.45 1546.08 L913.45 1541.56 Q915.394 1542.7 917.709 1543.28 Q920.024 1543.86 922.547 1543.86 Q926.945 1543.86 929.237 1542.12 Q931.552 1540.38 931.552 1537.07 Q931.552 1534.02 929.399 1532.31 Q927.269 1530.57 923.45 1530.57 L919.422 1530.57 L919.422 1526.73 L923.635 1526.73 Q927.084 1526.73 928.913 1525.36 Q930.742 1523.97 930.742 1521.38 Q930.742 1518.72 928.843 1517.31 Q926.968 1515.87 923.45 1515.87 Q921.529 1515.87 919.33 1516.29 Q917.131 1516.7 914.492 1517.58 L914.492 1513.42 Q917.154 1512.68 919.469 1512.31 Q921.806 1511.93 923.867 1511.93 Q929.191 1511.93 932.293 1514.37 Q935.394 1516.77 935.394 1520.89 Q935.394 1523.76 933.751 1525.75 Q932.107 1527.72 929.075 1528.49 Z\" fill=\"#000000\" fill-rule=\"evenodd\" fill-opacity=\"1\" /><path clip-path=\"url(#clip640)\" d=\"M 0 0 M1269.45 1516.63 L1257.64 1535.08 L1269.45 1535.08 L1269.45 1516.63 M1268.22 1512.56 L1274.1 1512.56 L1274.1 1535.08 L1279.03 1535.08 L1279.03 1538.97 L1274.1 1538.97 L1274.1 1547.12 L1269.45 1547.12 L1269.45 1538.97 L1253.84 1538.97 L1253.84 1534.46 L1268.22 1512.56 Z\" fill=\"#000000\" fill-rule=\"evenodd\" fill-opacity=\"1\" /><path clip-path=\"url(#clip640)\" d=\"M 0 0 M1598.32 1512.56 L1616.68 1512.56 L1616.68 1516.5 L1602.61 1516.5 L1602.61 1524.97 Q1603.63 1524.62 1604.64 1524.46 Q1605.66 1524.27 1606.68 1524.27 Q1612.47 1524.27 1615.85 1527.44 Q1619.23 1530.62 1619.23 1536.03 Q1619.23 1541.61 1615.76 1544.71 Q1612.28 1547.79 1605.96 1547.79 Q1603.79 1547.79 1601.52 1547.42 Q1599.27 1547.05 1596.87 1546.31 L1596.87 1541.61 Q1598.95 1542.74 1601.17 1543.3 Q1603.39 1543.86 1605.87 1543.86 Q1609.88 1543.86 1612.21 1541.75 Q1614.55 1539.64 1614.55 1536.03 Q1614.55 1532.42 1612.21 1530.31 Q1609.88 1528.21 1605.87 1528.21 Q1604 1528.21 1602.12 1528.62 Q1600.27 1529.04 1598.32 1529.92 L1598.32 1512.56 Z\" fill=\"#000000\" fill-rule=\"evenodd\" fill-opacity=\"1\" /><path clip-path=\"url(#clip640)\" d=\"M 0 0 M1950.06 1527.98 Q1946.91 1527.98 1945.06 1530.13 Q1943.23 1532.28 1943.23 1536.03 Q1943.23 1539.76 1945.06 1541.93 Q1946.91 1544.09 1950.06 1544.09 Q1953.21 1544.09 1955.04 1541.93 Q1956.89 1539.76 1956.89 1536.03 Q1956.89 1532.28 1955.04 1530.13 Q1953.21 1527.98 1950.06 1527.98 M1959.34 1513.32 L1959.34 1517.58 Q1957.58 1516.75 1955.78 1516.31 Q1954 1515.87 1952.24 1515.87 Q1947.61 1515.87 1945.15 1519 Q1942.72 1522.12 1942.38 1528.44 Q1943.74 1526.43 1945.8 1525.36 Q1947.86 1524.27 1950.34 1524.27 Q1955.55 1524.27 1958.56 1527.44 Q1961.59 1530.59 1961.59 1536.03 Q1961.59 1541.36 1958.44 1544.57 Q1955.29 1547.79 1950.06 1547.79 Q1944.07 1547.79 1940.89 1543.21 Q1937.72 1538.6 1937.72 1529.87 Q1937.72 1521.68 1941.61 1516.82 Q1945.5 1511.93 1952.05 1511.93 Q1953.81 1511.93 1955.59 1512.28 Q1957.4 1512.63 1959.34 1513.32 Z\" fill=\"#000000\" fill-rule=\"evenodd\" fill-opacity=\"1\" /><path clip-path=\"url(#clip640)\" d=\"M 0 0 M2280.16 1512.56 L2302.38 1512.56 L2302.38 1514.55 L2289.83 1547.12 L2284.95 1547.12 L2296.75 1516.5 L2280.16 1516.5 L2280.16 1512.56 Z\" fill=\"#000000\" fill-rule=\"evenodd\" fill-opacity=\"1\" /><polyline clip-path=\"url(#clip643)\" style=\"stroke:#000000; stroke-width:2; stroke-opacity:0.1; fill:none\" points=\"\n",
       "  180.118,1387.61 2352.76,1387.61 \n",
       "  \"/>\n",
       "<polyline clip-path=\"url(#clip643)\" style=\"stroke:#000000; stroke-width:2; stroke-opacity:0.1; fill:none\" points=\"\n",
       "  180.118,1240.58 2352.76,1240.58 \n",
       "  \"/>\n",
       "<polyline clip-path=\"url(#clip643)\" style=\"stroke:#000000; stroke-width:2; stroke-opacity:0.1; fill:none\" points=\"\n",
       "  180.118,1093.56 2352.76,1093.56 \n",
       "  \"/>\n",
       "<polyline clip-path=\"url(#clip643)\" style=\"stroke:#000000; stroke-width:2; stroke-opacity:0.1; fill:none\" points=\"\n",
       "  180.118,946.53 2352.76,946.53 \n",
       "  \"/>\n",
       "<polyline clip-path=\"url(#clip640)\" style=\"stroke:#000000; stroke-width:4; stroke-opacity:1; fill:none\" points=\"\n",
       "  180.118,1486.45 180.118,923.472 \n",
       "  \"/>\n",
       "<polyline clip-path=\"url(#clip640)\" style=\"stroke:#000000; stroke-width:4; stroke-opacity:1; fill:none\" points=\"\n",
       "  180.118,1387.61 206.19,1387.61 \n",
       "  \"/>\n",
       "<polyline clip-path=\"url(#clip640)\" style=\"stroke:#000000; stroke-width:4; stroke-opacity:1; fill:none\" points=\"\n",
       "  180.118,1240.58 206.19,1240.58 \n",
       "  \"/>\n",
       "<polyline clip-path=\"url(#clip640)\" style=\"stroke:#000000; stroke-width:4; stroke-opacity:1; fill:none\" points=\"\n",
       "  180.118,1093.56 206.19,1093.56 \n",
       "  \"/>\n",
       "<polyline clip-path=\"url(#clip640)\" style=\"stroke:#000000; stroke-width:4; stroke-opacity:1; fill:none\" points=\"\n",
       "  180.118,946.53 206.19,946.53 \n",
       "  \"/>\n",
       "<path clip-path=\"url(#clip640)\" d=\"M 0 0 M51.6634 1407.4 L59.3023 1407.4 L59.3023 1381.03 L50.9921 1382.7 L50.9921 1378.44 L59.256 1376.77 L63.9319 1376.77 L63.9319 1407.4 L71.5707 1407.4 L71.5707 1411.33 L51.6634 1411.33 L51.6634 1407.4 Z\" fill=\"#000000\" fill-rule=\"evenodd\" fill-opacity=\"1\" /><path clip-path=\"url(#clip640)\" d=\"M 0 0 M86.6401 1379.85 Q83.029 1379.85 81.2003 1383.42 Q79.3948 1386.96 79.3948 1394.09 Q79.3948 1401.19 81.2003 1404.76 Q83.029 1408.3 86.6401 1408.3 Q90.2743 1408.3 92.0799 1404.76 Q93.9086 1401.19 93.9086 1394.09 Q93.9086 1386.96 92.0799 1383.42 Q90.2743 1379.85 86.6401 1379.85 M86.6401 1376.15 Q92.4502 1376.15 95.5058 1380.76 Q98.5845 1385.34 98.5845 1394.09 Q98.5845 1402.82 95.5058 1407.42 Q92.4502 1412.01 86.6401 1412.01 Q80.8299 1412.01 77.7512 1407.42 Q74.6957 1402.82 74.6957 1394.09 Q74.6957 1385.34 77.7512 1380.76 Q80.8299 1376.15 86.6401 1376.15 Z\" fill=\"#000000\" fill-rule=\"evenodd\" fill-opacity=\"1\" /><path clip-path=\"url(#clip640)\" d=\"M 0 0 M98.5845 1370.25 L122.696 1370.25 L122.696 1373.45 L98.5845 1373.45 L98.5845 1370.25 Z\" fill=\"#000000\" fill-rule=\"evenodd\" fill-opacity=\"1\" /><path clip-path=\"url(#clip640)\" d=\"M 0 0 M138.325 1368.78 Q141.052 1369.37 142.576 1371.21 Q144.118 1373.05 144.118 1375.76 Q144.118 1379.92 141.259 1382.19 Q138.401 1384.47 133.134 1384.47 Q131.366 1384.47 129.486 1384.11 Q127.624 1383.77 125.63 1383.08 L125.63 1379.41 Q127.21 1380.33 129.091 1380.8 Q130.971 1381.27 133.021 1381.27 Q136.595 1381.27 138.457 1379.86 Q140.338 1378.45 140.338 1375.76 Q140.338 1373.28 138.589 1371.89 Q136.858 1370.48 133.755 1370.48 L130.482 1370.48 L130.482 1367.35 L133.905 1367.35 Q136.708 1367.35 138.194 1366.24 Q139.679 1365.12 139.679 1363.01 Q139.679 1360.85 138.137 1359.7 Q136.614 1358.53 133.755 1358.53 Q132.194 1358.53 130.407 1358.87 Q128.62 1359.21 126.476 1359.92 L126.476 1356.54 Q128.639 1355.94 130.52 1355.64 Q132.42 1355.34 134.094 1355.34 Q138.419 1355.34 140.94 1357.31 Q143.46 1359.27 143.46 1362.61 Q143.46 1364.95 142.124 1366.56 Q140.789 1368.16 138.325 1368.78 Z\" fill=\"#000000\" fill-rule=\"evenodd\" fill-opacity=\"1\" /><path clip-path=\"url(#clip640)\" d=\"M 0 0 M52.4345 1260.37 L60.0734 1260.37 L60.0734 1234.01 L51.7632 1235.67 L51.7632 1231.41 L60.0271 1229.75 L64.703 1229.75 L64.703 1260.37 L72.3418 1260.37 L72.3418 1264.31 L52.4345 1264.31 L52.4345 1260.37 Z\" fill=\"#000000\" fill-rule=\"evenodd\" fill-opacity=\"1\" /><path clip-path=\"url(#clip640)\" d=\"M 0 0 M87.4112 1232.83 Q83.8001 1232.83 81.9714 1236.39 Q80.1659 1239.93 80.1659 1247.06 Q80.1659 1254.17 81.9714 1257.73 Q83.8001 1261.28 87.4112 1261.28 Q91.0454 1261.28 92.851 1257.73 Q94.6797 1254.17 94.6797 1247.06 Q94.6797 1239.93 92.851 1236.39 Q91.0454 1232.83 87.4112 1232.83 M87.4112 1229.12 Q93.2214 1229.12 96.2769 1233.73 Q99.3556 1238.31 99.3556 1247.06 Q99.3556 1255.79 96.2769 1260.4 Q93.2214 1264.98 87.4112 1264.98 Q81.601 1264.98 78.5224 1260.4 Q75.4668 1255.79 75.4668 1247.06 Q75.4668 1238.31 78.5224 1233.73 Q81.601 1229.12 87.4112 1229.12 Z\" fill=\"#000000\" fill-rule=\"evenodd\" fill-opacity=\"1\" /><path clip-path=\"url(#clip640)\" d=\"M 0 0 M99.3556 1223.22 L123.467 1223.22 L123.467 1226.42 L99.3556 1226.42 L99.3556 1223.22 Z\" fill=\"#000000\" fill-rule=\"evenodd\" fill-opacity=\"1\" /><path clip-path=\"url(#clip640)\" d=\"M 0 0 M130.859 1233.7 L144.118 1233.7 L144.118 1236.9 L126.288 1236.9 L126.288 1233.7 Q128.451 1231.46 132.175 1227.7 Q135.918 1223.92 136.877 1222.83 Q138.701 1220.78 139.416 1219.37 Q140.15 1217.94 140.15 1216.57 Q140.15 1214.33 138.57 1212.92 Q137.009 1211.51 134.488 1211.51 Q132.702 1211.51 130.708 1212.13 Q128.733 1212.75 126.476 1214.01 L126.476 1210.17 Q128.771 1209.25 130.765 1208.78 Q132.758 1208.31 134.413 1208.31 Q138.777 1208.31 141.372 1210.49 Q143.968 1212.67 143.968 1216.32 Q143.968 1218.05 143.309 1219.61 Q142.67 1221.16 140.958 1223.26 Q140.488 1223.81 137.968 1226.42 Q135.448 1229.02 130.859 1233.7 Z\" fill=\"#000000\" fill-rule=\"evenodd\" fill-opacity=\"1\" /><path clip-path=\"url(#clip640)\" d=\"M 0 0 M52.1336 1113.35 L59.7725 1113.35 L59.7725 1086.98 L51.4623 1088.65 L51.4623 1084.39 L59.7262 1082.72 L64.4021 1082.72 L64.4021 1113.35 L72.0409 1113.35 L72.0409 1117.28 L52.1336 1117.28 L52.1336 1113.35 Z\" fill=\"#000000\" fill-rule=\"evenodd\" fill-opacity=\"1\" /><path clip-path=\"url(#clip640)\" d=\"M 0 0 M87.1103 1085.8 Q83.4992 1085.8 81.6705 1089.37 Q79.8649 1092.91 79.8649 1100.04 Q79.8649 1107.14 81.6705 1110.71 Q83.4992 1114.25 87.1103 1114.25 Q90.7445 1114.25 92.5501 1110.71 Q94.3788 1107.14 94.3788 1100.04 Q94.3788 1092.91 92.5501 1089.37 Q90.7445 1085.8 87.1103 1085.8 M87.1103 1082.1 Q92.9204 1082.1 95.976 1086.7 Q99.0547 1091.29 99.0547 1100.04 Q99.0547 1108.76 95.976 1113.37 Q92.9204 1117.95 87.1103 1117.95 Q81.3001 1117.95 78.2214 1113.37 Q75.1659 1108.76 75.1659 1100.04 Q75.1659 1091.29 78.2214 1086.7 Q81.3001 1082.1 87.1103 1082.1 Z\" fill=\"#000000\" fill-rule=\"evenodd\" fill-opacity=\"1\" /><path clip-path=\"url(#clip640)\" d=\"M 0 0 M99.0547 1076.2 L123.166 1076.2 L123.166 1079.4 L99.0547 1079.4 L99.0547 1076.2 Z\" fill=\"#000000\" fill-rule=\"evenodd\" fill-opacity=\"1\" /><path clip-path=\"url(#clip640)\" d=\"M 0 0 M127.943 1086.67 L134.15 1086.67 L134.15 1065.25 L127.398 1066.61 L127.398 1063.15 L134.112 1061.79 L137.912 1061.79 L137.912 1086.67 L144.118 1086.67 L144.118 1089.87 L127.943 1089.87 L127.943 1086.67 Z\" fill=\"#000000\" fill-rule=\"evenodd\" fill-opacity=\"1\" /><path clip-path=\"url(#clip640)\" d=\"M 0 0 M77.7874 966.322 L85.4263 966.322 L85.4263 939.956 L77.1161 941.623 L77.1161 937.364 L85.38 935.697 L90.0559 935.697 L90.0559 966.322 L97.6947 966.322 L97.6947 970.257 L77.7874 970.257 L77.7874 966.322 Z\" fill=\"#000000\" fill-rule=\"evenodd\" fill-opacity=\"1\" /><path clip-path=\"url(#clip640)\" d=\"M 0 0 M112.764 938.776 Q109.153 938.776 107.324 942.341 Q105.519 945.882 105.519 953.012 Q105.519 960.118 107.324 963.683 Q109.153 967.225 112.764 967.225 Q116.398 967.225 118.204 963.683 Q120.033 960.118 120.033 953.012 Q120.033 945.882 118.204 942.341 Q116.398 938.776 112.764 938.776 M112.764 935.072 Q118.574 935.072 121.63 939.679 Q124.708 944.262 124.708 953.012 Q124.708 961.739 121.63 966.345 Q118.574 970.928 112.764 970.928 Q106.954 970.928 103.875 966.345 Q100.82 961.739 100.82 953.012 Q100.82 944.262 103.875 939.679 Q106.954 935.072 112.764 935.072 Z\" fill=\"#000000\" fill-rule=\"evenodd\" fill-opacity=\"1\" /><path clip-path=\"url(#clip640)\" d=\"M 0 0 M134.413 917.268 Q131.479 917.268 129.993 920.165 Q128.526 923.042 128.526 928.835 Q128.526 934.609 129.993 937.505 Q131.479 940.383 134.413 940.383 Q137.366 940.383 138.833 937.505 Q140.319 934.609 140.319 928.835 Q140.319 923.042 138.833 920.165 Q137.366 917.268 134.413 917.268 M134.413 914.259 Q139.134 914.259 141.617 918.002 Q144.118 921.726 144.118 928.835 Q144.118 935.925 141.617 939.668 Q139.134 943.392 134.413 943.392 Q129.693 943.392 127.191 939.668 Q124.708 935.925 124.708 928.835 Q124.708 921.726 127.191 918.002 Q129.693 914.259 134.413 914.259 Z\" fill=\"#000000\" fill-rule=\"evenodd\" fill-opacity=\"1\" /><path clip-path=\"url(#clip640)\" d=\"M 0 0 M922.171 812.096 L960.411 812.096 L960.411 818.983 L930.354 818.983 L930.354 836.888 L959.156 836.888 L959.156 843.774 L930.354 843.774 L930.354 865.689 L961.141 865.689 L961.141 872.576 L922.171 872.576 L922.171 812.096 Z\" fill=\"#000000\" fill-rule=\"evenodd\" fill-opacity=\"1\" /><path clip-path=\"url(#clip640)\" d=\"M 0 0 M997.882 828.543 L997.882 835.591 Q994.723 833.971 991.32 833.161 Q987.917 832.351 984.271 832.351 Q978.722 832.351 975.926 834.052 Q973.172 835.753 973.172 839.156 Q973.172 841.749 975.157 843.247 Q977.142 844.706 983.137 846.043 L985.689 846.61 Q993.629 848.311 996.951 851.43 Q1000.31 854.509 1000.31 860.059 Q1000.31 866.378 995.29 870.064 Q990.307 873.751 981.557 873.751 Q977.911 873.751 973.941 873.022 Q970.012 872.333 965.637 870.915 L965.637 863.218 Q969.769 865.365 973.779 866.459 Q977.79 867.512 981.719 867.512 Q986.985 867.512 989.821 865.73 Q992.657 863.907 992.657 860.626 Q992.657 857.588 990.591 855.967 Q988.565 854.347 981.638 852.848 L979.046 852.24 Q972.119 850.782 969.04 847.784 Q965.961 844.746 965.961 839.48 Q965.961 833.08 970.498 829.596 Q975.035 826.112 983.38 826.112 Q987.512 826.112 991.158 826.72 Q994.804 827.327 997.882 828.543 Z\" fill=\"#000000\" fill-rule=\"evenodd\" fill-opacity=\"1\" /><path clip-path=\"url(#clip640)\" d=\"M 0 0 M1040.78 828.948 L1040.78 835.915 Q1037.62 834.173 1034.42 833.323 Q1031.26 832.432 1028.02 832.432 Q1020.77 832.432 1016.76 837.05 Q1012.75 841.627 1012.75 849.931 Q1012.75 858.236 1016.76 862.854 Q1020.77 867.431 1028.02 867.431 Q1031.26 867.431 1034.42 866.581 Q1037.62 865.689 1040.78 863.948 L1040.78 870.834 Q1037.66 872.292 1034.3 873.022 Q1030.98 873.751 1027.21 873.751 Q1016.96 873.751 1010.93 867.31 Q1004.89 860.869 1004.89 849.931 Q1004.89 838.832 1010.97 832.472 Q1017.08 826.112 1027.7 826.112 Q1031.14 826.112 1034.42 826.841 Q1037.7 827.53 1040.78 828.948 Z\" fill=\"#000000\" fill-rule=\"evenodd\" fill-opacity=\"1\" /><path clip-path=\"url(#clip640)\" d=\"M 0 0 M1069.22 849.769 Q1060.19 849.769 1056.7 851.835 Q1053.22 853.901 1053.22 858.884 Q1053.22 862.854 1055.81 865.203 Q1058.44 867.512 1062.94 867.512 Q1069.14 867.512 1072.86 863.137 Q1076.63 858.722 1076.63 851.43 L1076.63 849.769 L1069.22 849.769 M1084.09 846.691 L1084.09 872.576 L1076.63 872.576 L1076.63 865.689 Q1074.08 869.821 1070.27 871.806 Q1066.46 873.751 1060.95 873.751 Q1053.99 873.751 1049.86 869.862 Q1045.76 865.933 1045.76 859.37 Q1045.76 851.714 1050.87 847.825 Q1056.01 843.936 1066.18 843.936 L1076.63 843.936 L1076.63 843.207 Q1076.63 838.062 1073.23 835.267 Q1069.87 832.432 1063.75 832.432 Q1059.86 832.432 1056.17 833.363 Q1052.49 834.295 1049.09 836.158 L1049.09 829.272 Q1053.18 827.692 1057.03 826.922 Q1060.87 826.112 1064.52 826.112 Q1074.36 826.112 1079.22 831.216 Q1084.09 836.32 1084.09 846.691 Z\" fill=\"#000000\" fill-rule=\"evenodd\" fill-opacity=\"1\" /><path clip-path=\"url(#clip640)\" d=\"M 0 0 M1091.9 809.544 L1099.36 809.544 L1099.36 872.576 L1091.9 872.576 L1091.9 809.544 Z\" fill=\"#000000\" fill-rule=\"evenodd\" fill-opacity=\"1\" /><path clip-path=\"url(#clip640)\" d=\"M 0 0 M1127.79 849.769 Q1118.76 849.769 1115.28 851.835 Q1111.79 853.901 1111.79 858.884 Q1111.79 862.854 1114.39 865.203 Q1117.02 867.512 1121.52 867.512 Q1127.71 867.512 1131.44 863.137 Q1135.21 858.722 1135.21 851.43 L1135.21 849.769 L1127.79 849.769 M1142.66 846.691 L1142.66 872.576 L1135.21 872.576 L1135.21 865.689 Q1132.66 869.821 1128.85 871.806 Q1125.04 873.751 1119.53 873.751 Q1112.56 873.751 1108.43 869.862 Q1104.34 865.933 1104.34 859.37 Q1104.34 851.714 1109.44 847.825 Q1114.59 843.936 1124.76 843.936 L1135.21 843.936 L1135.21 843.207 Q1135.21 838.062 1131.81 835.267 Q1128.44 832.432 1122.33 832.432 Q1118.44 832.432 1114.75 833.363 Q1111.06 834.295 1107.66 836.158 L1107.66 829.272 Q1111.75 827.692 1115.6 826.922 Q1119.45 826.112 1123.1 826.112 Q1132.94 826.112 1137.8 831.216 Q1142.66 836.32 1142.66 846.691 Z\" fill=\"#000000\" fill-rule=\"evenodd\" fill-opacity=\"1\" /><path clip-path=\"url(#clip640)\" d=\"M 0 0 M1177.18 812.096 L1185.36 812.096 L1185.36 865.689 L1214.81 865.689 L1214.81 872.576 L1177.18 872.576 L1177.18 812.096 Z\" fill=\"#000000\" fill-rule=\"evenodd\" fill-opacity=\"1\" /><path clip-path=\"url(#clip640)\" d=\"M 0 0 M1238.75 832.432 Q1232.75 832.432 1229.27 837.131 Q1225.79 841.789 1225.79 849.931 Q1225.79 858.074 1229.23 862.773 Q1232.71 867.431 1238.75 867.431 Q1244.7 867.431 1248.19 862.732 Q1251.67 858.033 1251.67 849.931 Q1251.67 841.87 1248.19 837.171 Q1244.7 832.432 1238.75 832.432 M1238.75 826.112 Q1248.47 826.112 1254.02 832.432 Q1259.57 838.751 1259.57 849.931 Q1259.57 861.071 1254.02 867.431 Q1248.47 873.751 1238.75 873.751 Q1228.99 873.751 1223.44 867.431 Q1217.93 861.071 1217.93 849.931 Q1217.93 838.751 1223.44 832.432 Q1228.99 826.112 1238.75 826.112 Z\" fill=\"#000000\" fill-rule=\"evenodd\" fill-opacity=\"1\" /><path clip-path=\"url(#clip640)\" d=\"M 0 0 M1297.24 849.364 Q1297.24 841.263 1293.88 836.807 Q1290.56 832.351 1284.52 832.351 Q1278.53 832.351 1275.17 836.807 Q1271.84 841.263 1271.84 849.364 Q1271.84 857.426 1275.17 861.882 Q1278.53 866.338 1284.52 866.338 Q1290.56 866.338 1293.88 861.882 Q1297.24 857.426 1297.24 849.364 M1304.7 866.945 Q1304.7 878.531 1299.55 884.162 Q1294.41 889.833 1283.8 889.833 Q1279.87 889.833 1276.38 889.225 Q1272.9 888.658 1269.62 887.443 L1269.62 880.192 Q1272.9 881.974 1276.1 882.825 Q1279.3 883.675 1282.62 883.675 Q1289.95 883.675 1293.6 879.827 Q1297.24 876.019 1297.24 868.282 L1297.24 864.596 Q1294.94 868.606 1291.33 870.591 Q1287.72 872.576 1282.7 872.576 Q1274.36 872.576 1269.25 866.216 Q1264.15 859.856 1264.15 849.364 Q1264.15 838.832 1269.25 832.472 Q1274.36 826.112 1282.7 826.112 Q1287.72 826.112 1291.33 828.097 Q1294.94 830.082 1297.24 834.092 L1297.24 827.206 L1304.7 827.206 L1304.7 866.945 Z\" fill=\"#000000\" fill-rule=\"evenodd\" fill-opacity=\"1\" /><path clip-path=\"url(#clip640)\" d=\"M 0 0 M1333.14 849.769 Q1324.1 849.769 1320.62 851.835 Q1317.13 853.901 1317.13 858.884 Q1317.13 862.854 1319.73 865.203 Q1322.36 867.512 1326.86 867.512 Q1333.05 867.512 1336.78 863.137 Q1340.55 858.722 1340.55 851.43 L1340.55 849.769 L1333.14 849.769 M1348 846.691 L1348 872.576 L1340.55 872.576 L1340.55 865.689 Q1338 869.821 1334.19 871.806 Q1330.38 873.751 1324.87 873.751 Q1317.9 873.751 1313.77 869.862 Q1309.68 865.933 1309.68 859.37 Q1309.68 851.714 1314.78 847.825 Q1319.93 843.936 1330.1 843.936 L1340.55 843.936 L1340.55 843.207 Q1340.55 838.062 1337.15 835.267 Q1333.78 832.432 1327.67 832.432 Q1323.78 832.432 1320.09 833.363 Q1316.4 834.295 1313 836.158 L1313 829.272 Q1317.09 827.692 1320.94 826.922 Q1324.79 826.112 1328.44 826.112 Q1338.28 826.112 1343.14 831.216 Q1348 836.32 1348 846.691 Z\" fill=\"#000000\" fill-rule=\"evenodd\" fill-opacity=\"1\" /><path clip-path=\"url(#clip640)\" d=\"M 0 0 M1382.11 834.173 Q1380.85 833.444 1379.36 833.12 Q1377.9 832.756 1376.12 832.756 Q1369.8 832.756 1366.39 836.888 Q1363.03 840.979 1363.03 848.676 L1363.03 872.576 L1355.54 872.576 L1355.54 827.206 L1363.03 827.206 L1363.03 834.254 Q1365.38 830.123 1369.15 828.138 Q1372.92 826.112 1378.3 826.112 Q1379.07 826.112 1380 826.234 Q1380.94 826.315 1382.07 826.517 L1382.11 834.173 Z\" fill=\"#000000\" fill-rule=\"evenodd\" fill-opacity=\"1\" /><path clip-path=\"url(#clip640)\" d=\"M 0 0 M1399.29 806.222 L1407.35 806.222 L1394.14 821.454 L1387.94 821.454 L1399.29 806.222 M1389.93 827.206 L1397.38 827.206 L1397.38 872.576 L1389.93 872.576 L1389.93 827.206 M1393.66 826.112 L1393.66 826.112 Z\" fill=\"#000000\" fill-rule=\"evenodd\" fill-opacity=\"1\" /><path clip-path=\"url(#clip640)\" d=\"M 0 0 M1422.54 814.324 L1422.54 827.206 L1437.89 827.206 L1437.89 832.999 L1422.54 832.999 L1422.54 857.628 Q1422.54 863.178 1424.04 864.758 Q1425.58 866.338 1430.24 866.338 L1437.89 866.338 L1437.89 872.576 L1430.24 872.576 Q1421.61 872.576 1418.33 869.376 Q1415.04 866.135 1415.04 857.628 L1415.04 832.999 L1409.58 832.999 L1409.58 827.206 L1415.04 827.206 L1415.04 814.324 L1422.54 814.324 Z\" fill=\"#000000\" fill-rule=\"evenodd\" fill-opacity=\"1\" /><path clip-path=\"url(#clip640)\" d=\"M 0 0 M1481.03 835.915 Q1483.83 830.892 1487.72 828.502 Q1491.61 826.112 1496.87 826.112 Q1503.96 826.112 1507.81 831.095 Q1511.66 836.037 1511.66 845.192 L1511.66 872.576 L1504.16 872.576 L1504.16 845.435 Q1504.16 838.913 1501.86 835.753 Q1499.55 832.594 1494.81 832.594 Q1489.01 832.594 1485.65 836.442 Q1482.29 840.29 1482.29 846.934 L1482.29 872.576 L1474.8 872.576 L1474.8 845.435 Q1474.8 838.872 1472.49 835.753 Q1470.18 832.594 1465.36 832.594 Q1459.64 832.594 1456.28 836.482 Q1452.92 840.331 1452.92 846.934 L1452.92 872.576 L1445.43 872.576 L1445.43 827.206 L1452.92 827.206 L1452.92 834.254 Q1455.47 830.082 1459.04 828.097 Q1462.6 826.112 1467.5 826.112 Q1472.45 826.112 1475.89 828.624 Q1479.37 831.135 1481.03 835.915 Z\" fill=\"#000000\" fill-rule=\"evenodd\" fill-opacity=\"1\" /><path clip-path=\"url(#clip640)\" d=\"M 0 0 M1519.48 827.206 L1526.93 827.206 L1526.93 872.576 L1519.48 872.576 L1519.48 827.206 M1519.48 809.544 L1526.93 809.544 L1526.93 818.983 L1519.48 818.983 L1519.48 809.544 Z\" fill=\"#000000\" fill-rule=\"evenodd\" fill-opacity=\"1\" /><path clip-path=\"url(#clip640)\" d=\"M 0 0 M1567.4 828.948 L1567.4 835.915 Q1564.24 834.173 1561.04 833.323 Q1557.88 832.432 1554.64 832.432 Q1547.39 832.432 1543.38 837.05 Q1539.37 841.627 1539.37 849.931 Q1539.37 858.236 1543.38 862.854 Q1547.39 867.431 1554.64 867.431 Q1557.88 867.431 1561.04 866.581 Q1564.24 865.689 1567.4 863.948 L1567.4 870.834 Q1564.28 872.292 1560.92 873.022 Q1557.6 873.751 1553.83 873.751 Q1543.58 873.751 1537.54 867.31 Q1531.51 860.869 1531.51 849.931 Q1531.51 838.832 1537.58 832.472 Q1543.7 826.112 1554.31 826.112 Q1557.76 826.112 1561.04 826.841 Q1564.32 827.53 1567.4 828.948 Z\" fill=\"#000000\" fill-rule=\"evenodd\" fill-opacity=\"1\" /><path clip-path=\"url(#clip640)\" d=\"M 0 0 M1595.84 849.769 Q1586.8 849.769 1583.32 851.835 Q1579.84 853.901 1579.84 858.884 Q1579.84 862.854 1582.43 865.203 Q1585.06 867.512 1589.56 867.512 Q1595.76 867.512 1599.48 863.137 Q1603.25 858.722 1603.25 851.43 L1603.25 849.769 L1595.84 849.769 M1610.7 846.691 L1610.7 872.576 L1603.25 872.576 L1603.25 865.689 Q1600.7 869.821 1596.89 871.806 Q1593.08 873.751 1587.57 873.751 Q1580.6 873.751 1576.47 869.862 Q1572.38 865.933 1572.38 859.37 Q1572.38 851.714 1577.49 847.825 Q1582.63 843.936 1592.8 843.936 L1603.25 843.936 L1603.25 843.207 Q1603.25 838.062 1599.85 835.267 Q1596.48 832.432 1590.37 832.432 Q1586.48 832.432 1582.79 833.363 Q1579.11 834.295 1575.7 836.158 L1575.7 829.272 Q1579.79 827.692 1583.64 826.922 Q1587.49 826.112 1591.14 826.112 Q1600.98 826.112 1605.84 831.216 Q1610.7 836.32 1610.7 846.691 Z\" fill=\"#000000\" fill-rule=\"evenodd\" fill-opacity=\"1\" /><polyline clip-path=\"url(#clip643)\" style=\"stroke:#009af9; stroke-width:4; stroke-opacity:1; fill:none\" points=\"\n",
       "  241.608,939.405 583.218,1027.92 924.827,1116.44 1266.44,1204.96 1608.05,1293.48 1949.66,1382 2291.27,1470.51 \n",
       "  \"/>\n",
       "<path clip-path=\"url(#clip640)\" d=\"\n",
       "M2018.77 1063.2 L2280.33 1063.2 L2280.33 942.238 L2018.77 942.238  Z\n",
       "  \" fill=\"#ffffff\" fill-rule=\"evenodd\" fill-opacity=\"1\"/>\n",
       "<polyline clip-path=\"url(#clip640)\" style=\"stroke:#000000; stroke-width:4; stroke-opacity:1; fill:none\" points=\"\n",
       "  2018.77,1063.2 2280.33,1063.2 2280.33,942.238 2018.77,942.238 2018.77,1063.2 \n",
       "  \"/>\n",
       "<polyline clip-path=\"url(#clip640)\" style=\"stroke:#009af9; stroke-width:4; stroke-opacity:1; fill:none\" points=\"\n",
       "  2042.91,1002.72 2187.75,1002.72 \n",
       "  \"/>\n",
       "<path clip-path=\"url(#clip640)\" d=\"M 0 0 M2232.05 998.193 Q2231.2 997.892 2230.34 997.66 Q2228.05 997.058 2225.6 997.058 Q2221.36 997.058 2219 999.35 Q2216.8 1001.48 2216.38 1005.39 L2232.05 1005.39 L2232.05 1008.72 L2216.38 1008.72 Q2216.8 1012.64 2219 1014.77 Q2221.36 1017.06 2225.6 1017.06 Q2228.56 1017.06 2230.34 1016.46 L2232.05 1015.88 L2232.05 1019.74 L2230.23 1020.16 Q2227.82 1020.67 2225.34 1020.67 Q2219.14 1020.67 2215.53 1017.06 Q2211.89 1013.45 2211.89 1007.06 Q2211.89 1000.67 2215.53 997.058 Q2219.14 993.447 2225.34 993.447 Q2227.68 993.447 2230.23 993.956 Q2231.15 994.142 2232.05 994.419 L2232.05 998.193 Z\" fill=\"#000000\" fill-rule=\"evenodd\" fill-opacity=\"1\" /></svg>\n"
      ]
     },
     "execution_count": 343,
     "metadata": {},
     "output_type": "execute_result"
    }
   ],
   "source": [
    "A = [2 1; -1 2]\n",
    "b = [2; 2]\n",
    "t = 10^(-3)\n",
    "\n",
    "resolucao,tolerancias = gauss_seidel_tol(A, b, t)\n",
    "\n",
    "inter_list = [1 : size(tolerancias)[1]]\n",
    "\n",
    "p1 = plot(inter_list, tolerancias, title = \"Escala Linear\", label = \"ϵ\")\n",
    "p2 = plot(inter_list, tolerancias, yaxis = :log, title = \"Escala Logarítmica\", label = \"ϵ\")\n",
    "plot(p1, p2, layout=(2,1))"
   ]
  },
  {
   "cell_type": "markdown",
   "metadata": {},
   "source": [
    "## 3) Queremos descobrir a temperatura em diferentes pontos de um lago ($x_1$, $x_2$, $x_3$ e $x_4$), mas só foi possível medir a temperatura nas margens do lago (olhe a figura na lista). Quando o calor está em equilíbrio, a temperatura em cada ponto no interior do lago é aproximadamente a média das temperaturas dos 4 pontos vizinhos."
   ]
  },
  {
   "cell_type": "code",
   "execution_count": 344,
   "metadata": {},
   "outputs": [
    {
     "data": {
      "text/plain": [
       "lake (generic function with 1 method)"
      ]
     },
     "execution_count": 344,
     "metadata": {},
     "output_type": "execute_result"
    }
   ],
   "source": [
    "function lake(row, col, up, down, left, right)\n",
    "    size = row*col\n",
    "    A = zeros(size, size)\n",
    "    b = zeros(size, 1)\n",
    "    \n",
    "    for k = 1 : size\n",
    "        A[k,k] = 4\n",
    "        \n",
    "        if(k-col < 1)\n",
    "            b[k] += up\n",
    "        else\n",
    "            A[k,k-col] = -1\n",
    "        end\n",
    "        \n",
    "        if(k+col > size)\n",
    "            b[k] += down\n",
    "        else\n",
    "            A[k,k+col] = -1\n",
    "        end\n",
    "        \n",
    "        if(k%col == 0)\n",
    "            b[k] += right\n",
    "        else\n",
    "            A[k,k+1] = -1\n",
    "        end\n",
    "        \n",
    "        if(k%col == 1)\n",
    "            b[k] += left\n",
    "        else\n",
    "            A[k,k-1] = -1\n",
    "        end\n",
    "    end\n",
    "    \n",
    "    return A, b\n",
    "end"
   ]
  },
  {
   "cell_type": "code",
   "execution_count": 345,
   "metadata": {},
   "outputs": [
    {
     "data": {
      "text/plain": [
       "9×9 Array{Float64,2}:\n",
       " -0.125  -0.046875  -0.0117188  -0.046875  …  -0.0117188  -0.00585938  0.0\n",
       " -0.25   -0.125     -0.03125    -0.0625       -0.015625   -0.0117188   0.0\n",
       "  0.0    -0.25      -0.0625      0.0           0.0        -0.015625    0.0\n",
       " -0.25   -0.0625    -0.015625   -0.125        -0.03125    -0.0117188   0.0\n",
       "  0.0    -0.25      -0.0625     -0.25         -0.0625     -0.03125     0.0\n",
       "  0.0     0.0       -0.25        0.0       …   0.0        -0.0625      0.0\n",
       "  0.0     0.0        0.0        -0.25         -0.0625     -0.015625    0.0\n",
       "  0.0     0.0        0.0         0.0          -0.25       -0.0625      0.0\n",
       "  0.0     0.0        0.0         0.0           0.0        -0.25        0.0"
      ]
     },
     "execution_count": 345,
     "metadata": {},
     "output_type": "execute_result"
    }
   ],
   "source": [
    "A,b = lake(3, 3, 20, 30, 25, 20)\n",
    "t = 10^(-3)\n",
    "K = A - UpperTriangular(A)\n",
    "\n",
    "inv(UpperTriangular(A))*K"
   ]
  },
  {
   "cell_type": "markdown",
   "metadata": {},
   "source": [
    "### a) Modele o problema com um sistema linear na forma $Ax = b$."
   ]
  },
  {
   "cell_type": "markdown",
   "metadata": {},
   "source": [
    "O sistema respectivo à figura que descreve o lago é dado por:\n",
    "\n",
    "\\begin{equation}\n",
    "    \\begin{cases}\n",
    "        x_1 = \\frac{x_2 + x_3 + 5 + 15}{4} \\\\\n",
    "        x_2 = \\frac{x_1 + x_4 + 15 + 35}{4} \\\\\n",
    "        x_3 = \\frac{x_1 + x_4 + 5 + 10}{4} \\\\\n",
    "        x_4 = \\frac{x_2 + x_3 + 10 + 35}{4} \\\\\n",
    "    \\end{cases}\n",
    "    \\quad\n",
    "    \\longrightarrow\n",
    "    \\quad\n",
    "    \\begin{cases}\n",
    "        x_1 = \\frac{x_2 + x_3 + 20}{4} \\\\\n",
    "        x_2 = \\frac{x_1 + x_4 + 50}{4} \\\\\n",
    "        x_3 = \\frac{x_1 + x_4 + 15}{4} \\\\\n",
    "        x_4 = \\frac{x_2 + x_3 + 45}{4} \\\\\n",
    "    \\end{cases}\n",
    "    \\quad\n",
    "    \\longrightarrow\n",
    "\\end{equation}\n",
    "\n",
    "\\begin{equation}\n",
    "    \\begin{cases}\n",
    "        4x_1 = x_2 + x_3 + 20 \\\\\n",
    "        4x_2 = x_1 + x_4 + 50 \\\\\n",
    "        4x_3 = x_1 + x_4 + 15 \\\\\n",
    "        4x_4 = x_2 + x_3 + 45 \\\\\n",
    "    \\end{cases}\n",
    "    \\quad\n",
    "    \\longrightarrow\n",
    "    \\quad\n",
    "    \\begin{cases}\n",
    "        4x_1 - x_2 - x_3 = 20 \\\\\n",
    "        4x_2 - x_1 - x_4 = 50 \\\\\n",
    "        4x_3 - x_1 - x_4 = 15 \\\\\n",
    "        4x_4 - x_2 - x_3 = 45 \\\\\n",
    "    \\end{cases}\n",
    "    \\quad\n",
    "    \\longrightarrow\n",
    "\\end{equation}\n",
    "\n",
    "\\begin{equation}\n",
    "    \\begin{cases}\n",
    "         4x_1 -  x_2 -  x_3 = 20 \\\\\n",
    "        - x_1 + 4x_2 -  x_4 = 50 \\\\\n",
    "        - x_1 + 4x_3 -  x_4 = 15 \\\\\n",
    "        - x_2 -  x_3 + 4x_4 = 45 \\\\\n",
    "    \\end{cases}\n",
    "    \\quad\n",
    "    \\longrightarrow\n",
    "    \\quad\n",
    "    \\begin{bmatrix}\n",
    "         4 & -1 & -1 &  0 \\\\\n",
    "        -1 &  4 &  0 & -1 \\\\\n",
    "        -1 &  0 &  4 & -1 \\\\\n",
    "         0 & -1 & -1 &  4 \\\\\n",
    "    \\end{bmatrix}\n",
    "    \\cdot\n",
    "    \\begin{bmatrix}\n",
    "         x_1 \\\\\n",
    "         x_2 \\\\\n",
    "         x_3 \\\\\n",
    "         x_4 \\\\\n",
    "    \\end{bmatrix}\n",
    "    =\n",
    "    \\begin{bmatrix}\n",
    "         20 \\\\\n",
    "         50 \\\\\n",
    "         15 \\\\\n",
    "         45 \\\\\n",
    "    \\end{bmatrix}\n",
    "\\end{equation}"
   ]
  },
  {
   "cell_type": "markdown",
   "metadata": {},
   "source": [
    "### b) Podemos aplicar Gauss-Seidel/Gauss-Jacobi? ($A$ é diagonal dominante?)"
   ]
  },
  {
   "cell_type": "markdown",
   "metadata": {},
   "source": [
    "Sim, pois é verdade que, para cada linha $m$ de $A$,\n",
    "\n",
    "\\begin{equation}\n",
    "    |a_{m,\\,m}| > \\sum_{n \\ne m} |a_{m,\\,n}|\n",
    "    \\,\n",
    "    .\n",
    "\\end{equation}"
   ]
  },
  {
   "cell_type": "markdown",
   "metadata": {},
   "source": [
    "### c) Determine a temperatura dos $4$ pontos no interior do lago usando Gauss-Seidel e Gauss-Jacobi com tolerância ($||x^{(n)} - x^{(n-1)}||$) menor que $10^{-3}$."
   ]
  },
  {
   "cell_type": "code",
   "execution_count": 346,
   "metadata": {},
   "outputs": [
    {
     "name": "stdout",
     "output_type": "stream",
     "text": [
      "[13.124959468841553; 20.624918937683105; 11.874918937683105; 19.37483787536621]\n",
      "[13.124504089355469; 20.62450408935547; 11.874504089355469; 19.37450408935547]\n"
     ]
    }
   ],
   "source": [
    "A,b = lake(2, 2, 15, 10, 5, 35)\n",
    "t = 10^(-3)\n",
    "\n",
    "println(gauss_seidel_tol(A, b, t)[1])\n",
    "println(gauss_jacobi_tol(A, b, t)[1])"
   ]
  },
  {
   "cell_type": "markdown",
   "metadata": {},
   "source": [
    "### d) Agora a temperatura das margens mudou e queremos discretizar o lago ainda mais (figura abaixo). Determine a temperatura dos vértices do interior do quadrado com o método de Gauss-Seidel e Gauss-Jacobi tal que a tolerância=$||x^{(n)} − x^{(n−1)}||$ seja menor que $10^{−3}$."
   ]
  },
  {
   "cell_type": "code",
   "execution_count": 347,
   "metadata": {},
   "outputs": [
    {
     "name": "stdout",
     "output_type": "stream",
     "text": [
      "[22.656462384513908; 21.762079780682893; 21.28624364438183; 20.893324063963515; 20.46951337494066; 23.863769757372733; 23.105647517853896; 22.489639580916958; 21.81763103391216; 20.984821233178273; 24.6930035511412; 24.307238648515238; 23.749265620972455; 22.903014649729073; 21.652385316867647; 25.601074646713023; 25.681267397546524; 25.297536794249528; 24.393205014928945; 22.7220725740642; 27.030119435545565; 27.51949489284962; 27.366837531317387; 26.650685627675927; 24.84310795277659]\n",
      "[22.65604377482608; 21.761391670377964; 21.285475273046732; 20.89270480169776; 20.469175087964242; 23.86308164706062; 23.104494960837535; 22.48840105637055; 21.81661617297061; 20.98429376828429; 24.692235179786092; 24.306000123949616; 23.747912473027995; 22.901959719922544; 21.65183113939575; 25.600455384421025; 25.680252536571384; 25.296481864424692; 24.392373748704458; 22.721667505644692; 27.029781148549755; 27.518967427930626; 27.366283353827416; 26.650280559250426; 24.842912461687916]\n"
     ]
    }
   ],
   "source": [
    "A,b = lake(5, 5, 20, 30, 25, 20)\n",
    "t = 10^(-3)\n",
    "\n",
    "println(gauss_seidel_tol(A, b, t)[1])\n",
    "println(gauss_jacobi_tol(A, b, t)[1])"
   ]
  },
  {
   "cell_type": "markdown",
   "metadata": {},
   "source": [
    "### e) Você consegue discretizar com mais nós? Qual é o maior número de nós que você consegue discretizar e rodar na sua máquina em menos de 2 minutos usando Gauss-Jacobi ou Gauss-Seidel com tolerância $≤ 10^{−3}$? \n",
    "### (Dica: para acelerar os métodos, tente usar o fato que a matriz tem muitos zeros.)"
   ]
  },
  {
   "cell_type": "markdown",
   "metadata": {},
   "source": [
    "## 4) Problema de distribuição de água. Uma companhia de distribuição de ́água recebeu as novas demandas de fluxo, medidas em litros por minuto (números no topo da figura), dos bairros que ela atende para 2022. Ela precisa determinar o fluxo de água em cada cano (as arestas da figura)."
   ]
  },
  {
   "cell_type": "markdown",
   "metadata": {},
   "source": [
    "### a) Faça a modelagem sem o cano pontilhado $x_9$ e resolva o sistema linear com o método de Gauss-Jacobi e Gauss-Seidel com tolerância de $10^{−3}$. Os métodos convergem?"
   ]
  },
  {
   "cell_type": "markdown",
   "metadata": {},
   "source": [
    "\\begin{equation}\n",
    "    \\begin{cases}\n",
    "        x_1 = 2000 + 5000 \\\\\n",
    "        x_2 = 1500 + 2000 \\\\\n",
    "        x_3 = 1000 + 8000 \\\\\n",
    "        x_4 = x_1 + 30000 \\\\\n",
    "        x_5 = x_3 + 3000 \\\\\n",
    "        x_6 = x_2 + x_4 \\\\\n",
    "        x_7 = x_5 + 3000 \\\\\n",
    "        x_8 = x_6 + x_7 + 500 \\\\\n",
    "    \\end{cases}\n",
    "    \\quad\n",
    "    \\longrightarrow\n",
    "\\end{equation}\n",
    "\n",
    "\\begin{equation}\n",
    "    \\begin{bmatrix}\n",
    "         1 &  0 &  0 &  0 &  0 &  0 &  0 & 0 \\\\\n",
    "         0 &  1 &  0 &  0 &  0 &  0 &  0 & 0 \\\\\n",
    "         0 &  0 &  1 &  0 &  0 &  0 &  0 & 0 \\\\\n",
    "        -1 &  0 &  0 &  1 &  0 &  0 &  0 & 0 \\\\\n",
    "         0 &  0 & -1 &  0 &  1 &  0 &  0 & 0 \\\\\n",
    "         0 & -1 &  0 & -1 &  0 &  1 &  0 & 0 \\\\\n",
    "         0 &  0 &  0 &  0 & -1 &  0 &  1 & 0 \\\\\n",
    "         0 &  0 &  0 &  0 &  0 & -1 & -1 & 1 \\\\\n",
    "    \\end{bmatrix}\n",
    "    \\cdot\n",
    "    \\begin{bmatrix}\n",
    "         x_1 \\\\\n",
    "         x_2 \\\\\n",
    "         x_3 \\\\\n",
    "         x_4 \\\\\n",
    "         x_5 \\\\\n",
    "         x_6 \\\\\n",
    "         x_7 \\\\\n",
    "         x_8 \\\\\n",
    "    \\end{bmatrix}\n",
    "    =\n",
    "    \\begin{bmatrix}\n",
    "         7000 \\\\\n",
    "         3500 \\\\\n",
    "         9000 \\\\\n",
    "         30000 \\\\\n",
    "         3000 \\\\\n",
    "         0 \\\\\n",
    "         3000 \\\\\n",
    "         500 \\\\\n",
    "    \\end{bmatrix}\n",
    "\\end{equation}"
   ]
  },
  {
   "cell_type": "code",
   "execution_count": 348,
   "metadata": {},
   "outputs": [
    {
     "name": "stdout",
     "output_type": "stream",
     "text": [
      "[7000.0; 3500.0; 9000.0; 37000.0; 12000.0; 40500.0; 15000.0; 56000.0]\n",
      "[7000.0; 3500.0; 9000.0; 37000.0; 12000.0; 40500.0; 15000.0; 56000.0]\n"
     ]
    }
   ],
   "source": [
    "A = [\n",
    "     1  0  0  0  0  0  0  0;\n",
    "     0  1  0  0  0  0  0  0;\n",
    "     0  0  1  0  0  0  0  0;\n",
    "    -1  0  0  1  0  0  0  0;\n",
    "     0  0 -1  0  1  0  0  0;\n",
    "     0 -1  0 -1  0  1  0  0;\n",
    "     0  0  0  0 -1  0  1  0;\n",
    "     0  0  0  0  0 -1 -1  1\n",
    "    ]\n",
    "b = [7000; 3500; 9000; 30000; 3000; 0; 3000; 500]\n",
    "t = 10^(-3)\n",
    "\n",
    "println(gauss_seidel_tol(A, b, t)[1])\n",
    "println(gauss_jacobi_tol(A, b, t)[1])"
   ]
  },
  {
   "cell_type": "markdown",
   "metadata": {},
   "source": [
    "Os métodos convergem porque apesar de uma matriz ser estritamente diagonal dominante garantir sua convergência, o inverso não é necessariamente verdade; ademais, como a estrutura de árvore permite que todas as variáveis sejam ultimamente escritas como a soma de apenas constantes, o sistema já está resolvido pela própria natureza da estrutura."
   ]
  },
  {
   "cell_type": "markdown",
   "metadata": {},
   "source": [
    "## 5) Determine uma matriz $M$ de posto $1$ (tal que $M = B.C^t$) que melhor representa a matriz $A$ e o erro para:"
   ]
  },
  {
   "cell_type": "markdown",
   "metadata": {},
   "source": [
    "### a) $ A = \\begin{bmatrix}\n",
    "                     0 & 1 & 3 \\\\\n",
    "                     3 & 1 & 0\n",
    "             \\end{bmatrix}$"
   ]
  },
  {
   "cell_type": "code",
   "execution_count": 349,
   "metadata": {},
   "outputs": [
    {
     "data": {
      "text/plain": [
       "2×3 Array{Float64,2}:\n",
       " 1.50718  0.963313  1.38276\n",
       " 1.61724  1.03366   1.48373"
      ]
     },
     "execution_count": 349,
     "metadata": {},
     "output_type": "execute_result"
    }
   ],
   "source": [
    "A = [0 1 3; 3 1 0]\n",
    "n = 1\n",
    "\n",
    "B,C = compressão(A,n)\n",
    "B*C'"
   ]
  },
  {
   "cell_type": "markdown",
   "metadata": {},
   "source": [
    "### b) $ A = \\begin{bmatrix}\n",
    "                     0 & 1 & 3 & 2 \\\\\n",
    "                     2 & 3 & 1 & 0\n",
    "             \\end{bmatrix}$"
   ]
  },
  {
   "cell_type": "code",
   "execution_count": 350,
   "metadata": {},
   "outputs": [
    {
     "data": {
      "text/plain": [
       "2×4 Array{Float64,2}:\n",
       " 1.0  2.0  2.0  1.0\n",
       " 1.0  2.0  2.0  1.0"
      ]
     },
     "execution_count": 350,
     "metadata": {},
     "output_type": "execute_result"
    }
   ],
   "source": [
    "A = [0 1 3 2; 2 3 1 0]\n",
    "n = 1\n",
    "\n",
    "B,C = compressão(A,n)\n",
    "B*C'"
   ]
  },
  {
   "cell_type": "markdown",
   "metadata": {},
   "source": [
    "### c) Qual é a representação gráfica das soluções acima nos desenhos:"
   ]
  },
  {
   "cell_type": "code",
   "execution_count": 351,
   "metadata": {},
   "outputs": [
    {
     "data": {
      "image/svg+xml": [
       "<?xml version=\"1.0\" encoding=\"utf-8\"?>\n",
       "<svg xmlns=\"http://www.w3.org/2000/svg\" xmlns:xlink=\"http://www.w3.org/1999/xlink\" width=\"600\" height=\"400\" viewBox=\"0 0 2400 1600\">\n",
       "<defs>\n",
       "  <clipPath id=\"clip680\">\n",
       "    <rect x=\"0\" y=\"0\" width=\"2400\" height=\"1600\"/>\n",
       "  </clipPath>\n",
       "</defs>\n",
       "<path clip-path=\"url(#clip680)\" d=\"\n",
       "M0 1600 L2400 1600 L2400 0 L0 0  Z\n",
       "  \" fill=\"#ffffff\" fill-rule=\"evenodd\" fill-opacity=\"1\"/>\n",
       "<defs>\n",
       "  <clipPath id=\"clip681\">\n",
       "    <rect x=\"480\" y=\"0\" width=\"1681\" height=\"1600\"/>\n",
       "  </clipPath>\n",
       "</defs>\n",
       "<path clip-path=\"url(#clip680)\" d=\"\n",
       "M110.881 1486.45 L2352.76 1486.45 L2352.76 47.2441 L110.881 47.2441  Z\n",
       "  \" fill=\"#ffffff\" fill-rule=\"evenodd\" fill-opacity=\"1\"/>\n",
       "<defs>\n",
       "  <clipPath id=\"clip682\">\n",
       "    <rect x=\"110\" y=\"47\" width=\"2243\" height=\"1440\"/>\n",
       "  </clipPath>\n",
       "</defs>\n",
       "<polyline clip-path=\"url(#clip682)\" style=\"stroke:#000000; stroke-width:2; stroke-opacity:0.1; fill:none\" points=\"\n",
       "  290.658,1486.45 290.658,47.2441 \n",
       "  \"/>\n",
       "<polyline clip-path=\"url(#clip682)\" style=\"stroke:#000000; stroke-width:2; stroke-opacity:0.1; fill:none\" points=\"\n",
       "  918.098,1486.45 918.098,47.2441 \n",
       "  \"/>\n",
       "<polyline clip-path=\"url(#clip682)\" style=\"stroke:#000000; stroke-width:2; stroke-opacity:0.1; fill:none\" points=\"\n",
       "  1545.54,1486.45 1545.54,47.2441 \n",
       "  \"/>\n",
       "<polyline clip-path=\"url(#clip682)\" style=\"stroke:#000000; stroke-width:2; stroke-opacity:0.1; fill:none\" points=\"\n",
       "  2172.98,1486.45 2172.98,47.2441 \n",
       "  \"/>\n",
       "<polyline clip-path=\"url(#clip680)\" style=\"stroke:#000000; stroke-width:4; stroke-opacity:1; fill:none\" points=\"\n",
       "  110.881,1486.45 2352.76,1486.45 \n",
       "  \"/>\n",
       "<polyline clip-path=\"url(#clip680)\" style=\"stroke:#000000; stroke-width:4; stroke-opacity:1; fill:none\" points=\"\n",
       "  290.658,1486.45 290.658,1469.18 \n",
       "  \"/>\n",
       "<polyline clip-path=\"url(#clip680)\" style=\"stroke:#000000; stroke-width:4; stroke-opacity:1; fill:none\" points=\"\n",
       "  918.098,1486.45 918.098,1469.18 \n",
       "  \"/>\n",
       "<polyline clip-path=\"url(#clip680)\" style=\"stroke:#000000; stroke-width:4; stroke-opacity:1; fill:none\" points=\"\n",
       "  1545.54,1486.45 1545.54,1469.18 \n",
       "  \"/>\n",
       "<polyline clip-path=\"url(#clip680)\" style=\"stroke:#000000; stroke-width:4; stroke-opacity:1; fill:none\" points=\"\n",
       "  2172.98,1486.45 2172.98,1469.18 \n",
       "  \"/>\n",
       "<path clip-path=\"url(#clip680)\" d=\"M 0 0 M290.658 1515.64 Q287.047 1515.64 285.218 1519.2 Q283.412 1522.75 283.412 1529.87 Q283.412 1536.98 285.218 1540.55 Q287.047 1544.09 290.658 1544.09 Q294.292 1544.09 296.097 1540.55 Q297.926 1536.98 297.926 1529.87 Q297.926 1522.75 296.097 1519.2 Q294.292 1515.64 290.658 1515.64 M290.658 1511.93 Q296.468 1511.93 299.523 1516.54 Q302.602 1521.12 302.602 1529.87 Q302.602 1538.6 299.523 1543.21 Q296.468 1547.79 290.658 1547.79 Q284.847 1547.79 281.769 1543.21 Q278.713 1538.6 278.713 1529.87 Q278.713 1521.12 281.769 1516.54 Q284.847 1511.93 290.658 1511.93 Z\" fill=\"#000000\" fill-rule=\"evenodd\" fill-opacity=\"1\" /><path clip-path=\"url(#clip680)\" d=\"M 0 0 M908.48 1543.18 L916.119 1543.18 L916.119 1516.82 L907.809 1518.49 L907.809 1514.23 L916.073 1512.56 L920.749 1512.56 L920.749 1543.18 L928.387 1543.18 L928.387 1547.12 L908.48 1547.12 L908.48 1543.18 Z\" fill=\"#000000\" fill-rule=\"evenodd\" fill-opacity=\"1\" /><path clip-path=\"url(#clip680)\" d=\"M 0 0 M1540.19 1543.18 L1556.51 1543.18 L1556.51 1547.12 L1534.57 1547.12 L1534.57 1543.18 Q1537.23 1540.43 1541.81 1535.8 Q1546.42 1531.15 1547.6 1529.81 Q1549.84 1527.28 1550.72 1525.55 Q1551.63 1523.79 1551.63 1522.1 Q1551.63 1519.34 1549.68 1517.61 Q1547.76 1515.87 1544.66 1515.87 Q1542.46 1515.87 1540.01 1516.63 Q1537.58 1517.4 1534.8 1518.95 L1534.8 1514.23 Q1537.62 1513.09 1540.08 1512.51 Q1542.53 1511.93 1544.57 1511.93 Q1549.94 1511.93 1553.13 1514.62 Q1556.33 1517.31 1556.33 1521.8 Q1556.33 1523.93 1555.52 1525.85 Q1554.73 1527.74 1552.62 1530.34 Q1552.04 1531.01 1548.94 1534.23 Q1545.84 1537.42 1540.19 1543.18 Z\" fill=\"#000000\" fill-rule=\"evenodd\" fill-opacity=\"1\" /><path clip-path=\"url(#clip680)\" d=\"M 0 0 M2177.23 1528.49 Q2180.58 1529.2 2182.46 1531.47 Q2184.36 1533.74 2184.36 1537.07 Q2184.36 1542.19 2180.84 1544.99 Q2177.32 1547.79 2170.84 1547.79 Q2168.66 1547.79 2166.35 1547.35 Q2164.06 1546.93 2161.6 1546.08 L2161.6 1541.56 Q2163.55 1542.7 2165.86 1543.28 Q2168.18 1543.86 2170.7 1543.86 Q2175.1 1543.86 2177.39 1542.12 Q2179.7 1540.38 2179.7 1537.07 Q2179.7 1534.02 2177.55 1532.31 Q2175.42 1530.57 2171.6 1530.57 L2167.57 1530.57 L2167.57 1526.73 L2171.79 1526.73 Q2175.24 1526.73 2177.06 1525.36 Q2178.89 1523.97 2178.89 1521.38 Q2178.89 1518.72 2177 1517.31 Q2175.12 1515.87 2171.6 1515.87 Q2169.68 1515.87 2167.48 1516.29 Q2165.28 1516.7 2162.64 1517.58 L2162.64 1513.42 Q2165.31 1512.68 2167.62 1512.31 Q2169.96 1511.93 2172.02 1511.93 Q2177.34 1511.93 2180.44 1514.37 Q2183.55 1516.77 2183.55 1520.89 Q2183.55 1523.76 2181.9 1525.75 Q2180.26 1527.72 2177.23 1528.49 Z\" fill=\"#000000\" fill-rule=\"evenodd\" fill-opacity=\"1\" /><polyline clip-path=\"url(#clip682)\" style=\"stroke:#000000; stroke-width:2; stroke-opacity:0.1; fill:none\" points=\"\n",
       "  110.881,1371.04 2352.76,1371.04 \n",
       "  \"/>\n",
       "<polyline clip-path=\"url(#clip682)\" style=\"stroke:#000000; stroke-width:2; stroke-opacity:0.1; fill:none\" points=\"\n",
       "  110.881,968.243 2352.76,968.243 \n",
       "  \"/>\n",
       "<polyline clip-path=\"url(#clip682)\" style=\"stroke:#000000; stroke-width:2; stroke-opacity:0.1; fill:none\" points=\"\n",
       "  110.881,565.449 2352.76,565.449 \n",
       "  \"/>\n",
       "<polyline clip-path=\"url(#clip682)\" style=\"stroke:#000000; stroke-width:2; stroke-opacity:0.1; fill:none\" points=\"\n",
       "  110.881,162.654 2352.76,162.654 \n",
       "  \"/>\n",
       "<polyline clip-path=\"url(#clip680)\" style=\"stroke:#000000; stroke-width:4; stroke-opacity:1; fill:none\" points=\"\n",
       "  110.881,1486.45 110.881,47.2441 \n",
       "  \"/>\n",
       "<polyline clip-path=\"url(#clip680)\" style=\"stroke:#000000; stroke-width:4; stroke-opacity:1; fill:none\" points=\"\n",
       "  110.881,1371.04 137.783,1371.04 \n",
       "  \"/>\n",
       "<polyline clip-path=\"url(#clip680)\" style=\"stroke:#000000; stroke-width:4; stroke-opacity:1; fill:none\" points=\"\n",
       "  110.881,968.243 137.783,968.243 \n",
       "  \"/>\n",
       "<polyline clip-path=\"url(#clip680)\" style=\"stroke:#000000; stroke-width:4; stroke-opacity:1; fill:none\" points=\"\n",
       "  110.881,565.449 137.783,565.449 \n",
       "  \"/>\n",
       "<polyline clip-path=\"url(#clip680)\" style=\"stroke:#000000; stroke-width:4; stroke-opacity:1; fill:none\" points=\"\n",
       "  110.881,162.654 137.783,162.654 \n",
       "  \"/>\n",
       "<path clip-path=\"url(#clip680)\" d=\"M 0 0 M62.9365 1356.84 Q59.3254 1356.84 57.4967 1360.4 Q55.6912 1363.94 55.6912 1371.07 Q55.6912 1378.18 57.4967 1381.74 Q59.3254 1385.29 62.9365 1385.29 Q66.5707 1385.29 68.3763 1381.74 Q70.205 1378.18 70.205 1371.07 Q70.205 1363.94 68.3763 1360.4 Q66.5707 1356.84 62.9365 1356.84 M62.9365 1353.13 Q68.7467 1353.13 71.8022 1357.74 Q74.8809 1362.32 74.8809 1371.07 Q74.8809 1379.8 71.8022 1384.41 Q68.7467 1388.99 62.9365 1388.99 Q57.1264 1388.99 54.0477 1384.41 Q50.9921 1379.8 50.9921 1371.07 Q50.9921 1362.32 54.0477 1357.74 Q57.1264 1353.13 62.9365 1353.13 Z\" fill=\"#000000\" fill-rule=\"evenodd\" fill-opacity=\"1\" /><path clip-path=\"url(#clip680)\" d=\"M 0 0 M54.9736 981.588 L62.6124 981.588 L62.6124 955.222 L54.3023 956.889 L54.3023 952.63 L62.5661 950.963 L67.242 950.963 L67.242 981.588 L74.8809 981.588 L74.8809 985.523 L54.9736 985.523 L54.9736 981.588 Z\" fill=\"#000000\" fill-rule=\"evenodd\" fill-opacity=\"1\" /><path clip-path=\"url(#clip680)\" d=\"M 0 0 M58.5615 578.794 L74.8809 578.794 L74.8809 582.729 L52.9366 582.729 L52.9366 578.794 Q55.5986 576.039 60.1819 571.409 Q64.7883 566.757 65.9689 565.414 Q68.2143 562.891 69.0939 561.155 Q69.9967 559.396 69.9967 557.706 Q69.9967 554.951 68.0522 553.215 Q66.1309 551.479 63.0291 551.479 Q60.83 551.479 58.3763 552.243 Q55.9458 553.007 53.168 554.558 L53.168 549.835 Q55.9921 548.701 58.4458 548.122 Q60.8995 547.544 62.9365 547.544 Q68.3068 547.544 71.5013 550.229 Q74.6957 552.914 74.6957 557.405 Q74.6957 559.534 73.8855 561.456 Q73.0985 563.354 70.992 565.946 Q70.4133 566.618 67.3115 569.835 Q64.2096 573.03 58.5615 578.794 Z\" fill=\"#000000\" fill-rule=\"evenodd\" fill-opacity=\"1\" /><path clip-path=\"url(#clip680)\" d=\"M 0 0 M67.7513 161.3 Q71.1078 162.018 72.9827 164.286 Q74.8809 166.555 74.8809 169.888 Q74.8809 175.004 71.3624 177.805 Q67.8439 180.606 61.3624 180.606 Q59.1865 180.606 56.8717 180.166 Q54.5801 179.749 52.1264 178.893 L52.1264 174.379 Q54.0708 175.513 56.3856 176.092 Q58.7004 176.67 61.2236 176.67 Q65.6217 176.67 67.9133 174.934 Q70.2281 173.198 70.2281 169.888 Q70.2281 166.833 68.0754 165.12 Q65.9457 163.383 62.1263 163.383 L58.0986 163.383 L58.0986 159.541 L62.3115 159.541 Q65.7606 159.541 67.5893 158.175 Q69.418 156.786 69.418 154.194 Q69.418 151.532 67.5198 150.12 Q65.6448 148.684 62.1263 148.684 Q60.205 148.684 58.006 149.101 Q55.8069 149.518 53.168 150.397 L53.168 146.231 Q55.8301 145.49 58.1449 145.12 Q60.4828 144.749 62.543 144.749 Q67.867 144.749 70.9689 147.18 Q74.0707 149.587 74.0707 153.708 Q74.0707 156.578 72.4272 158.569 Q70.7837 160.536 67.7513 161.3 Z\" fill=\"#000000\" fill-rule=\"evenodd\" fill-opacity=\"1\" /><circle clip-path=\"url(#clip682)\" cx=\"290.658\" cy=\"162.654\" r=\"14\" fill=\"#009af9\" fill-rule=\"evenodd\" fill-opacity=\"1\" stroke=\"#000000\" stroke-opacity=\"1\" stroke-width=\"3.2\"/>\n",
       "<circle clip-path=\"url(#clip682)\" cx=\"918.098\" cy=\"968.243\" r=\"14\" fill=\"#009af9\" fill-rule=\"evenodd\" fill-opacity=\"1\" stroke=\"#000000\" stroke-opacity=\"1\" stroke-width=\"3.2\"/>\n",
       "<circle clip-path=\"url(#clip682)\" cx=\"2172.98\" cy=\"1371.04\" r=\"14\" fill=\"#009af9\" fill-rule=\"evenodd\" fill-opacity=\"1\" stroke=\"#000000\" stroke-opacity=\"1\" stroke-width=\"3.2\"/>\n",
       "<circle clip-path=\"url(#clip682)\" cx=\"290.658\" cy=\"565.449\" r=\"14\" fill=\"#e26f46\" fill-rule=\"evenodd\" fill-opacity=\"1\" stroke=\"#000000\" stroke-opacity=\"1\" stroke-width=\"3.2\"/>\n",
       "<circle clip-path=\"url(#clip682)\" cx=\"918.098\" cy=\"162.654\" r=\"14\" fill=\"#e26f46\" fill-rule=\"evenodd\" fill-opacity=\"1\" stroke=\"#000000\" stroke-opacity=\"1\" stroke-width=\"3.2\"/>\n",
       "<circle clip-path=\"url(#clip682)\" cx=\"2172.98\" cy=\"968.243\" r=\"14\" fill=\"#e26f46\" fill-rule=\"evenodd\" fill-opacity=\"1\" stroke=\"#000000\" stroke-opacity=\"1\" stroke-width=\"3.2\"/>\n",
       "<circle clip-path=\"url(#clip682)\" cx=\"1545.54\" cy=\"1371.04\" r=\"14\" fill=\"#e26f46\" fill-rule=\"evenodd\" fill-opacity=\"1\" stroke=\"#000000\" stroke-opacity=\"1\" stroke-width=\"3.2\"/>\n",
       "<polyline clip-path=\"url(#clip682)\" style=\"stroke:#3da44d; stroke-width:4; stroke-opacity:1; fill:none\" points=\"\n",
       "  234.188,1407.27 253.673,1394.77 433.844,1279.16 542.118,1209.69 633.663,1150.95 733.107,1087.14 824.785,1028.31 923.074,965.247 1036.95,892.177 1138.15,827.242 \n",
       "  1226.89,770.299 1323.65,708.217 1420.98,645.765 1528.59,576.717 1630.98,511.019 1737.44,442.709 1827.05,385.206 1936.47,315.002 2039.32,249.007 2204.09,143.28 \n",
       "  2229.45,127.009 \n",
       "  \"/>\n",
       "<polyline clip-path=\"url(#clip682)\" style=\"stroke:#c271d2; stroke-width:4; stroke-opacity:1; fill:none\" points=\"\n",
       "  174.33,1445.72 194.985,1432.46 385.965,1309.85 500.736,1236.17 597.774,1173.88 703.184,1106.21 800.363,1043.82 904.549,976.941 1025.26,899.45 1132.53,830.585 \n",
       "  1226.6,770.196 1329.16,704.357 1432.33,638.126 1546.4,564.899 1654.93,495.226 1767.77,422.781 1862.77,361.799 1978.74,287.346 2087.77,217.358 2262.43,105.232 \n",
       "  2289.31,87.9763 \n",
       "  \"/>\n",
       "<path clip-path=\"url(#clip680)\" d=\"\n",
       "M1702.1 397.618 L2278.03 397.618 L2278.03 95.2176 L1702.1 95.2176  Z\n",
       "  \" fill=\"#ffffff\" fill-rule=\"evenodd\" fill-opacity=\"1\"/>\n",
       "<polyline clip-path=\"url(#clip680)\" style=\"stroke:#000000; stroke-width:4; stroke-opacity:1; fill:none\" points=\"\n",
       "  1702.1,397.618 2278.03,397.618 2278.03,95.2176 1702.1,95.2176 1702.1,397.618 \n",
       "  \"/>\n",
       "<circle clip-path=\"url(#clip680)\" cx=\"1801.74\" cy=\"155.698\" r=\"23\" fill=\"#009af9\" fill-rule=\"evenodd\" fill-opacity=\"1\" stroke=\"#000000\" stroke-opacity=\"1\" stroke-width=\"5.12\"/>\n",
       "<path clip-path=\"url(#clip680)\" d=\"M 0 0 M1906.06 142.26 L1906.06 155.246 L1911.94 155.246 Q1915.2 155.246 1916.98 153.556 Q1918.76 151.867 1918.76 148.742 Q1918.76 145.64 1916.98 143.95 Q1915.2 142.26 1911.94 142.26 L1906.06 142.26 M1901.38 138.418 L1911.94 138.418 Q1917.75 138.418 1920.71 141.056 Q1923.7 143.672 1923.7 148.742 Q1923.7 153.857 1920.71 156.473 Q1917.75 159.089 1911.94 159.089 L1906.06 159.089 L1906.06 172.978 L1901.38 172.978 L1901.38 138.418 Z\" fill=\"#000000\" fill-rule=\"evenodd\" fill-opacity=\"1\" /><path clip-path=\"url(#clip680)\" d=\"M 0 0 M1936.52 150.038 Q1933.09 150.038 1931.1 152.723 Q1929.11 155.385 1929.11 160.038 Q1929.11 164.691 1931.08 167.376 Q1933.07 170.038 1936.52 170.038 Q1939.92 170.038 1941.91 167.353 Q1943.9 164.667 1943.9 160.038 Q1943.9 155.431 1941.91 152.746 Q1939.92 150.038 1936.52 150.038 M1936.52 146.427 Q1942.07 146.427 1945.25 150.038 Q1948.42 153.649 1948.42 160.038 Q1948.42 166.404 1945.25 170.038 Q1942.07 173.649 1936.52 173.649 Q1930.94 173.649 1927.77 170.038 Q1924.62 166.404 1924.62 160.038 Q1924.62 153.649 1927.77 150.038 Q1930.94 146.427 1936.52 146.427 Z\" fill=\"#000000\" fill-rule=\"evenodd\" fill-opacity=\"1\" /><path clip-path=\"url(#clip680)\" d=\"M 0 0 M1974.44 157.329 L1974.44 172.978 L1970.18 172.978 L1970.18 157.468 Q1970.18 153.788 1968.74 151.959 Q1967.31 150.13 1964.44 150.13 Q1960.99 150.13 1959 152.33 Q1957.01 154.529 1957.01 158.325 L1957.01 172.978 L1952.72 172.978 L1952.72 147.052 L1957.01 147.052 L1957.01 151.08 Q1958.53 148.742 1960.59 147.584 Q1962.68 146.427 1965.38 146.427 Q1969.85 146.427 1972.14 149.205 Q1974.44 151.959 1974.44 157.329 Z\" fill=\"#000000\" fill-rule=\"evenodd\" fill-opacity=\"1\" /><path clip-path=\"url(#clip680)\" d=\"M 0 0 M1983.12 139.691 L1983.12 147.052 L1991.89 147.052 L1991.89 150.362 L1983.12 150.362 L1983.12 164.436 Q1983.12 167.607 1983.97 168.51 Q1984.85 169.413 1987.51 169.413 L1991.89 169.413 L1991.89 172.978 L1987.51 172.978 Q1982.58 172.978 1980.71 171.149 Q1978.83 169.297 1978.83 164.436 L1978.83 150.362 L1975.71 150.362 L1975.71 147.052 L1978.83 147.052 L1978.83 139.691 L1983.12 139.691 Z\" fill=\"#000000\" fill-rule=\"evenodd\" fill-opacity=\"1\" /><path clip-path=\"url(#clip680)\" d=\"M 0 0 M2006.4 150.038 Q2002.98 150.038 2000.99 152.723 Q1999 155.385 1999 160.038 Q1999 164.691 2000.96 167.376 Q2002.95 170.038 2006.4 170.038 Q2009.81 170.038 2011.8 167.353 Q2013.79 164.667 2013.79 160.038 Q2013.79 155.431 2011.8 152.746 Q2009.81 150.038 2006.4 150.038 M2006.4 146.427 Q2011.96 146.427 2015.13 150.038 Q2018.3 153.649 2018.3 160.038 Q2018.3 166.404 2015.13 170.038 Q2011.96 173.649 2006.4 173.649 Q2000.82 173.649 1997.65 170.038 Q1994.5 166.404 1994.5 160.038 Q1994.5 153.649 1997.65 150.038 Q2000.82 146.427 2006.4 146.427 Z\" fill=\"#000000\" fill-rule=\"evenodd\" fill-opacity=\"1\" /><path clip-path=\"url(#clip680)\" d=\"M 0 0 M2039.3 147.816 L2039.3 151.843 Q2037.49 150.917 2035.55 150.455 Q2033.6 149.992 2031.52 149.992 Q2028.35 149.992 2026.75 150.964 Q2025.18 151.936 2025.18 153.88 Q2025.18 155.362 2026.31 156.218 Q2027.44 157.052 2030.87 157.816 L2032.33 158.14 Q2036.87 159.112 2038.76 160.894 Q2040.69 162.654 2040.69 165.825 Q2040.69 169.436 2037.81 171.542 Q2034.97 173.649 2029.97 173.649 Q2027.88 173.649 2025.62 173.232 Q2023.37 172.839 2020.87 172.028 L2020.87 167.63 Q2023.23 168.857 2025.52 169.482 Q2027.81 170.084 2030.06 170.084 Q2033.07 170.084 2034.69 169.066 Q2036.31 168.024 2036.31 166.149 Q2036.31 164.413 2035.13 163.487 Q2033.97 162.561 2030.01 161.704 L2028.53 161.357 Q2024.57 160.524 2022.81 158.811 Q2021.06 157.075 2021.06 154.066 Q2021.06 150.408 2023.65 148.418 Q2026.24 146.427 2031.01 146.427 Q2033.37 146.427 2035.45 146.774 Q2037.54 147.121 2039.3 147.816 Z\" fill=\"#000000\" fill-rule=\"evenodd\" fill-opacity=\"1\" /><path clip-path=\"url(#clip680)\" d=\"M 0 0 M2071.96 143.024 L2065.62 160.223 L2078.32 160.223 L2071.96 143.024 M2069.32 138.418 L2074.62 138.418 L2087.79 172.978 L2082.93 172.978 L2079.78 164.112 L2064.2 164.112 L2061.06 172.978 L2056.12 172.978 L2069.32 138.418 Z\" fill=\"#000000\" fill-rule=\"evenodd\" fill-opacity=\"1\" /><path clip-path=\"url(#clip680)\" d=\"M 0 0 M2091.4 170.431 L2096.12 170.431 L2096.12 156.288 L2090.96 157.237 L2090.96 154.552 L2096.29 153.649 L2099.46 153.649 L2099.46 170.431 L2104.2 170.431 L2104.2 172.978 L2091.4 172.978 L2091.4 170.431 Z\" fill=\"#000000\" fill-rule=\"evenodd\" fill-opacity=\"1\" /><circle clip-path=\"url(#clip680)\" cx=\"1801.74\" cy=\"216.178\" r=\"23\" fill=\"#e26f46\" fill-rule=\"evenodd\" fill-opacity=\"1\" stroke=\"#000000\" stroke-opacity=\"1\" stroke-width=\"5.12\"/>\n",
       "<path clip-path=\"url(#clip680)\" d=\"M 0 0 M1906.06 202.74 L1906.06 215.726 L1911.94 215.726 Q1915.2 215.726 1916.98 214.036 Q1918.76 212.347 1918.76 209.222 Q1918.76 206.12 1916.98 204.43 Q1915.2 202.74 1911.94 202.74 L1906.06 202.74 M1901.38 198.898 L1911.94 198.898 Q1917.75 198.898 1920.71 201.536 Q1923.7 204.152 1923.7 209.222 Q1923.7 214.337 1920.71 216.953 Q1917.75 219.569 1911.94 219.569 L1906.06 219.569 L1906.06 233.458 L1901.38 233.458 L1901.38 198.898 Z\" fill=\"#000000\" fill-rule=\"evenodd\" fill-opacity=\"1\" /><path clip-path=\"url(#clip680)\" d=\"M 0 0 M1936.52 210.518 Q1933.09 210.518 1931.1 213.203 Q1929.11 215.865 1929.11 220.518 Q1929.11 225.171 1931.08 227.856 Q1933.07 230.518 1936.52 230.518 Q1939.92 230.518 1941.91 227.833 Q1943.9 225.147 1943.9 220.518 Q1943.9 215.911 1941.91 213.226 Q1939.92 210.518 1936.52 210.518 M1936.52 206.907 Q1942.07 206.907 1945.25 210.518 Q1948.42 214.129 1948.42 220.518 Q1948.42 226.884 1945.25 230.518 Q1942.07 234.129 1936.52 234.129 Q1930.94 234.129 1927.77 230.518 Q1924.62 226.884 1924.62 220.518 Q1924.62 214.129 1927.77 210.518 Q1930.94 206.907 1936.52 206.907 Z\" fill=\"#000000\" fill-rule=\"evenodd\" fill-opacity=\"1\" /><path clip-path=\"url(#clip680)\" d=\"M 0 0 M1974.44 217.809 L1974.44 233.458 L1970.18 233.458 L1970.18 217.948 Q1970.18 214.268 1968.74 212.439 Q1967.31 210.61 1964.44 210.61 Q1960.99 210.61 1959 212.81 Q1957.01 215.009 1957.01 218.805 L1957.01 233.458 L1952.72 233.458 L1952.72 207.532 L1957.01 207.532 L1957.01 211.56 Q1958.53 209.222 1960.59 208.064 Q1962.68 206.907 1965.38 206.907 Q1969.85 206.907 1972.14 209.685 Q1974.44 212.439 1974.44 217.809 Z\" fill=\"#000000\" fill-rule=\"evenodd\" fill-opacity=\"1\" /><path clip-path=\"url(#clip680)\" d=\"M 0 0 M1983.12 200.171 L1983.12 207.532 L1991.89 207.532 L1991.89 210.842 L1983.12 210.842 L1983.12 224.916 Q1983.12 228.087 1983.97 228.99 Q1984.85 229.893 1987.51 229.893 L1991.89 229.893 L1991.89 233.458 L1987.51 233.458 Q1982.58 233.458 1980.71 231.629 Q1978.83 229.777 1978.83 224.916 L1978.83 210.842 L1975.71 210.842 L1975.71 207.532 L1978.83 207.532 L1978.83 200.171 L1983.12 200.171 Z\" fill=\"#000000\" fill-rule=\"evenodd\" fill-opacity=\"1\" /><path clip-path=\"url(#clip680)\" d=\"M 0 0 M2006.4 210.518 Q2002.98 210.518 2000.99 213.203 Q1999 215.865 1999 220.518 Q1999 225.171 2000.96 227.856 Q2002.95 230.518 2006.4 230.518 Q2009.81 230.518 2011.8 227.833 Q2013.79 225.147 2013.79 220.518 Q2013.79 215.911 2011.8 213.226 Q2009.81 210.518 2006.4 210.518 M2006.4 206.907 Q2011.96 206.907 2015.13 210.518 Q2018.3 214.129 2018.3 220.518 Q2018.3 226.884 2015.13 230.518 Q2011.96 234.129 2006.4 234.129 Q2000.82 234.129 1997.65 230.518 Q1994.5 226.884 1994.5 220.518 Q1994.5 214.129 1997.65 210.518 Q2000.82 206.907 2006.4 206.907 Z\" fill=\"#000000\" fill-rule=\"evenodd\" fill-opacity=\"1\" /><path clip-path=\"url(#clip680)\" d=\"M 0 0 M2039.3 208.296 L2039.3 212.323 Q2037.49 211.397 2035.55 210.935 Q2033.6 210.472 2031.52 210.472 Q2028.35 210.472 2026.75 211.444 Q2025.18 212.416 2025.18 214.36 Q2025.18 215.842 2026.31 216.698 Q2027.44 217.532 2030.87 218.296 L2032.33 218.62 Q2036.87 219.592 2038.76 221.374 Q2040.69 223.134 2040.69 226.305 Q2040.69 229.916 2037.81 232.022 Q2034.97 234.129 2029.97 234.129 Q2027.88 234.129 2025.62 233.712 Q2023.37 233.319 2020.87 232.508 L2020.87 228.11 Q2023.23 229.337 2025.52 229.962 Q2027.81 230.564 2030.06 230.564 Q2033.07 230.564 2034.69 229.546 Q2036.31 228.504 2036.31 226.629 Q2036.31 224.893 2035.13 223.967 Q2033.97 223.041 2030.01 222.184 L2028.53 221.837 Q2024.57 221.004 2022.81 219.291 Q2021.06 217.555 2021.06 214.546 Q2021.06 210.888 2023.65 208.898 Q2026.24 206.907 2031.01 206.907 Q2033.37 206.907 2035.45 207.254 Q2037.54 207.601 2039.3 208.296 Z\" fill=\"#000000\" fill-rule=\"evenodd\" fill-opacity=\"1\" /><path clip-path=\"url(#clip680)\" d=\"M 0 0 M2071.96 203.504 L2065.62 220.703 L2078.32 220.703 L2071.96 203.504 M2069.32 198.898 L2074.62 198.898 L2087.79 233.458 L2082.93 233.458 L2079.78 224.592 L2064.2 224.592 L2061.06 233.458 L2056.12 233.458 L2069.32 198.898 Z\" fill=\"#000000\" fill-rule=\"evenodd\" fill-opacity=\"1\" /><path clip-path=\"url(#clip680)\" d=\"M 0 0 M2094 230.819 L2103.81 230.819 L2103.81 233.458 L2089.97 233.458 L2089.97 230.911 Q2090.75 230.194 2092.21 228.897 Q2100.18 221.837 2100.18 219.661 Q2100.18 218.134 2098.97 217.208 Q2097.77 216.259 2095.8 216.259 Q2094.6 216.259 2093.18 216.675 Q2091.77 217.069 2090.11 217.879 L2090.11 215.032 Q2091.89 214.384 2093.42 214.06 Q2094.97 213.735 2096.29 213.735 Q2099.64 213.735 2101.66 215.263 Q2103.67 216.791 2103.67 219.291 Q2103.67 222.509 2096.01 229.083 Q2094.71 230.194 2094 230.819 Z\" fill=\"#000000\" fill-rule=\"evenodd\" fill-opacity=\"1\" /><polyline clip-path=\"url(#clip680)\" style=\"stroke:#3da44d; stroke-width:4; stroke-opacity:1; fill:none\" points=\"\n",
       "  1727.01,276.658 1876.47,276.658 \n",
       "  \"/>\n",
       "<path clip-path=\"url(#clip680)\" d=\"M 0 0 M1917.77 277.734 Q1919.27 278.243 1920.69 279.91 Q1922.12 281.577 1923.56 284.493 L1928.3 293.938 L1923.28 293.938 L1918.86 285.072 Q1917.14 281.6 1915.52 280.465 Q1913.93 279.331 1911.15 279.331 L1906.06 279.331 L1906.06 293.938 L1901.38 293.938 L1901.38 259.378 L1911.94 259.378 Q1917.86 259.378 1920.78 261.854 Q1923.7 264.331 1923.7 269.331 Q1923.7 272.595 1922.17 274.748 Q1920.66 276.901 1917.77 277.734 M1906.06 263.22 L1906.06 275.489 L1911.94 275.489 Q1915.32 275.489 1917.03 273.938 Q1918.76 272.364 1918.76 269.331 Q1918.76 266.299 1917.03 264.771 Q1915.32 263.22 1911.94 263.22 L1906.06 263.22 Z\" fill=\"#000000\" fill-rule=\"evenodd\" fill-opacity=\"1\" /><path clip-path=\"url(#clip680)\" d=\"M 0 0 M1952.82 279.91 L1952.82 281.993 L1933.23 281.993 Q1933.51 286.391 1935.87 288.706 Q1938.26 290.998 1942.49 290.998 Q1944.94 290.998 1947.24 290.396 Q1949.55 289.794 1951.82 288.59 L1951.82 292.618 Q1949.53 293.59 1947.12 294.1 Q1944.71 294.609 1942.24 294.609 Q1936.03 294.609 1932.4 290.998 Q1928.79 287.387 1928.79 281.229 Q1928.79 274.864 1932.21 271.137 Q1935.66 267.387 1941.5 267.387 Q1946.73 267.387 1949.76 270.766 Q1952.82 274.123 1952.82 279.91 M1948.56 278.66 Q1948.51 275.165 1946.59 273.081 Q1944.69 270.998 1941.54 270.998 Q1937.98 270.998 1935.82 273.012 Q1933.69 275.026 1933.37 278.683 L1948.56 278.66 Z\" fill=\"#000000\" fill-rule=\"evenodd\" fill-opacity=\"1\" /><path clip-path=\"url(#clip680)\" d=\"M 0 0 M1961.4 290.049 L1961.4 303.799 L1957.12 303.799 L1957.12 268.012 L1961.4 268.012 L1961.4 271.947 Q1962.75 269.632 1964.78 268.521 Q1966.84 267.387 1969.69 267.387 Q1974.41 267.387 1977.35 271.137 Q1980.32 274.887 1980.32 280.998 Q1980.32 287.109 1977.35 290.859 Q1974.41 294.609 1969.69 294.609 Q1966.84 294.609 1964.78 293.498 Q1962.75 292.363 1961.4 290.049 M1975.89 280.998 Q1975.89 276.299 1973.95 273.637 Q1972.03 270.952 1968.65 270.952 Q1965.27 270.952 1963.32 273.637 Q1961.4 276.299 1961.4 280.998 Q1961.4 285.697 1963.32 288.382 Q1965.27 291.044 1968.65 291.044 Q1972.03 291.044 1973.95 288.382 Q1975.89 285.697 1975.89 280.998 Z\" fill=\"#000000\" fill-rule=\"evenodd\" fill-opacity=\"1\" /><path clip-path=\"url(#clip680)\" d=\"M 0 0 M1999.81 271.993 Q1999.09 271.577 1998.23 271.391 Q1997.4 271.183 1996.38 271.183 Q1992.77 271.183 1990.82 273.544 Q1988.9 275.882 1988.9 280.28 L1988.9 293.938 L1984.62 293.938 L1984.62 268.012 L1988.9 268.012 L1988.9 272.04 Q1990.25 269.678 1992.4 268.544 Q1994.55 267.387 1997.63 267.387 Q1998.07 267.387 1998.6 267.456 Q1999.13 267.503 1999.78 267.618 L1999.81 271.993 Z\" fill=\"#000000\" fill-rule=\"evenodd\" fill-opacity=\"1\" /><path clip-path=\"url(#clip680)\" d=\"M 0 0 M2000.52 288.058 L2005.41 288.058 L2005.41 293.938 L2000.52 293.938 L2000.52 288.058 Z\" fill=\"#000000\" fill-rule=\"evenodd\" fill-opacity=\"1\" /><path clip-path=\"url(#clip680)\" d=\"M 0 0 M2042 280.674 Q2042 276.044 2040.08 273.498 Q2038.19 270.952 2034.74 270.952 Q2031.31 270.952 2029.39 273.498 Q2027.49 276.044 2027.49 280.674 Q2027.49 285.28 2029.39 287.826 Q2031.31 290.373 2034.74 290.373 Q2038.19 290.373 2040.08 287.826 Q2042 285.28 2042 280.674 M2046.26 290.72 Q2046.26 297.34 2043.32 300.558 Q2040.38 303.799 2034.32 303.799 Q2032.07 303.799 2030.08 303.451 Q2028.09 303.127 2026.22 302.433 L2026.22 298.289 Q2028.09 299.308 2029.92 299.794 Q2031.75 300.28 2033.65 300.28 Q2037.84 300.28 2039.92 298.081 Q2042 295.905 2042 291.484 L2042 289.377 Q2040.69 291.669 2038.62 292.803 Q2036.56 293.938 2033.69 293.938 Q2028.93 293.938 2026.01 290.303 Q2023.09 286.669 2023.09 280.674 Q2023.09 274.655 2026.01 271.021 Q2028.93 267.387 2033.69 267.387 Q2036.56 267.387 2038.62 268.521 Q2040.69 269.655 2042 271.947 L2042 268.012 L2046.26 268.012 L2046.26 290.72 Z\" fill=\"#000000\" fill-rule=\"evenodd\" fill-opacity=\"1\" /><path clip-path=\"url(#clip680)\" d=\"M 0 0 M2065.75 271.993 Q2065.04 271.577 2064.18 271.391 Q2063.35 271.183 2062.33 271.183 Q2058.72 271.183 2056.77 273.544 Q2054.85 275.882 2054.85 280.28 L2054.85 293.938 L2050.57 293.938 L2050.57 268.012 L2054.85 268.012 L2054.85 272.04 Q2056.19 269.678 2058.35 268.544 Q2060.5 267.387 2063.58 267.387 Q2064.02 267.387 2064.55 267.456 Q2065.08 267.503 2065.73 267.618 L2065.75 271.993 Z\" fill=\"#000000\" fill-rule=\"evenodd\" fill-opacity=\"1\" /><path clip-path=\"url(#clip680)\" d=\"M 0 0 M2082 280.905 Q2076.84 280.905 2074.85 282.086 Q2072.86 283.266 2072.86 286.114 Q2072.86 288.382 2074.34 289.725 Q2075.85 291.044 2078.42 291.044 Q2081.96 291.044 2084.09 288.544 Q2086.24 286.021 2086.24 281.854 L2086.24 280.905 L2082 280.905 M2090.5 279.146 L2090.5 293.938 L2086.24 293.938 L2086.24 290.002 Q2084.78 292.363 2082.61 293.498 Q2080.43 294.609 2077.28 294.609 Q2073.3 294.609 2070.94 292.387 Q2068.6 290.141 2068.6 286.391 Q2068.6 282.016 2071.52 279.794 Q2074.46 277.572 2080.27 277.572 L2086.24 277.572 L2086.24 277.155 Q2086.24 274.215 2084.3 272.618 Q2082.37 270.998 2078.88 270.998 Q2076.66 270.998 2074.55 271.53 Q2072.44 272.063 2070.5 273.127 L2070.5 269.192 Q2072.84 268.29 2075.04 267.85 Q2077.24 267.387 2079.32 267.387 Q2084.94 267.387 2087.72 270.303 Q2090.5 273.22 2090.5 279.146 M2082.72 256.021 L2087.33 256.021 L2079.78 264.725 L2076.24 264.725 L2082.72 256.021 Z\" fill=\"#000000\" fill-rule=\"evenodd\" fill-opacity=\"1\" /><path clip-path=\"url(#clip680)\" d=\"M 0 0 M2108.09 257.919 L2108.09 261.461 L2104.02 261.461 Q2101.73 261.461 2100.82 262.387 Q2099.94 263.313 2099.94 265.72 L2099.94 268.012 L2106.96 268.012 L2106.96 271.322 L2099.94 271.322 L2099.94 293.938 L2095.66 293.938 L2095.66 271.322 L2091.59 271.322 L2091.59 268.012 L2095.66 268.012 L2095.66 266.206 Q2095.66 261.878 2097.68 259.91 Q2099.69 257.919 2104.06 257.919 L2108.09 257.919 Z\" fill=\"#000000\" fill-rule=\"evenodd\" fill-opacity=\"1\" /><path clip-path=\"url(#clip680)\" d=\"M 0 0 M2112.56 268.012 L2116.82 268.012 L2116.82 293.938 L2112.56 293.938 L2112.56 268.012 M2112.56 257.919 L2116.82 257.919 L2116.82 263.313 L2112.56 263.313 L2112.56 257.919 Z\" fill=\"#000000\" fill-rule=\"evenodd\" fill-opacity=\"1\" /><path clip-path=\"url(#clip680)\" d=\"M 0 0 M2139.94 269.007 L2139.94 272.989 Q2138.14 271.993 2136.31 271.507 Q2134.5 270.998 2132.65 270.998 Q2128.51 270.998 2126.22 273.637 Q2123.93 276.252 2123.93 280.998 Q2123.93 285.743 2126.22 288.382 Q2128.51 290.998 2132.65 290.998 Q2134.5 290.998 2136.31 290.512 Q2138.14 290.002 2139.94 289.007 L2139.94 292.942 Q2138.16 293.776 2136.24 294.192 Q2134.34 294.609 2132.19 294.609 Q2126.33 294.609 2122.88 290.928 Q2119.43 287.248 2119.43 280.998 Q2119.43 274.655 2122.91 271.021 Q2126.4 267.387 2132.47 267.387 Q2134.43 267.387 2136.31 267.803 Q2138.18 268.197 2139.94 269.007 Z\" fill=\"#000000\" fill-rule=\"evenodd\" fill-opacity=\"1\" /><path clip-path=\"url(#clip680)\" d=\"M 0 0 M2156.19 280.905 Q2151.03 280.905 2149.04 282.086 Q2147.05 283.266 2147.05 286.114 Q2147.05 288.382 2148.53 289.725 Q2150.04 291.044 2152.61 291.044 Q2156.15 291.044 2158.28 288.544 Q2160.43 286.021 2160.43 281.854 L2160.43 280.905 L2156.19 280.905 M2164.69 279.146 L2164.69 293.938 L2160.43 293.938 L2160.43 290.002 Q2158.97 292.363 2156.8 293.498 Q2154.62 294.609 2151.47 294.609 Q2147.49 294.609 2145.13 292.387 Q2142.79 290.141 2142.79 286.391 Q2142.79 282.016 2145.71 279.794 Q2148.65 277.572 2154.46 277.572 L2160.43 277.572 L2160.43 277.155 Q2160.43 274.215 2158.49 272.618 Q2156.56 270.998 2153.07 270.998 Q2150.85 270.998 2148.74 271.53 Q2146.63 272.063 2144.69 273.127 L2144.69 269.192 Q2147.03 268.29 2149.23 267.85 Q2151.43 267.387 2153.51 267.387 Q2159.13 267.387 2161.91 270.303 Q2164.69 273.22 2164.69 279.146 Z\" fill=\"#000000\" fill-rule=\"evenodd\" fill-opacity=\"1\" /><path clip-path=\"url(#clip680)\" d=\"M 0 0 M2195.96 263.984 L2189.62 281.183 L2202.33 281.183 L2195.96 263.984 M2193.32 259.378 L2198.62 259.378 L2211.8 293.938 L2206.93 293.938 L2203.79 285.072 L2188.21 285.072 L2185.06 293.938 L2180.13 293.938 L2193.32 259.378 Z\" fill=\"#000000\" fill-rule=\"evenodd\" fill-opacity=\"1\" /><path clip-path=\"url(#clip680)\" d=\"M 0 0 M2215.41 291.391 L2220.13 291.391 L2220.13 277.248 L2214.97 278.197 L2214.97 275.512 L2220.29 274.609 L2223.46 274.609 L2223.46 291.391 L2228.21 291.391 L2228.21 293.938 L2215.41 293.938 L2215.41 291.391 Z\" fill=\"#000000\" fill-rule=\"evenodd\" fill-opacity=\"1\" /><polyline clip-path=\"url(#clip680)\" style=\"stroke:#c271d2; stroke-width:4; stroke-opacity:1; fill:none\" points=\"\n",
       "  1727.01,337.138 1876.47,337.138 \n",
       "  \"/>\n",
       "<path clip-path=\"url(#clip680)\" d=\"M 0 0 M1917.77 338.214 Q1919.27 338.723 1920.69 340.39 Q1922.12 342.057 1923.56 344.973 L1928.3 354.418 L1923.28 354.418 L1918.86 345.552 Q1917.14 342.08 1915.52 340.945 Q1913.93 339.811 1911.15 339.811 L1906.06 339.811 L1906.06 354.418 L1901.38 354.418 L1901.38 319.858 L1911.94 319.858 Q1917.86 319.858 1920.78 322.334 Q1923.7 324.811 1923.7 329.811 Q1923.7 333.075 1922.17 335.228 Q1920.66 337.381 1917.77 338.214 M1906.06 323.7 L1906.06 335.969 L1911.94 335.969 Q1915.32 335.969 1917.03 334.418 Q1918.76 332.844 1918.76 329.811 Q1918.76 326.779 1917.03 325.251 Q1915.32 323.7 1911.94 323.7 L1906.06 323.7 Z\" fill=\"#000000\" fill-rule=\"evenodd\" fill-opacity=\"1\" /><path clip-path=\"url(#clip680)\" d=\"M 0 0 M1952.82 340.39 L1952.82 342.473 L1933.23 342.473 Q1933.51 346.871 1935.87 349.186 Q1938.26 351.478 1942.49 351.478 Q1944.94 351.478 1947.24 350.876 Q1949.55 350.274 1951.82 349.07 L1951.82 353.098 Q1949.53 354.07 1947.12 354.58 Q1944.71 355.089 1942.24 355.089 Q1936.03 355.089 1932.4 351.478 Q1928.79 347.867 1928.79 341.709 Q1928.79 335.344 1932.21 331.617 Q1935.66 327.867 1941.5 327.867 Q1946.73 327.867 1949.76 331.246 Q1952.82 334.603 1952.82 340.39 M1948.56 339.14 Q1948.51 335.645 1946.59 333.561 Q1944.69 331.478 1941.54 331.478 Q1937.98 331.478 1935.82 333.492 Q1933.69 335.506 1933.37 339.163 L1948.56 339.14 Z\" fill=\"#000000\" fill-rule=\"evenodd\" fill-opacity=\"1\" /><path clip-path=\"url(#clip680)\" d=\"M 0 0 M1961.4 350.529 L1961.4 364.279 L1957.12 364.279 L1957.12 328.492 L1961.4 328.492 L1961.4 332.427 Q1962.75 330.112 1964.78 329.001 Q1966.84 327.867 1969.69 327.867 Q1974.41 327.867 1977.35 331.617 Q1980.32 335.367 1980.32 341.478 Q1980.32 347.589 1977.35 351.339 Q1974.41 355.089 1969.69 355.089 Q1966.84 355.089 1964.78 353.978 Q1962.75 352.843 1961.4 350.529 M1975.89 341.478 Q1975.89 336.779 1973.95 334.117 Q1972.03 331.432 1968.65 331.432 Q1965.27 331.432 1963.32 334.117 Q1961.4 336.779 1961.4 341.478 Q1961.4 346.177 1963.32 348.862 Q1965.27 351.524 1968.65 351.524 Q1972.03 351.524 1973.95 348.862 Q1975.89 346.177 1975.89 341.478 Z\" fill=\"#000000\" fill-rule=\"evenodd\" fill-opacity=\"1\" /><path clip-path=\"url(#clip680)\" d=\"M 0 0 M1999.81 332.473 Q1999.09 332.057 1998.23 331.871 Q1997.4 331.663 1996.38 331.663 Q1992.77 331.663 1990.82 334.024 Q1988.9 336.362 1988.9 340.76 L1988.9 354.418 L1984.62 354.418 L1984.62 328.492 L1988.9 328.492 L1988.9 332.52 Q1990.25 330.158 1992.4 329.024 Q1994.55 327.867 1997.63 327.867 Q1998.07 327.867 1998.6 327.936 Q1999.13 327.983 1999.78 328.098 L1999.81 332.473 Z\" fill=\"#000000\" fill-rule=\"evenodd\" fill-opacity=\"1\" /><path clip-path=\"url(#clip680)\" d=\"M 0 0 M2000.52 348.538 L2005.41 348.538 L2005.41 354.418 L2000.52 354.418 L2000.52 348.538 Z\" fill=\"#000000\" fill-rule=\"evenodd\" fill-opacity=\"1\" /><path clip-path=\"url(#clip680)\" d=\"M 0 0 M2042 341.154 Q2042 336.524 2040.08 333.978 Q2038.19 331.432 2034.74 331.432 Q2031.31 331.432 2029.39 333.978 Q2027.49 336.524 2027.49 341.154 Q2027.49 345.76 2029.39 348.306 Q2031.31 350.853 2034.74 350.853 Q2038.19 350.853 2040.08 348.306 Q2042 345.76 2042 341.154 M2046.26 351.2 Q2046.26 357.82 2043.32 361.038 Q2040.38 364.279 2034.32 364.279 Q2032.07 364.279 2030.08 363.931 Q2028.09 363.607 2026.22 362.913 L2026.22 358.769 Q2028.09 359.788 2029.92 360.274 Q2031.75 360.76 2033.65 360.76 Q2037.84 360.76 2039.92 358.561 Q2042 356.385 2042 351.964 L2042 349.857 Q2040.69 352.149 2038.62 353.283 Q2036.56 354.418 2033.69 354.418 Q2028.93 354.418 2026.01 350.783 Q2023.09 347.149 2023.09 341.154 Q2023.09 335.135 2026.01 331.501 Q2028.93 327.867 2033.69 327.867 Q2036.56 327.867 2038.62 329.001 Q2040.69 330.135 2042 332.427 L2042 328.492 L2046.26 328.492 L2046.26 351.2 Z\" fill=\"#000000\" fill-rule=\"evenodd\" fill-opacity=\"1\" /><path clip-path=\"url(#clip680)\" d=\"M 0 0 M2065.75 332.473 Q2065.04 332.057 2064.18 331.871 Q2063.35 331.663 2062.33 331.663 Q2058.72 331.663 2056.77 334.024 Q2054.85 336.362 2054.85 340.76 L2054.85 354.418 L2050.57 354.418 L2050.57 328.492 L2054.85 328.492 L2054.85 332.52 Q2056.19 330.158 2058.35 329.024 Q2060.5 327.867 2063.58 327.867 Q2064.02 327.867 2064.55 327.936 Q2065.08 327.983 2065.73 328.098 L2065.75 332.473 Z\" fill=\"#000000\" fill-rule=\"evenodd\" fill-opacity=\"1\" /><path clip-path=\"url(#clip680)\" d=\"M 0 0 M2082 341.385 Q2076.84 341.385 2074.85 342.566 Q2072.86 343.746 2072.86 346.594 Q2072.86 348.862 2074.34 350.205 Q2075.85 351.524 2078.42 351.524 Q2081.96 351.524 2084.09 349.024 Q2086.24 346.501 2086.24 342.334 L2086.24 341.385 L2082 341.385 M2090.5 339.626 L2090.5 354.418 L2086.24 354.418 L2086.24 350.482 Q2084.78 352.843 2082.61 353.978 Q2080.43 355.089 2077.28 355.089 Q2073.3 355.089 2070.94 352.867 Q2068.6 350.621 2068.6 346.871 Q2068.6 342.496 2071.52 340.274 Q2074.46 338.052 2080.27 338.052 L2086.24 338.052 L2086.24 337.635 Q2086.24 334.695 2084.3 333.098 Q2082.37 331.478 2078.88 331.478 Q2076.66 331.478 2074.55 332.01 Q2072.44 332.543 2070.5 333.607 L2070.5 329.672 Q2072.84 328.77 2075.04 328.33 Q2077.24 327.867 2079.32 327.867 Q2084.94 327.867 2087.72 330.783 Q2090.5 333.7 2090.5 339.626 M2082.72 316.501 L2087.33 316.501 L2079.78 325.205 L2076.24 325.205 L2082.72 316.501 Z\" fill=\"#000000\" fill-rule=\"evenodd\" fill-opacity=\"1\" /><path clip-path=\"url(#clip680)\" d=\"M 0 0 M2108.09 318.399 L2108.09 321.941 L2104.02 321.941 Q2101.73 321.941 2100.82 322.867 Q2099.94 323.793 2099.94 326.2 L2099.94 328.492 L2106.96 328.492 L2106.96 331.802 L2099.94 331.802 L2099.94 354.418 L2095.66 354.418 L2095.66 331.802 L2091.59 331.802 L2091.59 328.492 L2095.66 328.492 L2095.66 326.686 Q2095.66 322.358 2097.68 320.39 Q2099.69 318.399 2104.06 318.399 L2108.09 318.399 Z\" fill=\"#000000\" fill-rule=\"evenodd\" fill-opacity=\"1\" /><path clip-path=\"url(#clip680)\" d=\"M 0 0 M2112.56 328.492 L2116.82 328.492 L2116.82 354.418 L2112.56 354.418 L2112.56 328.492 M2112.56 318.399 L2116.82 318.399 L2116.82 323.793 L2112.56 323.793 L2112.56 318.399 Z\" fill=\"#000000\" fill-rule=\"evenodd\" fill-opacity=\"1\" /><path clip-path=\"url(#clip680)\" d=\"M 0 0 M2139.94 329.487 L2139.94 333.469 Q2138.14 332.473 2136.31 331.987 Q2134.5 331.478 2132.65 331.478 Q2128.51 331.478 2126.22 334.117 Q2123.93 336.732 2123.93 341.478 Q2123.93 346.223 2126.22 348.862 Q2128.51 351.478 2132.65 351.478 Q2134.5 351.478 2136.31 350.992 Q2138.14 350.482 2139.94 349.487 L2139.94 353.422 Q2138.16 354.256 2136.24 354.672 Q2134.34 355.089 2132.19 355.089 Q2126.33 355.089 2122.88 351.408 Q2119.43 347.728 2119.43 341.478 Q2119.43 335.135 2122.91 331.501 Q2126.4 327.867 2132.47 327.867 Q2134.43 327.867 2136.31 328.283 Q2138.18 328.677 2139.94 329.487 Z\" fill=\"#000000\" fill-rule=\"evenodd\" fill-opacity=\"1\" /><path clip-path=\"url(#clip680)\" d=\"M 0 0 M2156.19 341.385 Q2151.03 341.385 2149.04 342.566 Q2147.05 343.746 2147.05 346.594 Q2147.05 348.862 2148.53 350.205 Q2150.04 351.524 2152.61 351.524 Q2156.15 351.524 2158.28 349.024 Q2160.43 346.501 2160.43 342.334 L2160.43 341.385 L2156.19 341.385 M2164.69 339.626 L2164.69 354.418 L2160.43 354.418 L2160.43 350.482 Q2158.97 352.843 2156.8 353.978 Q2154.62 355.089 2151.47 355.089 Q2147.49 355.089 2145.13 352.867 Q2142.79 350.621 2142.79 346.871 Q2142.79 342.496 2145.71 340.274 Q2148.65 338.052 2154.46 338.052 L2160.43 338.052 L2160.43 337.635 Q2160.43 334.695 2158.49 333.098 Q2156.56 331.478 2153.07 331.478 Q2150.85 331.478 2148.74 332.01 Q2146.63 332.543 2144.69 333.607 L2144.69 329.672 Q2147.03 328.77 2149.23 328.33 Q2151.43 327.867 2153.51 327.867 Q2159.13 327.867 2161.91 330.783 Q2164.69 333.7 2164.69 339.626 Z\" fill=\"#000000\" fill-rule=\"evenodd\" fill-opacity=\"1\" /><path clip-path=\"url(#clip680)\" d=\"M 0 0 M2195.96 324.464 L2189.62 341.663 L2202.33 341.663 L2195.96 324.464 M2193.32 319.858 L2198.62 319.858 L2211.8 354.418 L2206.93 354.418 L2203.79 345.552 L2188.21 345.552 L2185.06 354.418 L2180.13 354.418 L2193.32 319.858 Z\" fill=\"#000000\" fill-rule=\"evenodd\" fill-opacity=\"1\" /><path clip-path=\"url(#clip680)\" d=\"M 0 0 M2218 351.779 L2227.81 351.779 L2227.81 354.418 L2213.97 354.418 L2213.97 351.871 Q2214.76 351.154 2216.22 349.857 Q2224.18 342.797 2224.18 340.621 Q2224.18 339.094 2222.98 338.168 Q2221.77 337.219 2219.8 337.219 Q2218.6 337.219 2217.19 337.635 Q2215.78 338.029 2214.11 338.839 L2214.11 335.992 Q2215.89 335.344 2217.42 335.02 Q2218.97 334.695 2220.29 334.695 Q2223.65 334.695 2225.66 336.223 Q2227.67 337.751 2227.67 340.251 Q2227.67 343.469 2220.01 350.043 Q2218.72 351.154 2218 351.779 Z\" fill=\"#000000\" fill-rule=\"evenodd\" fill-opacity=\"1\" /></svg>\n"
      ]
     },
     "execution_count": 351,
     "metadata": {},
     "output_type": "execute_result"
    }
   ],
   "source": [
    "A₁ = [0 1 3; 3 1 0]\n",
    "n = 1\n",
    "\n",
    "B,C = compressão(A₁, n)\n",
    "list_x₁ = (B*C')[1,:]\n",
    "list_y₁ = (B*C')[2,:]\n",
    "\n",
    "\n",
    "A₂ = [0 1 3 2; 2 3 1 0]\n",
    "n = 1\n",
    "\n",
    "B,C = compressão(A₂, n)\n",
    "list_x₂ = (B*C')[1,:]\n",
    "list_y₂ = (B*C')[2,:]\n",
    "\n",
    "coef₁ = regressão_polinomial(list_x₁, list_y₁)\n",
    "coef₂ = regressão_polinomial(list_x₂, list_y₂)\n",
    "\n",
    "f₁(x) = coef₁[1] + coef₁[2]*x\n",
    "f₂(x) = coef₂[1] + coef₂[2]*x\n",
    "\n",
    "scatter(A₁[1,:], A₁[2,:], label = \"Pontos A₁\")\n",
    "scatter!(A₂[1,:], A₂[2,:], label = \"Pontos A₂\")\n",
    "plot!(f₁, label = \"Repr. gráfica A₁\")\n",
    "plot!(f₂, label = \"Repr. gráfica A₂\")"
   ]
  },
  {
   "cell_type": "markdown",
   "metadata": {},
   "source": [
    "## 6) Considere a bandeira da Grécia como uma imagem preta e branca e modele com uma matriz $A$."
   ]
  },
  {
   "cell_type": "code",
   "execution_count": 352,
   "metadata": {},
   "outputs": [
    {
     "data": {
      "text/plain": [
       "compare_rank (generic function with 2 methods)"
      ]
     },
     "execution_count": 352,
     "metadata": {},
     "output_type": "execute_result"
    }
   ],
   "source": [
    "function compare_rank(path, rank = 1)\n",
    "    img = load(path)\n",
    "    display(Gray.(img))\n",
    "    \n",
    "    # Get image as a raw matrix\n",
    "    raw = channelview(Gray.(img[:,:]))\n",
    "    B, C = compressão(raw,rank) \n",
    "    teste = B*C'\n",
    "    \n",
    "    display(Gray.(teste))\n",
    "    ing = raw - teste\n",
    "    display(Gray.(ing))\n",
    "    println(\"Rank = $rank\")\n",
    "    \n",
    "    return B, C\n",
    "end"
   ]
  },
  {
   "cell_type": "markdown",
   "metadata": {},
   "source": [
    "### a) Qual é o posto da bandeira da Grécia (tal que $A = B.C^T$)? O que a matriz $B$ e matriz $C^T$ representam nesse caso? Explique com as suas próprias palavras."
   ]
  },
  {
   "cell_type": "code",
   "execution_count": 353,
   "metadata": {
    "scrolled": true
   },
   "outputs": [
    {
     "data": {
      "image/png": "[encoded data removed]",
      "text/plain": [
       "387×580 Array{Gray{N0f8},2} with eltype Gray{Normed{UInt8,8}}:\n",
       " Gray{N0f8}(0.31)  Gray{N0f8}(0.31)  …  Gray{N0f8}(0.31)  Gray{N0f8}(0.31)\n",
       " Gray{N0f8}(0.31)  Gray{N0f8}(0.31)     Gray{N0f8}(0.31)  Gray{N0f8}(0.31)\n",
       " Gray{N0f8}(0.31)  Gray{N0f8}(0.31)     Gray{N0f8}(0.31)  Gray{N0f8}(0.31)\n",
       " Gray{N0f8}(0.31)  Gray{N0f8}(0.31)     Gray{N0f8}(0.31)  Gray{N0f8}(0.31)\n",
       " Gray{N0f8}(0.31)  Gray{N0f8}(0.31)     Gray{N0f8}(0.31)  Gray{N0f8}(0.31)\n",
       " Gray{N0f8}(0.31)  Gray{N0f8}(0.31)  …  Gray{N0f8}(0.31)  Gray{N0f8}(0.31)\n",
       " Gray{N0f8}(0.31)  Gray{N0f8}(0.31)     Gray{N0f8}(0.31)  Gray{N0f8}(0.31)\n",
       " Gray{N0f8}(0.31)  Gray{N0f8}(0.31)     Gray{N0f8}(0.31)  Gray{N0f8}(0.31)\n",
       " Gray{N0f8}(0.31)  Gray{N0f8}(0.31)     Gray{N0f8}(0.31)  Gray{N0f8}(0.31)\n",
       " Gray{N0f8}(0.31)  Gray{N0f8}(0.31)     Gray{N0f8}(0.31)  Gray{N0f8}(0.31)\n",
       " Gray{N0f8}(0.31)  Gray{N0f8}(0.31)  …  Gray{N0f8}(0.31)  Gray{N0f8}(0.31)\n",
       " Gray{N0f8}(0.31)  Gray{N0f8}(0.31)     Gray{N0f8}(0.31)  Gray{N0f8}(0.31)\n",
       " Gray{N0f8}(0.31)  Gray{N0f8}(0.31)     Gray{N0f8}(0.31)  Gray{N0f8}(0.31)\n",
       " ⋮                                   ⋱                    \n",
       " Gray{N0f8}(0.31)  Gray{N0f8}(0.31)  …  Gray{N0f8}(0.31)  Gray{N0f8}(0.31)\n",
       " Gray{N0f8}(0.31)  Gray{N0f8}(0.31)     Gray{N0f8}(0.31)  Gray{N0f8}(0.31)\n",
       " Gray{N0f8}(0.31)  Gray{N0f8}(0.31)     Gray{N0f8}(0.31)  Gray{N0f8}(0.31)\n",
       " Gray{N0f8}(0.31)  Gray{N0f8}(0.31)     Gray{N0f8}(0.31)  Gray{N0f8}(0.31)\n",
       " Gray{N0f8}(0.31)  Gray{N0f8}(0.31)     Gray{N0f8}(0.31)  Gray{N0f8}(0.31)\n",
       " Gray{N0f8}(0.31)  Gray{N0f8}(0.31)  …  Gray{N0f8}(0.31)  Gray{N0f8}(0.31)\n",
       " Gray{N0f8}(0.31)  Gray{N0f8}(0.31)     Gray{N0f8}(0.31)  Gray{N0f8}(0.31)\n",
       " Gray{N0f8}(0.31)  Gray{N0f8}(0.31)     Gray{N0f8}(0.31)  Gray{N0f8}(0.31)\n",
       " Gray{N0f8}(0.31)  Gray{N0f8}(0.31)     Gray{N0f8}(0.31)  Gray{N0f8}(0.31)\n",
       " Gray{N0f8}(0.31)  Gray{N0f8}(0.31)     Gray{N0f8}(0.31)  Gray{N0f8}(0.31)\n",
       " Gray{N0f8}(0.31)  Gray{N0f8}(0.31)  …  Gray{N0f8}(0.31)  Gray{N0f8}(0.31)\n",
       " Gray{N0f8}(0.31)  Gray{N0f8}(0.31)     Gray{N0f8}(0.31)  Gray{N0f8}(0.31)"
      ]
     },
     "metadata": {},
     "output_type": "display_data"
    },
    {
     "data": {
      "image/png": "[encoded data removed]",
      "text/plain": [
       "387×580 Array{Gray{Float64},2} with eltype Gray{Float64}:\n",
       " Gray{Float64}(0.315029)  Gray{Float64}(0.315029)  …  Gray{Float64}(0.383827)\n",
       " Gray{Float64}(0.315029)  Gray{Float64}(0.315029)     Gray{Float64}(0.383827)\n",
       " Gray{Float64}(0.315029)  Gray{Float64}(0.315029)     Gray{Float64}(0.383827)\n",
       " Gray{Float64}(0.315029)  Gray{Float64}(0.315029)     Gray{Float64}(0.383827)\n",
       " Gray{Float64}(0.315029)  Gray{Float64}(0.315029)     Gray{Float64}(0.383827)\n",
       " Gray{Float64}(0.315029)  Gray{Float64}(0.315029)  …  Gray{Float64}(0.383827)\n",
       " Gray{Float64}(0.315029)  Gray{Float64}(0.315029)     Gray{Float64}(0.383827)\n",
       " Gray{Float64}(0.315029)  Gray{Float64}(0.315029)     Gray{Float64}(0.383827)\n",
       " Gray{Float64}(0.315029)  Gray{Float64}(0.315029)     Gray{Float64}(0.383827)\n",
       " Gray{Float64}(0.315029)  Gray{Float64}(0.315029)     Gray{Float64}(0.383827)\n",
       " Gray{Float64}(0.315029)  Gray{Float64}(0.315029)  …  Gray{Float64}(0.383827)\n",
       " Gray{Float64}(0.315029)  Gray{Float64}(0.315029)     Gray{Float64}(0.383827)\n",
       " Gray{Float64}(0.315029)  Gray{Float64}(0.315029)     Gray{Float64}(0.383827)\n",
       " ⋮                                                 ⋱  \n",
       " Gray{Float64}(0.260991)  Gray{Float64}(0.260991)  …  Gray{Float64}(0.317987)\n",
       " Gray{Float64}(0.260991)  Gray{Float64}(0.260991)     Gray{Float64}(0.317987)\n",
       " Gray{Float64}(0.260991)  Gray{Float64}(0.260991)     Gray{Float64}(0.317987)\n",
       " Gray{Float64}(0.260991)  Gray{Float64}(0.260991)     Gray{Float64}(0.317987)\n",
       " Gray{Float64}(0.260991)  Gray{Float64}(0.260991)     Gray{Float64}(0.317987)\n",
       " Gray{Float64}(0.260991)  Gray{Float64}(0.260991)  …  Gray{Float64}(0.317987)\n",
       " Gray{Float64}(0.260991)  Gray{Float64}(0.260991)     Gray{Float64}(0.317987)\n",
       " Gray{Float64}(0.260991)  Gray{Float64}(0.260991)     Gray{Float64}(0.317987)\n",
       " Gray{Float64}(0.260991)  Gray{Float64}(0.260991)     Gray{Float64}(0.317987)\n",
       " Gray{Float64}(0.260991)  Gray{Float64}(0.260991)     Gray{Float64}(0.317987)\n",
       " Gray{Float64}(0.260991)  Gray{Float64}(0.260991)  …  Gray{Float64}(0.317987)\n",
       " Gray{Float64}(0.260991)  Gray{Float64}(0.260991)     Gray{Float64}(0.317987)"
      ]
     },
     "metadata": {},
     "output_type": "display_data"
    },
    {
     "data": {
      "image/png": "[encoded data removed]",
      "text/plain": [
       "387×580 Array{Gray{Float64},2} with eltype Gray{Float64}:\n",
       " Gray{Float64}(-0.00522541)  …  Gray{Float64}(-0.0740227)\n",
       " Gray{Float64}(-0.00522541)     Gray{Float64}(-0.0740227)\n",
       " Gray{Float64}(-0.00522541)     Gray{Float64}(-0.0740227)\n",
       " Gray{Float64}(-0.00522541)     Gray{Float64}(-0.0740227)\n",
       " Gray{Float64}(-0.00522541)     Gray{Float64}(-0.0740227)\n",
       " Gray{Float64}(-0.00522541)  …  Gray{Float64}(-0.0740227)\n",
       " Gray{Float64}(-0.00522541)     Gray{Float64}(-0.0740227)\n",
       " Gray{Float64}(-0.00522541)     Gray{Float64}(-0.0740227)\n",
       " Gray{Float64}(-0.00522541)     Gray{Float64}(-0.0740227)\n",
       " Gray{Float64}(-0.00522541)     Gray{Float64}(-0.0740227)\n",
       " Gray{Float64}(-0.00522541)  …  Gray{Float64}(-0.0740227)\n",
       " Gray{Float64}(-0.00522541)     Gray{Float64}(-0.0740227)\n",
       " Gray{Float64}(-0.00522541)     Gray{Float64}(-0.0740227)\n",
       " ⋮                           ⋱  \n",
       " Gray{Float64}(0.0488127)    …  Gray{Float64}(-0.00818351)\n",
       " Gray{Float64}(0.0488127)       Gray{Float64}(-0.00818351)\n",
       " Gray{Float64}(0.0488127)       Gray{Float64}(-0.00818351)\n",
       " Gray{Float64}(0.0488127)       Gray{Float64}(-0.00818351)\n",
       " Gray{Float64}(0.0488127)       Gray{Float64}(-0.00818351)\n",
       " Gray{Float64}(0.0488127)    …  Gray{Float64}(-0.00818351)\n",
       " Gray{Float64}(0.0488127)       Gray{Float64}(-0.00818351)\n",
       " Gray{Float64}(0.0488127)       Gray{Float64}(-0.00818351)\n",
       " Gray{Float64}(0.0488127)       Gray{Float64}(-0.00818351)\n",
       " Gray{Float64}(0.0488127)       Gray{Float64}(-0.00818351)\n",
       " Gray{Float64}(0.0488127)    …  Gray{Float64}(-0.00818351)\n",
       " Gray{Float64}(0.0488127)       Gray{Float64}(-0.00818351)"
      ]
     },
     "metadata": {},
     "output_type": "display_data"
    },
    {
     "name": "stdout",
     "output_type": "stream",
     "text": [
      "Rank = 1\n"
     ]
    },
    {
     "data": {
      "text/plain": [
       "([12.757422438575354; 12.757422438575354; … ; 10.569095031663942; 10.569095031663942], [0.024693807067149916; 0.024693807067149916; … ; 0.03008653311654914; 0.03008653311654914])"
      ]
     },
     "execution_count": 353,
     "metadata": {},
     "output_type": "execute_result"
    }
   ],
   "source": [
    "compare_rank(\"greece_grey.png\", 1)"
   ]
  },
  {
   "cell_type": "code",
   "execution_count": 354,
   "metadata": {
    "scrolled": true
   },
   "outputs": [
    {
     "data": {
      "image/png": "[encoded data removed]",
      "text/plain": [
       "387×580 Array{Gray{N0f8},2} with eltype Gray{Normed{UInt8,8}}:\n",
       " Gray{N0f8}(0.31)  Gray{N0f8}(0.31)  …  Gray{N0f8}(0.31)  Gray{N0f8}(0.31)\n",
       " Gray{N0f8}(0.31)  Gray{N0f8}(0.31)     Gray{N0f8}(0.31)  Gray{N0f8}(0.31)\n",
       " Gray{N0f8}(0.31)  Gray{N0f8}(0.31)     Gray{N0f8}(0.31)  Gray{N0f8}(0.31)\n",
       " Gray{N0f8}(0.31)  Gray{N0f8}(0.31)     Gray{N0f8}(0.31)  Gray{N0f8}(0.31)\n",
       " Gray{N0f8}(0.31)  Gray{N0f8}(0.31)     Gray{N0f8}(0.31)  Gray{N0f8}(0.31)\n",
       " Gray{N0f8}(0.31)  Gray{N0f8}(0.31)  …  Gray{N0f8}(0.31)  Gray{N0f8}(0.31)\n",
       " Gray{N0f8}(0.31)  Gray{N0f8}(0.31)     Gray{N0f8}(0.31)  Gray{N0f8}(0.31)\n",
       " Gray{N0f8}(0.31)  Gray{N0f8}(0.31)     Gray{N0f8}(0.31)  Gray{N0f8}(0.31)\n",
       " Gray{N0f8}(0.31)  Gray{N0f8}(0.31)     Gray{N0f8}(0.31)  Gray{N0f8}(0.31)\n",
       " Gray{N0f8}(0.31)  Gray{N0f8}(0.31)     Gray{N0f8}(0.31)  Gray{N0f8}(0.31)\n",
       " Gray{N0f8}(0.31)  Gray{N0f8}(0.31)  …  Gray{N0f8}(0.31)  Gray{N0f8}(0.31)\n",
       " Gray{N0f8}(0.31)  Gray{N0f8}(0.31)     Gray{N0f8}(0.31)  Gray{N0f8}(0.31)\n",
       " Gray{N0f8}(0.31)  Gray{N0f8}(0.31)     Gray{N0f8}(0.31)  Gray{N0f8}(0.31)\n",
       " ⋮                                   ⋱                    \n",
       " Gray{N0f8}(0.31)  Gray{N0f8}(0.31)  …  Gray{N0f8}(0.31)  Gray{N0f8}(0.31)\n",
       " Gray{N0f8}(0.31)  Gray{N0f8}(0.31)     Gray{N0f8}(0.31)  Gray{N0f8}(0.31)\n",
       " Gray{N0f8}(0.31)  Gray{N0f8}(0.31)     Gray{N0f8}(0.31)  Gray{N0f8}(0.31)\n",
       " Gray{N0f8}(0.31)  Gray{N0f8}(0.31)     Gray{N0f8}(0.31)  Gray{N0f8}(0.31)\n",
       " Gray{N0f8}(0.31)  Gray{N0f8}(0.31)     Gray{N0f8}(0.31)  Gray{N0f8}(0.31)\n",
       " Gray{N0f8}(0.31)  Gray{N0f8}(0.31)  …  Gray{N0f8}(0.31)  Gray{N0f8}(0.31)\n",
       " Gray{N0f8}(0.31)  Gray{N0f8}(0.31)     Gray{N0f8}(0.31)  Gray{N0f8}(0.31)\n",
       " Gray{N0f8}(0.31)  Gray{N0f8}(0.31)     Gray{N0f8}(0.31)  Gray{N0f8}(0.31)\n",
       " Gray{N0f8}(0.31)  Gray{N0f8}(0.31)     Gray{N0f8}(0.31)  Gray{N0f8}(0.31)\n",
       " Gray{N0f8}(0.31)  Gray{N0f8}(0.31)     Gray{N0f8}(0.31)  Gray{N0f8}(0.31)\n",
       " Gray{N0f8}(0.31)  Gray{N0f8}(0.31)  …  Gray{N0f8}(0.31)  Gray{N0f8}(0.31)\n",
       " Gray{N0f8}(0.31)  Gray{N0f8}(0.31)     Gray{N0f8}(0.31)  Gray{N0f8}(0.31)"
      ]
     },
     "metadata": {},
     "output_type": "display_data"
    },
    {
     "data": {
      "image/png": "[encoded data removed]",
      "text/plain": [
       "387×580 Array{Gray{Float64},2} with eltype Gray{Float64}:\n",
       " Gray{Float64}(0.392196)  Gray{Float64}(0.392196)  …  Gray{Float64}(0.35011)\n",
       " Gray{Float64}(0.392196)  Gray{Float64}(0.392196)     Gray{Float64}(0.35011)\n",
       " Gray{Float64}(0.392196)  Gray{Float64}(0.392196)     Gray{Float64}(0.35011)\n",
       " Gray{Float64}(0.392196)  Gray{Float64}(0.392196)     Gray{Float64}(0.35011)\n",
       " Gray{Float64}(0.392196)  Gray{Float64}(0.392196)     Gray{Float64}(0.35011)\n",
       " Gray{Float64}(0.392196)  Gray{Float64}(0.392196)  …  Gray{Float64}(0.35011)\n",
       " Gray{Float64}(0.392196)  Gray{Float64}(0.392196)     Gray{Float64}(0.35011)\n",
       " Gray{Float64}(0.392196)  Gray{Float64}(0.392196)     Gray{Float64}(0.35011)\n",
       " Gray{Float64}(0.392196)  Gray{Float64}(0.392196)     Gray{Float64}(0.35011)\n",
       " Gray{Float64}(0.392196)  Gray{Float64}(0.392196)     Gray{Float64}(0.35011)\n",
       " Gray{Float64}(0.392196)  Gray{Float64}(0.392196)  …  Gray{Float64}(0.35011)\n",
       " Gray{Float64}(0.392196)  Gray{Float64}(0.392196)     Gray{Float64}(0.35011)\n",
       " Gray{Float64}(0.392196)  Gray{Float64}(0.392196)     Gray{Float64}(0.35011)\n",
       " ⋮                                                 ⋱  \n",
       " Gray{Float64}(0.295603)  Gray{Float64}(0.295603)  …  Gray{Float64}(0.302864)\n",
       " Gray{Float64}(0.295603)  Gray{Float64}(0.295603)     Gray{Float64}(0.302864)\n",
       " Gray{Float64}(0.295603)  Gray{Float64}(0.295603)     Gray{Float64}(0.302864)\n",
       " Gray{Float64}(0.295603)  Gray{Float64}(0.295603)     Gray{Float64}(0.302864)\n",
       " Gray{Float64}(0.295603)  Gray{Float64}(0.295603)     Gray{Float64}(0.302864)\n",
       " Gray{Float64}(0.295603)  Gray{Float64}(0.295603)  …  Gray{Float64}(0.302864)\n",
       " Gray{Float64}(0.295603)  Gray{Float64}(0.295603)     Gray{Float64}(0.302864)\n",
       " Gray{Float64}(0.295603)  Gray{Float64}(0.295603)     Gray{Float64}(0.302864)\n",
       " Gray{Float64}(0.295603)  Gray{Float64}(0.295603)     Gray{Float64}(0.302864)\n",
       " Gray{Float64}(0.295603)  Gray{Float64}(0.295603)     Gray{Float64}(0.302864)\n",
       " Gray{Float64}(0.295603)  Gray{Float64}(0.295603)  …  Gray{Float64}(0.302864)\n",
       " Gray{Float64}(0.295603)  Gray{Float64}(0.295603)     Gray{Float64}(0.302864)"
      ]
     },
     "metadata": {},
     "output_type": "display_data"
    },
    {
     "data": {
      "image/png": "[encoded data removed]",
      "text/plain": [
       "387×580 Array{Gray{Float64},2} with eltype Gray{Float64}:\n",
       " Gray{Float64}(-0.0823922)  …  Gray{Float64}(-0.0403059)\n",
       " Gray{Float64}(-0.0823922)     Gray{Float64}(-0.0403059)\n",
       " Gray{Float64}(-0.0823922)     Gray{Float64}(-0.0403059)\n",
       " Gray{Float64}(-0.0823922)     Gray{Float64}(-0.0403059)\n",
       " Gray{Float64}(-0.0823922)     Gray{Float64}(-0.0403059)\n",
       " Gray{Float64}(-0.0823922)  …  Gray{Float64}(-0.0403059)\n",
       " Gray{Float64}(-0.0823922)     Gray{Float64}(-0.0403059)\n",
       " Gray{Float64}(-0.0823922)     Gray{Float64}(-0.0403059)\n",
       " Gray{Float64}(-0.0823922)     Gray{Float64}(-0.0403059)\n",
       " Gray{Float64}(-0.0823922)     Gray{Float64}(-0.0403059)\n",
       " Gray{Float64}(-0.0823922)  …  Gray{Float64}(-0.0403059)\n",
       " Gray{Float64}(-0.0823922)     Gray{Float64}(-0.0403059)\n",
       " Gray{Float64}(-0.0823922)     Gray{Float64}(-0.0403059)\n",
       " ⋮                          ⋱  \n",
       " Gray{Float64}(0.0142007)   …  Gray{Float64}(0.00693969)\n",
       " Gray{Float64}(0.0142007)      Gray{Float64}(0.00693969)\n",
       " Gray{Float64}(0.0142007)      Gray{Float64}(0.00693969)\n",
       " Gray{Float64}(0.0142007)      Gray{Float64}(0.00693969)\n",
       " Gray{Float64}(0.0142007)      Gray{Float64}(0.00693969)\n",
       " Gray{Float64}(0.0142007)   …  Gray{Float64}(0.00693969)\n",
       " Gray{Float64}(0.0142007)      Gray{Float64}(0.00693969)\n",
       " Gray{Float64}(0.0142007)      Gray{Float64}(0.00693969)\n",
       " Gray{Float64}(0.0142007)      Gray{Float64}(0.00693969)\n",
       " Gray{Float64}(0.0142007)      Gray{Float64}(0.00693969)\n",
       " Gray{Float64}(0.0142007)   …  Gray{Float64}(0.00693969)\n",
       " Gray{Float64}(0.0142007)      Gray{Float64}(0.00693969)"
      ]
     },
     "metadata": {},
     "output_type": "display_data"
    },
    {
     "name": "stdout",
     "output_type": "stream",
     "text": [
      "Rank = 2\n"
     ]
    },
    {
     "data": {
      "text/plain": [
       "([-7.196303506441662 5.911470438053228; -7.196303506441662 5.911470438053228; … ; -5.961895202772008 2.651504065959208; -5.961895202772008 2.651504065959208], [-0.043776548347400225 0.013053731866357178; -0.043776548347400225 0.013053731866357178; … ; -0.05333663488990257 -0.005703627624279539; -0.05333663488990257 -0.005703627624279539])"
      ]
     },
     "execution_count": 354,
     "metadata": {},
     "output_type": "execute_result"
    }
   ],
   "source": [
    "compare_rank(\"greece_grey.png\", 2)"
   ]
  },
  {
   "cell_type": "code",
   "execution_count": 355,
   "metadata": {
    "scrolled": true
   },
   "outputs": [
    {
     "data": {
      "image/png": "[encoded data removed]",
      "text/plain": [
       "387×580 Array{Gray{N0f8},2} with eltype Gray{Normed{UInt8,8}}:\n",
       " Gray{N0f8}(0.31)  Gray{N0f8}(0.31)  …  Gray{N0f8}(0.31)  Gray{N0f8}(0.31)\n",
       " Gray{N0f8}(0.31)  Gray{N0f8}(0.31)     Gray{N0f8}(0.31)  Gray{N0f8}(0.31)\n",
       " Gray{N0f8}(0.31)  Gray{N0f8}(0.31)     Gray{N0f8}(0.31)  Gray{N0f8}(0.31)\n",
       " Gray{N0f8}(0.31)  Gray{N0f8}(0.31)     Gray{N0f8}(0.31)  Gray{N0f8}(0.31)\n",
       " Gray{N0f8}(0.31)  Gray{N0f8}(0.31)     Gray{N0f8}(0.31)  Gray{N0f8}(0.31)\n",
       " Gray{N0f8}(0.31)  Gray{N0f8}(0.31)  …  Gray{N0f8}(0.31)  Gray{N0f8}(0.31)\n",
       " Gray{N0f8}(0.31)  Gray{N0f8}(0.31)     Gray{N0f8}(0.31)  Gray{N0f8}(0.31)\n",
       " Gray{N0f8}(0.31)  Gray{N0f8}(0.31)     Gray{N0f8}(0.31)  Gray{N0f8}(0.31)\n",
       " Gray{N0f8}(0.31)  Gray{N0f8}(0.31)     Gray{N0f8}(0.31)  Gray{N0f8}(0.31)\n",
       " Gray{N0f8}(0.31)  Gray{N0f8}(0.31)     Gray{N0f8}(0.31)  Gray{N0f8}(0.31)\n",
       " Gray{N0f8}(0.31)  Gray{N0f8}(0.31)  …  Gray{N0f8}(0.31)  Gray{N0f8}(0.31)\n",
       " Gray{N0f8}(0.31)  Gray{N0f8}(0.31)     Gray{N0f8}(0.31)  Gray{N0f8}(0.31)\n",
       " Gray{N0f8}(0.31)  Gray{N0f8}(0.31)     Gray{N0f8}(0.31)  Gray{N0f8}(0.31)\n",
       " ⋮                                   ⋱                    \n",
       " Gray{N0f8}(0.31)  Gray{N0f8}(0.31)  …  Gray{N0f8}(0.31)  Gray{N0f8}(0.31)\n",
       " Gray{N0f8}(0.31)  Gray{N0f8}(0.31)     Gray{N0f8}(0.31)  Gray{N0f8}(0.31)\n",
       " Gray{N0f8}(0.31)  Gray{N0f8}(0.31)     Gray{N0f8}(0.31)  Gray{N0f8}(0.31)\n",
       " Gray{N0f8}(0.31)  Gray{N0f8}(0.31)     Gray{N0f8}(0.31)  Gray{N0f8}(0.31)\n",
       " Gray{N0f8}(0.31)  Gray{N0f8}(0.31)     Gray{N0f8}(0.31)  Gray{N0f8}(0.31)\n",
       " Gray{N0f8}(0.31)  Gray{N0f8}(0.31)  …  Gray{N0f8}(0.31)  Gray{N0f8}(0.31)\n",
       " Gray{N0f8}(0.31)  Gray{N0f8}(0.31)     Gray{N0f8}(0.31)  Gray{N0f8}(0.31)\n",
       " Gray{N0f8}(0.31)  Gray{N0f8}(0.31)     Gray{N0f8}(0.31)  Gray{N0f8}(0.31)\n",
       " Gray{N0f8}(0.31)  Gray{N0f8}(0.31)     Gray{N0f8}(0.31)  Gray{N0f8}(0.31)\n",
       " Gray{N0f8}(0.31)  Gray{N0f8}(0.31)     Gray{N0f8}(0.31)  Gray{N0f8}(0.31)\n",
       " Gray{N0f8}(0.31)  Gray{N0f8}(0.31)  …  Gray{N0f8}(0.31)  Gray{N0f8}(0.31)\n",
       " Gray{N0f8}(0.31)  Gray{N0f8}(0.31)     Gray{N0f8}(0.31)  Gray{N0f8}(0.31)"
      ]
     },
     "metadata": {},
     "output_type": "display_data"
    },
    {
     "data": {
      "image/png": "[encoded data removed]",
      "text/plain": [
       "387×580 Array{Gray{Float64},2} with eltype Gray{Float64}:\n",
       " Gray{Float64}(0.309765)  Gray{Float64}(0.309765)  …  Gray{Float64}(0.309801)\n",
       " Gray{Float64}(0.309765)  Gray{Float64}(0.309765)     Gray{Float64}(0.309801)\n",
       " Gray{Float64}(0.309765)  Gray{Float64}(0.309765)     Gray{Float64}(0.309801)\n",
       " Gray{Float64}(0.309765)  Gray{Float64}(0.309765)     Gray{Float64}(0.309801)\n",
       " Gray{Float64}(0.309765)  Gray{Float64}(0.309765)     Gray{Float64}(0.309801)\n",
       " Gray{Float64}(0.309765)  Gray{Float64}(0.309765)  …  Gray{Float64}(0.309801)\n",
       " Gray{Float64}(0.309765)  Gray{Float64}(0.309765)     Gray{Float64}(0.309801)\n",
       " Gray{Float64}(0.309765)  Gray{Float64}(0.309765)     Gray{Float64}(0.309801)\n",
       " Gray{Float64}(0.309765)  Gray{Float64}(0.309765)     Gray{Float64}(0.309801)\n",
       " Gray{Float64}(0.309765)  Gray{Float64}(0.309765)     Gray{Float64}(0.309801)\n",
       " Gray{Float64}(0.309765)  Gray{Float64}(0.309765)  …  Gray{Float64}(0.309801)\n",
       " Gray{Float64}(0.309765)  Gray{Float64}(0.309765)     Gray{Float64}(0.309801)\n",
       " Gray{Float64}(0.309765)  Gray{Float64}(0.309765)     Gray{Float64}(0.309801)\n",
       " ⋮                                                 ⋱  \n",
       " Gray{Float64}(0.309793)  Gray{Float64}(0.309793)  …  Gray{Float64}(0.309803)\n",
       " Gray{Float64}(0.309793)  Gray{Float64}(0.309793)     Gray{Float64}(0.309803)\n",
       " Gray{Float64}(0.309793)  Gray{Float64}(0.309793)     Gray{Float64}(0.309803)\n",
       " Gray{Float64}(0.309793)  Gray{Float64}(0.309793)     Gray{Float64}(0.309803)\n",
       " Gray{Float64}(0.309793)  Gray{Float64}(0.309793)     Gray{Float64}(0.309803)\n",
       " Gray{Float64}(0.309793)  Gray{Float64}(0.309793)  …  Gray{Float64}(0.309803)\n",
       " Gray{Float64}(0.309793)  Gray{Float64}(0.309793)     Gray{Float64}(0.309803)\n",
       " Gray{Float64}(0.309793)  Gray{Float64}(0.309793)     Gray{Float64}(0.309803)\n",
       " Gray{Float64}(0.309793)  Gray{Float64}(0.309793)     Gray{Float64}(0.309803)\n",
       " Gray{Float64}(0.309793)  Gray{Float64}(0.309793)     Gray{Float64}(0.309803)\n",
       " Gray{Float64}(0.309793)  Gray{Float64}(0.309793)  …  Gray{Float64}(0.309803)\n",
       " Gray{Float64}(0.309793)  Gray{Float64}(0.309793)     Gray{Float64}(0.309803)"
      ]
     },
     "metadata": {},
     "output_type": "display_data"
    },
    {
     "data": {
      "image/png": "[encoded data removed]",
      "text/plain": [
       "387×580 Array{Gray{Float64},2} with eltype Gray{Float64}:\n",
       " Gray{Float64}(3.93182e-5)  …  Gray{Float64}(3.33181e-6)\n",
       " Gray{Float64}(3.93182e-5)     Gray{Float64}(3.33181e-6)\n",
       " Gray{Float64}(3.93182e-5)     Gray{Float64}(3.33181e-6)\n",
       " Gray{Float64}(3.93182e-5)     Gray{Float64}(3.33181e-6)\n",
       " Gray{Float64}(3.93182e-5)     Gray{Float64}(3.33181e-6)\n",
       " Gray{Float64}(3.93182e-5)  …  Gray{Float64}(3.33181e-6)\n",
       " Gray{Float64}(3.93182e-5)     Gray{Float64}(3.33181e-6)\n",
       " Gray{Float64}(3.93182e-5)     Gray{Float64}(3.33181e-6)\n",
       " Gray{Float64}(3.93182e-5)     Gray{Float64}(3.33181e-6)\n",
       " Gray{Float64}(3.93182e-5)     Gray{Float64}(3.33181e-6)\n",
       " Gray{Float64}(3.93182e-5)  …  Gray{Float64}(3.33181e-6)\n",
       " Gray{Float64}(3.93182e-5)     Gray{Float64}(3.33181e-6)\n",
       " Gray{Float64}(3.93182e-5)     Gray{Float64}(3.33181e-6)\n",
       " ⋮                          ⋱  \n",
       " Gray{Float64}(1.11174e-5)  …  Gray{Float64}(9.42088e-7)\n",
       " Gray{Float64}(1.11174e-5)     Gray{Float64}(9.42088e-7)\n",
       " Gray{Float64}(1.11174e-5)     Gray{Float64}(9.42088e-7)\n",
       " Gray{Float64}(1.11174e-5)     Gray{Float64}(9.42088e-7)\n",
       " Gray{Float64}(1.11174e-5)     Gray{Float64}(9.42088e-7)\n",
       " Gray{Float64}(1.11174e-5)  …  Gray{Float64}(9.42088e-7)\n",
       " Gray{Float64}(1.11174e-5)     Gray{Float64}(9.42088e-7)\n",
       " Gray{Float64}(1.11174e-5)     Gray{Float64}(9.42088e-7)\n",
       " Gray{Float64}(1.11174e-5)     Gray{Float64}(9.42088e-7)\n",
       " Gray{Float64}(1.11174e-5)     Gray{Float64}(9.42088e-7)\n",
       " Gray{Float64}(1.11174e-5)  …  Gray{Float64}(9.42088e-7)\n",
       " Gray{Float64}(1.11174e-5)     Gray{Float64}(9.42088e-7)"
      ]
     },
     "metadata": {},
     "output_type": "display_data"
    },
    {
     "name": "stdout",
     "output_type": "stream",
     "text": [
      "Rank = 3\n"
     ]
    },
    {
     "data": {
      "text/plain": [
       "([-13.065202888842927 -4.585840593042064 36.209575316348705; -13.065202888842927 -4.585840593042064 36.209575316348705; … ; -10.82408077376262 -2.056912084011614 -6.233043077242156; -10.82408077376262 -2.056912084011614 -6.233043077242156], [-0.024112088503526356 -0.016827176712434486 -0.002276510406791325; -0.024112088503526356 -0.016827176712434486 -0.002276510406791325; … ; -0.02937777667484783 0.007352376386939878 -0.0011132192653522228; -0.02937777667484783 0.007352376386939878 -0.0011132192653522228])"
      ]
     },
     "execution_count": 355,
     "metadata": {},
     "output_type": "execute_result"
    }
   ],
   "source": [
    "compare_rank(\"greece_grey.png\", 3)"
   ]
  },
  {
   "cell_type": "markdown",
   "metadata": {},
   "source": [
    "O posto da bandeira é 3, porque é o menor nível de compressão que reconsistui a imagem sem perda. $B$ são os componentes verticais da imagem, e $C^T$ são os \"pesos\" para os componentes verticais, mas também podemos interpretar que $C^T$ são os componentes horizontais e $B$ são os seus pesos."
   ]
  },
  {
   "cell_type": "markdown",
   "metadata": {},
   "source": [
    "### b) Determine dois países tais quais sua bandeira tem posto $= 1$."
   ]
  },
  {
   "cell_type": "markdown",
   "metadata": {},
   "source": [
    "Alemanha e Itália."
   ]
  },
  {
   "cell_type": "code",
   "execution_count": 356,
   "metadata": {
    "scrolled": true
   },
   "outputs": [
    {
     "data": {
      "image/png": "[encoded data removed]",
      "text/plain": [
       "348×580 Array{Gray{N0f8},2} with eltype Gray{Normed{UInt8,8}}:\n",
       " Gray{N0f8}(0.0)    Gray{N0f8}(0.0)    …  Gray{N0f8}(0.0)\n",
       " Gray{N0f8}(0.0)    Gray{N0f8}(0.0)       Gray{N0f8}(0.0)\n",
       " Gray{N0f8}(0.0)    Gray{N0f8}(0.0)       Gray{N0f8}(0.0)\n",
       " Gray{N0f8}(0.0)    Gray{N0f8}(0.0)       Gray{N0f8}(0.0)\n",
       " Gray{N0f8}(0.0)    Gray{N0f8}(0.0)       Gray{N0f8}(0.0)\n",
       " Gray{N0f8}(0.0)    Gray{N0f8}(0.0)    …  Gray{N0f8}(0.0)\n",
       " Gray{N0f8}(0.0)    Gray{N0f8}(0.0)       Gray{N0f8}(0.0)\n",
       " Gray{N0f8}(0.0)    Gray{N0f8}(0.0)       Gray{N0f8}(0.0)\n",
       " Gray{N0f8}(0.0)    Gray{N0f8}(0.0)       Gray{N0f8}(0.0)\n",
       " Gray{N0f8}(0.0)    Gray{N0f8}(0.0)       Gray{N0f8}(0.0)\n",
       " Gray{N0f8}(0.0)    Gray{N0f8}(0.0)    …  Gray{N0f8}(0.0)\n",
       " Gray{N0f8}(0.0)    Gray{N0f8}(0.0)       Gray{N0f8}(0.0)\n",
       " Gray{N0f8}(0.0)    Gray{N0f8}(0.0)       Gray{N0f8}(0.0)\n",
       " ⋮                                     ⋱  \n",
       " Gray{N0f8}(0.776)  Gray{N0f8}(0.776)     Gray{N0f8}(0.776)\n",
       " Gray{N0f8}(0.776)  Gray{N0f8}(0.776)     Gray{N0f8}(0.776)\n",
       " Gray{N0f8}(0.776)  Gray{N0f8}(0.776)     Gray{N0f8}(0.776)\n",
       " Gray{N0f8}(0.776)  Gray{N0f8}(0.776)     Gray{N0f8}(0.776)\n",
       " Gray{N0f8}(0.776)  Gray{N0f8}(0.776)  …  Gray{N0f8}(0.776)\n",
       " Gray{N0f8}(0.776)  Gray{N0f8}(0.776)     Gray{N0f8}(0.776)\n",
       " Gray{N0f8}(0.776)  Gray{N0f8}(0.776)     Gray{N0f8}(0.776)\n",
       " Gray{N0f8}(0.776)  Gray{N0f8}(0.776)     Gray{N0f8}(0.776)\n",
       " Gray{N0f8}(0.776)  Gray{N0f8}(0.776)     Gray{N0f8}(0.776)\n",
       " Gray{N0f8}(0.776)  Gray{N0f8}(0.776)  …  Gray{N0f8}(0.776)\n",
       " Gray{N0f8}(0.776)  Gray{N0f8}(0.776)     Gray{N0f8}(0.776)\n",
       " Gray{N0f8}(0.776)  Gray{N0f8}(0.776)     Gray{N0f8}(0.776)"
      ]
     },
     "metadata": {},
     "output_type": "display_data"
    },
    {
     "data": {
      "image/png": "[encoded data removed]",
      "text/plain": [
       "348×580 Array{Gray{Float64},2} with eltype Gray{Float64}:\n",
       " Gray{Float64}(0.0)       Gray{Float64}(0.0)       …  Gray{Float64}(0.0)\n",
       " Gray{Float64}(0.0)       Gray{Float64}(0.0)          Gray{Float64}(0.0)\n",
       " Gray{Float64}(0.0)       Gray{Float64}(0.0)          Gray{Float64}(0.0)\n",
       " Gray{Float64}(0.0)       Gray{Float64}(0.0)          Gray{Float64}(0.0)\n",
       " Gray{Float64}(0.0)       Gray{Float64}(0.0)          Gray{Float64}(0.0)\n",
       " Gray{Float64}(0.0)       Gray{Float64}(0.0)       …  Gray{Float64}(0.0)\n",
       " Gray{Float64}(0.0)       Gray{Float64}(0.0)          Gray{Float64}(0.0)\n",
       " Gray{Float64}(0.0)       Gray{Float64}(0.0)          Gray{Float64}(0.0)\n",
       " Gray{Float64}(0.0)       Gray{Float64}(0.0)          Gray{Float64}(0.0)\n",
       " Gray{Float64}(0.0)       Gray{Float64}(0.0)          Gray{Float64}(0.0)\n",
       " Gray{Float64}(0.0)       Gray{Float64}(0.0)       …  Gray{Float64}(0.0)\n",
       " Gray{Float64}(0.0)       Gray{Float64}(0.0)          Gray{Float64}(0.0)\n",
       " Gray{Float64}(0.0)       Gray{Float64}(0.0)          Gray{Float64}(0.0)\n",
       " ⋮                                                 ⋱  \n",
       " Gray{Float64}(0.776471)  Gray{Float64}(0.776471)     Gray{Float64}(0.776471)\n",
       " Gray{Float64}(0.776471)  Gray{Float64}(0.776471)     Gray{Float64}(0.776471)\n",
       " Gray{Float64}(0.776471)  Gray{Float64}(0.776471)     Gray{Float64}(0.776471)\n",
       " Gray{Float64}(0.776471)  Gray{Float64}(0.776471)     Gray{Float64}(0.776471)\n",
       " Gray{Float64}(0.776471)  Gray{Float64}(0.776471)  …  Gray{Float64}(0.776471)\n",
       " Gray{Float64}(0.776471)  Gray{Float64}(0.776471)     Gray{Float64}(0.776471)\n",
       " Gray{Float64}(0.776471)  Gray{Float64}(0.776471)     Gray{Float64}(0.776471)\n",
       " Gray{Float64}(0.776471)  Gray{Float64}(0.776471)     Gray{Float64}(0.776471)\n",
       " Gray{Float64}(0.776471)  Gray{Float64}(0.776471)     Gray{Float64}(0.776471)\n",
       " Gray{Float64}(0.776471)  Gray{Float64}(0.776471)  …  Gray{Float64}(0.776471)\n",
       " Gray{Float64}(0.776471)  Gray{Float64}(0.776471)     Gray{Float64}(0.776471)\n",
       " Gray{Float64}(0.776471)  Gray{Float64}(0.776471)     Gray{Float64}(0.776471)"
      ]
     },
     "metadata": {},
     "output_type": "display_data"
    },
    {
     "data": {
      "image/png": "[encoded data removed]",
      "text/plain": [
       "348×580 Array{Gray{Float64},2} with eltype Gray{Float64}:\n",
       " Gray{Float64}(0.0)          …  Gray{Float64}(0.0)\n",
       " Gray{Float64}(0.0)             Gray{Float64}(0.0)\n",
       " Gray{Float64}(0.0)             Gray{Float64}(0.0)\n",
       " Gray{Float64}(0.0)             Gray{Float64}(0.0)\n",
       " Gray{Float64}(0.0)             Gray{Float64}(0.0)\n",
       " Gray{Float64}(0.0)          …  Gray{Float64}(0.0)\n",
       " Gray{Float64}(0.0)             Gray{Float64}(0.0)\n",
       " Gray{Float64}(0.0)             Gray{Float64}(0.0)\n",
       " Gray{Float64}(0.0)             Gray{Float64}(0.0)\n",
       " Gray{Float64}(0.0)             Gray{Float64}(0.0)\n",
       " Gray{Float64}(0.0)          …  Gray{Float64}(0.0)\n",
       " Gray{Float64}(0.0)             Gray{Float64}(0.0)\n",
       " Gray{Float64}(0.0)             Gray{Float64}(0.0)\n",
       " ⋮                           ⋱  \n",
       " Gray{Float64}(2.22045e-16)     Gray{Float64}(2.22045e-16)\n",
       " Gray{Float64}(2.22045e-16)     Gray{Float64}(2.22045e-16)\n",
       " Gray{Float64}(2.22045e-16)     Gray{Float64}(2.22045e-16)\n",
       " Gray{Float64}(2.22045e-16)     Gray{Float64}(2.22045e-16)\n",
       " Gray{Float64}(2.22045e-16)  …  Gray{Float64}(2.22045e-16)\n",
       " Gray{Float64}(2.22045e-16)     Gray{Float64}(2.22045e-16)\n",
       " Gray{Float64}(2.22045e-16)     Gray{Float64}(2.22045e-16)\n",
       " Gray{Float64}(2.22045e-16)     Gray{Float64}(2.22045e-16)\n",
       " Gray{Float64}(2.22045e-16)     Gray{Float64}(2.22045e-16)\n",
       " Gray{Float64}(2.22045e-16)  …  Gray{Float64}(2.22045e-16)\n",
       " Gray{Float64}(2.22045e-16)     Gray{Float64}(2.22045e-16)\n",
       " Gray{Float64}(2.22045e-16)     Gray{Float64}(2.22045e-16)"
      ]
     },
     "metadata": {},
     "output_type": "display_data"
    },
    {
     "name": "stdout",
     "output_type": "stream",
     "text": [
      "Rank = 1\n"
     ]
    },
    {
     "data": {
      "text/plain": [
       "([0.0; 0.0; … ; 99.63963610831605; 99.63963610831605], [0.007792788277460286; 0.007792788277460286; … ; 0.007792788277460286; 0.007792788277460286])"
      ]
     },
     "execution_count": 356,
     "metadata": {},
     "output_type": "execute_result"
    }
   ],
   "source": [
    "compare_rank(\"germany_grey.png\", 1)"
   ]
  },
  {
   "cell_type": "code",
   "execution_count": 357,
   "metadata": {
    "scrolled": true
   },
   "outputs": [
    {
     "data": {
      "image/png": "[encoded data removed]",
      "text/plain": [
       "387×580 Array{Gray{N0f8},2} with eltype Gray{Normed{UInt8,8}}:\n",
       " Gray{N0f8}(0.369)  Gray{N0f8}(0.369)  …  Gray{N0f8}(0.365)\n",
       " Gray{N0f8}(0.369)  Gray{N0f8}(0.369)     Gray{N0f8}(0.365)\n",
       " Gray{N0f8}(0.369)  Gray{N0f8}(0.369)     Gray{N0f8}(0.365)\n",
       " Gray{N0f8}(0.369)  Gray{N0f8}(0.369)     Gray{N0f8}(0.365)\n",
       " Gray{N0f8}(0.369)  Gray{N0f8}(0.369)     Gray{N0f8}(0.365)\n",
       " Gray{N0f8}(0.369)  Gray{N0f8}(0.369)  …  Gray{N0f8}(0.365)\n",
       " Gray{N0f8}(0.369)  Gray{N0f8}(0.369)     Gray{N0f8}(0.365)\n",
       " Gray{N0f8}(0.369)  Gray{N0f8}(0.369)     Gray{N0f8}(0.365)\n",
       " Gray{N0f8}(0.369)  Gray{N0f8}(0.369)     Gray{N0f8}(0.365)\n",
       " Gray{N0f8}(0.369)  Gray{N0f8}(0.369)     Gray{N0f8}(0.365)\n",
       " Gray{N0f8}(0.369)  Gray{N0f8}(0.369)  …  Gray{N0f8}(0.365)\n",
       " Gray{N0f8}(0.369)  Gray{N0f8}(0.369)     Gray{N0f8}(0.365)\n",
       " Gray{N0f8}(0.369)  Gray{N0f8}(0.369)     Gray{N0f8}(0.365)\n",
       " ⋮                                     ⋱  \n",
       " Gray{N0f8}(0.369)  Gray{N0f8}(0.369)  …  Gray{N0f8}(0.365)\n",
       " Gray{N0f8}(0.369)  Gray{N0f8}(0.369)     Gray{N0f8}(0.365)\n",
       " Gray{N0f8}(0.369)  Gray{N0f8}(0.369)     Gray{N0f8}(0.365)\n",
       " Gray{N0f8}(0.369)  Gray{N0f8}(0.369)     Gray{N0f8}(0.365)\n",
       " Gray{N0f8}(0.369)  Gray{N0f8}(0.369)     Gray{N0f8}(0.365)\n",
       " Gray{N0f8}(0.369)  Gray{N0f8}(0.369)  …  Gray{N0f8}(0.365)\n",
       " Gray{N0f8}(0.369)  Gray{N0f8}(0.369)     Gray{N0f8}(0.365)\n",
       " Gray{N0f8}(0.369)  Gray{N0f8}(0.369)     Gray{N0f8}(0.365)\n",
       " Gray{N0f8}(0.369)  Gray{N0f8}(0.369)     Gray{N0f8}(0.365)\n",
       " Gray{N0f8}(0.369)  Gray{N0f8}(0.369)     Gray{N0f8}(0.365)\n",
       " Gray{N0f8}(0.369)  Gray{N0f8}(0.369)  …  Gray{N0f8}(0.365)\n",
       " Gray{N0f8}(0.369)  Gray{N0f8}(0.369)     Gray{N0f8}(0.365)"
      ]
     },
     "metadata": {},
     "output_type": "display_data"
    },
    {
     "data": {
      "image/png": "[encoded data removed]",
      "text/plain": [
       "387×580 Array{Gray{Float64},2} with eltype Gray{Float64}:\n",
       " Gray{Float64}(0.368627)  Gray{Float64}(0.368627)  …  Gray{Float64}(0.364706)\n",
       " Gray{Float64}(0.368627)  Gray{Float64}(0.368627)     Gray{Float64}(0.364706)\n",
       " Gray{Float64}(0.368627)  Gray{Float64}(0.368627)     Gray{Float64}(0.364706)\n",
       " Gray{Float64}(0.368627)  Gray{Float64}(0.368627)     Gray{Float64}(0.364706)\n",
       " Gray{Float64}(0.368627)  Gray{Float64}(0.368627)     Gray{Float64}(0.364706)\n",
       " Gray{Float64}(0.368627)  Gray{Float64}(0.368627)  …  Gray{Float64}(0.364706)\n",
       " Gray{Float64}(0.368627)  Gray{Float64}(0.368627)     Gray{Float64}(0.364706)\n",
       " Gray{Float64}(0.368627)  Gray{Float64}(0.368627)     Gray{Float64}(0.364706)\n",
       " Gray{Float64}(0.368627)  Gray{Float64}(0.368627)     Gray{Float64}(0.364706)\n",
       " Gray{Float64}(0.368627)  Gray{Float64}(0.368627)     Gray{Float64}(0.364706)\n",
       " Gray{Float64}(0.368627)  Gray{Float64}(0.368627)  …  Gray{Float64}(0.364706)\n",
       " Gray{Float64}(0.368627)  Gray{Float64}(0.368627)     Gray{Float64}(0.364706)\n",
       " Gray{Float64}(0.368627)  Gray{Float64}(0.368627)     Gray{Float64}(0.364706)\n",
       " ⋮                                                 ⋱  \n",
       " Gray{Float64}(0.368627)  Gray{Float64}(0.368627)  …  Gray{Float64}(0.364706)\n",
       " Gray{Float64}(0.368627)  Gray{Float64}(0.368627)     Gray{Float64}(0.364706)\n",
       " Gray{Float64}(0.368627)  Gray{Float64}(0.368627)     Gray{Float64}(0.364706)\n",
       " Gray{Float64}(0.368627)  Gray{Float64}(0.368627)     Gray{Float64}(0.364706)\n",
       " Gray{Float64}(0.368627)  Gray{Float64}(0.368627)     Gray{Float64}(0.364706)\n",
       " Gray{Float64}(0.368627)  Gray{Float64}(0.368627)  …  Gray{Float64}(0.364706)\n",
       " Gray{Float64}(0.368627)  Gray{Float64}(0.368627)     Gray{Float64}(0.364706)\n",
       " Gray{Float64}(0.368627)  Gray{Float64}(0.368627)     Gray{Float64}(0.364706)\n",
       " Gray{Float64}(0.368627)  Gray{Float64}(0.368627)     Gray{Float64}(0.364706)\n",
       " Gray{Float64}(0.368627)  Gray{Float64}(0.368627)     Gray{Float64}(0.364706)\n",
       " Gray{Float64}(0.368627)  Gray{Float64}(0.368627)  …  Gray{Float64}(0.364706)\n",
       " Gray{Float64}(0.368627)  Gray{Float64}(0.368627)     Gray{Float64}(0.364706)"
      ]
     },
     "metadata": {},
     "output_type": "display_data"
    },
    {
     "data": {
      "image/png": "[encoded data removed]",
      "text/plain": [
       "387×580 Array{Gray{Float64},2} with eltype Gray{Float64}:\n",
       " Gray{Float64}(0.0)          …  Gray{Float64}(-1.66533e-16)\n",
       " Gray{Float64}(0.0)             Gray{Float64}(-1.66533e-16)\n",
       " Gray{Float64}(0.0)             Gray{Float64}(-1.66533e-16)\n",
       " Gray{Float64}(0.0)             Gray{Float64}(-1.66533e-16)\n",
       " Gray{Float64}(0.0)             Gray{Float64}(-1.66533e-16)\n",
       " Gray{Float64}(0.0)          …  Gray{Float64}(-1.66533e-16)\n",
       " Gray{Float64}(0.0)             Gray{Float64}(-1.66533e-16)\n",
       " Gray{Float64}(0.0)             Gray{Float64}(-1.66533e-16)\n",
       " Gray{Float64}(0.0)             Gray{Float64}(-1.66533e-16)\n",
       " Gray{Float64}(0.0)             Gray{Float64}(-1.66533e-16)\n",
       " Gray{Float64}(0.0)          …  Gray{Float64}(-1.66533e-16)\n",
       " Gray{Float64}(0.0)             Gray{Float64}(-1.66533e-16)\n",
       " Gray{Float64}(0.0)             Gray{Float64}(-1.66533e-16)\n",
       " ⋮                           ⋱  \n",
       " Gray{Float64}(0.0)          …  Gray{Float64}(-1.66533e-16)\n",
       " Gray{Float64}(0.0)             Gray{Float64}(-1.66533e-16)\n",
       " Gray{Float64}(0.0)             Gray{Float64}(-1.66533e-16)\n",
       " Gray{Float64}(0.0)             Gray{Float64}(-1.66533e-16)\n",
       " Gray{Float64}(0.0)             Gray{Float64}(-1.66533e-16)\n",
       " Gray{Float64}(0.0)          …  Gray{Float64}(-1.66533e-16)\n",
       " Gray{Float64}(0.0)             Gray{Float64}(-1.66533e-16)\n",
       " Gray{Float64}(0.0)             Gray{Float64}(-1.66533e-16)\n",
       " Gray{Float64}(0.0)             Gray{Float64}(-1.66533e-16)\n",
       " Gray{Float64}(5.55112e-16)     Gray{Float64}(3.88578e-16)\n",
       " Gray{Float64}(5.55112e-16)  …  Gray{Float64}(3.88578e-16)\n",
       " Gray{Float64}(5.55112e-16)     Gray{Float64}(3.88578e-16)"
      ]
     },
     "metadata": {},
     "output_type": "display_data"
    },
    {
     "name": "stdout",
     "output_type": "stream",
     "text": [
      "Rank = 1\n"
     ]
    },
    {
     "data": {
      "text/plain": [
       "([25.109542976207724; 25.109542976207724; … ; 25.109542976207685; 25.109542976207685], [0.014680771025170835; 0.014680771025170835; … ; 0.014524592610009447; 0.014524592610009447])"
      ]
     },
     "execution_count": 357,
     "metadata": {},
     "output_type": "execute_result"
    }
   ],
   "source": [
    "compare_rank(\"italy_grey.png\", 1)"
   ]
  },
  {
   "cell_type": "markdown",
   "metadata": {},
   "source": [
    "### c) Determine dois países tais quais sua bandeira tem posto $= 2$."
   ]
  },
  {
   "cell_type": "markdown",
   "metadata": {},
   "source": [
    "Suécia e Benin."
   ]
  },
  {
   "cell_type": "code",
   "execution_count": 358,
   "metadata": {
    "scrolled": true
   },
   "outputs": [
    {
     "data": {
      "image/png": "[encoded data removed]",
      "text/plain": [
       "363×580 Array{Gray{N0f8},2} with eltype Gray{Normed{UInt8,8}}:\n",
       " Gray{N0f8}(0.318)  Gray{N0f8}(0.318)  …  Gray{N0f8}(0.318)\n",
       " Gray{N0f8}(0.318)  Gray{N0f8}(0.318)     Gray{N0f8}(0.318)\n",
       " Gray{N0f8}(0.318)  Gray{N0f8}(0.318)     Gray{N0f8}(0.318)\n",
       " Gray{N0f8}(0.318)  Gray{N0f8}(0.318)     Gray{N0f8}(0.318)\n",
       " Gray{N0f8}(0.318)  Gray{N0f8}(0.318)     Gray{N0f8}(0.318)\n",
       " Gray{N0f8}(0.318)  Gray{N0f8}(0.318)  …  Gray{N0f8}(0.318)\n",
       " Gray{N0f8}(0.318)  Gray{N0f8}(0.318)     Gray{N0f8}(0.318)\n",
       " Gray{N0f8}(0.318)  Gray{N0f8}(0.318)     Gray{N0f8}(0.318)\n",
       " Gray{N0f8}(0.318)  Gray{N0f8}(0.318)     Gray{N0f8}(0.318)\n",
       " Gray{N0f8}(0.318)  Gray{N0f8}(0.318)     Gray{N0f8}(0.318)\n",
       " Gray{N0f8}(0.318)  Gray{N0f8}(0.318)  …  Gray{N0f8}(0.318)\n",
       " Gray{N0f8}(0.318)  Gray{N0f8}(0.318)     Gray{N0f8}(0.318)\n",
       " Gray{N0f8}(0.318)  Gray{N0f8}(0.318)     Gray{N0f8}(0.318)\n",
       " ⋮                                     ⋱  \n",
       " Gray{N0f8}(0.318)  Gray{N0f8}(0.318)     Gray{N0f8}(0.318)\n",
       " Gray{N0f8}(0.318)  Gray{N0f8}(0.318)     Gray{N0f8}(0.318)\n",
       " Gray{N0f8}(0.318)  Gray{N0f8}(0.318)     Gray{N0f8}(0.318)\n",
       " Gray{N0f8}(0.318)  Gray{N0f8}(0.318)     Gray{N0f8}(0.318)\n",
       " Gray{N0f8}(0.318)  Gray{N0f8}(0.318)  …  Gray{N0f8}(0.318)\n",
       " Gray{N0f8}(0.318)  Gray{N0f8}(0.318)     Gray{N0f8}(0.318)\n",
       " Gray{N0f8}(0.318)  Gray{N0f8}(0.318)     Gray{N0f8}(0.318)\n",
       " Gray{N0f8}(0.318)  Gray{N0f8}(0.318)     Gray{N0f8}(0.318)\n",
       " Gray{N0f8}(0.318)  Gray{N0f8}(0.318)     Gray{N0f8}(0.318)\n",
       " Gray{N0f8}(0.318)  Gray{N0f8}(0.318)  …  Gray{N0f8}(0.318)\n",
       " Gray{N0f8}(0.318)  Gray{N0f8}(0.318)     Gray{N0f8}(0.318)\n",
       " Gray{N0f8}(0.318)  Gray{N0f8}(0.318)     Gray{N0f8}(0.318)"
      ]
     },
     "metadata": {},
     "output_type": "display_data"
    },
    {
     "data": {
      "image/png": "[encoded data removed]",
      "text/plain": [
       "363×580 Array{Gray{Float64},2} with eltype Gray{Float64}:\n",
       " Gray{Float64}(0.317647)  Gray{Float64}(0.317647)  …  Gray{Float64}(0.317647)\n",
       " Gray{Float64}(0.317647)  Gray{Float64}(0.317647)     Gray{Float64}(0.317647)\n",
       " Gray{Float64}(0.317647)  Gray{Float64}(0.317647)     Gray{Float64}(0.317647)\n",
       " Gray{Float64}(0.317647)  Gray{Float64}(0.317647)     Gray{Float64}(0.317647)\n",
       " Gray{Float64}(0.317647)  Gray{Float64}(0.317647)     Gray{Float64}(0.317647)\n",
       " Gray{Float64}(0.317647)  Gray{Float64}(0.317647)  …  Gray{Float64}(0.317647)\n",
       " Gray{Float64}(0.317647)  Gray{Float64}(0.317647)     Gray{Float64}(0.317647)\n",
       " Gray{Float64}(0.317647)  Gray{Float64}(0.317647)     Gray{Float64}(0.317647)\n",
       " Gray{Float64}(0.317647)  Gray{Float64}(0.317647)     Gray{Float64}(0.317647)\n",
       " Gray{Float64}(0.317647)  Gray{Float64}(0.317647)     Gray{Float64}(0.317647)\n",
       " Gray{Float64}(0.317647)  Gray{Float64}(0.317647)  …  Gray{Float64}(0.317647)\n",
       " Gray{Float64}(0.317647)  Gray{Float64}(0.317647)     Gray{Float64}(0.317647)\n",
       " Gray{Float64}(0.317647)  Gray{Float64}(0.317647)     Gray{Float64}(0.317647)\n",
       " ⋮                                                 ⋱  \n",
       " Gray{Float64}(0.317647)  Gray{Float64}(0.317647)     Gray{Float64}(0.317647)\n",
       " Gray{Float64}(0.317647)  Gray{Float64}(0.317647)     Gray{Float64}(0.317647)\n",
       " Gray{Float64}(0.317647)  Gray{Float64}(0.317647)     Gray{Float64}(0.317647)\n",
       " Gray{Float64}(0.317647)  Gray{Float64}(0.317647)     Gray{Float64}(0.317647)\n",
       " Gray{Float64}(0.317647)  Gray{Float64}(0.317647)  …  Gray{Float64}(0.317647)\n",
       " Gray{Float64}(0.317647)  Gray{Float64}(0.317647)     Gray{Float64}(0.317647)\n",
       " Gray{Float64}(0.317647)  Gray{Float64}(0.317647)     Gray{Float64}(0.317647)\n",
       " Gray{Float64}(0.317647)  Gray{Float64}(0.317647)     Gray{Float64}(0.317647)\n",
       " Gray{Float64}(0.317647)  Gray{Float64}(0.317647)     Gray{Float64}(0.317647)\n",
       " Gray{Float64}(0.317647)  Gray{Float64}(0.317647)  …  Gray{Float64}(0.317647)\n",
       " Gray{Float64}(0.317647)  Gray{Float64}(0.317647)     Gray{Float64}(0.317647)\n",
       " Gray{Float64}(0.317647)  Gray{Float64}(0.317647)     Gray{Float64}(0.317647)"
      ]
     },
     "metadata": {},
     "output_type": "display_data"
    },
    {
     "data": {
      "image/png": "[encoded data removed]",
      "text/plain": [
       "363×580 Array{Gray{Float64},2} with eltype Gray{Float64}:\n",
       " Gray{Float64}(5.41842e-8)  …  Gray{Float64}(5.41842e-8)\n",
       " Gray{Float64}(5.41842e-8)     Gray{Float64}(5.41842e-8)\n",
       " Gray{Float64}(5.41842e-8)     Gray{Float64}(5.41842e-8)\n",
       " Gray{Float64}(5.41842e-8)     Gray{Float64}(5.41842e-8)\n",
       " Gray{Float64}(5.41842e-8)     Gray{Float64}(5.41842e-8)\n",
       " Gray{Float64}(5.41842e-8)  …  Gray{Float64}(5.41842e-8)\n",
       " Gray{Float64}(5.41842e-8)     Gray{Float64}(5.41842e-8)\n",
       " Gray{Float64}(5.41842e-8)     Gray{Float64}(5.41842e-8)\n",
       " Gray{Float64}(5.41842e-8)     Gray{Float64}(5.41842e-8)\n",
       " Gray{Float64}(5.41842e-8)     Gray{Float64}(5.41842e-8)\n",
       " Gray{Float64}(5.41842e-8)  …  Gray{Float64}(5.41842e-8)\n",
       " Gray{Float64}(5.41842e-8)     Gray{Float64}(5.41842e-8)\n",
       " Gray{Float64}(5.41842e-8)     Gray{Float64}(5.41842e-8)\n",
       " ⋮                          ⋱  \n",
       " Gray{Float64}(5.41842e-8)     Gray{Float64}(5.41842e-8)\n",
       " Gray{Float64}(5.41842e-8)     Gray{Float64}(5.41842e-8)\n",
       " Gray{Float64}(5.41842e-8)     Gray{Float64}(5.41842e-8)\n",
       " Gray{Float64}(5.41842e-8)     Gray{Float64}(5.41842e-8)\n",
       " Gray{Float64}(5.41842e-8)  …  Gray{Float64}(5.41842e-8)\n",
       " Gray{Float64}(5.41842e-8)     Gray{Float64}(5.41842e-8)\n",
       " Gray{Float64}(5.41842e-8)     Gray{Float64}(5.41842e-8)\n",
       " Gray{Float64}(5.41842e-8)     Gray{Float64}(5.41842e-8)\n",
       " Gray{Float64}(5.41842e-8)     Gray{Float64}(5.41842e-8)\n",
       " Gray{Float64}(5.41842e-8)  …  Gray{Float64}(5.41842e-8)\n",
       " Gray{Float64}(5.41842e-8)     Gray{Float64}(5.41842e-8)\n",
       " Gray{Float64}(5.41842e-8)     Gray{Float64}(5.41842e-8)"
      ]
     },
     "metadata": {},
     "output_type": "display_data"
    },
    {
     "name": "stdout",
     "output_type": "stream",
     "text": [
      "Rank = 2\n"
     ]
    },
    {
     "data": {
      "text/plain": [
       "([-61.226730644959154 -30.60751126065302; -61.226730644959154 -30.60751126065302; … ; -61.22673064495916 -30.60751126065301; -61.22673064495916 -30.60751126065301], [-0.005864721899658452 0.0013536135971939601; -0.005864721899658452 0.0013536135971939601; … ; -0.005864721899658452 0.0013536135971939601; -0.005864721899658452 0.0013536135971939601])"
      ]
     },
     "execution_count": 358,
     "metadata": {},
     "output_type": "execute_result"
    }
   ],
   "source": [
    "compare_rank(\"sweden_grey.png\", 2)"
   ]
  },
  {
   "cell_type": "code",
   "execution_count": 359,
   "metadata": {
    "scrolled": true
   },
   "outputs": [
    {
     "data": {
      "image/png": "[encoded data removed]",
      "text/plain": [
       "387×580 Array{Gray{N0f8},2} with eltype Gray{Normed{UInt8,8}}:\n",
       " Gray{N0f8}(0.349)  Gray{N0f8}(0.349)  …  Gray{N0f8}(0.788)\n",
       " Gray{N0f8}(0.349)  Gray{N0f8}(0.349)     Gray{N0f8}(0.788)\n",
       " Gray{N0f8}(0.349)  Gray{N0f8}(0.349)     Gray{N0f8}(0.788)\n",
       " Gray{N0f8}(0.349)  Gray{N0f8}(0.349)     Gray{N0f8}(0.788)\n",
       " Gray{N0f8}(0.349)  Gray{N0f8}(0.349)     Gray{N0f8}(0.788)\n",
       " Gray{N0f8}(0.349)  Gray{N0f8}(0.349)  …  Gray{N0f8}(0.788)\n",
       " Gray{N0f8}(0.349)  Gray{N0f8}(0.349)     Gray{N0f8}(0.788)\n",
       " Gray{N0f8}(0.349)  Gray{N0f8}(0.349)     Gray{N0f8}(0.788)\n",
       " Gray{N0f8}(0.349)  Gray{N0f8}(0.349)     Gray{N0f8}(0.788)\n",
       " Gray{N0f8}(0.349)  Gray{N0f8}(0.349)     Gray{N0f8}(0.788)\n",
       " Gray{N0f8}(0.349)  Gray{N0f8}(0.349)  …  Gray{N0f8}(0.788)\n",
       " Gray{N0f8}(0.349)  Gray{N0f8}(0.349)     Gray{N0f8}(0.788)\n",
       " Gray{N0f8}(0.349)  Gray{N0f8}(0.349)     Gray{N0f8}(0.788)\n",
       " ⋮                                     ⋱  \n",
       " Gray{N0f8}(0.345)  Gray{N0f8}(0.349)  …  Gray{N0f8}(0.329)\n",
       " Gray{N0f8}(0.345)  Gray{N0f8}(0.349)     Gray{N0f8}(0.329)\n",
       " Gray{N0f8}(0.345)  Gray{N0f8}(0.349)     Gray{N0f8}(0.329)\n",
       " Gray{N0f8}(0.345)  Gray{N0f8}(0.349)     Gray{N0f8}(0.329)\n",
       " Gray{N0f8}(0.345)  Gray{N0f8}(0.349)     Gray{N0f8}(0.329)\n",
       " Gray{N0f8}(0.345)  Gray{N0f8}(0.349)  …  Gray{N0f8}(0.329)\n",
       " Gray{N0f8}(0.345)  Gray{N0f8}(0.349)     Gray{N0f8}(0.329)\n",
       " Gray{N0f8}(0.345)  Gray{N0f8}(0.349)     Gray{N0f8}(0.329)\n",
       " Gray{N0f8}(0.345)  Gray{N0f8}(0.349)     Gray{N0f8}(0.329)\n",
       " Gray{N0f8}(0.345)  Gray{N0f8}(0.349)     Gray{N0f8}(0.329)\n",
       " Gray{N0f8}(0.345)  Gray{N0f8}(0.349)  …  Gray{N0f8}(0.329)\n",
       " Gray{N0f8}(0.345)  Gray{N0f8}(0.349)     Gray{N0f8}(0.329)"
      ]
     },
     "metadata": {},
     "output_type": "display_data"
    },
    {
     "data": {
      "image/png": "[encoded data removed]",
      "text/plain": [
       "387×580 Array{Gray{Float64},2} with eltype Gray{Float64}:\n",
       " Gray{Float64}(0.349015)  Gray{Float64}(0.34902)  …  Gray{Float64}(0.78824)\n",
       " Gray{Float64}(0.349015)  Gray{Float64}(0.34902)     Gray{Float64}(0.78824)\n",
       " Gray{Float64}(0.349015)  Gray{Float64}(0.34902)     Gray{Float64}(0.78824)\n",
       " Gray{Float64}(0.349015)  Gray{Float64}(0.34902)     Gray{Float64}(0.78824)\n",
       " Gray{Float64}(0.349015)  Gray{Float64}(0.34902)     Gray{Float64}(0.78824)\n",
       " Gray{Float64}(0.349015)  Gray{Float64}(0.34902)  …  Gray{Float64}(0.78824)\n",
       " Gray{Float64}(0.349015)  Gray{Float64}(0.34902)     Gray{Float64}(0.78824)\n",
       " Gray{Float64}(0.349015)  Gray{Float64}(0.34902)     Gray{Float64}(0.78824)\n",
       " Gray{Float64}(0.349015)  Gray{Float64}(0.34902)     Gray{Float64}(0.78824)\n",
       " Gray{Float64}(0.349015)  Gray{Float64}(0.34902)     Gray{Float64}(0.78824)\n",
       " Gray{Float64}(0.349015)  Gray{Float64}(0.34902)  …  Gray{Float64}(0.78824)\n",
       " Gray{Float64}(0.349015)  Gray{Float64}(0.34902)     Gray{Float64}(0.78824)\n",
       " Gray{Float64}(0.349015)  Gray{Float64}(0.34902)     Gray{Float64}(0.78824)\n",
       " ⋮                                                ⋱  \n",
       " Gray{Float64}(0.345093)  Gray{Float64}(0.34902)  …  Gray{Float64}(0.329417)\n",
       " Gray{Float64}(0.345093)  Gray{Float64}(0.34902)     Gray{Float64}(0.329417)\n",
       " Gray{Float64}(0.345093)  Gray{Float64}(0.34902)     Gray{Float64}(0.329417)\n",
       " Gray{Float64}(0.345093)  Gray{Float64}(0.34902)     Gray{Float64}(0.329417)\n",
       " Gray{Float64}(0.345093)  Gray{Float64}(0.34902)     Gray{Float64}(0.329417)\n",
       " Gray{Float64}(0.345093)  Gray{Float64}(0.34902)  …  Gray{Float64}(0.329417)\n",
       " Gray{Float64}(0.345093)  Gray{Float64}(0.34902)     Gray{Float64}(0.329417)\n",
       " Gray{Float64}(0.345093)  Gray{Float64}(0.34902)     Gray{Float64}(0.329417)\n",
       " Gray{Float64}(0.345093)  Gray{Float64}(0.34902)     Gray{Float64}(0.329417)\n",
       " Gray{Float64}(0.345093)  Gray{Float64}(0.34902)     Gray{Float64}(0.329417)\n",
       " Gray{Float64}(0.345093)  Gray{Float64}(0.34902)  …  Gray{Float64}(0.329417)\n",
       " Gray{Float64}(0.345093)  Gray{Float64}(0.34902)     Gray{Float64}(0.329417)"
      ]
     },
     "metadata": {},
     "output_type": "display_data"
    },
    {
     "data": {
      "image/png": "[encoded data removed]",
      "text/plain": [
       "387×580 Array{Gray{Float64},2} with eltype Gray{Float64}:\n",
       " Gray{Float64}(5.04564e-6)  …  Gray{Float64}(-5.05182e-6)\n",
       " Gray{Float64}(5.04564e-6)     Gray{Float64}(-5.05182e-6)\n",
       " Gray{Float64}(5.04564e-6)     Gray{Float64}(-5.05182e-6)\n",
       " Gray{Float64}(5.04564e-6)     Gray{Float64}(-5.05182e-6)\n",
       " Gray{Float64}(5.04564e-6)     Gray{Float64}(-5.05182e-6)\n",
       " Gray{Float64}(5.04564e-6)  …  Gray{Float64}(-5.05182e-6)\n",
       " Gray{Float64}(5.04564e-6)     Gray{Float64}(-5.05182e-6)\n",
       " Gray{Float64}(5.04564e-6)     Gray{Float64}(-5.05182e-6)\n",
       " Gray{Float64}(5.04564e-6)     Gray{Float64}(-5.05182e-6)\n",
       " Gray{Float64}(5.04564e-6)     Gray{Float64}(-5.05182e-6)\n",
       " Gray{Float64}(5.04564e-6)  …  Gray{Float64}(-5.05182e-6)\n",
       " Gray{Float64}(5.04564e-6)     Gray{Float64}(-5.05182e-6)\n",
       " Gray{Float64}(5.04564e-6)     Gray{Float64}(-5.05182e-6)\n",
       " ⋮                          ⋱  \n",
       " Gray{Float64}(5.04479e-6)  …  Gray{Float64}(-5.05097e-6)\n",
       " Gray{Float64}(5.04479e-6)     Gray{Float64}(-5.05097e-6)\n",
       " Gray{Float64}(5.04479e-6)     Gray{Float64}(-5.05097e-6)\n",
       " Gray{Float64}(5.04479e-6)     Gray{Float64}(-5.05097e-6)\n",
       " Gray{Float64}(5.04479e-6)     Gray{Float64}(-5.05097e-6)\n",
       " Gray{Float64}(5.04479e-6)  …  Gray{Float64}(-5.05097e-6)\n",
       " Gray{Float64}(5.04479e-6)     Gray{Float64}(-5.05097e-6)\n",
       " Gray{Float64}(5.04479e-6)     Gray{Float64}(-5.05097e-6)\n",
       " Gray{Float64}(5.04479e-6)     Gray{Float64}(-5.05097e-6)\n",
       " Gray{Float64}(5.04479e-6)     Gray{Float64}(-5.05097e-6)\n",
       " Gray{Float64}(5.04479e-6)  …  Gray{Float64}(-5.05097e-6)\n",
       " Gray{Float64}(5.04479e-6)     Gray{Float64}(-5.05097e-6)"
      ]
     },
     "metadata": {},
     "output_type": "display_data"
    },
    {
     "name": "stdout",
     "output_type": "stream",
     "text": [
      "Rank = 2\n"
     ]
    },
    {
     "data": {
      "text/plain": [
       "([-25.154527224776118 -13.19349814170213; -25.154527224776118 -13.19349814170213; … ; -12.661538250184563 26.161210440263304; -12.661538250184563 26.161210440263304], [-0.01658374507065359 0.005164794350510315; -0.01664669160725995 0.005284423191092713; … ; -0.030321571138487373 -0.0019335655020276201; -0.030259107914974798 -0.00205304096037782])"
      ]
     },
     "execution_count": 359,
     "metadata": {},
     "output_type": "execute_result"
    }
   ],
   "source": [
    "compare_rank(\"benin_grey.png\", 2)"
   ]
  },
  {
   "cell_type": "markdown",
   "metadata": {},
   "source": [
    "### d) Determine dois países tais quais sua bandeira tem posto = 3."
   ]
  },
  {
   "cell_type": "code",
   "execution_count": 360,
   "metadata": {
    "scrolled": true
   },
   "outputs": [
    {
     "data": {
      "image/png": "[encoded data removed]",
      "text/plain": [
       "418×580 Array{Gray{N0f8},2} with eltype Gray{Normed{UInt8,8}}:\n",
       " Gray{N0f8}(0.255)  Gray{N0f8}(0.259)  …  Gray{N0f8}(0.255)\n",
       " Gray{N0f8}(0.255)  Gray{N0f8}(0.259)     Gray{N0f8}(0.255)\n",
       " Gray{N0f8}(0.255)  Gray{N0f8}(0.259)     Gray{N0f8}(0.255)\n",
       " Gray{N0f8}(0.255)  Gray{N0f8}(0.259)     Gray{N0f8}(0.255)\n",
       " Gray{N0f8}(0.255)  Gray{N0f8}(0.259)     Gray{N0f8}(0.255)\n",
       " Gray{N0f8}(0.255)  Gray{N0f8}(0.259)  …  Gray{N0f8}(0.255)\n",
       " Gray{N0f8}(0.255)  Gray{N0f8}(0.259)     Gray{N0f8}(0.255)\n",
       " Gray{N0f8}(0.255)  Gray{N0f8}(0.259)     Gray{N0f8}(0.255)\n",
       " Gray{N0f8}(0.255)  Gray{N0f8}(0.259)     Gray{N0f8}(0.255)\n",
       " Gray{N0f8}(0.255)  Gray{N0f8}(0.259)     Gray{N0f8}(0.255)\n",
       " Gray{N0f8}(0.255)  Gray{N0f8}(0.259)  …  Gray{N0f8}(0.255)\n",
       " Gray{N0f8}(0.255)  Gray{N0f8}(0.259)     Gray{N0f8}(0.255)\n",
       " Gray{N0f8}(0.255)  Gray{N0f8}(0.259)     Gray{N0f8}(0.255)\n",
       " ⋮                                     ⋱  \n",
       " Gray{N0f8}(0.255)  Gray{N0f8}(0.259)     Gray{N0f8}(0.255)\n",
       " Gray{N0f8}(0.255)  Gray{N0f8}(0.259)     Gray{N0f8}(0.255)\n",
       " Gray{N0f8}(0.255)  Gray{N0f8}(0.259)     Gray{N0f8}(0.255)\n",
       " Gray{N0f8}(0.255)  Gray{N0f8}(0.259)     Gray{N0f8}(0.255)\n",
       " Gray{N0f8}(0.255)  Gray{N0f8}(0.259)  …  Gray{N0f8}(0.255)\n",
       " Gray{N0f8}(0.255)  Gray{N0f8}(0.259)     Gray{N0f8}(0.255)\n",
       " Gray{N0f8}(0.255)  Gray{N0f8}(0.259)     Gray{N0f8}(0.255)\n",
       " Gray{N0f8}(0.255)  Gray{N0f8}(0.259)     Gray{N0f8}(0.255)\n",
       " Gray{N0f8}(0.255)  Gray{N0f8}(0.259)     Gray{N0f8}(0.255)\n",
       " Gray{N0f8}(0.255)  Gray{N0f8}(0.259)  …  Gray{N0f8}(0.255)\n",
       " Gray{N0f8}(0.255)  Gray{N0f8}(0.259)     Gray{N0f8}(0.255)\n",
       " Gray{N0f8}(0.255)  Gray{N0f8}(0.259)     Gray{N0f8}(0.255)"
      ]
     },
     "metadata": {},
     "output_type": "display_data"
    },
    {
     "data": {
      "image/png": "[encoded data removed]",
      "text/plain": [
       "418×580 Array{Gray{Float64},2} with eltype Gray{Float64}:\n",
       " Gray{Float64}(0.254908)  Gray{Float64}(0.258824)  …  Gray{Float64}(0.254908)\n",
       " Gray{Float64}(0.254908)  Gray{Float64}(0.258824)     Gray{Float64}(0.254908)\n",
       " Gray{Float64}(0.254908)  Gray{Float64}(0.258824)     Gray{Float64}(0.254908)\n",
       " Gray{Float64}(0.254908)  Gray{Float64}(0.258824)     Gray{Float64}(0.254908)\n",
       " Gray{Float64}(0.254908)  Gray{Float64}(0.258824)     Gray{Float64}(0.254908)\n",
       " Gray{Float64}(0.254908)  Gray{Float64}(0.258824)  …  Gray{Float64}(0.254908)\n",
       " Gray{Float64}(0.254908)  Gray{Float64}(0.258824)     Gray{Float64}(0.254908)\n",
       " Gray{Float64}(0.254908)  Gray{Float64}(0.258824)     Gray{Float64}(0.254908)\n",
       " Gray{Float64}(0.254908)  Gray{Float64}(0.258824)     Gray{Float64}(0.254908)\n",
       " Gray{Float64}(0.254908)  Gray{Float64}(0.258824)     Gray{Float64}(0.254908)\n",
       " Gray{Float64}(0.254908)  Gray{Float64}(0.258824)  …  Gray{Float64}(0.254908)\n",
       " Gray{Float64}(0.254908)  Gray{Float64}(0.258824)     Gray{Float64}(0.254908)\n",
       " Gray{Float64}(0.254908)  Gray{Float64}(0.258824)     Gray{Float64}(0.254908)\n",
       " ⋮                                                 ⋱  \n",
       " Gray{Float64}(0.254908)  Gray{Float64}(0.258824)     Gray{Float64}(0.254908)\n",
       " Gray{Float64}(0.254908)  Gray{Float64}(0.258824)     Gray{Float64}(0.254908)\n",
       " Gray{Float64}(0.254908)  Gray{Float64}(0.258824)     Gray{Float64}(0.254908)\n",
       " Gray{Float64}(0.254908)  Gray{Float64}(0.258824)     Gray{Float64}(0.254908)\n",
       " Gray{Float64}(0.254908)  Gray{Float64}(0.258824)  …  Gray{Float64}(0.254908)\n",
       " Gray{Float64}(0.254908)  Gray{Float64}(0.258824)     Gray{Float64}(0.254908)\n",
       " Gray{Float64}(0.254908)  Gray{Float64}(0.258824)     Gray{Float64}(0.254908)\n",
       " Gray{Float64}(0.254908)  Gray{Float64}(0.258824)     Gray{Float64}(0.254908)\n",
       " Gray{Float64}(0.254908)  Gray{Float64}(0.258824)     Gray{Float64}(0.254908)\n",
       " Gray{Float64}(0.254908)  Gray{Float64}(0.258824)  …  Gray{Float64}(0.254908)\n",
       " Gray{Float64}(0.254908)  Gray{Float64}(0.258824)     Gray{Float64}(0.254908)\n",
       " Gray{Float64}(0.254908)  Gray{Float64}(0.258824)     Gray{Float64}(0.254908)"
      ]
     },
     "metadata": {},
     "output_type": "display_data"
    },
    {
     "data": {
      "image/png": "[encoded data removed]",
      "text/plain": [
       "418×580 Array{Gray{Float64},2} with eltype Gray{Float64}:\n",
       " Gray{Float64}(-5.91405e-6)  …  Gray{Float64}(-5.91405e-6)\n",
       " Gray{Float64}(-5.91405e-6)     Gray{Float64}(-5.91405e-6)\n",
       " Gray{Float64}(-5.91405e-6)     Gray{Float64}(-5.91405e-6)\n",
       " Gray{Float64}(-5.91405e-6)     Gray{Float64}(-5.91405e-6)\n",
       " Gray{Float64}(-5.91405e-6)     Gray{Float64}(-5.91405e-6)\n",
       " Gray{Float64}(-5.91405e-6)  …  Gray{Float64}(-5.91405e-6)\n",
       " Gray{Float64}(-5.91405e-6)     Gray{Float64}(-5.91405e-6)\n",
       " Gray{Float64}(-5.91405e-6)     Gray{Float64}(-5.91405e-6)\n",
       " Gray{Float64}(-5.91405e-6)     Gray{Float64}(-5.91405e-6)\n",
       " Gray{Float64}(-5.91405e-6)     Gray{Float64}(-5.91405e-6)\n",
       " Gray{Float64}(-5.91405e-6)  …  Gray{Float64}(-5.91405e-6)\n",
       " Gray{Float64}(-5.91405e-6)     Gray{Float64}(-5.91405e-6)\n",
       " Gray{Float64}(-5.91405e-6)     Gray{Float64}(-5.91405e-6)\n",
       " ⋮                           ⋱  \n",
       " Gray{Float64}(-5.91405e-6)     Gray{Float64}(-5.91405e-6)\n",
       " Gray{Float64}(-5.91405e-6)     Gray{Float64}(-5.91405e-6)\n",
       " Gray{Float64}(-5.91405e-6)     Gray{Float64}(-5.91405e-6)\n",
       " Gray{Float64}(-5.91405e-6)     Gray{Float64}(-5.91405e-6)\n",
       " Gray{Float64}(-5.91405e-6)  …  Gray{Float64}(-5.91405e-6)\n",
       " Gray{Float64}(-5.91405e-6)     Gray{Float64}(-5.91405e-6)\n",
       " Gray{Float64}(-5.91405e-6)     Gray{Float64}(-5.91405e-6)\n",
       " Gray{Float64}(-5.91405e-6)     Gray{Float64}(-5.91405e-6)\n",
       " Gray{Float64}(-5.91405e-6)     Gray{Float64}(-5.91405e-6)\n",
       " Gray{Float64}(-5.91405e-6)  …  Gray{Float64}(-5.91405e-6)\n",
       " Gray{Float64}(-5.91405e-6)     Gray{Float64}(-5.91405e-6)\n",
       " Gray{Float64}(-5.91405e-6)     Gray{Float64}(-5.91405e-6)"
      ]
     },
     "metadata": {},
     "output_type": "display_data"
    },
    {
     "name": "stdout",
     "output_type": "stream",
     "text": [
      "Rank = 3\n"
     ]
    },
    {
     "data": {
      "text/plain": [
       "([16.115344715098047 56.03182466262596 -0.5415912938494827; 16.115344715098047 56.03182466262596 -0.5415912938494827; … ; 16.11534471509801 56.03182466262602 -0.5415912938494895; 16.11534471509801 56.03182466262602 -0.5415912938494895], [0.020187241732340835 -0.0012569913923390888 -2.7764052401272907e-5; 0.02030679020061766 -0.0012215598813548197 -3.4792111430848416e-5; … ; 0.02030679020061766 -0.0012215598813548197 -3.4792111430848416e-5; 0.020187241732340835 -0.0012569913923390888 -2.7764052401272907e-5])"
      ]
     },
     "execution_count": 360,
     "metadata": {},
     "output_type": "execute_result"
    }
   ],
   "source": [
    "compare_rank(\"iceland_grey.png\", 3)"
   ]
  },
  {
   "cell_type": "code",
   "execution_count": 1,
   "metadata": {
    "scrolled": true
   },
   "outputs": [
    {
     "ename": "LoadError",
     "evalue": "\u001b[91mUndefVarError: compare_rank not defined\u001b[39m",
     "output_type": "error",
     "traceback": [
      "\u001b[91mUndefVarError: compare_rank not defined\u001b[39m",
      "",
      "Stacktrace:",
      " [1] top-level scope at In[1]:1",
      " [2] include_string(::Function, ::Module, ::String, ::String) at .\\loading.jl:1091"
     ]
    }
   ],
   "source": [
    "compare_rank(\"switzerland_grey.png\", 2)"
   ]
  },
  {
   "cell_type": "markdown",
   "metadata": {},
   "source": [
    "## 7) Considere a seguinte imagem:"
   ]
  },
  {
   "cell_type": "code",
   "execution_count": 362,
   "metadata": {},
   "outputs": [
    {
     "data": {
      "text/plain": [
       "compare_rank_matrix (generic function with 2 methods)"
      ]
     },
     "execution_count": 362,
     "metadata": {},
     "output_type": "execute_result"
    }
   ],
   "source": [
    "function compare_rank_matrix(A, rank = 1)\n",
    "    \n",
    "    display(Gray.(A))\n",
    "    B, C = compressão(A,rank)\n",
    "    teste = B*C'\n",
    "    \n",
    "    display(Gray.(teste))\n",
    "    ing = A - teste\n",
    "    display(Gray.(ing))\n",
    "    println(\"Rank = $rank\")\n",
    "    \n",
    "    return B, C\n",
    "end"
   ]
  },
  {
   "cell_type": "markdown",
   "metadata": {},
   "source": [
    "### a) Insira esta imagem em uma matriz $5\\times5$. Suponha que as sombras que você vê são apenas $0$, $0.5$ e $1$ como fizemos na aula."
   ]
  },
  {
   "cell_type": "code",
   "execution_count": 363,
   "metadata": {},
   "outputs": [
    {
     "data": {
      "text/plain": [
       "5×5 Array{Float64,2}:\n",
       " 1.0  0.0  1.0  0.0  1.0\n",
       " 1.0  0.0  1.0  0.0  1.0\n",
       " 1.0  1.0  0.5  1.0  1.0\n",
       " 0.0  1.0  1.0  1.0  0.0\n",
       " 1.0  0.0  0.0  0.0  1.0"
      ]
     },
     "execution_count": 363,
     "metadata": {},
     "output_type": "execute_result"
    }
   ],
   "source": [
    "A = [\n",
    "    1 0  1  0 1 ;\n",
    "    1 0  1  0 1 ;\n",
    "    1 1 0.5 1 1 ;\n",
    "    0 1  1  1 0 ;\n",
    "    1 0  0  0 1 ;\n",
    "]"
   ]
  },
  {
   "cell_type": "markdown",
   "metadata": {},
   "source": [
    "### b) Qual é o posto da imagem?"
   ]
  },
  {
   "cell_type": "code",
   "execution_count": 364,
   "metadata": {},
   "outputs": [
    {
     "data": {
      "text/plain": [
       "3"
      ]
     },
     "execution_count": 364,
     "metadata": {},
     "output_type": "execute_result"
    }
   ],
   "source": [
    "rank(A)"
   ]
  },
  {
   "cell_type": "markdown",
   "metadata": {},
   "source": [
    "### c) Faça compressão de dados de nível $1$, $2$, $3$, $4$ e $5$ e imprima na tela com os seus erros."
   ]
  },
  {
   "cell_type": "markdown",
   "metadata": {},
   "source": [
    "As imagens são, em ordem:\n",
    "1. original\n",
    "1. comprimida\n",
    "1. erro entre as duas"
   ]
  },
  {
   "cell_type": "code",
   "execution_count": 365,
   "metadata": {
    "scrolled": true
   },
   "outputs": [
    {
     "data": {
      "image/png": "[encoded data removed]",
      "text/plain": [
       "5×5 Array{Gray{Float64},2} with eltype Gray{Float64}:\n",
       " Gray{Float64}(1.0)  Gray{Float64}(0.0)  …  Gray{Float64}(1.0)\n",
       " Gray{Float64}(1.0)  Gray{Float64}(0.0)     Gray{Float64}(1.0)\n",
       " Gray{Float64}(1.0)  Gray{Float64}(1.0)     Gray{Float64}(1.0)\n",
       " Gray{Float64}(0.0)  Gray{Float64}(1.0)     Gray{Float64}(0.0)\n",
       " Gray{Float64}(1.0)  Gray{Float64}(0.0)     Gray{Float64}(1.0)"
      ]
     },
     "metadata": {},
     "output_type": "display_data"
    },
    {
     "data": {
      "image/png": "[encoded data removed]",
      "text/plain": [
       "5×5 Array{Gray{Float64},2} with eltype Gray{Float64}:\n",
       " Gray{Float64}(0.908326)  Gray{Float64}(0.420785)  …  Gray{Float64}(0.908326)\n",
       " Gray{Float64}(0.908326)  Gray{Float64}(0.420785)     Gray{Float64}(0.908326)\n",
       " Gray{Float64}(1.07348)   Gray{Float64}(0.497293)     Gray{Float64}(1.07348)\n",
       " Gray{Float64}(0.563227)  Gray{Float64}(0.260917)     Gray{Float64}(0.563227)\n",
       " Gray{Float64}(0.642945)  Gray{Float64}(0.297846)     Gray{Float64}(0.642945)"
      ]
     },
     "metadata": {},
     "output_type": "display_data"
    },
    {
     "data": {
      "image/png": "[encoded data removed]",
      "text/plain": [
       "5×5 Array{Gray{Float64},2} with eltype Gray{Float64}:\n",
       " Gray{Float64}(0.0916738)   …  Gray{Float64}(0.0916738)\n",
       " Gray{Float64}(0.0916738)      Gray{Float64}(0.0916738)\n",
       " Gray{Float64}(-0.0734816)     Gray{Float64}(-0.0734816)\n",
       " Gray{Float64}(-0.563227)      Gray{Float64}(-0.563227)\n",
       " Gray{Float64}(0.357055)       Gray{Float64}(0.357055)"
      ]
     },
     "metadata": {},
     "output_type": "display_data"
    },
    {
     "name": "stdout",
     "output_type": "stream",
     "text": [
      "Rank = 1\n"
     ]
    },
    {
     "data": {
      "text/plain": [
       "([2.342139876495887; 2.342139876495887; … ; 1.4522947102837336; 1.6578480749925348], [0.38781893119540145; 0.17965823993824528; … ; 0.17965823993824528; 0.38781893119540145])"
      ]
     },
     "execution_count": 365,
     "metadata": {},
     "output_type": "execute_result"
    }
   ],
   "source": [
    "compare_rank_matrix(A,1)"
   ]
  },
  {
   "cell_type": "code",
   "execution_count": 366,
   "metadata": {
    "scrolled": true
   },
   "outputs": [
    {
     "data": {
      "image/png": "[encoded data removed]",
      "text/plain": [
       "5×5 Array{Gray{Float64},2} with eltype Gray{Float64}:\n",
       " Gray{Float64}(1.0)  Gray{Float64}(0.0)  …  Gray{Float64}(1.0)\n",
       " Gray{Float64}(1.0)  Gray{Float64}(0.0)     Gray{Float64}(1.0)\n",
       " Gray{Float64}(1.0)  Gray{Float64}(1.0)     Gray{Float64}(1.0)\n",
       " Gray{Float64}(0.0)  Gray{Float64}(1.0)     Gray{Float64}(0.0)\n",
       " Gray{Float64}(1.0)  Gray{Float64}(0.0)     Gray{Float64}(1.0)"
      ]
     },
     "metadata": {},
     "output_type": "display_data"
    },
    {
     "data": {
      "image/png": "[encoded data removed]",
      "text/plain": [
       "5×5 Array{Gray{Float64},2} with eltype Gray{Float64}:\n",
       " Gray{Float64}(1.09263)    …  Gray{Float64}(1.09263)\n",
       " Gray{Float64}(1.09263)       Gray{Float64}(1.09263)\n",
       " Gray{Float64}(0.868419)      Gray{Float64}(0.868419)\n",
       " Gray{Float64}(0.0706856)     Gray{Float64}(0.0706856)\n",
       " Gray{Float64}(0.896033)      Gray{Float64}(0.896033)"
      ]
     },
     "metadata": {},
     "output_type": "display_data"
    },
    {
     "data": {
      "image/png": "[encoded data removed]",
      "text/plain": [
       "5×5 Array{Gray{Float64},2} with eltype Gray{Float64}:\n",
       " Gray{Float64}(-0.0926334)  …  Gray{Float64}(-0.0926334)\n",
       " Gray{Float64}(-0.0926334)     Gray{Float64}(-0.0926334)\n",
       " Gray{Float64}(0.131581)       Gray{Float64}(0.131581)\n",
       " Gray{Float64}(-0.0706856)     Gray{Float64}(-0.0706856)\n",
       " Gray{Float64}(0.103967)       Gray{Float64}(0.103967)"
      ]
     },
     "metadata": {},
     "output_type": "display_data"
    },
    {
     "name": "stdout",
     "output_type": "stream",
     "text": [
      "Rank = 2\n"
     ]
    },
    {
     "data": {
      "text/plain": [
       "([1.5454906423540504 -3.8980472612710075; 1.5454906423540504 -3.8980472612710075; … ; 0.9583150492100021 10.417126076564529; 1.0939520353935455 -5.3527530846414395], [0.5877267434073578 -0.04728192833305142; 0.27226611259214384 0.07916683347829001; … ; 0.27226611259214384 0.07916683347829001; 0.5877267434073578 -0.04728192833305142])"
      ]
     },
     "execution_count": 366,
     "metadata": {},
     "output_type": "execute_result"
    }
   ],
   "source": [
    "compare_rank_matrix(A,2)"
   ]
  },
  {
   "cell_type": "code",
   "execution_count": 367,
   "metadata": {
    "scrolled": true
   },
   "outputs": [
    {
     "data": {
      "image/png": "[encoded data removed]",
      "text/plain": [
       "5×5 Array{Gray{Float64},2} with eltype Gray{Float64}:\n",
       " Gray{Float64}(1.0)  Gray{Float64}(0.0)  …  Gray{Float64}(1.0)\n",
       " Gray{Float64}(1.0)  Gray{Float64}(0.0)     Gray{Float64}(1.0)\n",
       " Gray{Float64}(1.0)  Gray{Float64}(1.0)     Gray{Float64}(1.0)\n",
       " Gray{Float64}(0.0)  Gray{Float64}(1.0)     Gray{Float64}(0.0)\n",
       " Gray{Float64}(1.0)  Gray{Float64}(0.0)     Gray{Float64}(1.0)"
      ]
     },
     "metadata": {},
     "output_type": "display_data"
    },
    {
     "data": {
      "image/png": "[encoded data removed]",
      "text/plain": [
       "5×5 Array{Gray{Float64},2} with eltype Gray{Float64}:\n",
       " Gray{Float64}(1.0)          …  Gray{Float64}(1.0)\n",
       " Gray{Float64}(1.0)             Gray{Float64}(1.0)\n",
       " Gray{Float64}(1.0)             Gray{Float64}(1.0)\n",
       " Gray{Float64}(1.63815e-17)     Gray{Float64}(1.63815e-17)\n",
       " Gray{Float64}(1.0)             Gray{Float64}(1.0)"
      ]
     },
     "metadata": {},
     "output_type": "display_data"
    },
    {
     "data": {
      "image/png": "[encoded data removed]",
      "text/plain": [
       "5×5 Array{Gray{Float64},2} with eltype Gray{Float64}:\n",
       " Gray{Float64}(0.0)           …  Gray{Float64}(0.0)\n",
       " Gray{Float64}(0.0)              Gray{Float64}(0.0)\n",
       " Gray{Float64}(0.0)              Gray{Float64}(0.0)\n",
       " Gray{Float64}(-1.63815e-17)     Gray{Float64}(-1.63815e-17)\n",
       " Gray{Float64}(-2.22045e-16)     Gray{Float64}(-2.22045e-16)"
      ]
     },
     "metadata": {},
     "output_type": "display_data"
    },
    {
     "name": "stdout",
     "output_type": "stream",
     "text": [
      "Rank = 3\n"
     ]
    },
    {
     "data": {
      "text/plain": [
       "([-2.1313706077512924 1.1818585685024454 8.142701045345063; -2.1313706077512924 1.1818585685024454 8.142701045345063; … ; -1.3216026493020676 -3.158394167057006 6.213435604068932; -1.5086582544868157 1.6229144180783854 -9.138923454852947], [-0.42616998622848135 0.15594690921619803 -0.01137624639857685; -0.19742447764545212 -0.26111081840511974 -0.013777820187507285; … ; -0.19742447764545212 -0.26111081840511974 -0.013777820187507285; -0.42616998622848135 0.15594690921619803 -0.01137624639857685])"
      ]
     },
     "execution_count": 367,
     "metadata": {},
     "output_type": "execute_result"
    }
   ],
   "source": [
    "compare_rank_matrix(A,3)"
   ]
  },
  {
   "cell_type": "code",
   "execution_count": 368,
   "metadata": {
    "scrolled": true
   },
   "outputs": [
    {
     "data": {
      "image/png": "[encoded data removed]",
      "text/plain": [
       "5×5 Array{Gray{Float64},2} with eltype Gray{Float64}:\n",
       " Gray{Float64}(1.0)  Gray{Float64}(0.0)  …  Gray{Float64}(1.0)\n",
       " Gray{Float64}(1.0)  Gray{Float64}(0.0)     Gray{Float64}(1.0)\n",
       " Gray{Float64}(1.0)  Gray{Float64}(1.0)     Gray{Float64}(1.0)\n",
       " Gray{Float64}(0.0)  Gray{Float64}(1.0)     Gray{Float64}(0.0)\n",
       " Gray{Float64}(1.0)  Gray{Float64}(0.0)     Gray{Float64}(1.0)"
      ]
     },
     "metadata": {},
     "output_type": "display_data"
    },
    {
     "data": {
      "image/png": "[encoded data removed]",
      "text/plain": [
       "5×5 Array{Gray{Float64},2} with eltype Gray{Float64}:\n",
       " Gray{Float64}(1.0)           …  Gray{Float64}(1.0)\n",
       " Gray{Float64}(1.0)              Gray{Float64}(1.0)\n",
       " Gray{Float64}(1.0)              Gray{Float64}(1.0)\n",
       " Gray{Float64}(-7.46343e-17)     Gray{Float64}(-7.46343e-17)\n",
       " Gray{Float64}(1.0)              Gray{Float64}(1.0)"
      ]
     },
     "metadata": {},
     "output_type": "display_data"
    },
    {
     "data": {
      "image/png": "[encoded data removed]",
      "text/plain": [
       "5×5 Array{Gray{Float64},2} with eltype Gray{Float64}:\n",
       " Gray{Float64}(0.0)          …  Gray{Float64}(0.0)\n",
       " Gray{Float64}(0.0)             Gray{Float64}(0.0)\n",
       " Gray{Float64}(0.0)             Gray{Float64}(0.0)\n",
       " Gray{Float64}(7.46343e-17)     Gray{Float64}(7.46343e-17)\n",
       " Gray{Float64}(0.0)             Gray{Float64}(0.0)"
      ]
     },
     "metadata": {},
     "output_type": "display_data"
    },
    {
     "name": "stdout",
     "output_type": "stream",
     "text": [
      "Rank = 4\n"
     ]
    },
    {
     "data": {
      "text/plain": [
       "([2.1032491230095456 -0.9800655163351015 1.2478307864168112 -1.7613144665688039; 2.1032491230095456 -0.9800655163351015 1.2478307864168112 -1.7613144665688039; … ; 1.3041653117696588 2.6191232131278803 0.9521798937887934 -0.7715705312769545; 1.4887528893952375 -1.3458145504812982 -1.4004972015897224 -0.8823883111011936], [0.43186809047406316 -0.18805598994438336 -0.07423552491129923 -7.814006001647521e-17; 0.20006414090853586 0.3148728863066348 -0.08990695872767665 -3.1048366754206233e-17; … ; 0.20006414090853586 0.3148728863066348 -0.08990695872767665 -3.1048366754206233e-17; 0.43186809047406316 -0.18805598994438336 -0.07423552491129923 -7.814006001647521e-17])"
      ]
     },
     "execution_count": 368,
     "metadata": {},
     "output_type": "execute_result"
    }
   ],
   "source": [
    "compare_rank_matrix(A,4)"
   ]
  },
  {
   "cell_type": "code",
   "execution_count": 369,
   "metadata": {
    "scrolled": true
   },
   "outputs": [
    {
     "data": {
      "image/png": "[encoded data removed]",
      "text/plain": [
       "5×5 Array{Gray{Float64},2} with eltype Gray{Float64}:\n",
       " Gray{Float64}(1.0)  Gray{Float64}(0.0)  …  Gray{Float64}(1.0)\n",
       " Gray{Float64}(1.0)  Gray{Float64}(0.0)     Gray{Float64}(1.0)\n",
       " Gray{Float64}(1.0)  Gray{Float64}(1.0)     Gray{Float64}(1.0)\n",
       " Gray{Float64}(0.0)  Gray{Float64}(1.0)     Gray{Float64}(0.0)\n",
       " Gray{Float64}(1.0)  Gray{Float64}(0.0)     Gray{Float64}(1.0)"
      ]
     },
     "metadata": {},
     "output_type": "display_data"
    },
    {
     "data": {
      "image/png": "[encoded data removed]",
      "text/plain": [
       "5×5 Array{Gray{Float64},2} with eltype Gray{Float64}:\n",
       " Gray{Float64}(1.0)          …  Gray{Float64}(1.0)\n",
       " Gray{Float64}(1.0)             Gray{Float64}(1.0)\n",
       " Gray{Float64}(1.0)             Gray{Float64}(1.0)\n",
       " Gray{Float64}(5.30976e-19)     Gray{Float64}(5.30976e-19)\n",
       " Gray{Float64}(1.0)             Gray{Float64}(1.0)"
      ]
     },
     "metadata": {},
     "output_type": "display_data"
    },
    {
     "data": {
      "image/png": "[encoded data removed]",
      "text/plain": [
       "5×5 Array{Gray{Float64},2} with eltype Gray{Float64}:\n",
       " Gray{Float64}(-2.22045e-16)  …  Gray{Float64}(-2.22045e-16)\n",
       " Gray{Float64}(-2.22045e-16)     Gray{Float64}(-2.22045e-16)\n",
       " Gray{Float64}(1.11022e-16)      Gray{Float64}(1.11022e-16)\n",
       " Gray{Float64}(-5.30976e-19)     Gray{Float64}(-5.30976e-19)\n",
       " Gray{Float64}(0.0)              Gray{Float64}(0.0)"
      ]
     },
     "metadata": {},
     "output_type": "display_data"
    },
    {
     "name": "stdout",
     "output_type": "stream",
     "text": [
      "Rank = 5\n"
     ]
    },
    {
     "data": {
      "text/plain": [
       "([1.3407641676106108 -0.3561898188846253 … -14.375600006513432 -1.20000022970563; 1.3407641676106108 -0.3561898188846253 … -14.375600006513432 -1.20000022970563; … ; 0.831369950266159 0.9518802638271106 … 0.6852121920835831 -0.20809621301921016; 0.9490395154165009 -0.4891157097138072 … 10.67061229576387 -1.4333992662167936], [0.6774690168861409 -0.5174409294296517 … 7.628775085628653e-18 1.3504773896926922e-17; 0.3138394798374345 0.8663809064167616 … 3.818677511530812e-18 -1.3864378160585498e-17; … ; 0.3138394798374345 0.8663809064167616 … 3.818677511530812e-18 -1.3864378160585498e-17; 0.6774690168861409 -0.5174409294296517 … 7.628775085628653e-18 1.3504773896926922e-17])"
      ]
     },
     "execution_count": 369,
     "metadata": {},
     "output_type": "execute_result"
    }
   ],
   "source": [
    "compare_rank_matrix(A,5)"
   ]
  },
  {
   "cell_type": "markdown",
   "metadata": {},
   "source": [
    "## 8) Encontre (ou desenhe) uma imagem A, com mais ou menos $200 \\times 200$ pixels (pode ser um pouco maior), que"
   ]
  },
  {
   "cell_type": "markdown",
   "metadata": {},
   "source": [
    "### a) exija um nível de compressão maior que $3$ e menor que $6$ para recuperar pelo menos $99\\%$ de sua norma total."
   ]
  },
  {
   "cell_type": "code",
   "execution_count": 370,
   "metadata": {
    "scrolled": true
   },
   "outputs": [
    {
     "data": {
      "image/png": "[encoded data removed]",
      "text/plain": [
       "200×200 Array{Gray{N0f8},2} with eltype Gray{Normed{UInt8,8}}:\n",
       " Gray{N0f8}(1.0)  Gray{N0f8}(1.0)  …  Gray{N0f8}(1.0)  Gray{N0f8}(1.0)\n",
       " Gray{N0f8}(1.0)  Gray{N0f8}(1.0)     Gray{N0f8}(1.0)  Gray{N0f8}(1.0)\n",
       " Gray{N0f8}(1.0)  Gray{N0f8}(1.0)     Gray{N0f8}(1.0)  Gray{N0f8}(1.0)\n",
       " Gray{N0f8}(1.0)  Gray{N0f8}(1.0)     Gray{N0f8}(1.0)  Gray{N0f8}(1.0)\n",
       " Gray{N0f8}(1.0)  Gray{N0f8}(1.0)     Gray{N0f8}(1.0)  Gray{N0f8}(1.0)\n",
       " Gray{N0f8}(1.0)  Gray{N0f8}(1.0)  …  Gray{N0f8}(1.0)  Gray{N0f8}(1.0)\n",
       " Gray{N0f8}(1.0)  Gray{N0f8}(1.0)     Gray{N0f8}(1.0)  Gray{N0f8}(1.0)\n",
       " Gray{N0f8}(1.0)  Gray{N0f8}(1.0)     Gray{N0f8}(1.0)  Gray{N0f8}(1.0)\n",
       " Gray{N0f8}(1.0)  Gray{N0f8}(1.0)     Gray{N0f8}(1.0)  Gray{N0f8}(1.0)\n",
       " Gray{N0f8}(1.0)  Gray{N0f8}(1.0)     Gray{N0f8}(1.0)  Gray{N0f8}(1.0)\n",
       " Gray{N0f8}(1.0)  Gray{N0f8}(1.0)  …  Gray{N0f8}(1.0)  Gray{N0f8}(1.0)\n",
       " Gray{N0f8}(1.0)  Gray{N0f8}(1.0)     Gray{N0f8}(1.0)  Gray{N0f8}(1.0)\n",
       " Gray{N0f8}(1.0)  Gray{N0f8}(1.0)     Gray{N0f8}(1.0)  Gray{N0f8}(1.0)\n",
       " ⋮                                 ⋱                   \n",
       " Gray{N0f8}(1.0)  Gray{N0f8}(1.0)     Gray{N0f8}(1.0)  Gray{N0f8}(1.0)\n",
       " Gray{N0f8}(1.0)  Gray{N0f8}(1.0)     Gray{N0f8}(1.0)  Gray{N0f8}(1.0)\n",
       " Gray{N0f8}(1.0)  Gray{N0f8}(1.0)  …  Gray{N0f8}(1.0)  Gray{N0f8}(1.0)\n",
       " Gray{N0f8}(1.0)  Gray{N0f8}(1.0)     Gray{N0f8}(1.0)  Gray{N0f8}(1.0)\n",
       " Gray{N0f8}(1.0)  Gray{N0f8}(1.0)     Gray{N0f8}(1.0)  Gray{N0f8}(1.0)\n",
       " Gray{N0f8}(1.0)  Gray{N0f8}(1.0)     Gray{N0f8}(1.0)  Gray{N0f8}(1.0)\n",
       " Gray{N0f8}(1.0)  Gray{N0f8}(1.0)     Gray{N0f8}(1.0)  Gray{N0f8}(1.0)\n",
       " Gray{N0f8}(1.0)  Gray{N0f8}(1.0)  …  Gray{N0f8}(1.0)  Gray{N0f8}(1.0)\n",
       " Gray{N0f8}(1.0)  Gray{N0f8}(1.0)     Gray{N0f8}(1.0)  Gray{N0f8}(1.0)\n",
       " Gray{N0f8}(1.0)  Gray{N0f8}(1.0)     Gray{N0f8}(1.0)  Gray{N0f8}(1.0)\n",
       " Gray{N0f8}(1.0)  Gray{N0f8}(1.0)     Gray{N0f8}(1.0)  Gray{N0f8}(1.0)\n",
       " Gray{N0f8}(1.0)  Gray{N0f8}(1.0)     Gray{N0f8}(1.0)  Gray{N0f8}(1.0)"
      ]
     },
     "metadata": {},
     "output_type": "display_data"
    },
    {
     "data": {
      "image/png": "[encoded data removed]",
      "text/plain": [
       "200×200 Array{Gray{Float64},2} with eltype Gray{Float64}:\n",
       " Gray{Float64}(1.00396)  Gray{Float64}(1.00396)  …  Gray{Float64}(1.00396)\n",
       " Gray{Float64}(1.00406)  Gray{Float64}(1.00406)     Gray{Float64}(1.00406)\n",
       " Gray{Float64}(1.00458)  Gray{Float64}(1.00458)     Gray{Float64}(1.00458)\n",
       " Gray{Float64}(1.004)    Gray{Float64}(1.004)       Gray{Float64}(1.004)\n",
       " Gray{Float64}(1.0048)   Gray{Float64}(1.0048)      Gray{Float64}(1.0048)\n",
       " Gray{Float64}(1.00421)  Gray{Float64}(1.00421)  …  Gray{Float64}(1.00421)\n",
       " Gray{Float64}(1.01171)  Gray{Float64}(1.01171)     Gray{Float64}(1.01171)\n",
       " Gray{Float64}(1.06763)  Gray{Float64}(1.06763)     Gray{Float64}(1.06763)\n",
       " Gray{Float64}(1.07426)  Gray{Float64}(1.07426)     Gray{Float64}(1.07426)\n",
       " Gray{Float64}(1.07402)  Gray{Float64}(1.07402)     Gray{Float64}(1.07402)\n",
       " Gray{Float64}(1.05516)  Gray{Float64}(1.05516)  …  Gray{Float64}(1.05516)\n",
       " Gray{Float64}(1.05474)  Gray{Float64}(1.05474)     Gray{Float64}(1.05474)\n",
       " Gray{Float64}(1.05977)  Gray{Float64}(1.05977)     Gray{Float64}(1.05977)\n",
       " ⋮                                               ⋱  \n",
       " Gray{Float64}(1.00551)  Gray{Float64}(1.00551)     Gray{Float64}(1.00551)\n",
       " Gray{Float64}(1.00527)  Gray{Float64}(1.00527)     Gray{Float64}(1.00527)\n",
       " Gray{Float64}(1.00561)  Gray{Float64}(1.00561)  …  Gray{Float64}(1.00561)\n",
       " Gray{Float64}(1.00472)  Gray{Float64}(1.00472)     Gray{Float64}(1.00472)\n",
       " Gray{Float64}(1.00416)  Gray{Float64}(1.00416)     Gray{Float64}(1.00416)\n",
       " Gray{Float64}(1.00416)  Gray{Float64}(1.00416)     Gray{Float64}(1.00416)\n",
       " Gray{Float64}(1.00416)  Gray{Float64}(1.00416)     Gray{Float64}(1.00416)\n",
       " Gray{Float64}(1.00416)  Gray{Float64}(1.00416)  …  Gray{Float64}(1.00416)\n",
       " Gray{Float64}(1.00416)  Gray{Float64}(1.00416)     Gray{Float64}(1.00416)\n",
       " Gray{Float64}(1.00416)  Gray{Float64}(1.00416)     Gray{Float64}(1.00416)\n",
       " Gray{Float64}(1.00416)  Gray{Float64}(1.00416)     Gray{Float64}(1.00416)\n",
       " Gray{Float64}(1.00416)  Gray{Float64}(1.00416)     Gray{Float64}(1.00416)"
      ]
     },
     "metadata": {},
     "output_type": "display_data"
    },
    {
     "data": {
      "image/png": "[encoded data removed]",
      "text/plain": [
       "200×200 Array{Gray{Float64},2} with eltype Gray{Float64}:\n",
       " Gray{Float64}(-0.0039573)   …  Gray{Float64}(-0.0039573)\n",
       " Gray{Float64}(-0.00406223)     Gray{Float64}(-0.00406223)\n",
       " Gray{Float64}(-0.00457922)     Gray{Float64}(-0.00457922)\n",
       " Gray{Float64}(-0.00400244)     Gray{Float64}(-0.00400244)\n",
       " Gray{Float64}(-0.00480277)     Gray{Float64}(-0.00480277)\n",
       " Gray{Float64}(-0.00421421)  …  Gray{Float64}(-0.00421421)\n",
       " Gray{Float64}(-0.0117085)      Gray{Float64}(-0.0117085)\n",
       " Gray{Float64}(-0.0676333)      Gray{Float64}(-0.0676333)\n",
       " Gray{Float64}(-0.0742585)      Gray{Float64}(-0.0742585)\n",
       " Gray{Float64}(-0.0740245)      Gray{Float64}(-0.0740245)\n",
       " Gray{Float64}(-0.0551588)   …  Gray{Float64}(-0.0551588)\n",
       " Gray{Float64}(-0.0547379)      Gray{Float64}(-0.0547379)\n",
       " Gray{Float64}(-0.0597699)      Gray{Float64}(-0.0597699)\n",
       " ⋮                           ⋱  \n",
       " Gray{Float64}(-0.00551043)     Gray{Float64}(-0.00551043)\n",
       " Gray{Float64}(-0.00526523)     Gray{Float64}(-0.00526523)\n",
       " Gray{Float64}(-0.00561384)  …  Gray{Float64}(-0.00561384)\n",
       " Gray{Float64}(-0.00471644)     Gray{Float64}(-0.00471644)\n",
       " Gray{Float64}(-0.00416395)     Gray{Float64}(-0.00416395)\n",
       " Gray{Float64}(-0.00416395)     Gray{Float64}(-0.00416395)\n",
       " Gray{Float64}(-0.00416395)     Gray{Float64}(-0.00416395)\n",
       " Gray{Float64}(-0.00416395)  …  Gray{Float64}(-0.00416395)\n",
       " Gray{Float64}(-0.00416395)     Gray{Float64}(-0.00416395)\n",
       " Gray{Float64}(-0.00416395)     Gray{Float64}(-0.00416395)\n",
       " Gray{Float64}(-0.00416395)     Gray{Float64}(-0.00416395)\n",
       " Gray{Float64}(-0.00416395)     Gray{Float64}(-0.00416395)"
      ]
     },
     "metadata": {},
     "output_type": "display_data"
    },
    {
     "name": "stdout",
     "output_type": "stream",
     "text": [
      "Rank = 5\n"
     ]
    },
    {
     "data": {
      "text/plain": [
       "([-15.030355596858554 6.924863356482668 … 0.08769998966873838 -4.099075586663893; -15.032128773595774 6.928313193947675 … 0.0930261586740041 -4.077279613980673; … ; -15.052299885430296 7.023776631496927 … 0.08692825614508493 -3.9878684219046097; -15.052299885430296 7.023776631496927 … 0.08692825614508493 -3.9878684219046097], [-0.0781789006444963 -0.015351129691160745 … 0.0037113084156881132 0.005642963194802575; -0.0781789006444963 -0.015351129691160745 … 0.0037113084156881132 0.005642963194802575; … ; -0.0781789006444963 -0.015351129691160745 … 0.0037113084156881132 0.005642963194802575; -0.0781789006444963 -0.015351129691160745 … 0.0037113084156881132 0.005642963194802575])"
      ]
     },
     "execution_count": 370,
     "metadata": {},
     "output_type": "execute_result"
    }
   ],
   "source": [
    "compare_rank(\"chad_yes_grey.png\", 5)"
   ]
  },
  {
   "cell_type": "markdown",
   "metadata": {},
   "source": [
    "### b) exija um nível de compressão maior que $40$ para recuperar pelo menos $99\\%$ de sua norma total."
   ]
  },
  {
   "cell_type": "code",
   "execution_count": 371,
   "metadata": {
    "scrolled": true
   },
   "outputs": [
    {
     "data": {
      "image/png": "[encoded data removed]",
      "text/plain": [
       "200×200 Array{Gray{N0f8},2} with eltype Gray{Normed{UInt8,8}}:\n",
       " Gray{N0f8}(1.0)  Gray{N0f8}(1.0)  …  Gray{N0f8}(1.0)  Gray{N0f8}(1.0)\n",
       " Gray{N0f8}(1.0)  Gray{N0f8}(1.0)     Gray{N0f8}(1.0)  Gray{N0f8}(1.0)\n",
       " Gray{N0f8}(1.0)  Gray{N0f8}(1.0)     Gray{N0f8}(1.0)  Gray{N0f8}(1.0)\n",
       " Gray{N0f8}(1.0)  Gray{N0f8}(1.0)     Gray{N0f8}(1.0)  Gray{N0f8}(1.0)\n",
       " Gray{N0f8}(1.0)  Gray{N0f8}(1.0)     Gray{N0f8}(1.0)  Gray{N0f8}(1.0)\n",
       " Gray{N0f8}(1.0)  Gray{N0f8}(1.0)  …  Gray{N0f8}(1.0)  Gray{N0f8}(1.0)\n",
       " Gray{N0f8}(1.0)  Gray{N0f8}(1.0)     Gray{N0f8}(1.0)  Gray{N0f8}(1.0)\n",
       " Gray{N0f8}(1.0)  Gray{N0f8}(1.0)     Gray{N0f8}(1.0)  Gray{N0f8}(1.0)\n",
       " Gray{N0f8}(1.0)  Gray{N0f8}(1.0)     Gray{N0f8}(1.0)  Gray{N0f8}(1.0)\n",
       " Gray{N0f8}(1.0)  Gray{N0f8}(1.0)     Gray{N0f8}(1.0)  Gray{N0f8}(1.0)\n",
       " Gray{N0f8}(1.0)  Gray{N0f8}(1.0)  …  Gray{N0f8}(1.0)  Gray{N0f8}(1.0)\n",
       " Gray{N0f8}(1.0)  Gray{N0f8}(1.0)     Gray{N0f8}(1.0)  Gray{N0f8}(1.0)\n",
       " Gray{N0f8}(1.0)  Gray{N0f8}(1.0)     Gray{N0f8}(1.0)  Gray{N0f8}(1.0)\n",
       " ⋮                                 ⋱                   \n",
       " Gray{N0f8}(1.0)  Gray{N0f8}(1.0)     Gray{N0f8}(1.0)  Gray{N0f8}(1.0)\n",
       " Gray{N0f8}(1.0)  Gray{N0f8}(1.0)     Gray{N0f8}(1.0)  Gray{N0f8}(1.0)\n",
       " Gray{N0f8}(1.0)  Gray{N0f8}(1.0)  …  Gray{N0f8}(1.0)  Gray{N0f8}(1.0)\n",
       " Gray{N0f8}(1.0)  Gray{N0f8}(1.0)     Gray{N0f8}(1.0)  Gray{N0f8}(1.0)\n",
       " Gray{N0f8}(1.0)  Gray{N0f8}(1.0)     Gray{N0f8}(1.0)  Gray{N0f8}(1.0)\n",
       " Gray{N0f8}(1.0)  Gray{N0f8}(1.0)     Gray{N0f8}(1.0)  Gray{N0f8}(1.0)\n",
       " Gray{N0f8}(1.0)  Gray{N0f8}(1.0)     Gray{N0f8}(1.0)  Gray{N0f8}(1.0)\n",
       " Gray{N0f8}(1.0)  Gray{N0f8}(1.0)  …  Gray{N0f8}(1.0)  Gray{N0f8}(1.0)\n",
       " Gray{N0f8}(1.0)  Gray{N0f8}(1.0)     Gray{N0f8}(1.0)  Gray{N0f8}(1.0)\n",
       " Gray{N0f8}(1.0)  Gray{N0f8}(1.0)     Gray{N0f8}(1.0)  Gray{N0f8}(1.0)\n",
       " Gray{N0f8}(1.0)  Gray{N0f8}(1.0)     Gray{N0f8}(1.0)  Gray{N0f8}(1.0)\n",
       " Gray{N0f8}(1.0)  Gray{N0f8}(1.0)     Gray{N0f8}(1.0)  Gray{N0f8}(1.0)"
      ]
     },
     "metadata": {},
     "output_type": "display_data"
    },
    {
     "data": {
      "image/png": "[encoded data removed]",
      "text/plain": [
       "200×200 Array{Gray{Float64},2} with eltype Gray{Float64}:\n",
       " Gray{Float64}(1.00015)   Gray{Float64}(1.00015)   …  Gray{Float64}(1.00015)\n",
       " Gray{Float64}(1.00005)   Gray{Float64}(1.00005)      Gray{Float64}(1.00005)\n",
       " Gray{Float64}(0.999891)  Gray{Float64}(0.999891)     Gray{Float64}(0.999891)\n",
       " Gray{Float64}(1.00008)   Gray{Float64}(1.00008)      Gray{Float64}(1.00008)\n",
       " Gray{Float64}(1.00007)   Gray{Float64}(1.00007)      Gray{Float64}(1.00007)\n",
       " Gray{Float64}(1.00006)   Gray{Float64}(1.00006)   …  Gray{Float64}(1.00006)\n",
       " Gray{Float64}(1.00011)   Gray{Float64}(1.00011)      Gray{Float64}(1.00011)\n",
       " Gray{Float64}(0.999492)  Gray{Float64}(0.999492)     Gray{Float64}(0.999492)\n",
       " Gray{Float64}(0.999253)  Gray{Float64}(0.999253)     Gray{Float64}(0.999253)\n",
       " Gray{Float64}(1.0002)    Gray{Float64}(1.0002)       Gray{Float64}(1.0002)\n",
       " Gray{Float64}(0.998175)  Gray{Float64}(0.998175)  …  Gray{Float64}(0.998175)\n",
       " Gray{Float64}(0.999776)  Gray{Float64}(0.999776)     Gray{Float64}(0.999776)\n",
       " Gray{Float64}(0.998707)  Gray{Float64}(0.998707)     Gray{Float64}(0.998707)\n",
       " ⋮                                                 ⋱  \n",
       " Gray{Float64}(1.00008)   Gray{Float64}(1.00008)      Gray{Float64}(1.00008)\n",
       " Gray{Float64}(0.999967)  Gray{Float64}(0.999967)     Gray{Float64}(0.999967)\n",
       " Gray{Float64}(1.00042)   Gray{Float64}(1.00042)   …  Gray{Float64}(1.00042)\n",
       " Gray{Float64}(1.00001)   Gray{Float64}(1.00001)      Gray{Float64}(1.00001)\n",
       " Gray{Float64}(1.00001)   Gray{Float64}(1.00001)      Gray{Float64}(1.00001)\n",
       " Gray{Float64}(1.00001)   Gray{Float64}(1.00001)      Gray{Float64}(1.00001)\n",
       " Gray{Float64}(1.00001)   Gray{Float64}(1.00001)      Gray{Float64}(1.00001)\n",
       " Gray{Float64}(1.00001)   Gray{Float64}(1.00001)   …  Gray{Float64}(1.00001)\n",
       " Gray{Float64}(1.00001)   Gray{Float64}(1.00001)      Gray{Float64}(1.00001)\n",
       " Gray{Float64}(1.00001)   Gray{Float64}(1.00001)      Gray{Float64}(1.00001)\n",
       " Gray{Float64}(1.00001)   Gray{Float64}(1.00001)      Gray{Float64}(1.00001)\n",
       " Gray{Float64}(1.00001)   Gray{Float64}(1.00001)      Gray{Float64}(1.00001)"
      ]
     },
     "metadata": {},
     "output_type": "display_data"
    },
    {
     "data": {
      "image/png": "[encoded data removed]",
      "text/plain": [
       "200×200 Array{Gray{Float64},2} with eltype Gray{Float64}:\n",
       " Gray{Float64}(-0.000150367)  …  Gray{Float64}(-0.000150367)\n",
       " Gray{Float64}(-5.4542e-5)       Gray{Float64}(-5.4542e-5)\n",
       " Gray{Float64}(0.000108671)      Gray{Float64}(0.000108671)\n",
       " Gray{Float64}(-8.08666e-5)      Gray{Float64}(-8.08666e-5)\n",
       " Gray{Float64}(-6.6371e-5)       Gray{Float64}(-6.6371e-5)\n",
       " Gray{Float64}(-5.84916e-5)   …  Gray{Float64}(-5.84916e-5)\n",
       " Gray{Float64}(-0.00010732)      Gray{Float64}(-0.00010732)\n",
       " Gray{Float64}(0.000507605)      Gray{Float64}(0.000507605)\n",
       " Gray{Float64}(0.000747297)      Gray{Float64}(0.000747297)\n",
       " Gray{Float64}(-0.000204804)     Gray{Float64}(-0.000204804)\n",
       " Gray{Float64}(0.00182472)    …  Gray{Float64}(0.00182472)\n",
       " Gray{Float64}(0.000224294)      Gray{Float64}(0.000224294)\n",
       " Gray{Float64}(0.00129325)       Gray{Float64}(0.00129325)\n",
       " ⋮                            ⋱  \n",
       " Gray{Float64}(-8.462e-5)        Gray{Float64}(-8.462e-5)\n",
       " Gray{Float64}(3.33597e-5)       Gray{Float64}(3.33597e-5)\n",
       " Gray{Float64}(-0.000424172)  …  Gray{Float64}(-0.000424172)\n",
       " Gray{Float64}(-5.95519e-6)      Gray{Float64}(-5.95519e-6)\n",
       " Gray{Float64}(-1.2015e-5)       Gray{Float64}(-1.2015e-5)\n",
       " Gray{Float64}(-1.2015e-5)       Gray{Float64}(-1.2015e-5)\n",
       " Gray{Float64}(-1.2015e-5)       Gray{Float64}(-1.2015e-5)\n",
       " Gray{Float64}(-1.2015e-5)    …  Gray{Float64}(-1.2015e-5)\n",
       " Gray{Float64}(-1.2015e-5)       Gray{Float64}(-1.2015e-5)\n",
       " Gray{Float64}(-1.2015e-5)       Gray{Float64}(-1.2015e-5)\n",
       " Gray{Float64}(-1.2015e-5)       Gray{Float64}(-1.2015e-5)\n",
       " Gray{Float64}(-1.2015e-5)       Gray{Float64}(-1.2015e-5)"
      ]
     },
     "metadata": {},
     "output_type": "display_data"
    },
    {
     "name": "stdout",
     "output_type": "stream",
     "text": [
      "Rank = 100\n"
     ]
    },
    {
     "data": {
      "text/plain": [
       "([17.964022979070847 -9.335907781576083 … -0.28641349630034785 -0.04190186427861235; 17.966142249466554 -9.340540114924835 … 0.19146310606916173 -0.27540170957616905; … ; 17.990250416048088 -9.469257102375597 … -0.03588056013933684 -0.03265557606503858; 17.990250416048088 -9.469257102375597 … -0.03588056013933684 -0.03265557606503858], [0.06541166631924623 0.011342572108173039 … -2.6865193300803405e-5 9.58285110764328e-5; 0.06541166631924623 0.011342572108173039 … -2.6865193300803405e-5 9.58285110764328e-5; … ; 0.06541166631924623 0.011342572108173039 … -2.6865193300803405e-5 9.58285110764328e-5; 0.06541166631924623 0.011342572108173039 … -2.6865193300803405e-5 9.58285110764328e-5])"
      ]
     },
     "execution_count": 371,
     "metadata": {},
     "output_type": "execute_result"
    }
   ],
   "source": [
    "compare_rank(\"chad_yes_grey.png\", 100)"
   ]
  }
 ],
 "metadata": {
  "kernelspec": {
   "display_name": "Julia 1.5.4",
   "language": "julia",
   "name": "julia-1.5"
  },
  "language_info": {
   "file_extension": ".jl",
   "mimetype": "application/julia",
   "name": "julia",
   "version": "1.5.4"
  }
 },
 "nbformat": 4,
 "nbformat_minor": 4
}
